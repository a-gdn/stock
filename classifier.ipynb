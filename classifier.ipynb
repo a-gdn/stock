{
 "cells": [
  {
   "cell_type": "code",
   "execution_count": 1,
   "metadata": {},
   "outputs": [
    {
     "name": "stdout",
     "output_type": "stream",
     "text": [
      "number of combinations: 160\n"
     ]
    }
   ],
   "source": [
    "import utils.helper_functions as hf\n",
    "\n",
    "import os\n",
    "\n",
    "import pandas as pd\n",
    "import numpy as np\n",
    "\n",
    "import tensorflow as tf\n",
    "from tensorflow.keras.models import Sequential\n",
    "from tensorflow.keras.layers import Dense, BatchNormalization, Dropout\n",
    "from sklearn.model_selection import train_test_split\n",
    "from sklearn.preprocessing import StandardScaler\n",
    "from collections import Counter\n",
    "\n",
    "import hyperopt\n",
    "from hyperopt import hp, fmin, tpe\n",
    "\n",
    "pd.options.mode.copy_on_write = True # avoid making unnecessary copies of DataFrames or Series\n",
    "\n",
    "db_path = './db/ohlcv_ntickers_593_2000-08-01_to_2023-12-23.pkl'\n",
    "transformed_data_path = './outputs/classifier_transformed_data.pkl'\n",
    "model_path = './outputs/classifier_model.keras'\n",
    "\n",
    "fee = 0.002\n",
    "# num_tickers = 1250\n",
    "\n",
    "use_hyperopt = False\n",
    "use_saved_transformed_data = False\n",
    "use_saved_model = False\n",
    "\n",
    "start_date = '2013-01-01'\n",
    "test_size = 100000\n",
    "epochs = 3\n",
    "hyperopt_n_iterations = 600\n",
    "\n",
    "param_grid = {\n",
    "    'buying_time': ['Close'], 'selling_time': ['Open'],\n",
    "    'target_future_days': [1], 'loss_limit': [0.93, 0.95, 0.97, 0.98, 0.99],\n",
    "    'sell_at_target': [True],\n",
    "    'size_layer_1': [128], 'size_layer_2': [128], 'size_layer_3': [256],\n",
    "    'dropout_rate': [0.1, 0.15, 0.2, 0.25], 'balance_data': [True], 'batch_size': [128], #'dropout_rates': [i for i in list(np.arange(0, 0.3, 0.1))], 'batch_sizes': [32, 64, 128],\n",
    "    'n_first_classes': [[0,0], [0,1]],\n",
    "    'cumulated_probs_target': [0.55, 0.65, 0.75, 0.85],\n",
    "    'thresholds': [[1.08, 1.04, 1.02, 1.005]]\n",
    "}\n",
    "num_combinations = hf.get_num_combinations(param_grid)\n",
    "\n",
    "search_space = {\n",
    "    'buying_time': hp.choice('buying_time', ['Open', 'Close']),\n",
    "    'selling_time': hp.choice('selling_time', ['Open', 'Close']),\n",
    "    'target_future_days': hp.randint('param', 1, 91),\n",
    "    'loss_limit': hp.uniform('loss_limit', 0.8, 1),\n",
    "    'sell_at_target': hp.choice('sell_at_target', [True, False]),\n",
    "    'size_layer_1': hp.choice('size_layer_1', [128]),\n",
    "    'size_layer_2': hp.choice('size_layer_2', [128]),\n",
    "    'size_layer_3': hp.choice('size_layer_3', [128, 256]),\n",
    "    'dropout_rate': hp.uniform('dropout_rate', 0, 0.3),\n",
    "    'balance_data': hp.choice('balance_data', [True]),\n",
    "    'batch_size': hp.choice('batch_size', [32, 64, 128]),\n",
    "    'n_first_classes': hp.choice('n_first_classes', [[0, 0], [0, 1], [0, 2], [1, 1], [1, 2], [2, 2]]),\n",
    "    'cumulated_probs_target': hp.uniform('cumulated_probs_target', 0.5, 1),\n",
    "    'thresholds': hp.choice('thresholds', [[1.08, 1.04, 1.02, 1], [1.06, 1.03, 1.01], [1.05, 1.025, 1], [1.1, 1.05, 1.01]]),\n",
    "}"
   ]
  },
  {
   "cell_type": "code",
   "execution_count": 2,
   "metadata": {},
   "outputs": [
    {
     "name": "stdout",
     "output_type": "stream",
     "text": [
      "number of tickers: 593\n"
     ]
    }
   ],
   "source": [
    "df = pd.read_pickle(db_path)\n",
    "df = hf.get_rows_after_date(df, start_date)\n",
    "\n",
    "def get_single_level_df(df, ohlcv):\n",
    "    new_df = df[[ohlcv]]\n",
    "    new_df = hf.remove_top_column_name(new_df)\n",
    "\n",
    "    return new_df\n",
    "\n",
    "def get_ohlcv_dfs(df):\n",
    "    df_open = get_single_level_df(df, 'Open')\n",
    "    df_high = get_single_level_df(df, 'High')\n",
    "    df_low = get_single_level_df(df, 'Low')\n",
    "    df_close = get_single_level_df(df, 'Close')\n",
    "    df_volume = get_single_level_df(df, 'Volume')\n",
    "    \n",
    "    return {'df_open': df_open, 'df_high': df_high, 'df_low': df_low,\n",
    "            'df_close': df_close, 'df_volume': df_volume}\n",
    "\n",
    "num_tickers = hf.get_num_tickers(get_single_level_df(df, 'Open'))\n",
    "print(f'number of tickers: {num_tickers}')\n"
   ]
  },
  {
   "cell_type": "code",
   "execution_count": 3,
   "metadata": {},
   "outputs": [],
   "source": [
    "def calculate_var(df, past_days, future_days):\n",
    "    var = hf.calculate_variations(df, past_days, future_days)\n",
    "    var_stacked = hf.stack(var, f'input_var_past_{past_days}d_future_{future_days}d')\n",
    "\n",
    "    return var_stacked\n",
    "\n",
    "def calculate_var_vs_past_ohlcv(df, df_past, past_days, title):\n",
    "    var = df / df_past.shift(past_days)\n",
    "    var_stacked = hf.stack(var, f'input_var_past_{title}_{past_days}d')\n",
    "\n",
    "    return var_stacked\n",
    "\n",
    "def calculate_volume_var(df_volume, past_start_day, past_end_day):\n",
    "    df_volume.replace(0, np.nan, inplace=True)\n",
    "    df_volume.replace([np.inf, -np.inf], np.nan, inplace=True)\n",
    "\n",
    "    volume_var= df_volume.shift(past_end_day) / df_volume.shift(past_start_day)\n",
    "    volume_var_stacked = hf.stack(volume_var, f'input_volume_var_{past_start_day}-{past_end_day}d')\n",
    "\n",
    "    return volume_var_stacked\n",
    "\n",
    "def calculate_market_var(df, past_days):\n",
    "    market_var = hf.calculate_market_variations(df, past_days)\n",
    "    market_var_stacked = hf.stack(market_var, f'input_market_var_{past_days}d')\n",
    "\n",
    "    return market_var_stacked\n",
    "\n",
    "def min_max_var(df, past_days):\n",
    "    rolling_min = df.rolling(window=past_days + 1, min_periods=1).min()\n",
    "    min_var = df / rolling_min\n",
    "    min_var_stacked = hf.stack(min_var, f'input_min_var_past_{past_days}d')\n",
    "\n",
    "    rolling_max = df.rolling(window=past_days + 1, min_periods=1).max()\n",
    "    max_var = df / rolling_max\n",
    "    max_var_stacked = hf.stack(max_var, f'input_max_var_past_{past_days}d')\n",
    "\n",
    "    return min_var_stacked, max_var_stacked\n",
    "\n",
    "def get_future_end_var(df_buy, df_sell, future_days):\n",
    "    df_future_end = df_sell.shift(-future_days)\n",
    "    future_end_var =  df_future_end / df_buy\n",
    "    future_end_var_stacked = hf.stack(future_end_var, f'output_future_end_var')\n",
    "    \n",
    "    return future_end_var_stacked\n",
    "\n",
    "def get_future_max_var(df_buy, df_sell, future_days):\n",
    "    future_rolling_max = hf.get_future_rolling_max(df_sell, future_days+1)\n",
    "    future_max_var = future_rolling_max / df_buy\n",
    "    future_max_var_stacked = hf.stack(future_max_var, f'output_future_max_var')\n",
    "        \n",
    "    return future_max_var_stacked\n",
    "\n",
    "def get_future_min_var(df_buy, df_low, future_days):\n",
    "    future_rolling_min = hf.get_future_rolling_min(df_low, future_days+1)\n",
    "    future_min_var = future_rolling_min / df_buy\n",
    "    future_min_var_stacked = hf.stack(future_min_var, f'output_future_min_var')\n",
    "        \n",
    "    return future_min_var_stacked\n",
    "\n",
    "def get_future_min_var_before_max(df_buy, df_sell, df_low, future_days):\n",
    "    rolling_max_positions = hf.get_future_rolling_max_position(df_sell, future_days)\n",
    "\n",
    "    df_low = df_low.reset_index(drop=True)\n",
    "    rolling_min = df_low.apply(lambda col: col.index.map(\n",
    "            lambda row: hf.get_future_rolling_min_value(row, df_low.columns.get_loc(col.name), df_low, rolling_max_positions)\n",
    "        ))\n",
    "    rolling_min.index = df_buy.index\n",
    "    \n",
    "    var = rolling_min / df_buy\n",
    "    var_stacked = hf.stack(var, f'output_future_min_var_before_max')\n",
    "\n",
    "    return var_stacked\n",
    "\n",
    "def days_since_min_max(df, past_days):\n",
    "    days_since_min = hf.get_days_since_min(df, past_days)\n",
    "    days_since_min_stacked = hf.stack(days_since_min, f'input_days_since_min_{past_days}d')\n",
    "\n",
    "    days_since_max = hf.get_days_since_max(df, past_days)\n",
    "    days_since_max_stacked = hf.stack(days_since_max, f'input_days_since_max_{past_days}d')\n",
    "\n",
    "    return days_since_min_stacked, days_since_max_stacked\n",
    "\n",
    "def get_volatility(df, past_days):\n",
    "    volatility = hf.calculate_volatility(df, past_days)\n",
    "    volatility_stacked = hf.stack(volatility, f'input_volatility_{past_days}d')\n",
    "\n",
    "    return volatility_stacked\n",
    "\n",
    "def get_market_volatility(df, past_days):\n",
    "    market_average = hf.calculate_averages(df)\n",
    "    volatility = hf.calculate_volatility(market_average, past_days)\n",
    "    volatility_stacked = hf.stack(volatility, f'input_market_volatility_{past_days}d')\n",
    "\n",
    "    return volatility_stacked\n",
    "\n",
    "def get_volume_volability(df, past_days):\n",
    "    volatility = hf.calculate_volatility(df, past_days)\n",
    "    volatility_stacked = hf.stack(volatility, f'input_volume_volatility_{past_days}d')\n",
    "\n",
    "    return volatility_stacked\n",
    "\n",
    "def get_n_ups(df, past_days):\n",
    "    n_ups = hf.calculate_n_ups(df, past_days)\n",
    "    n_ups_stacked = hf.stack(n_ups, f'input_n_ups_{past_days}d')\n",
    "\n",
    "    return n_ups_stacked\n",
    "\n",
    "def get_rank(df, past_days, future_days):\n",
    "    rank = hf.calculate_rank(df, past_days, future_days)\n",
    "    \n",
    "    if future_days == 0:\n",
    "        rank_stacked = hf.stack(rank, f'input_rank_{past_days}d')\n",
    "    elif past_days == 0:\n",
    "        rank_stacked = hf.stack(rank, f'output_rank_{future_days}d')\n",
    "    else:\n",
    "        raise ValueError('Either past_days or future_days must be 0')\n",
    "    \n",
    "    return rank_stacked\n",
    "\n",
    "def get_performance_vs_market(df, past_days):\n",
    "    performance_vs_market = hf.calculate_performance_vs_market(df, past_days)\n",
    "    performance_vs_market_stacked = hf.stack(performance_vs_market, f'input_perf_vs_market_{past_days}d')\n",
    "\n",
    "    return performance_vs_market_stacked\n",
    "\n",
    "def classify_var(df_var, thresholds, col_name):\n",
    "    df_thresholds = hf.classify_var(df_var, thresholds)\n",
    "\n",
    "    df_thresholds_stacked = hf.stack(df_thresholds, col_name)\n",
    "    df_thresholds_stacked = df_thresholds_stacked.droplevel(level=-1)\n",
    "\n",
    "    return df_thresholds_stacked\n"
   ]
  },
  {
   "cell_type": "code",
   "execution_count": 4,
   "metadata": {},
   "outputs": [],
   "source": [
    "def get_inputs(df_buy, dfs_ohlcv):\n",
    "    var_90 = calculate_var(df_buy, past_days=90, future_days=0)\n",
    "    var_60 = calculate_var(df_buy, past_days=60, future_days=0)\n",
    "    var_30 = calculate_var(df_buy, past_days=30, future_days=0)\n",
    "    var_10 = calculate_var(df_buy, past_days=10, future_days=0)\n",
    "    var_5 = calculate_var(df_buy, past_days=5, future_days=0)\n",
    "    var_2 = calculate_var(df_buy, past_days=2, future_days=0)\n",
    "    var_1 = calculate_var(df_buy, past_days=1, future_days=0)\n",
    "\n",
    "    var_vs_close_1 = calculate_var_vs_past_ohlcv(df_buy, dfs_ohlcv['df_close'], past_days=1, title='close')\n",
    "    var_vs_low_1 = calculate_var_vs_past_ohlcv(df_buy, dfs_ohlcv['df_low'], past_days=1, title='low')\n",
    "    var_vs_high_1 = calculate_var_vs_past_ohlcv(df_buy, dfs_ohlcv['df_high'], past_days=1, title='high')\n",
    "\n",
    "    volume_var_90_1 = calculate_volume_var(dfs_ohlcv['df_volume'], past_start_day=90, past_end_day=1)\n",
    "    volume_var_60_1 = calculate_volume_var(dfs_ohlcv['df_volume'], past_start_day=30, past_end_day=1)\n",
    "    volume_var_30_1 = calculate_volume_var(dfs_ohlcv['df_volume'], past_start_day=30, past_end_day=1)\n",
    "    volume_var_10_1 = calculate_volume_var(dfs_ohlcv['df_volume'], past_start_day=10, past_end_day=1)\n",
    "    volume_var_3_1 = calculate_volume_var(dfs_ohlcv['df_volume'], past_start_day=3, past_end_day=1)\n",
    "    volume_var_2_1 = calculate_volume_var(dfs_ohlcv['df_volume'], past_start_day=2, past_end_day=1)\n",
    "    \n",
    "    # market_var_30 = calculate_market_var(df_buy, past_days=30)\n",
    "    # market_var_5 = calculate_market_var(df_buy, past_days=5)\n",
    "    # market_var_1 = calculate_market_var(df_buy, past_days=1)\n",
    "    \n",
    "    min_var_90, max_var_90 = min_max_var(df_buy, past_days=90)\n",
    "    min_var_30, max_var_30 = min_max_var(df_buy, past_days=30)\n",
    "    min_var_10, max_var_10 = min_max_var(df_buy, past_days=10)\n",
    "    min_var_5, max_var_5 = min_max_var(df_buy, past_days=5)\n",
    "    min_var_2, max_var_2 = min_max_var(df_buy, past_days=2)\n",
    "\n",
    "    days_since_min_30, days_since_max_30 = days_since_min_max(df_buy, past_days=30)\n",
    "    days_since_min_10, days_since_max_10 = days_since_min_max(df_buy, past_days=10)\n",
    "\n",
    "    # volatility_30 = get_volatility(df_buy, past_days=30)\n",
    "    # volatility_10 = get_volatility(df_buy, past_days=10)\n",
    "    # volatility_2 = get_volatility(df_buy, past_days=2)\n",
    "\n",
    "    # market_volatility_30 = get_market_volatility(df_buy, past_days=30)\n",
    "    # market_volatility_10 = get_market_volatility(df_buy, past_days=10)\n",
    "    # market_volatility_2 = get_market_volatility(df_buy, past_days=2)\n",
    "\n",
    "    volume_volability_90 = get_volume_volability(dfs_ohlcv['df_volume'], past_days=90)\n",
    "    volume_volability_30 = get_volume_volability(dfs_ohlcv['df_volume'], past_days=30)\n",
    "    volume_volability_10 = get_volume_volability(dfs_ohlcv['df_volume'], past_days=10)\n",
    "    volume_volability_2 = get_volume_volability(dfs_ohlcv['df_volume'], past_days=2)\n",
    "\n",
    "    n_ups_90 = get_n_ups(df_buy, past_days=90)\n",
    "    n_ups_30 = get_n_ups(df_buy, past_days=30)\n",
    "    n_ups_5 = get_n_ups(df_buy, past_days=5)\n",
    "\n",
    "    rank_90 = get_rank(df_buy, past_days=90, future_days=0)\n",
    "    rank_30 = get_rank(df_buy, past_days=30, future_days=0)\n",
    "    rank_10 = get_rank(df_buy, past_days=10, future_days=0)\n",
    "    rank_5 = get_rank(df_buy, past_days=5, future_days=0)\n",
    "    rank_2 = get_rank(df_buy, past_days=2, future_days=0)\n",
    "    rank_1 = get_rank(df_buy, past_days=1, future_days=0)\n",
    "\n",
    "    perf_vs_market_90 = get_performance_vs_market(df_buy, past_days=90)\n",
    "    perf_vs_market_30 = get_performance_vs_market(df_buy, past_days=30)\n",
    "    perf_vs_market_10 = get_performance_vs_market(df_buy, past_days=10)\n",
    "    perf_vs_market_5 = get_performance_vs_market(df_buy, past_days=5)\n",
    "    perf_vs_market_2 = get_performance_vs_market(df_buy, past_days=2)\n",
    "    perf_vs_market_1 = get_performance_vs_market(df_buy, past_days=1)\n",
    "\n",
    "    df_data = pd.concat([\n",
    "            var_90, var_60, var_30, var_10, var_5, var_2, var_1,\n",
    "            var_vs_close_1, var_vs_high_1, var_vs_low_1,\n",
    "            volume_var_90_1, volume_var_60_1, volume_var_30_1, volume_var_10_1, volume_var_2_1, volume_var_3_1,\n",
    "            min_var_90, min_var_30, min_var_10, min_var_5, min_var_2,\n",
    "            max_var_90, max_var_30, max_var_10, max_var_5, max_var_2,\n",
    "            days_since_min_30, days_since_min_10,\n",
    "            days_since_max_30, days_since_max_10,\n",
    "            volume_volability_90, volume_volability_30, volume_volability_10, volume_volability_2,\n",
    "            n_ups_90, n_ups_30, n_ups_5,\n",
    "            rank_90, rank_30, rank_10, rank_5, rank_2, rank_1,\n",
    "            perf_vs_market_90, perf_vs_market_30, perf_vs_market_10, perf_vs_market_5,\n",
    "            perf_vs_market_2, perf_vs_market_1\n",
    "        ], axis='columns')\n",
    "\n",
    "    df_data = df_data.dropna()\n",
    "\n",
    "    return df_data"
   ]
  },
  {
   "cell_type": "code",
   "execution_count": 5,
   "metadata": {},
   "outputs": [],
   "source": [
    "def add_future_vars(df_data, df_buy, df_sell, dfs_ohlcv, **hyperparams):\n",
    "    target_future_days = hyperparams.get('target_future_days')\n",
    "    sell_at_target = hyperparams.get('sell_at_target')\n",
    "    \n",
    "    future_end_var = get_future_end_var(df_buy, df_sell, target_future_days)\n",
    "    future_max_var = get_future_max_var(df_buy, df_sell, target_future_days)\n",
    "    future_min_var = get_future_min_var(df_buy, dfs_ohlcv['df_low'], target_future_days-1)\n",
    "\n",
    "    df_data = pd.concat([df_data, future_end_var, future_max_var, future_min_var], axis='columns')\n",
    "    \n",
    "    if sell_at_target:\n",
    "        future_min_var_before_max = get_future_min_var_before_max(df_buy, df_sell, dfs_ohlcv['df_low'], target_future_days)\n",
    "        df_data = pd.concat([df_data, future_min_var_before_max], axis='columns')\n",
    "    \n",
    "    return df_data\n",
    "\n",
    "def add_output_loss_min_var(df, **hyperparams):\n",
    "    sell_at_target = hyperparams.get('sell_at_target')\n",
    "    \n",
    "    if sell_at_target:\n",
    "        df['output_loss_min_var'] = df['output_future_min_var_before_max']\n",
    "    else:\n",
    "        df['output_loss_min_var'] = df['output_future_min_var']\n",
    "\n",
    "    return df\n",
    "\n",
    "def add_output_is_loss_limit_reached(df, **hyperparams):\n",
    "    loss_limit = hyperparams.get('loss_limit')\n",
    "\n",
    "    df['output_is_loss_limit_reached'] = (df['output_loss_min_var'] <= loss_limit)\n",
    "\n",
    "    return df\n",
    "\n",
    "def add_output_class(df_data, **hyperparams):\n",
    "    sell_at_target = hyperparams.get('sell_at_target')\n",
    "    thresholds = hyperparams.get('thresholds')\n",
    "    last_class = len(thresholds)\n",
    "\n",
    "    if sell_at_target:\n",
    "        output_class = classify_var(df_data[['output_future_max_var']], thresholds, 'output_class')\n",
    "    else:\n",
    "        output_class = classify_var(df_data[['output_future_end_var']], thresholds, 'output_class')\n",
    "\n",
    "    output_class.loc[df_data['output_is_loss_limit_reached'], 'output_class'] = last_class\n",
    "    \n",
    "    df_data = pd.concat([df_data, output_class], axis='columns')\n",
    "\n",
    "    return df_data\n",
    "\n",
    "def add_output_is_buy(df, **hyperparams):\n",
    "    accepted_n_first_classes = hyperparams.get('n_first_classes')[1]\n",
    "    df['output_is_buy'] = (df['output_class'] <= accepted_n_first_classes)\n",
    "    \n",
    "    return df\n",
    "\n",
    "def add_output_profit(df, fee, **hyperparams):\n",
    "    thresholds = hyperparams.get('thresholds')\n",
    "    accepted_n_first_classes = hyperparams.get('n_first_classes')[1]\n",
    "    loss_limit = hyperparams.get('loss_limit')\n",
    "    sell_at_target = hyperparams.get('sell_at_target')\n",
    "\n",
    "    accepted_var = thresholds[accepted_n_first_classes]\n",
    "\n",
    "    condition1 = (df['output_loss_min_var'] <= loss_limit)\n",
    "    condition2 = (df['output_is_buy'] & sell_at_target)\n",
    "\n",
    "    df['output_profit'] = np.where(\n",
    "        condition1 | condition2,\n",
    "        np.where(\n",
    "            condition1,\n",
    "            loss_limit,\n",
    "            accepted_var),\n",
    "        df['output_future_end_var']\n",
    "    )\n",
    "\n",
    "    fee_coef = hf.get_fee_coef(fee)\n",
    "    df['output_profit'] *= fee_coef\n",
    "    \n",
    "    return df"
   ]
  },
  {
   "cell_type": "code",
   "execution_count": 6,
   "metadata": {},
   "outputs": [],
   "source": [
    "def get_df_data(hyperparams):\n",
    "    df_buy = get_single_level_df(df, hyperparams['buying_time'])\n",
    "    df_sell = get_single_level_df(df, hyperparams['selling_time'])\n",
    "    dfs_ohlcv = get_ohlcv_dfs(df)\n",
    "\n",
    "    if os.path.exists(transformed_data_path) and use_saved_transformed_data:\n",
    "        df_data = pd.read_pickle(transformed_data_path)\n",
    "        print(f'using existing {transformed_data_path}')\n",
    "    else:\n",
    "        print(f'need to create {transformed_data_path}')\n",
    "        df_data = get_inputs(df_buy, dfs_ohlcv)\n",
    "        \n",
    "        df_data.to_pickle(transformed_data_path)\n",
    "        print(f'saved new {transformed_data_path}')\n",
    "\n",
    "    df_data = add_future_vars(df_data, df_buy, df_sell, dfs_ohlcv, **hyperparams)\n",
    "    df_data = add_output_loss_min_var(df_data, **hyperparams)\n",
    "    df_data = add_output_is_loss_limit_reached(df_data, **hyperparams)\n",
    "    df_data = add_output_class(df_data, **hyperparams)\n",
    "    df_data = add_output_is_buy(df_data, **hyperparams)\n",
    "    df_data = add_output_profit(df_data, fee, **hyperparams)\n",
    "    df_data = df_data.dropna()\n",
    "\n",
    "    return df_data"
   ]
  },
  {
   "cell_type": "code",
   "execution_count": 7,
   "metadata": {},
   "outputs": [],
   "source": [
    "def get_dfs_input_output(df_data):\n",
    "    input_columns = [col for col in df_data.columns if col.startswith('input_')]\n",
    "    df_input = df_data[input_columns]\n",
    "    df_output = df_data[['output_class']]\n",
    "\n",
    "    return df_input, df_output\n",
    "\n",
    "def get_test_train_data(df_input, df_output, test_size):\n",
    "    X_train = df_input[:-test_size].values\n",
    "    y_train = df_output[:-test_size].values.ravel().astype(int)\n",
    "\n",
    "    X_test = df_input.tail(test_size).values\n",
    "    y_test = df_output.tail(test_size).values.ravel().astype(int)\n",
    "\n",
    "    scaler = StandardScaler()\n",
    "    X_train = scaler.fit_transform(X_train)\n",
    "    X_test = scaler.transform(X_test)\n",
    "\n",
    "    print(f\"number of elements in y_train: {len(y_train)}\")\n",
    "    print(f\"number of elements in y_test: {len(y_test)}\")\n",
    "\n",
    "    return {'X_train': X_train, 'X_test': X_test, 'y_train': y_train, 'y_test': y_test}\n",
    "\n",
    "def create_model(**kwargs):\n",
    "    X_train = kwargs.get('X_train')\n",
    "    X_test = kwargs.get('X_test')\n",
    "    y_train = kwargs.get('y_train')\n",
    "    y_test = kwargs.get('y_test')\n",
    "\n",
    "    thresholds = kwargs.get('thresholds')\n",
    "    \n",
    "    size_layer_1 = kwargs.get('size_layer_1')\n",
    "    size_layer_2 = kwargs.get('size_layer_2')\n",
    "    size_layer_3 = kwargs.get('size_layer_3')\n",
    "    dropout_rate = kwargs.get('dropout_rate')\n",
    "    balance_data = kwargs.get('balance_data')\n",
    "    batch_size = kwargs.get('batch_size')\n",
    "\n",
    "    last_layers_size = len(thresholds) + 1\n",
    "\n",
    "    model = Sequential()\n",
    "\n",
    "    model.add(Dense(size_layer_1, input_shape=(X_train.shape[1],), activation='relu'))\n",
    "    model.add(BatchNormalization())\n",
    "    model.add(Dropout(dropout_rate))\n",
    "    model.add(Dense(size_layer_2, activation='relu'))\n",
    "    model.add(BatchNormalization())\n",
    "    model.add(Dropout(dropout_rate))\n",
    "    model.add(Dense(size_layer_3, activation='relu'))\n",
    "    model.add(BatchNormalization())\n",
    "    model.add(Dropout(dropout_rate))\n",
    "    model.add(Dense(last_layers_size, activation='softmax'))\n",
    "\n",
    "    model.compile(optimizer='adam', loss='sparse_categorical_crossentropy', metrics=['accuracy'])\n",
    "\n",
    "    if (balance_data):\n",
    "        counter = Counter(y_train)\n",
    "        max_count = max(counter.values())\n",
    "        class_weights = {cls: max_count / count for cls, count in counter.items()}\n",
    "        model.fit(X_train, y_train, epochs=epochs, batch_size=batch_size, validation_data=(X_test, y_test), class_weight=class_weights)\n",
    "    else:\n",
    "        model.fit(X_train, y_train, epochs=epochs, batch_size=batch_size, validation_data=(X_test, y_test))\n",
    "\n",
    "    model.save(model_path)\n",
    "\n",
    "def load_model(df_data, hyperparams):\n",
    "    df_input, df_output = get_dfs_input_output(df_data)\n",
    "    test_train_data = get_test_train_data(df_input, df_output, test_size)\n",
    "\n",
    "    if os.path.exists(model_path) and use_saved_model:\n",
    "        print(f'using existing {model_path}')\n",
    "    else:\n",
    "        print(f'need to create {model_path}')\n",
    "        create_model(**{**test_train_data, **hyperparams})\n",
    "    \n",
    "    model = tf.keras.models.load_model(model_path)\n",
    "\n",
    "    return test_train_data, model"
   ]
  },
  {
   "cell_type": "code",
   "execution_count": 8,
   "metadata": {},
   "outputs": [],
   "source": [
    "def slice_df_test(df_data, test_size):\n",
    "    return df_data.tail(test_size)\n",
    "\n",
    "def add_predictions(df, model, X_test, **hyperparams):\n",
    "    predicted_n_first_classes = hyperparams['n_first_classes'][0]\n",
    "    cumulated_probs_target = hyperparams['cumulated_probs_target']\n",
    "\n",
    "    prediction_y_test_lists = model.predict(X_test)\n",
    "    prediction_y_test_array = np.array(prediction_y_test_lists)\n",
    "    df['prediction_probs'] = prediction_y_test_array.tolist()\n",
    "\n",
    "    df['prediction_cumulated_probs'] = [sum(row[:predicted_n_first_classes+1]) for row in df['prediction_probs']]\n",
    "    df['prediction_is_buy'] = (df['prediction_cumulated_probs'] > cumulated_probs_target)\n",
    "    df['prediction_is_correct'] = (df['output_is_buy'] == df['prediction_is_buy'])\n",
    "\n",
    "    return df\n",
    "\n",
    "def get_class_cumulative_percentages(y_test):\n",
    "    unique_values, counts = np.unique(y_test, return_counts=True)\n",
    "    percentages = counts / len(y_test)\n",
    "    percentages = percentages[np.argsort(unique_values)]\n",
    "    cumulative_percentages = np.cumsum(percentages)\n",
    "\n",
    "    print(f'market cumulative % per class: {cumulative_percentages}')\n",
    "\n",
    "    return cumulative_percentages\n",
    "\n",
    "def get_market_rate(y_test, **hyperparams):\n",
    "    accepted_n_first_classes = hyperparams['n_first_classes'][1]\n",
    "\n",
    "    class_cumulative_percentages = get_class_cumulative_percentages(y_test)\n",
    "    market_rate = class_cumulative_percentages[accepted_n_first_classes]\n",
    "\n",
    "    return market_rate\n",
    "\n",
    "def get_binary_classification(df):\n",
    "    # tp: true positive, tn: true negative, fp: false positive, fn: false negative  \n",
    "    tp = ((df['output_is_buy'] == True) & (df['prediction_is_buy'] == True)).sum()\n",
    "    tn = ((df['output_is_buy'] == False) & (df['prediction_is_buy'] == False)).sum()\n",
    "    fp = ((df['output_is_buy'] == False) & (df['prediction_is_buy'] == True)).sum()\n",
    "    fn = ((df['output_is_buy'] == True) & (df['prediction_is_buy'] == False)).sum()\n",
    "\n",
    "    winning_rate = float(tp / (tp + fp)) if (tp + fp) > 0 else 0\n",
    "\n",
    "    return {'tp': tp, 'tn': tn, 'fp': fp, 'fn': fn, 'winning_rate': winning_rate}\n",
    "\n",
    "def get_profits(df):\n",
    "    trimmed_average_profit = hf.get_trimmed_average(df['output_profit'], pct_to_trim=0.03, min_num_to_trim=8)\n",
    "    average_profit = df['output_profit'].mean()\n",
    "    median_profit = df['output_profit'].median()\n",
    "\n",
    "    return {\n",
    "        'trimmed_average_profit': trimmed_average_profit,\n",
    "        'average_profit': average_profit,\n",
    "        'median_profit': median_profit\n",
    "    }\n",
    "\n",
    "def get_loss_limit_pct(df):\n",
    "    return df['output_is_loss_limit_reached'].sum() / len(df) if len(df) > 0 else 0\n",
    "\n",
    "def get_performance_score(trimmed_average_profit, count, **kwargs):\n",
    "    target_future_days = kwargs.get('target_future_days')\n",
    "\n",
    "    target_count = 2 * test_size / (num_tickers * target_future_days)\n",
    "    adjusted_profit = trimmed_average_profit ** 5 # to decrease small values, e.g. 0.8^2 = 0.64\n",
    "    performance_score = adjusted_profit * min(count, target_count)\n",
    "    \n",
    "    return performance_score\n",
    "\n",
    "def evaluate_model(df_data, model, test_train_data, hyperparams):\n",
    "    df_test = slice_df_test(df_data, test_size)\n",
    "    df_test = add_predictions(df_test, model, test_train_data['X_test'], **hyperparams)\n",
    "    \n",
    "    market_rate = get_market_rate(test_train_data['y_test'], **hyperparams)\n",
    "\n",
    "    binary_classification = get_binary_classification(df_test)\n",
    "    \n",
    "    df_prediction_is_buy = df_test[(df_test['prediction_is_buy'] == True)]\n",
    "    if (not use_hyperopt and num_combinations == 1):\n",
    "        df_prediction_is_buy.to_excel(f'./outputs/{hf.get_date()}_classifier_df_prediction_is_buy.xlsx')\n",
    "\n",
    "    profits = get_profits(df_prediction_is_buy)\n",
    "    prediction_is_buy_count = len(df_prediction_is_buy['output_profit'])\n",
    "    loss_limit_reached_pct = get_loss_limit_pct(df_prediction_is_buy)\n",
    "    performance_score = get_performance_score(profits['trimmed_average_profit'],\n",
    "                                              prediction_is_buy_count, **hyperparams)\n",
    "\n",
    "    performance_metrics = {\n",
    "        'performance_score': performance_score,\n",
    "        **profits,\n",
    "        'prediction_is_buy_count': prediction_is_buy_count,\n",
    "        'loss_limit_reached_pct': loss_limit_reached_pct,\n",
    "        'market_rate': market_rate,\n",
    "        **binary_classification,\n",
    "        'winning_rate_vs_market': binary_classification['winning_rate'] - market_rate,\n",
    "    }\n",
    "\n",
    "    return performance_metrics"
   ]
  },
  {
   "cell_type": "code",
   "execution_count": 9,
   "metadata": {},
   "outputs": [
    {
     "name": "stdout",
     "output_type": "stream",
     "text": [
      "step: 1/160\n",
      "need to create ./outputs/classifier_transformed_data.pkl\n",
      "saved new ./outputs/classifier_transformed_data.pkl\n",
      "Number of elements in y_train: 330646\n",
      "Number of elements in y_test: 100000\n",
      "need to create ./outputs/classifier_model.keras\n"
     ]
    },
    {
     "name": "stderr",
     "output_type": "stream",
     "text": [
      "/Users/alexis/.pyenv/versions/3.11.8/lib/python3.11/site-packages/keras/src/layers/core/dense.py:88: UserWarning: Do not pass an `input_shape`/`input_dim` argument to a layer. When using Sequential models, prefer using an `Input(shape)` object as the first layer in the model instead.\n",
      "  super().__init__(activity_regularizer=activity_regularizer, **kwargs)\n"
     ]
    },
    {
     "name": "stdout",
     "output_type": "stream",
     "text": [
      "Epoch 1/3\n",
      "\u001b[1m2584/2584\u001b[0m \u001b[32m━━━━━━━━━━━━━━━━━━━━\u001b[0m\u001b[37m\u001b[0m \u001b[1m8s\u001b[0m 2ms/step - accuracy: 0.5400 - loss: 3.2193 - val_accuracy: 0.6041 - val_loss: 0.9959\n",
      "Epoch 2/3\n",
      "\u001b[1m2584/2584\u001b[0m \u001b[32m━━━━━━━━━━━━━━━━━━━━\u001b[0m\u001b[37m\u001b[0m \u001b[1m7s\u001b[0m 3ms/step - accuracy: 0.6245 - loss: 2.5500 - val_accuracy: 0.5925 - val_loss: 1.0101\n",
      "Epoch 3/3\n",
      "\u001b[1m2584/2584\u001b[0m \u001b[32m━━━━━━━━━━━━━━━━━━━━\u001b[0m\u001b[37m\u001b[0m \u001b[1m5s\u001b[0m 2ms/step - accuracy: 0.6323 - loss: 2.4739 - val_accuracy: 0.6223 - val_loss: 0.9510\n",
      "\u001b[1m3125/3125\u001b[0m \u001b[32m━━━━━━━━━━━━━━━━━━━━\u001b[0m\u001b[37m\u001b[0m \u001b[1m1s\u001b[0m 422us/step\n",
      "market cumulative % per class: [0.00623 0.04168 0.15006 0.49872 1.     ]\n",
      "{'performance_score': 366.54282740110966, 'trimmed_average_profit': 1.0167867651368367, 'average_profit': 1.018568670073169, 'median_profit': 1.0155375184660704, 'prediction_is_buy_count': 595, 'loss_limit_reached_pct': 0.20504201680672268, 'market_rate': 0.00623, 'tp': 275, 'tn': 99057, 'fp': 320, 'fn': 348, 'winning_rate': 0.46218487394957986, 'winning_rate_vs_market': 0.45595487394957984, 'buying_time': 'Close', 'selling_time': 'Open', 'target_future_days': 1, 'loss_limit': 0.93, 'sell_at_target': True, 'size_layer_1': 128, 'size_layer_2': 128, 'size_layer_3': 256, 'dropout_rate': 0.1, 'balance_data': True, 'batch_size': 128, 'n_first_classes': [0, 0], 'cumulated_probs_target': 0.55, 'thresholds': [1.08, 1.04, 1.02, 1.005], 'epochs': 3}\n",
      "step: 2/160\n",
      "need to create ./outputs/classifier_transformed_data.pkl\n",
      "saved new ./outputs/classifier_transformed_data.pkl\n",
      "Number of elements in y_train: 330646\n",
      "Number of elements in y_test: 100000\n",
      "need to create ./outputs/classifier_model.keras\n"
     ]
    },
    {
     "name": "stderr",
     "output_type": "stream",
     "text": [
      "/Users/alexis/.pyenv/versions/3.11.8/lib/python3.11/site-packages/keras/src/layers/core/dense.py:88: UserWarning: Do not pass an `input_shape`/`input_dim` argument to a layer. When using Sequential models, prefer using an `Input(shape)` object as the first layer in the model instead.\n",
      "  super().__init__(activity_regularizer=activity_regularizer, **kwargs)\n"
     ]
    },
    {
     "name": "stdout",
     "output_type": "stream",
     "text": [
      "Epoch 1/3\n",
      "\u001b[1m2584/2584\u001b[0m \u001b[32m━━━━━━━━━━━━━━━━━━━━\u001b[0m\u001b[37m\u001b[0m \u001b[1m8s\u001b[0m 3ms/step - accuracy: 0.5393 - loss: 3.1982 - val_accuracy: 0.6295 - val_loss: 0.9282\n",
      "Epoch 2/3\n",
      "\u001b[1m2584/2584\u001b[0m \u001b[32m━━━━━━━━━━━━━━━━━━━━\u001b[0m\u001b[37m\u001b[0m \u001b[1m6s\u001b[0m 2ms/step - accuracy: 0.6255 - loss: 2.5122 - val_accuracy: 0.6156 - val_loss: 0.9855\n",
      "Epoch 3/3\n",
      "\u001b[1m2584/2584\u001b[0m \u001b[32m━━━━━━━━━━━━━━━━━━━━\u001b[0m\u001b[37m\u001b[0m \u001b[1m6s\u001b[0m 2ms/step - accuracy: 0.6324 - loss: 2.4779 - val_accuracy: 0.6067 - val_loss: 1.0033\n",
      "\u001b[1m3125/3125\u001b[0m \u001b[32m━━━━━━━━━━━━━━━━━━━━\u001b[0m\u001b[37m\u001b[0m \u001b[1m1s\u001b[0m 420us/step\n",
      "market cumulative % per class: [0.00623 0.04168 0.15006 0.49872 1.     ]\n",
      "{'performance_score': 369.473472881577, 'trimmed_average_profit': 1.0184075072737802, 'average_profit': 1.0201131484295334, 'median_profit': 1.0131315478743208, 'prediction_is_buy_count': 806, 'loss_limit_reached_pct': 0.1662531017369727, 'market_rate': 0.00623, 'tp': 351, 'tn': 98922, 'fp': 455, 'fn': 272, 'winning_rate': 0.43548387096774194, 'winning_rate_vs_market': 0.4292538709677419, 'buying_time': 'Close', 'selling_time': 'Open', 'target_future_days': 1, 'loss_limit': 0.93, 'sell_at_target': True, 'size_layer_1': 128, 'size_layer_2': 128, 'size_layer_3': 256, 'dropout_rate': 0.1, 'balance_data': True, 'batch_size': 128, 'n_first_classes': [0, 0], 'cumulated_probs_target': 0.65, 'thresholds': [1.08, 1.04, 1.02, 1.005], 'epochs': 3}\n",
      "step: 3/160\n",
      "need to create ./outputs/classifier_transformed_data.pkl\n",
      "saved new ./outputs/classifier_transformed_data.pkl\n",
      "Number of elements in y_train: 330646\n",
      "Number of elements in y_test: 100000\n",
      "need to create ./outputs/classifier_model.keras\n",
      "Epoch 1/3\n"
     ]
    },
    {
     "name": "stderr",
     "output_type": "stream",
     "text": [
      "/Users/alexis/.pyenv/versions/3.11.8/lib/python3.11/site-packages/keras/src/layers/core/dense.py:88: UserWarning: Do not pass an `input_shape`/`input_dim` argument to a layer. When using Sequential models, prefer using an `Input(shape)` object as the first layer in the model instead.\n",
      "  super().__init__(activity_regularizer=activity_regularizer, **kwargs)\n"
     ]
    },
    {
     "name": "stdout",
     "output_type": "stream",
     "text": [
      "\u001b[1m2584/2584\u001b[0m \u001b[32m━━━━━━━━━━━━━━━━━━━━\u001b[0m\u001b[37m\u001b[0m \u001b[1m9s\u001b[0m 3ms/step - accuracy: 0.5408 - loss: 3.2352 - val_accuracy: 0.6248 - val_loss: 0.9728\n",
      "Epoch 2/3\n",
      "\u001b[1m2584/2584\u001b[0m \u001b[32m━━━━━━━━━━━━━━━━━━━━\u001b[0m\u001b[37m\u001b[0m \u001b[1m6s\u001b[0m 2ms/step - accuracy: 0.6219 - loss: 2.5466 - val_accuracy: 0.6179 - val_loss: 0.9674\n",
      "Epoch 3/3\n",
      "\u001b[1m2584/2584\u001b[0m \u001b[32m━━━━━━━━━━━━━━━━━━━━\u001b[0m\u001b[37m\u001b[0m \u001b[1m7s\u001b[0m 3ms/step - accuracy: 0.6347 - loss: 2.4772 - val_accuracy: 0.6299 - val_loss: 0.9598\n",
      "\u001b[1m3125/3125\u001b[0m \u001b[32m━━━━━━━━━━━━━━━━━━━━\u001b[0m\u001b[37m\u001b[0m \u001b[1m2s\u001b[0m 482us/step\n",
      "market cumulative % per class: [0.00623 0.04168 0.15006 0.49872 1.     ]\n",
      "{'performance_score': 382.29126855521855, 'trimmed_average_profit': 1.0253775753261645, 'average_profit': 1.0268627722982182, 'median_profit': 1.075688622754491, 'prediction_is_buy_count': 542, 'loss_limit_reached_pct': 0.1881918819188192, 'market_rate': 0.00623, 'tp': 298, 'tn': 99133, 'fp': 244, 'fn': 325, 'winning_rate': 0.5498154981549815, 'winning_rate_vs_market': 0.5435854981549816, 'buying_time': 'Close', 'selling_time': 'Open', 'target_future_days': 1, 'loss_limit': 0.93, 'sell_at_target': True, 'size_layer_1': 128, 'size_layer_2': 128, 'size_layer_3': 256, 'dropout_rate': 0.1, 'balance_data': True, 'batch_size': 128, 'n_first_classes': [0, 0], 'cumulated_probs_target': 0.75, 'thresholds': [1.08, 1.04, 1.02, 1.005], 'epochs': 3}\n",
      "step: 4/160\n",
      "need to create ./outputs/classifier_transformed_data.pkl\n",
      "saved new ./outputs/classifier_transformed_data.pkl\n",
      "Number of elements in y_train: 330646\n",
      "Number of elements in y_test: 100000\n",
      "need to create ./outputs/classifier_model.keras\n",
      "Epoch 1/3\n"
     ]
    },
    {
     "name": "stderr",
     "output_type": "stream",
     "text": [
      "/Users/alexis/.pyenv/versions/3.11.8/lib/python3.11/site-packages/keras/src/layers/core/dense.py:88: UserWarning: Do not pass an `input_shape`/`input_dim` argument to a layer. When using Sequential models, prefer using an `Input(shape)` object as the first layer in the model instead.\n",
      "  super().__init__(activity_regularizer=activity_regularizer, **kwargs)\n"
     ]
    },
    {
     "name": "stdout",
     "output_type": "stream",
     "text": [
      "\u001b[1m2584/2584\u001b[0m \u001b[32m━━━━━━━━━━━━━━━━━━━━\u001b[0m\u001b[37m\u001b[0m \u001b[1m7s\u001b[0m 2ms/step - accuracy: 0.5311 - loss: 3.3189 - val_accuracy: 0.6037 - val_loss: 0.9970\n",
      "Epoch 2/3\n",
      "\u001b[1m2584/2584\u001b[0m \u001b[32m━━━━━━━━━━━━━━━━━━━━\u001b[0m\u001b[37m\u001b[0m \u001b[1m6s\u001b[0m 2ms/step - accuracy: 0.6255 - loss: 2.5127 - val_accuracy: 0.5736 - val_loss: 1.0710\n",
      "Epoch 3/3\n",
      "\u001b[1m2584/2584\u001b[0m \u001b[32m━━━━━━━━━━━━━━━━━━━━\u001b[0m\u001b[37m\u001b[0m \u001b[1m6s\u001b[0m 2ms/step - accuracy: 0.6294 - loss: 2.4797 - val_accuracy: 0.6180 - val_loss: 0.9848\n",
      "\u001b[1m3125/3125\u001b[0m \u001b[32m━━━━━━━━━━━━━━━━━━━━\u001b[0m\u001b[37m\u001b[0m \u001b[1m1s\u001b[0m 408us/step\n",
      "market cumulative % per class: [0.00623 0.04168 0.15006 0.49872 1.     ]\n",
      "{'performance_score': 381.8416804471213, 'trimmed_average_profit': 1.040561609581203, 'average_profit': 1.0415716514935338, 'median_profit': 1.075688622754491, 'prediction_is_buy_count': 313, 'loss_limit_reached_pct': 0.12460063897763578, 'market_rate': 0.00623, 'tp': 212, 'tn': 99276, 'fp': 101, 'fn': 411, 'winning_rate': 0.6773162939297125, 'winning_rate_vs_market': 0.6710862939297125, 'buying_time': 'Close', 'selling_time': 'Open', 'target_future_days': 1, 'loss_limit': 0.93, 'sell_at_target': True, 'size_layer_1': 128, 'size_layer_2': 128, 'size_layer_3': 256, 'dropout_rate': 0.1, 'balance_data': True, 'batch_size': 128, 'n_first_classes': [0, 0], 'cumulated_probs_target': 0.85, 'thresholds': [1.08, 1.04, 1.02, 1.005], 'epochs': 3}\n",
      "step: 5/160\n",
      "need to create ./outputs/classifier_transformed_data.pkl\n",
      "saved new ./outputs/classifier_transformed_data.pkl\n",
      "Number of elements in y_train: 330646\n",
      "Number of elements in y_test: 100000\n",
      "need to create ./outputs/classifier_model.keras\n"
     ]
    },
    {
     "name": "stderr",
     "output_type": "stream",
     "text": [
      "/Users/alexis/.pyenv/versions/3.11.8/lib/python3.11/site-packages/keras/src/layers/core/dense.py:88: UserWarning: Do not pass an `input_shape`/`input_dim` argument to a layer. When using Sequential models, prefer using an `Input(shape)` object as the first layer in the model instead.\n",
      "  super().__init__(activity_regularizer=activity_regularizer, **kwargs)\n"
     ]
    },
    {
     "name": "stdout",
     "output_type": "stream",
     "text": [
      "Epoch 1/3\n",
      "\u001b[1m2584/2584\u001b[0m \u001b[32m━━━━━━━━━━━━━━━━━━━━\u001b[0m\u001b[37m\u001b[0m \u001b[1m6s\u001b[0m 2ms/step - accuracy: 0.5341 - loss: 3.2755 - val_accuracy: 0.6066 - val_loss: 0.9950\n",
      "Epoch 2/3\n",
      "\u001b[1m2584/2584\u001b[0m \u001b[32m━━━━━━━━━━━━━━━━━━━━\u001b[0m\u001b[37m\u001b[0m \u001b[1m5s\u001b[0m 2ms/step - accuracy: 0.6249 - loss: 2.5217 - val_accuracy: 0.5987 - val_loss: 0.9886\n",
      "Epoch 3/3\n",
      "\u001b[1m2584/2584\u001b[0m \u001b[32m━━━━━━━━━━━━━━━━━━━━\u001b[0m\u001b[37m\u001b[0m \u001b[1m6s\u001b[0m 2ms/step - accuracy: 0.6300 - loss: 2.4577 - val_accuracy: 0.6233 - val_loss: 0.9607\n",
      "\u001b[1m3125/3125\u001b[0m \u001b[32m━━━━━━━━━━━━━━━━━━━━\u001b[0m\u001b[37m\u001b[0m \u001b[1m1s\u001b[0m 411us/step\n",
      "market cumulative % per class: [0.00623 0.04168 0.15006 0.49872 1.     ]\n",
      "{'performance_score': 370.84080188897195, 'trimmed_average_profit': 1.0191601682783, 'average_profit': 1.0196645955361814, 'median_profit': 1.0358483033932135, 'prediction_is_buy_count': 794, 'loss_limit_reached_pct': 0.10831234256926953, 'market_rate': 0.04168, 'tp': 624, 'tn': 95662, 'fp': 170, 'fn': 3544, 'winning_rate': 0.7858942065491183, 'winning_rate_vs_market': 0.7442142065491183, 'buying_time': 'Close', 'selling_time': 'Open', 'target_future_days': 1, 'loss_limit': 0.93, 'sell_at_target': True, 'size_layer_1': 128, 'size_layer_2': 128, 'size_layer_3': 256, 'dropout_rate': 0.1, 'balance_data': True, 'batch_size': 128, 'n_first_classes': [0, 1], 'cumulated_probs_target': 0.55, 'thresholds': [1.08, 1.04, 1.02, 1.005], 'epochs': 3}\n",
      "step: 6/160\n",
      "need to create ./outputs/classifier_transformed_data.pkl\n",
      "saved new ./outputs/classifier_transformed_data.pkl\n",
      "Number of elements in y_train: 330646\n",
      "Number of elements in y_test: 100000\n",
      "need to create ./outputs/classifier_model.keras\n",
      "Epoch 1/3\n"
     ]
    },
    {
     "name": "stderr",
     "output_type": "stream",
     "text": [
      "/Users/alexis/.pyenv/versions/3.11.8/lib/python3.11/site-packages/keras/src/layers/core/dense.py:88: UserWarning: Do not pass an `input_shape`/`input_dim` argument to a layer. When using Sequential models, prefer using an `Input(shape)` object as the first layer in the model instead.\n",
      "  super().__init__(activity_regularizer=activity_regularizer, **kwargs)\n"
     ]
    },
    {
     "name": "stdout",
     "output_type": "stream",
     "text": [
      "\u001b[1m2584/2584\u001b[0m \u001b[32m━━━━━━━━━━━━━━━━━━━━\u001b[0m\u001b[37m\u001b[0m \u001b[1m6s\u001b[0m 2ms/step - accuracy: 0.5367 - loss: 3.2385 - val_accuracy: 0.5881 - val_loss: 1.0562\n",
      "Epoch 2/3\n",
      "\u001b[1m2584/2584\u001b[0m \u001b[32m━━━━━━━━━━━━━━━━━━━━\u001b[0m\u001b[37m\u001b[0m \u001b[1m5s\u001b[0m 2ms/step - accuracy: 0.6243 - loss: 2.5476 - val_accuracy: 0.6285 - val_loss: 0.9655\n",
      "Epoch 3/3\n",
      "\u001b[1m2584/2584\u001b[0m \u001b[32m━━━━━━━━━━━━━━━━━━━━\u001b[0m\u001b[37m\u001b[0m \u001b[1m5s\u001b[0m 2ms/step - accuracy: 0.6255 - loss: 2.4696 - val_accuracy: 0.6237 - val_loss: 0.9729\n",
      "\u001b[1m3125/3125\u001b[0m \u001b[32m━━━━━━━━━━━━━━━━━━━━\u001b[0m\u001b[37m\u001b[0m \u001b[1m1s\u001b[0m 421us/step\n",
      "market cumulative % per class: [0.00623 0.04168 0.15006 0.49872 1.     ]\n",
      "{'performance_score': 364.0154972792685, 'trimmed_average_profit': 1.0153807233186876, 'average_profit': 1.016003785116999, 'median_profit': 1.0358483033932135, 'prediction_is_buy_count': 657, 'loss_limit_reached_pct': 0.1461187214611872, 'market_rate': 0.04168, 'tp': 501, 'tn': 95676, 'fp': 156, 'fn': 3667, 'winning_rate': 0.7625570776255708, 'winning_rate_vs_market': 0.7208770776255707, 'buying_time': 'Close', 'selling_time': 'Open', 'target_future_days': 1, 'loss_limit': 0.93, 'sell_at_target': True, 'size_layer_1': 128, 'size_layer_2': 128, 'size_layer_3': 256, 'dropout_rate': 0.1, 'balance_data': True, 'batch_size': 128, 'n_first_classes': [0, 1], 'cumulated_probs_target': 0.65, 'thresholds': [1.08, 1.04, 1.02, 1.005], 'epochs': 3}\n",
      "step: 7/160\n",
      "need to create ./outputs/classifier_transformed_data.pkl\n",
      "saved new ./outputs/classifier_transformed_data.pkl\n",
      "Number of elements in y_train: 330646\n",
      "Number of elements in y_test: 100000\n",
      "need to create ./outputs/classifier_model.keras\n"
     ]
    },
    {
     "name": "stderr",
     "output_type": "stream",
     "text": [
      "/Users/alexis/.pyenv/versions/3.11.8/lib/python3.11/site-packages/keras/src/layers/core/dense.py:88: UserWarning: Do not pass an `input_shape`/`input_dim` argument to a layer. When using Sequential models, prefer using an `Input(shape)` object as the first layer in the model instead.\n",
      "  super().__init__(activity_regularizer=activity_regularizer, **kwargs)\n"
     ]
    },
    {
     "name": "stdout",
     "output_type": "stream",
     "text": [
      "Epoch 1/3\n",
      "\u001b[1m2584/2584\u001b[0m \u001b[32m━━━━━━━━━━━━━━━━━━━━\u001b[0m\u001b[37m\u001b[0m \u001b[1m9s\u001b[0m 2ms/step - accuracy: 0.5429 - loss: 3.2631 - val_accuracy: 0.5822 - val_loss: 1.0296\n",
      "Epoch 2/3\n",
      "\u001b[1m2584/2584\u001b[0m \u001b[32m━━━━━━━━━━━━━━━━━━━━\u001b[0m\u001b[37m\u001b[0m \u001b[1m6s\u001b[0m 2ms/step - accuracy: 0.6203 - loss: 2.5173 - val_accuracy: 0.5809 - val_loss: 1.0456\n",
      "Epoch 3/3\n",
      "\u001b[1m2584/2584\u001b[0m \u001b[32m━━━━━━━━━━━━━━━━━━━━\u001b[0m\u001b[37m\u001b[0m \u001b[1m5s\u001b[0m 2ms/step - accuracy: 0.6341 - loss: 2.4679 - val_accuracy: 0.5957 - val_loss: 1.0190\n",
      "\u001b[1m3125/3125\u001b[0m \u001b[32m━━━━━━━━━━━━━━━━━━━━\u001b[0m\u001b[37m\u001b[0m \u001b[1m1s\u001b[0m 406us/step\n",
      "market cumulative % per class: [0.00623 0.04168 0.15006 0.49872 1.     ]\n",
      "{'performance_score': 372.4259561024242, 'trimmed_average_profit': 1.0200299597746858, 'average_profit': 1.0205068947581588, 'median_profit': 1.0358483033932135, 'prediction_is_buy_count': 995, 'loss_limit_reached_pct': 0.10251256281407035, 'market_rate': 0.04168, 'tp': 797, 'tn': 95634, 'fp': 198, 'fn': 3371, 'winning_rate': 0.8010050251256281, 'winning_rate_vs_market': 0.759325025125628, 'buying_time': 'Close', 'selling_time': 'Open', 'target_future_days': 1, 'loss_limit': 0.93, 'sell_at_target': True, 'size_layer_1': 128, 'size_layer_2': 128, 'size_layer_3': 256, 'dropout_rate': 0.1, 'balance_data': True, 'batch_size': 128, 'n_first_classes': [0, 1], 'cumulated_probs_target': 0.75, 'thresholds': [1.08, 1.04, 1.02, 1.005], 'epochs': 3}\n",
      "step: 8/160\n",
      "need to create ./outputs/classifier_transformed_data.pkl\n",
      "saved new ./outputs/classifier_transformed_data.pkl\n",
      "Number of elements in y_train: 330646\n",
      "Number of elements in y_test: 100000\n",
      "need to create ./outputs/classifier_model.keras\n",
      "Epoch 1/3\n"
     ]
    },
    {
     "name": "stderr",
     "output_type": "stream",
     "text": [
      "/Users/alexis/.pyenv/versions/3.11.8/lib/python3.11/site-packages/keras/src/layers/core/dense.py:88: UserWarning: Do not pass an `input_shape`/`input_dim` argument to a layer. When using Sequential models, prefer using an `Input(shape)` object as the first layer in the model instead.\n",
      "  super().__init__(activity_regularizer=activity_regularizer, **kwargs)\n"
     ]
    },
    {
     "name": "stdout",
     "output_type": "stream",
     "text": [
      "\u001b[1m2584/2584\u001b[0m \u001b[32m━━━━━━━━━━━━━━━━━━━━\u001b[0m\u001b[37m\u001b[0m \u001b[1m8s\u001b[0m 2ms/step - accuracy: 0.5462 - loss: 3.1540 - val_accuracy: 0.6117 - val_loss: 0.9783\n",
      "Epoch 2/3\n",
      "\u001b[1m2584/2584\u001b[0m \u001b[32m━━━━━━━━━━━━━━━━━━━━\u001b[0m\u001b[37m\u001b[0m \u001b[1m5s\u001b[0m 2ms/step - accuracy: 0.6244 - loss: 2.5415 - val_accuracy: 0.6072 - val_loss: 0.9782\n",
      "Epoch 3/3\n",
      "\u001b[1m2584/2584\u001b[0m \u001b[32m━━━━━━━━━━━━━━━━━━━━\u001b[0m\u001b[37m\u001b[0m \u001b[1m6s\u001b[0m 2ms/step - accuracy: 0.6304 - loss: 2.4855 - val_accuracy: 0.5966 - val_loss: 1.0231\n",
      "\u001b[1m3125/3125\u001b[0m \u001b[32m━━━━━━━━━━━━━━━━━━━━\u001b[0m\u001b[37m\u001b[0m \u001b[1m1s\u001b[0m 414us/step\n",
      "market cumulative % per class: [0.00623 0.04168 0.15006 0.49872 1.     ]\n",
      "{'performance_score': 363.89172801250754, 'trimmed_average_profit': 1.015311665806518, 'average_profit': 1.0159377828061122, 'median_profit': 1.0358483033932135, 'prediction_is_buy_count': 656, 'loss_limit_reached_pct': 0.14786585365853658, 'market_rate': 0.04168, 'tp': 502, 'tn': 95678, 'fp': 154, 'fn': 3666, 'winning_rate': 0.7652439024390244, 'winning_rate_vs_market': 0.7235639024390244, 'buying_time': 'Close', 'selling_time': 'Open', 'target_future_days': 1, 'loss_limit': 0.93, 'sell_at_target': True, 'size_layer_1': 128, 'size_layer_2': 128, 'size_layer_3': 256, 'dropout_rate': 0.1, 'balance_data': True, 'batch_size': 128, 'n_first_classes': [0, 1], 'cumulated_probs_target': 0.85, 'thresholds': [1.08, 1.04, 1.02, 1.005], 'epochs': 3}\n",
      "step: 9/160\n",
      "need to create ./outputs/classifier_transformed_data.pkl\n",
      "saved new ./outputs/classifier_transformed_data.pkl\n",
      "Number of elements in y_train: 330646\n",
      "Number of elements in y_test: 100000\n",
      "need to create ./outputs/classifier_model.keras\n",
      "Epoch 1/3\n"
     ]
    },
    {
     "name": "stderr",
     "output_type": "stream",
     "text": [
      "/Users/alexis/.pyenv/versions/3.11.8/lib/python3.11/site-packages/keras/src/layers/core/dense.py:88: UserWarning: Do not pass an `input_shape`/`input_dim` argument to a layer. When using Sequential models, prefer using an `Input(shape)` object as the first layer in the model instead.\n",
      "  super().__init__(activity_regularizer=activity_regularizer, **kwargs)\n"
     ]
    },
    {
     "name": "stdout",
     "output_type": "stream",
     "text": [
      "\u001b[1m2584/2584\u001b[0m \u001b[32m━━━━━━━━━━━━━━━━━━━━\u001b[0m\u001b[37m\u001b[0m \u001b[1m5s\u001b[0m 2ms/step - accuracy: 0.5409 - loss: 3.2730 - val_accuracy: 0.6069 - val_loss: 1.0007\n",
      "Epoch 2/3\n",
      "\u001b[1m2584/2584\u001b[0m \u001b[32m━━━━━━━━━━━━━━━━━━━━\u001b[0m\u001b[37m\u001b[0m \u001b[1m4s\u001b[0m 2ms/step - accuracy: 0.6236 - loss: 2.5602 - val_accuracy: 0.5599 - val_loss: 1.0759\n",
      "Epoch 3/3\n",
      "\u001b[1m2584/2584\u001b[0m \u001b[32m━━━━━━━━━━━━━━━━━━━━\u001b[0m\u001b[37m\u001b[0m \u001b[1m3s\u001b[0m 1ms/step - accuracy: 0.6288 - loss: 2.4980 - val_accuracy: 0.6101 - val_loss: 1.0156\n",
      "\u001b[1m3125/3125\u001b[0m \u001b[32m━━━━━━━━━━━━━━━━━━━━\u001b[0m\u001b[37m\u001b[0m \u001b[1m1s\u001b[0m 278us/step\n",
      "market cumulative % per class: [0.00623 0.04168 0.15006 0.49872 1.     ]\n",
      "{'performance_score': 363.0608031124725, 'trimmed_average_profit': 1.0148475610718373, 'average_profit': 1.0166395138002184, 'median_profit': 1.0112841801060455, 'prediction_is_buy_count': 713, 'loss_limit_reached_pct': 0.22861150070126227, 'market_rate': 0.00623, 'tp': 329, 'tn': 98993, 'fp': 384, 'fn': 294, 'winning_rate': 0.46143057503506313, 'winning_rate_vs_market': 0.4552005750350631, 'buying_time': 'Close', 'selling_time': 'Open', 'target_future_days': 1, 'loss_limit': 0.93, 'sell_at_target': True, 'size_layer_1': 128, 'size_layer_2': 128, 'size_layer_3': 256, 'dropout_rate': 0.15, 'balance_data': True, 'batch_size': 128, 'n_first_classes': [0, 0], 'cumulated_probs_target': 0.55, 'thresholds': [1.08, 1.04, 1.02, 1.005], 'epochs': 3}\n",
      "step: 10/160\n",
      "need to create ./outputs/classifier_transformed_data.pkl\n",
      "saved new ./outputs/classifier_transformed_data.pkl\n",
      "Number of elements in y_train: 330646\n",
      "Number of elements in y_test: 100000\n",
      "need to create ./outputs/classifier_model.keras\n",
      "Epoch 1/3\n"
     ]
    },
    {
     "name": "stderr",
     "output_type": "stream",
     "text": [
      "/Users/alexis/.pyenv/versions/3.11.8/lib/python3.11/site-packages/keras/src/layers/core/dense.py:88: UserWarning: Do not pass an `input_shape`/`input_dim` argument to a layer. When using Sequential models, prefer using an `Input(shape)` object as the first layer in the model instead.\n",
      "  super().__init__(activity_regularizer=activity_regularizer, **kwargs)\n"
     ]
    },
    {
     "name": "stdout",
     "output_type": "stream",
     "text": [
      "\u001b[1m2584/2584\u001b[0m \u001b[32m━━━━━━━━━━━━━━━━━━━━\u001b[0m\u001b[37m\u001b[0m \u001b[1m4s\u001b[0m 1ms/step - accuracy: 0.5301 - loss: 3.2823 - val_accuracy: 0.6122 - val_loss: 0.9858\n",
      "Epoch 2/3\n",
      "\u001b[1m2584/2584\u001b[0m \u001b[32m━━━━━━━━━━━━━━━━━━━━\u001b[0m\u001b[37m\u001b[0m \u001b[1m3s\u001b[0m 1ms/step - accuracy: 0.6214 - loss: 2.5552 - val_accuracy: 0.5908 - val_loss: 1.0332\n",
      "Epoch 3/3\n",
      "\u001b[1m2584/2584\u001b[0m \u001b[32m━━━━━━━━━━━━━━━━━━━━\u001b[0m\u001b[37m\u001b[0m \u001b[1m3s\u001b[0m 1ms/step - accuracy: 0.6300 - loss: 2.4747 - val_accuracy: 0.6374 - val_loss: 0.9364\n",
      "\u001b[1m3125/3125\u001b[0m \u001b[32m━━━━━━━━━━━━━━━━━━━━\u001b[0m\u001b[37m\u001b[0m \u001b[1m1s\u001b[0m 260us/step\n",
      "market cumulative % per class: [0.00623 0.04168 0.15006 0.49872 1.     ]\n",
      "{'performance_score': 381.63309109103125, 'trimmed_average_profit': 1.0250242606073798, 'average_profit': 1.0265712640317193, 'median_profit': 1.075688622754491, 'prediction_is_buy_count': 393, 'loss_limit_reached_pct': 0.22391857506361323, 'market_rate': 0.00623, 'tp': 223, 'tn': 99207, 'fp': 170, 'fn': 400, 'winning_rate': 0.5674300254452926, 'winning_rate_vs_market': 0.5612000254452927, 'buying_time': 'Close', 'selling_time': 'Open', 'target_future_days': 1, 'loss_limit': 0.93, 'sell_at_target': True, 'size_layer_1': 128, 'size_layer_2': 128, 'size_layer_3': 256, 'dropout_rate': 0.15, 'balance_data': True, 'batch_size': 128, 'n_first_classes': [0, 0], 'cumulated_probs_target': 0.65, 'thresholds': [1.08, 1.04, 1.02, 1.005], 'epochs': 3}\n",
      "step: 11/160\n",
      "need to create ./outputs/classifier_transformed_data.pkl\n",
      "saved new ./outputs/classifier_transformed_data.pkl\n",
      "Number of elements in y_train: 330646\n",
      "Number of elements in y_test: 100000\n",
      "need to create ./outputs/classifier_model.keras\n",
      "Epoch 1/3\n"
     ]
    },
    {
     "name": "stderr",
     "output_type": "stream",
     "text": [
      "/Users/alexis/.pyenv/versions/3.11.8/lib/python3.11/site-packages/keras/src/layers/core/dense.py:88: UserWarning: Do not pass an `input_shape`/`input_dim` argument to a layer. When using Sequential models, prefer using an `Input(shape)` object as the first layer in the model instead.\n",
      "  super().__init__(activity_regularizer=activity_regularizer, **kwargs)\n"
     ]
    },
    {
     "name": "stdout",
     "output_type": "stream",
     "text": [
      "\u001b[1m2584/2584\u001b[0m \u001b[32m━━━━━━━━━━━━━━━━━━━━\u001b[0m\u001b[37m\u001b[0m \u001b[1m5s\u001b[0m 2ms/step - accuracy: 0.5321 - loss: 3.2981 - val_accuracy: 0.5880 - val_loss: 1.0104\n",
      "Epoch 2/3\n",
      "\u001b[1m2584/2584\u001b[0m \u001b[32m━━━━━━━━━━━━━━━━━━━━\u001b[0m\u001b[37m\u001b[0m \u001b[1m4s\u001b[0m 1ms/step - accuracy: 0.6195 - loss: 2.5615 - val_accuracy: 0.6283 - val_loss: 0.9584\n",
      "Epoch 3/3\n",
      "\u001b[1m2584/2584\u001b[0m \u001b[32m━━━━━━━━━━━━━━━━━━━━\u001b[0m\u001b[37m\u001b[0m \u001b[1m4s\u001b[0m 1ms/step - accuracy: 0.6285 - loss: 2.4845 - val_accuracy: 0.6161 - val_loss: 0.9866\n",
      "\u001b[1m3125/3125\u001b[0m \u001b[32m━━━━━━━━━━━━━━━━━━━━\u001b[0m\u001b[37m\u001b[0m \u001b[1m1s\u001b[0m 273us/step\n",
      "market cumulative % per class: [0.00623 0.04168 0.15006 0.49872 1.     ]\n",
      "{'performance_score': 387.5446706563646, 'trimmed_average_profit': 1.0281803351502405, 'average_profit': 1.0296027389707272, 'median_profit': 1.075688622754491, 'prediction_is_buy_count': 501, 'loss_limit_reached_pct': 0.15568862275449102, 'market_rate': 0.00623, 'tp': 276, 'tn': 99152, 'fp': 225, 'fn': 347, 'winning_rate': 0.5508982035928144, 'winning_rate_vs_market': 0.5446682035928144, 'buying_time': 'Close', 'selling_time': 'Open', 'target_future_days': 1, 'loss_limit': 0.93, 'sell_at_target': True, 'size_layer_1': 128, 'size_layer_2': 128, 'size_layer_3': 256, 'dropout_rate': 0.15, 'balance_data': True, 'batch_size': 128, 'n_first_classes': [0, 0], 'cumulated_probs_target': 0.75, 'thresholds': [1.08, 1.04, 1.02, 1.005], 'epochs': 3}\n",
      "step: 12/160\n",
      "need to create ./outputs/classifier_transformed_data.pkl\n",
      "saved new ./outputs/classifier_transformed_data.pkl\n",
      "Number of elements in y_train: 330646\n",
      "Number of elements in y_test: 100000\n",
      "need to create ./outputs/classifier_model.keras\n",
      "Epoch 1/3\n"
     ]
    },
    {
     "name": "stderr",
     "output_type": "stream",
     "text": [
      "/Users/alexis/.pyenv/versions/3.11.8/lib/python3.11/site-packages/keras/src/layers/core/dense.py:88: UserWarning: Do not pass an `input_shape`/`input_dim` argument to a layer. When using Sequential models, prefer using an `Input(shape)` object as the first layer in the model instead.\n",
      "  super().__init__(activity_regularizer=activity_regularizer, **kwargs)\n"
     ]
    },
    {
     "name": "stdout",
     "output_type": "stream",
     "text": [
      "\u001b[1m2584/2584\u001b[0m \u001b[32m━━━━━━━━━━━━━━━━━━━━\u001b[0m\u001b[37m\u001b[0m \u001b[1m4s\u001b[0m 1ms/step - accuracy: 0.5327 - loss: 3.2568 - val_accuracy: 0.6260 - val_loss: 0.9440\n",
      "Epoch 2/3\n",
      "\u001b[1m2584/2584\u001b[0m \u001b[32m━━━━━━━━━━━━━━━━━━━━\u001b[0m\u001b[37m\u001b[0m \u001b[1m3s\u001b[0m 1ms/step - accuracy: 0.6201 - loss: 2.5775 - val_accuracy: 0.6105 - val_loss: 0.9991\n",
      "Epoch 3/3\n",
      "\u001b[1m2584/2584\u001b[0m \u001b[32m━━━━━━━━━━━━━━━━━━━━\u001b[0m\u001b[37m\u001b[0m \u001b[1m3s\u001b[0m 1ms/step - accuracy: 0.6303 - loss: 2.5446 - val_accuracy: 0.6329 - val_loss: 0.9461\n",
      "\u001b[1m3125/3125\u001b[0m \u001b[32m━━━━━━━━━━━━━━━━━━━━\u001b[0m\u001b[37m\u001b[0m \u001b[1m1s\u001b[0m 260us/step\n",
      "market cumulative % per class: [0.00623 0.04168 0.15006 0.49872 1.     ]\n",
      "{'performance_score': 310.6310637587135, 'trimmed_average_profit': 1.038633562024588, 'average_profit': 1.0397870269500327, 'median_profit': 1.075688622754491, 'prediction_is_buy_count': 257, 'loss_limit_reached_pct': 0.1245136186770428, 'market_rate': 0.00623, 'tp': 171, 'tn': 99291, 'fp': 86, 'fn': 452, 'winning_rate': 0.6653696498054474, 'winning_rate_vs_market': 0.6591396498054475, 'buying_time': 'Close', 'selling_time': 'Open', 'target_future_days': 1, 'loss_limit': 0.93, 'sell_at_target': True, 'size_layer_1': 128, 'size_layer_2': 128, 'size_layer_3': 256, 'dropout_rate': 0.15, 'balance_data': True, 'batch_size': 128, 'n_first_classes': [0, 0], 'cumulated_probs_target': 0.85, 'thresholds': [1.08, 1.04, 1.02, 1.005], 'epochs': 3}\n",
      "step: 13/160\n",
      "need to create ./outputs/classifier_transformed_data.pkl\n",
      "saved new ./outputs/classifier_transformed_data.pkl\n",
      "Number of elements in y_train: 330646\n",
      "Number of elements in y_test: 100000\n",
      "need to create ./outputs/classifier_model.keras\n",
      "Epoch 1/3\n"
     ]
    },
    {
     "name": "stderr",
     "output_type": "stream",
     "text": [
      "/Users/alexis/.pyenv/versions/3.11.8/lib/python3.11/site-packages/keras/src/layers/core/dense.py:88: UserWarning: Do not pass an `input_shape`/`input_dim` argument to a layer. When using Sequential models, prefer using an `Input(shape)` object as the first layer in the model instead.\n",
      "  super().__init__(activity_regularizer=activity_regularizer, **kwargs)\n"
     ]
    },
    {
     "name": "stdout",
     "output_type": "stream",
     "text": [
      "\u001b[1m2584/2584\u001b[0m \u001b[32m━━━━━━━━━━━━━━━━━━━━\u001b[0m\u001b[37m\u001b[0m \u001b[1m4s\u001b[0m 1ms/step - accuracy: 0.5189 - loss: 3.3777 - val_accuracy: 0.5744 - val_loss: 1.0479\n",
      "Epoch 2/3\n",
      "\u001b[1m2584/2584\u001b[0m \u001b[32m━━━━━━━━━━━━━━━━━━━━\u001b[0m\u001b[37m\u001b[0m \u001b[1m3s\u001b[0m 1ms/step - accuracy: 0.6144 - loss: 2.6241 - val_accuracy: 0.6084 - val_loss: 0.9805\n",
      "Epoch 3/3\n",
      "\u001b[1m2584/2584\u001b[0m \u001b[32m━━━━━━━━━━━━━━━━━━━━\u001b[0m\u001b[37m\u001b[0m \u001b[1m3s\u001b[0m 1ms/step - accuracy: 0.6317 - loss: 2.4826 - val_accuracy: 0.6319 - val_loss: 0.9304\n",
      "\u001b[1m3125/3125\u001b[0m \u001b[32m━━━━━━━━━━━━━━━━━━━━\u001b[0m\u001b[37m\u001b[0m \u001b[1m1s\u001b[0m 259us/step\n",
      "market cumulative % per class: [0.00623 0.04168 0.15006 0.49872 1.     ]\n",
      "{'performance_score': 358.00862968672834, 'trimmed_average_profit': 1.0120072845077783, 'average_profit': 1.012714824423088, 'median_profit': 1.0358483033932135, 'prediction_is_buy_count': 775, 'loss_limit_reached_pct': 0.16903225806451613, 'market_rate': 0.04168, 'tp': 553, 'tn': 95610, 'fp': 222, 'fn': 3615, 'winning_rate': 0.7135483870967742, 'winning_rate_vs_market': 0.6718683870967741, 'buying_time': 'Close', 'selling_time': 'Open', 'target_future_days': 1, 'loss_limit': 0.93, 'sell_at_target': True, 'size_layer_1': 128, 'size_layer_2': 128, 'size_layer_3': 256, 'dropout_rate': 0.15, 'balance_data': True, 'batch_size': 128, 'n_first_classes': [0, 1], 'cumulated_probs_target': 0.55, 'thresholds': [1.08, 1.04, 1.02, 1.005], 'epochs': 3}\n",
      "step: 14/160\n",
      "need to create ./outputs/classifier_transformed_data.pkl\n",
      "saved new ./outputs/classifier_transformed_data.pkl\n",
      "Number of elements in y_train: 330646\n",
      "Number of elements in y_test: 100000\n",
      "need to create ./outputs/classifier_model.keras\n",
      "Epoch 1/3\n"
     ]
    },
    {
     "name": "stderr",
     "output_type": "stream",
     "text": [
      "/Users/alexis/.pyenv/versions/3.11.8/lib/python3.11/site-packages/keras/src/layers/core/dense.py:88: UserWarning: Do not pass an `input_shape`/`input_dim` argument to a layer. When using Sequential models, prefer using an `Input(shape)` object as the first layer in the model instead.\n",
      "  super().__init__(activity_regularizer=activity_regularizer, **kwargs)\n"
     ]
    },
    {
     "name": "stdout",
     "output_type": "stream",
     "text": [
      "\u001b[1m2584/2584\u001b[0m \u001b[32m━━━━━━━━━━━━━━━━━━━━\u001b[0m\u001b[37m\u001b[0m \u001b[1m5s\u001b[0m 1ms/step - accuracy: 0.5214 - loss: 3.4248 - val_accuracy: 0.6137 - val_loss: 0.9925\n",
      "Epoch 2/3\n",
      "\u001b[1m2584/2584\u001b[0m \u001b[32m━━━━━━━━━━━━━━━━━━━━\u001b[0m\u001b[37m\u001b[0m \u001b[1m4s\u001b[0m 2ms/step - accuracy: 0.6179 - loss: 2.5929 - val_accuracy: 0.6196 - val_loss: 0.9423\n",
      "Epoch 3/3\n",
      "\u001b[1m2584/2584\u001b[0m \u001b[32m━━━━━━━━━━━━━━━━━━━━\u001b[0m\u001b[37m\u001b[0m \u001b[1m4s\u001b[0m 2ms/step - accuracy: 0.6281 - loss: 2.5177 - val_accuracy: 0.6153 - val_loss: 0.9753\n",
      "\u001b[1m3125/3125\u001b[0m \u001b[32m━━━━━━━━━━━━━━━━━━━━\u001b[0m\u001b[37m\u001b[0m \u001b[1m1s\u001b[0m 264us/step\n",
      "market cumulative % per class: [0.00623 0.04168 0.15006 0.49872 1.     ]\n",
      "{'performance_score': 360.24198882250465, 'trimmed_average_profit': 1.0132667831338673, 'average_profit': 1.0139379122324845, 'median_profit': 1.0358483033932135, 'prediction_is_buy_count': 1144, 'loss_limit_reached_pct': 0.15384615384615385, 'market_rate': 0.04168, 'tp': 822, 'tn': 95510, 'fp': 322, 'fn': 3346, 'winning_rate': 0.7185314685314685, 'winning_rate_vs_market': 0.6768514685314685, 'buying_time': 'Close', 'selling_time': 'Open', 'target_future_days': 1, 'loss_limit': 0.93, 'sell_at_target': True, 'size_layer_1': 128, 'size_layer_2': 128, 'size_layer_3': 256, 'dropout_rate': 0.15, 'balance_data': True, 'batch_size': 128, 'n_first_classes': [0, 1], 'cumulated_probs_target': 0.65, 'thresholds': [1.08, 1.04, 1.02, 1.005], 'epochs': 3}\n",
      "step: 15/160\n",
      "need to create ./outputs/classifier_transformed_data.pkl\n",
      "saved new ./outputs/classifier_transformed_data.pkl\n",
      "Number of elements in y_train: 330646\n",
      "Number of elements in y_test: 100000\n",
      "need to create ./outputs/classifier_model.keras\n",
      "Epoch 1/3\n"
     ]
    },
    {
     "name": "stderr",
     "output_type": "stream",
     "text": [
      "/Users/alexis/.pyenv/versions/3.11.8/lib/python3.11/site-packages/keras/src/layers/core/dense.py:88: UserWarning: Do not pass an `input_shape`/`input_dim` argument to a layer. When using Sequential models, prefer using an `Input(shape)` object as the first layer in the model instead.\n",
      "  super().__init__(activity_regularizer=activity_regularizer, **kwargs)\n"
     ]
    },
    {
     "name": "stdout",
     "output_type": "stream",
     "text": [
      "\u001b[1m2584/2584\u001b[0m \u001b[32m━━━━━━━━━━━━━━━━━━━━\u001b[0m\u001b[37m\u001b[0m \u001b[1m4s\u001b[0m 1ms/step - accuracy: 0.5283 - loss: 3.3507 - val_accuracy: 0.5973 - val_loss: 0.9873\n",
      "Epoch 2/3\n",
      "\u001b[1m2584/2584\u001b[0m \u001b[32m━━━━━━━━━━━━━━━━━━━━\u001b[0m\u001b[37m\u001b[0m \u001b[1m3s\u001b[0m 1ms/step - accuracy: 0.6190 - loss: 2.5980 - val_accuracy: 0.6263 - val_loss: 0.9708\n",
      "Epoch 3/3\n",
      "\u001b[1m2584/2584\u001b[0m \u001b[32m━━━━━━━━━━━━━━━━━━━━\u001b[0m\u001b[37m\u001b[0m \u001b[1m3s\u001b[0m 1ms/step - accuracy: 0.6260 - loss: 2.5145 - val_accuracy: 0.6225 - val_loss: 0.9613\n",
      "\u001b[1m3125/3125\u001b[0m \u001b[32m━━━━━━━━━━━━━━━━━━━━\u001b[0m\u001b[37m\u001b[0m \u001b[1m1s\u001b[0m 274us/step\n",
      "market cumulative % per class: [0.00623 0.04168 0.15006 0.49872 1.     ]\n",
      "{'performance_score': 364.0124082591799, 'trimmed_average_profit': 1.0153790000172775, 'average_profit': 1.0159842751171038, 'median_profit': 1.0358483033932135, 'prediction_is_buy_count': 744, 'loss_limit_reached_pct': 0.14650537634408603, 'market_rate': 0.04168, 'tp': 562, 'tn': 95650, 'fp': 182, 'fn': 3606, 'winning_rate': 0.7553763440860215, 'winning_rate_vs_market': 0.7136963440860215, 'buying_time': 'Close', 'selling_time': 'Open', 'target_future_days': 1, 'loss_limit': 0.93, 'sell_at_target': True, 'size_layer_1': 128, 'size_layer_2': 128, 'size_layer_3': 256, 'dropout_rate': 0.15, 'balance_data': True, 'batch_size': 128, 'n_first_classes': [0, 1], 'cumulated_probs_target': 0.75, 'thresholds': [1.08, 1.04, 1.02, 1.005], 'epochs': 3}\n",
      "step: 16/160\n",
      "need to create ./outputs/classifier_transformed_data.pkl\n",
      "saved new ./outputs/classifier_transformed_data.pkl\n",
      "Number of elements in y_train: 330646\n",
      "Number of elements in y_test: 100000\n",
      "need to create ./outputs/classifier_model.keras\n",
      "Epoch 1/3\n"
     ]
    },
    {
     "name": "stderr",
     "output_type": "stream",
     "text": [
      "/Users/alexis/.pyenv/versions/3.11.8/lib/python3.11/site-packages/keras/src/layers/core/dense.py:88: UserWarning: Do not pass an `input_shape`/`input_dim` argument to a layer. When using Sequential models, prefer using an `Input(shape)` object as the first layer in the model instead.\n",
      "  super().__init__(activity_regularizer=activity_regularizer, **kwargs)\n"
     ]
    },
    {
     "name": "stdout",
     "output_type": "stream",
     "text": [
      "\u001b[1m2584/2584\u001b[0m \u001b[32m━━━━━━━━━━━━━━━━━━━━\u001b[0m\u001b[37m\u001b[0m \u001b[1m5s\u001b[0m 2ms/step - accuracy: 0.5303 - loss: 3.3461 - val_accuracy: 0.6115 - val_loss: 0.9751\n",
      "Epoch 2/3\n",
      "\u001b[1m2584/2584\u001b[0m \u001b[32m━━━━━━━━━━━━━━━━━━━━\u001b[0m\u001b[37m\u001b[0m \u001b[1m3s\u001b[0m 1ms/step - accuracy: 0.6198 - loss: 2.5478 - val_accuracy: 0.6109 - val_loss: 0.9943\n",
      "Epoch 3/3\n",
      "\u001b[1m2584/2584\u001b[0m \u001b[32m━━━━━━━━━━━━━━━━━━━━\u001b[0m\u001b[37m\u001b[0m \u001b[1m3s\u001b[0m 1ms/step - accuracy: 0.6332 - loss: 2.4984 - val_accuracy: 0.6031 - val_loss: 0.9946\n",
      "\u001b[1m3125/3125\u001b[0m \u001b[32m━━━━━━━━━━━━━━━━━━━━\u001b[0m\u001b[37m\u001b[0m \u001b[1m1s\u001b[0m 266us/step\n",
      "market cumulative % per class: [0.00623 0.04168 0.15006 0.49872 1.     ]\n",
      "{'performance_score': 347.54894043804677, 'trimmed_average_profit': 1.006023517730276, 'average_profit': 1.006900717308598, 'median_profit': 1.0358483033932135, 'prediction_is_buy_count': 544, 'loss_limit_reached_pct': 0.23161764705882354, 'market_rate': 0.04168, 'tp': 372, 'tn': 95660, 'fp': 172, 'fn': 3796, 'winning_rate': 0.6838235294117647, 'winning_rate_vs_market': 0.6421435294117647, 'buying_time': 'Close', 'selling_time': 'Open', 'target_future_days': 1, 'loss_limit': 0.93, 'sell_at_target': True, 'size_layer_1': 128, 'size_layer_2': 128, 'size_layer_3': 256, 'dropout_rate': 0.15, 'balance_data': True, 'batch_size': 128, 'n_first_classes': [0, 1], 'cumulated_probs_target': 0.85, 'thresholds': [1.08, 1.04, 1.02, 1.005], 'epochs': 3}\n",
      "step: 17/160\n",
      "need to create ./outputs/classifier_transformed_data.pkl\n",
      "saved new ./outputs/classifier_transformed_data.pkl\n",
      "Number of elements in y_train: 330646\n",
      "Number of elements in y_test: 100000\n",
      "need to create ./outputs/classifier_model.keras\n",
      "Epoch 1/3\n"
     ]
    },
    {
     "name": "stderr",
     "output_type": "stream",
     "text": [
      "/Users/alexis/.pyenv/versions/3.11.8/lib/python3.11/site-packages/keras/src/layers/core/dense.py:88: UserWarning: Do not pass an `input_shape`/`input_dim` argument to a layer. When using Sequential models, prefer using an `Input(shape)` object as the first layer in the model instead.\n",
      "  super().__init__(activity_regularizer=activity_regularizer, **kwargs)\n"
     ]
    },
    {
     "name": "stdout",
     "output_type": "stream",
     "text": [
      "\u001b[1m2584/2584\u001b[0m \u001b[32m━━━━━━━━━━━━━━━━━━━━\u001b[0m\u001b[37m\u001b[0m \u001b[1m4s\u001b[0m 1ms/step - accuracy: 0.5181 - loss: 3.3981 - val_accuracy: 0.5638 - val_loss: 1.0670\n",
      "Epoch 2/3\n",
      "\u001b[1m2584/2584\u001b[0m \u001b[32m━━━━━━━━━━━━━━━━━━━━\u001b[0m\u001b[37m\u001b[0m \u001b[1m4s\u001b[0m 1ms/step - accuracy: 0.6159 - loss: 2.5970 - val_accuracy: 0.6081 - val_loss: 0.9856\n",
      "Epoch 3/3\n",
      "\u001b[1m2584/2584\u001b[0m \u001b[32m━━━━━━━━━━━━━━━━━━━━\u001b[0m\u001b[37m\u001b[0m \u001b[1m3s\u001b[0m 1ms/step - accuracy: 0.6249 - loss: 2.5501 - val_accuracy: 0.6067 - val_loss: 0.9978\n",
      "\u001b[1m3125/3125\u001b[0m \u001b[32m━━━━━━━━━━━━━━━━━━━━\u001b[0m\u001b[37m\u001b[0m \u001b[1m1s\u001b[0m 263us/step\n",
      "market cumulative % per class: [0.00623 0.04168 0.15006 0.49872 1.     ]\n",
      "{'performance_score': 356.208950552624, 'trimmed_average_profit': 1.010987777427766, 'average_profit': 1.0128965510945769, 'median_profit': 1.0038313084747814, 'prediction_is_buy_count': 983, 'loss_limit_reached_pct': 0.21464903357070192, 'market_rate': 0.00623, 'tp': 385, 'tn': 98779, 'fp': 598, 'fn': 238, 'winning_rate': 0.3916581892166836, 'winning_rate_vs_market': 0.3854281892166836, 'buying_time': 'Close', 'selling_time': 'Open', 'target_future_days': 1, 'loss_limit': 0.93, 'sell_at_target': True, 'size_layer_1': 128, 'size_layer_2': 128, 'size_layer_3': 256, 'dropout_rate': 0.2, 'balance_data': True, 'batch_size': 128, 'n_first_classes': [0, 0], 'cumulated_probs_target': 0.55, 'thresholds': [1.08, 1.04, 1.02, 1.005], 'epochs': 3}\n",
      "step: 18/160\n",
      "need to create ./outputs/classifier_transformed_data.pkl\n",
      "saved new ./outputs/classifier_transformed_data.pkl\n",
      "Number of elements in y_train: 330646\n",
      "Number of elements in y_test: 100000\n",
      "need to create ./outputs/classifier_model.keras\n",
      "Epoch 1/3\n"
     ]
    },
    {
     "name": "stderr",
     "output_type": "stream",
     "text": [
      "/Users/alexis/.pyenv/versions/3.11.8/lib/python3.11/site-packages/keras/src/layers/core/dense.py:88: UserWarning: Do not pass an `input_shape`/`input_dim` argument to a layer. When using Sequential models, prefer using an `Input(shape)` object as the first layer in the model instead.\n",
      "  super().__init__(activity_regularizer=activity_regularizer, **kwargs)\n"
     ]
    },
    {
     "name": "stdout",
     "output_type": "stream",
     "text": [
      "\u001b[1m2584/2584\u001b[0m \u001b[32m━━━━━━━━━━━━━━━━━━━━\u001b[0m\u001b[37m\u001b[0m \u001b[1m4s\u001b[0m 1ms/step - accuracy: 0.5277 - loss: 3.3849 - val_accuracy: 0.5901 - val_loss: 1.0232\n",
      "Epoch 2/3\n",
      "\u001b[1m2584/2584\u001b[0m \u001b[32m━━━━━━━━━━━━━━━━━━━━\u001b[0m\u001b[37m\u001b[0m \u001b[1m4s\u001b[0m 1ms/step - accuracy: 0.6151 - loss: 2.5921 - val_accuracy: 0.6317 - val_loss: 0.9594\n",
      "Epoch 3/3\n",
      "\u001b[1m2584/2584\u001b[0m \u001b[32m━━━━━━━━━━━━━━━━━━━━\u001b[0m\u001b[37m\u001b[0m \u001b[1m3s\u001b[0m 1ms/step - accuracy: 0.6301 - loss: 2.5109 - val_accuracy: 0.5907 - val_loss: 1.0226\n",
      "\u001b[1m3125/3125\u001b[0m \u001b[32m━━━━━━━━━━━━━━━━━━━━\u001b[0m\u001b[37m\u001b[0m \u001b[1m1s\u001b[0m 261us/step\n",
      "market cumulative % per class: [0.00623 0.04168 0.15006 0.49872 1.     ]\n",
      "{'performance_score': 360.8407744730214, 'trimmed_average_profit': 1.0136034049791494, 'average_profit': 1.0154749121991138, 'median_profit': 1.0114671053690734, 'prediction_is_buy_count': 763, 'loss_limit_reached_pct': 0.23722149410222804, 'market_rate': 0.00623, 'tp': 339, 'tn': 98953, 'fp': 424, 'fn': 284, 'winning_rate': 0.4442988204456094, 'winning_rate_vs_market': 0.4380688204456094, 'buying_time': 'Close', 'selling_time': 'Open', 'target_future_days': 1, 'loss_limit': 0.93, 'sell_at_target': True, 'size_layer_1': 128, 'size_layer_2': 128, 'size_layer_3': 256, 'dropout_rate': 0.2, 'balance_data': True, 'batch_size': 128, 'n_first_classes': [0, 0], 'cumulated_probs_target': 0.65, 'thresholds': [1.08, 1.04, 1.02, 1.005], 'epochs': 3}\n",
      "step: 19/160\n",
      "need to create ./outputs/classifier_transformed_data.pkl\n",
      "saved new ./outputs/classifier_transformed_data.pkl\n",
      "Number of elements in y_train: 330646\n",
      "Number of elements in y_test: 100000\n",
      "need to create ./outputs/classifier_model.keras\n",
      "Epoch 1/3\n"
     ]
    },
    {
     "name": "stderr",
     "output_type": "stream",
     "text": [
      "/Users/alexis/.pyenv/versions/3.11.8/lib/python3.11/site-packages/keras/src/layers/core/dense.py:88: UserWarning: Do not pass an `input_shape`/`input_dim` argument to a layer. When using Sequential models, prefer using an `Input(shape)` object as the first layer in the model instead.\n",
      "  super().__init__(activity_regularizer=activity_regularizer, **kwargs)\n"
     ]
    },
    {
     "name": "stdout",
     "output_type": "stream",
     "text": [
      "\u001b[1m2584/2584\u001b[0m \u001b[32m━━━━━━━━━━━━━━━━━━━━\u001b[0m\u001b[37m\u001b[0m \u001b[1m5s\u001b[0m 2ms/step - accuracy: 0.5221 - loss: 3.4141 - val_accuracy: 0.6029 - val_loss: 0.9850\n",
      "Epoch 2/3\n",
      "\u001b[1m2584/2584\u001b[0m \u001b[32m━━━━━━━━━━━━━━━━━━━━\u001b[0m\u001b[37m\u001b[0m \u001b[1m4s\u001b[0m 2ms/step - accuracy: 0.6132 - loss: 2.6016 - val_accuracy: 0.6163 - val_loss: 0.9933\n",
      "Epoch 3/3\n",
      "\u001b[1m2584/2584\u001b[0m \u001b[32m━━━━━━━━━━━━━━━━━━━━\u001b[0m\u001b[37m\u001b[0m \u001b[1m5s\u001b[0m 2ms/step - accuracy: 0.6285 - loss: 2.5156 - val_accuracy: 0.6113 - val_loss: 1.0035\n",
      "\u001b[1m3125/3125\u001b[0m \u001b[32m━━━━━━━━━━━━━━━━━━━━\u001b[0m\u001b[37m\u001b[0m \u001b[1m1s\u001b[0m 272us/step\n",
      "market cumulative % per class: [0.00623 0.04168 0.15006 0.49872 1.     ]\n",
      "{'performance_score': 361.0295697772895, 'trimmed_average_profit': 1.013709448164988, 'average_profit': 1.0155706846391475, 'median_profit': 1.0021521891282372, 'prediction_is_buy_count': 999, 'loss_limit_reached_pct': 0.14414414414414414, 'market_rate': 0.00623, 'tp': 371, 'tn': 98749, 'fp': 628, 'fn': 252, 'winning_rate': 0.3713713713713714, 'winning_rate_vs_market': 0.36514137137137137, 'buying_time': 'Close', 'selling_time': 'Open', 'target_future_days': 1, 'loss_limit': 0.93, 'sell_at_target': True, 'size_layer_1': 128, 'size_layer_2': 128, 'size_layer_3': 256, 'dropout_rate': 0.2, 'balance_data': True, 'batch_size': 128, 'n_first_classes': [0, 0], 'cumulated_probs_target': 0.75, 'thresholds': [1.08, 1.04, 1.02, 1.005], 'epochs': 3}\n",
      "step: 20/160\n",
      "need to create ./outputs/classifier_transformed_data.pkl\n",
      "saved new ./outputs/classifier_transformed_data.pkl\n",
      "Number of elements in y_train: 330646\n",
      "Number of elements in y_test: 100000\n",
      "need to create ./outputs/classifier_model.keras\n",
      "Epoch 1/3\n"
     ]
    },
    {
     "name": "stderr",
     "output_type": "stream",
     "text": [
      "/Users/alexis/.pyenv/versions/3.11.8/lib/python3.11/site-packages/keras/src/layers/core/dense.py:88: UserWarning: Do not pass an `input_shape`/`input_dim` argument to a layer. When using Sequential models, prefer using an `Input(shape)` object as the first layer in the model instead.\n",
      "  super().__init__(activity_regularizer=activity_regularizer, **kwargs)\n"
     ]
    },
    {
     "name": "stdout",
     "output_type": "stream",
     "text": [
      "\u001b[1m2584/2584\u001b[0m \u001b[32m━━━━━━━━━━━━━━━━━━━━\u001b[0m\u001b[37m\u001b[0m \u001b[1m5s\u001b[0m 2ms/step - accuracy: 0.5179 - loss: 3.4934 - val_accuracy: 0.6184 - val_loss: 0.9500\n",
      "Epoch 2/3\n",
      "\u001b[1m2584/2584\u001b[0m \u001b[32m━━━━━━━━━━━━━━━━━━━━\u001b[0m\u001b[37m\u001b[0m \u001b[1m4s\u001b[0m 2ms/step - accuracy: 0.6146 - loss: 2.5953 - val_accuracy: 0.6242 - val_loss: 0.9285\n",
      "Epoch 3/3\n",
      "\u001b[1m2584/2584\u001b[0m \u001b[32m━━━━━━━━━━━━━━━━━━━━\u001b[0m\u001b[37m\u001b[0m \u001b[1m5s\u001b[0m 2ms/step - accuracy: 0.6303 - loss: 2.5098 - val_accuracy: 0.5771 - val_loss: 1.0364\n",
      "\u001b[1m3125/3125\u001b[0m \u001b[32m━━━━━━━━━━━━━━━━━━━━\u001b[0m\u001b[37m\u001b[0m \u001b[1m1s\u001b[0m 261us/step\n",
      "market cumulative % per class: [0.00623 0.04168 0.15006 0.49872 1.     ]\n",
      "{'performance_score': 370.8375940537999, 'trimmed_average_profit': 1.0191584050909004, 'average_profit': 1.020845874274888, 'median_profit': 1.0065102939070825, 'prediction_is_buy_count': 1072, 'loss_limit_reached_pct': 0.11100746268656717, 'market_rate': 0.00623, 'tp': 430, 'tn': 98735, 'fp': 642, 'fn': 193, 'winning_rate': 0.40111940298507465, 'winning_rate_vs_market': 0.39488940298507463, 'buying_time': 'Close', 'selling_time': 'Open', 'target_future_days': 1, 'loss_limit': 0.93, 'sell_at_target': True, 'size_layer_1': 128, 'size_layer_2': 128, 'size_layer_3': 256, 'dropout_rate': 0.2, 'balance_data': True, 'batch_size': 128, 'n_first_classes': [0, 0], 'cumulated_probs_target': 0.85, 'thresholds': [1.08, 1.04, 1.02, 1.005], 'epochs': 3}\n",
      "step: 21/160\n",
      "need to create ./outputs/classifier_transformed_data.pkl\n",
      "saved new ./outputs/classifier_transformed_data.pkl\n",
      "Number of elements in y_train: 330646\n",
      "Number of elements in y_test: 100000\n",
      "need to create ./outputs/classifier_model.keras\n",
      "Epoch 1/3\n"
     ]
    },
    {
     "name": "stderr",
     "output_type": "stream",
     "text": [
      "/Users/alexis/.pyenv/versions/3.11.8/lib/python3.11/site-packages/keras/src/layers/core/dense.py:88: UserWarning: Do not pass an `input_shape`/`input_dim` argument to a layer. When using Sequential models, prefer using an `Input(shape)` object as the first layer in the model instead.\n",
      "  super().__init__(activity_regularizer=activity_regularizer, **kwargs)\n"
     ]
    },
    {
     "name": "stdout",
     "output_type": "stream",
     "text": [
      "\u001b[1m2584/2584\u001b[0m \u001b[32m━━━━━━━━━━━━━━━━━━━━\u001b[0m\u001b[37m\u001b[0m \u001b[1m4s\u001b[0m 1ms/step - accuracy: 0.5228 - loss: 3.4540 - val_accuracy: 0.5846 - val_loss: 1.0311\n",
      "Epoch 2/3\n",
      "\u001b[1m2584/2584\u001b[0m \u001b[32m━━━━━━━━━━━━━━━━━━━━\u001b[0m\u001b[37m\u001b[0m \u001b[1m3s\u001b[0m 1ms/step - accuracy: 0.6140 - loss: 2.6017 - val_accuracy: 0.5732 - val_loss: 1.0457\n",
      "Epoch 3/3\n",
      "\u001b[1m2584/2584\u001b[0m \u001b[32m━━━━━━━━━━━━━━━━━━━━\u001b[0m\u001b[37m\u001b[0m \u001b[1m3s\u001b[0m 1ms/step - accuracy: 0.6239 - loss: 2.5630 - val_accuracy: 0.6138 - val_loss: 0.9799\n",
      "\u001b[1m3125/3125\u001b[0m \u001b[32m━━━━━━━━━━━━━━━━━━━━\u001b[0m\u001b[37m\u001b[0m \u001b[1m1s\u001b[0m 262us/step\n",
      "market cumulative % per class: [0.00623 0.04168 0.15006 0.49872 1.     ]\n",
      "{'performance_score': 347.90250911820067, 'trimmed_average_profit': 1.0062281241672786, 'average_profit': 1.0071033279855888, 'median_profit': 1.0358483033932135, 'prediction_is_buy_count': 1083, 'loss_limit_reached_pct': 0.21606648199445982, 'market_rate': 0.04168, 'tp': 712, 'tn': 95461, 'fp': 371, 'fn': 3456, 'winning_rate': 0.6574330563250231, 'winning_rate_vs_market': 0.6157530563250231, 'buying_time': 'Close', 'selling_time': 'Open', 'target_future_days': 1, 'loss_limit': 0.93, 'sell_at_target': True, 'size_layer_1': 128, 'size_layer_2': 128, 'size_layer_3': 256, 'dropout_rate': 0.2, 'balance_data': True, 'batch_size': 128, 'n_first_classes': [0, 1], 'cumulated_probs_target': 0.55, 'thresholds': [1.08, 1.04, 1.02, 1.005], 'epochs': 3}\n",
      "step: 22/160\n",
      "need to create ./outputs/classifier_transformed_data.pkl\n",
      "saved new ./outputs/classifier_transformed_data.pkl\n",
      "Number of elements in y_train: 330646\n",
      "Number of elements in y_test: 100000\n",
      "need to create ./outputs/classifier_model.keras\n",
      "Epoch 1/3\n"
     ]
    },
    {
     "name": "stderr",
     "output_type": "stream",
     "text": [
      "/Users/alexis/.pyenv/versions/3.11.8/lib/python3.11/site-packages/keras/src/layers/core/dense.py:88: UserWarning: Do not pass an `input_shape`/`input_dim` argument to a layer. When using Sequential models, prefer using an `Input(shape)` object as the first layer in the model instead.\n",
      "  super().__init__(activity_regularizer=activity_regularizer, **kwargs)\n"
     ]
    },
    {
     "name": "stdout",
     "output_type": "stream",
     "text": [
      "\u001b[1m2584/2584\u001b[0m \u001b[32m━━━━━━━━━━━━━━━━━━━━\u001b[0m\u001b[37m\u001b[0m \u001b[1m5s\u001b[0m 2ms/step - accuracy: 0.5228 - loss: 3.3137 - val_accuracy: 0.5832 - val_loss: 1.0168\n",
      "Epoch 2/3\n",
      "\u001b[1m2584/2584\u001b[0m \u001b[32m━━━━━━━━━━━━━━━━━━━━\u001b[0m\u001b[37m\u001b[0m \u001b[1m4s\u001b[0m 1ms/step - accuracy: 0.6125 - loss: 2.5626 - val_accuracy: 0.5994 - val_loss: 0.9907\n",
      "Epoch 3/3\n",
      "\u001b[1m2584/2584\u001b[0m \u001b[32m━━━━━━━━━━━━━━━━━━━━\u001b[0m\u001b[37m\u001b[0m \u001b[1m4s\u001b[0m 1ms/step - accuracy: 0.6286 - loss: 2.4758 - val_accuracy: 0.5833 - val_loss: 1.0396\n",
      "\u001b[1m3125/3125\u001b[0m \u001b[32m━━━━━━━━━━━━━━━━━━━━\u001b[0m\u001b[37m\u001b[0m \u001b[1m1s\u001b[0m 262us/step\n",
      "market cumulative % per class: [0.00623 0.04168 0.15006 0.49872 1.     ]\n",
      "{'performance_score': 343.30517223199575, 'trimmed_average_profit': 1.003554606689835, 'average_profit': 1.0045270000929478, 'median_profit': 1.0358483033932135, 'prediction_is_buy_count': 1893, 'loss_limit_reached_pct': 0.19228737453777073, 'market_rate': 0.04168, 'tp': 1032, 'tn': 94971, 'fp': 861, 'fn': 3136, 'winning_rate': 0.5451664025356577, 'winning_rate_vs_market': 0.5034864025356577, 'buying_time': 'Close', 'selling_time': 'Open', 'target_future_days': 1, 'loss_limit': 0.93, 'sell_at_target': True, 'size_layer_1': 128, 'size_layer_2': 128, 'size_layer_3': 256, 'dropout_rate': 0.2, 'balance_data': True, 'batch_size': 128, 'n_first_classes': [0, 1], 'cumulated_probs_target': 0.65, 'thresholds': [1.08, 1.04, 1.02, 1.005], 'epochs': 3}\n",
      "step: 23/160\n",
      "need to create ./outputs/classifier_transformed_data.pkl\n",
      "saved new ./outputs/classifier_transformed_data.pkl\n",
      "Number of elements in y_train: 330646\n",
      "Number of elements in y_test: 100000\n",
      "need to create ./outputs/classifier_model.keras\n",
      "Epoch 1/3\n"
     ]
    },
    {
     "name": "stderr",
     "output_type": "stream",
     "text": [
      "/Users/alexis/.pyenv/versions/3.11.8/lib/python3.11/site-packages/keras/src/layers/core/dense.py:88: UserWarning: Do not pass an `input_shape`/`input_dim` argument to a layer. When using Sequential models, prefer using an `Input(shape)` object as the first layer in the model instead.\n",
      "  super().__init__(activity_regularizer=activity_regularizer, **kwargs)\n"
     ]
    },
    {
     "name": "stdout",
     "output_type": "stream",
     "text": [
      "\u001b[1m2584/2584\u001b[0m \u001b[32m━━━━━━━━━━━━━━━━━━━━\u001b[0m\u001b[37m\u001b[0m \u001b[1m4s\u001b[0m 1ms/step - accuracy: 0.5140 - loss: 3.4763 - val_accuracy: 0.5989 - val_loss: 0.9840\n",
      "Epoch 2/3\n",
      "\u001b[1m2584/2584\u001b[0m \u001b[32m━━━━━━━━━━━━━━━━━━━━\u001b[0m\u001b[37m\u001b[0m \u001b[1m4s\u001b[0m 1ms/step - accuracy: 0.6146 - loss: 2.5817 - val_accuracy: 0.6111 - val_loss: 0.9781\n",
      "Epoch 3/3\n",
      "\u001b[1m2584/2584\u001b[0m \u001b[32m━━━━━━━━━━━━━━━━━━━━\u001b[0m\u001b[37m\u001b[0m \u001b[1m4s\u001b[0m 1ms/step - accuracy: 0.6316 - loss: 2.4487 - val_accuracy: 0.5658 - val_loss: 1.0809\n",
      "\u001b[1m3125/3125\u001b[0m \u001b[32m━━━━━━━━━━━━━━━━━━━━\u001b[0m\u001b[37m\u001b[0m \u001b[1m1s\u001b[0m 265us/step\n",
      "market cumulative % per class: [0.00623 0.04168 0.15006 0.49872 1.     ]\n",
      "{'performance_score': 355.5483073929788, 'trimmed_average_profit': 1.0106124930893083, 'average_profit': 1.0113813752313208, 'median_profit': 1.0358483033932135, 'prediction_is_buy_count': 919, 'loss_limit_reached_pct': 0.176278563656148, 'market_rate': 0.04168, 'tp': 640, 'tn': 95553, 'fp': 279, 'fn': 3528, 'winning_rate': 0.6964091403699674, 'winning_rate_vs_market': 0.6547291403699673, 'buying_time': 'Close', 'selling_time': 'Open', 'target_future_days': 1, 'loss_limit': 0.93, 'sell_at_target': True, 'size_layer_1': 128, 'size_layer_2': 128, 'size_layer_3': 256, 'dropout_rate': 0.2, 'balance_data': True, 'batch_size': 128, 'n_first_classes': [0, 1], 'cumulated_probs_target': 0.75, 'thresholds': [1.08, 1.04, 1.02, 1.005], 'epochs': 3}\n",
      "step: 24/160\n",
      "need to create ./outputs/classifier_transformed_data.pkl\n",
      "saved new ./outputs/classifier_transformed_data.pkl\n",
      "Number of elements in y_train: 330646\n",
      "Number of elements in y_test: 100000\n",
      "need to create ./outputs/classifier_model.keras\n",
      "Epoch 1/3\n"
     ]
    },
    {
     "name": "stderr",
     "output_type": "stream",
     "text": [
      "/Users/alexis/.pyenv/versions/3.11.8/lib/python3.11/site-packages/keras/src/layers/core/dense.py:88: UserWarning: Do not pass an `input_shape`/`input_dim` argument to a layer. When using Sequential models, prefer using an `Input(shape)` object as the first layer in the model instead.\n",
      "  super().__init__(activity_regularizer=activity_regularizer, **kwargs)\n"
     ]
    },
    {
     "name": "stdout",
     "output_type": "stream",
     "text": [
      "\u001b[1m2584/2584\u001b[0m \u001b[32m━━━━━━━━━━━━━━━━━━━━\u001b[0m\u001b[37m\u001b[0m \u001b[1m5s\u001b[0m 2ms/step - accuracy: 0.5185 - loss: 3.4283 - val_accuracy: 0.6001 - val_loss: 0.9988\n",
      "Epoch 2/3\n",
      "\u001b[1m2584/2584\u001b[0m \u001b[32m━━━━━━━━━━━━━━━━━━━━\u001b[0m\u001b[37m\u001b[0m \u001b[1m5s\u001b[0m 2ms/step - accuracy: 0.6146 - loss: 2.5827 - val_accuracy: 0.6099 - val_loss: 0.9752\n",
      "Epoch 3/3\n",
      "\u001b[1m2584/2584\u001b[0m \u001b[32m━━━━━━━━━━━━━━━━━━━━\u001b[0m\u001b[37m\u001b[0m \u001b[1m4s\u001b[0m 1ms/step - accuracy: 0.6271 - loss: 2.5228 - val_accuracy: 0.6250 - val_loss: 0.9667\n",
      "\u001b[1m3125/3125\u001b[0m \u001b[32m━━━━━━━━━━━━━━━━━━━━\u001b[0m\u001b[37m\u001b[0m \u001b[1m1s\u001b[0m 261us/step\n",
      "market cumulative % per class: [0.00623 0.04168 0.15006 0.49872 1.     ]\n",
      "{'performance_score': 290.06580275137287, 'trimmed_average_profit': 1.0078095409154333, 'average_profit': 1.0086135197678427, 'median_profit': 1.0358483033932135, 'prediction_is_buy_count': 279, 'loss_limit_reached_pct': 0.22580645161290322, 'market_rate': 0.04168, 'tp': 198, 'tn': 95751, 'fp': 81, 'fn': 3970, 'winning_rate': 0.7096774193548387, 'winning_rate_vs_market': 0.6679974193548387, 'buying_time': 'Close', 'selling_time': 'Open', 'target_future_days': 1, 'loss_limit': 0.93, 'sell_at_target': True, 'size_layer_1': 128, 'size_layer_2': 128, 'size_layer_3': 256, 'dropout_rate': 0.2, 'balance_data': True, 'batch_size': 128, 'n_first_classes': [0, 1], 'cumulated_probs_target': 0.85, 'thresholds': [1.08, 1.04, 1.02, 1.005], 'epochs': 3}\n",
      "step: 25/160\n",
      "need to create ./outputs/classifier_transformed_data.pkl\n",
      "saved new ./outputs/classifier_transformed_data.pkl\n",
      "Number of elements in y_train: 330646\n",
      "Number of elements in y_test: 100000\n",
      "need to create ./outputs/classifier_model.keras\n",
      "Epoch 1/3\n"
     ]
    },
    {
     "name": "stderr",
     "output_type": "stream",
     "text": [
      "/Users/alexis/.pyenv/versions/3.11.8/lib/python3.11/site-packages/keras/src/layers/core/dense.py:88: UserWarning: Do not pass an `input_shape`/`input_dim` argument to a layer. When using Sequential models, prefer using an `Input(shape)` object as the first layer in the model instead.\n",
      "  super().__init__(activity_regularizer=activity_regularizer, **kwargs)\n"
     ]
    },
    {
     "name": "stdout",
     "output_type": "stream",
     "text": [
      "\u001b[1m2584/2584\u001b[0m \u001b[32m━━━━━━━━━━━━━━━━━━━━\u001b[0m\u001b[37m\u001b[0m \u001b[1m4s\u001b[0m 1ms/step - accuracy: 0.5033 - loss: 3.5831 - val_accuracy: 0.6125 - val_loss: 0.9664\n",
      "Epoch 2/3\n",
      "\u001b[1m2584/2584\u001b[0m \u001b[32m━━━━━━━━━━━━━━━━━━━━\u001b[0m\u001b[37m\u001b[0m \u001b[1m3s\u001b[0m 1ms/step - accuracy: 0.6156 - loss: 2.6056 - val_accuracy: 0.5990 - val_loss: 1.0193\n",
      "Epoch 3/3\n",
      "\u001b[1m2584/2584\u001b[0m \u001b[32m━━━━━━━━━━━━━━━━━━━━\u001b[0m\u001b[37m\u001b[0m \u001b[1m3s\u001b[0m 1ms/step - accuracy: 0.6247 - loss: 2.5144 - val_accuracy: 0.6111 - val_loss: 0.9832\n",
      "\u001b[1m3125/3125\u001b[0m \u001b[32m━━━━━━━━━━━━━━━━━━━━\u001b[0m\u001b[37m\u001b[0m \u001b[1m1s\u001b[0m 265us/step\n",
      "market cumulative % per class: [0.00623 0.04168 0.15006 0.49872 1.     ]\n",
      "{'performance_score': 380.82131892023216, 'trimmed_average_profit': 1.0245878230624887, 'average_profit': 1.0261035247482686, 'median_profit': 1.075688622754491, 'prediction_is_buy_count': 708, 'loss_limit_reached_pct': 0.1497175141242938, 'market_rate': 0.00623, 'tp': 356, 'tn': 99025, 'fp': 352, 'fn': 267, 'winning_rate': 0.5028248587570622, 'winning_rate_vs_market': 0.49659485875706216, 'buying_time': 'Close', 'selling_time': 'Open', 'target_future_days': 1, 'loss_limit': 0.93, 'sell_at_target': True, 'size_layer_1': 128, 'size_layer_2': 128, 'size_layer_3': 256, 'dropout_rate': 0.25, 'balance_data': True, 'batch_size': 128, 'n_first_classes': [0, 0], 'cumulated_probs_target': 0.55, 'thresholds': [1.08, 1.04, 1.02, 1.005], 'epochs': 3}\n",
      "step: 26/160\n",
      "need to create ./outputs/classifier_transformed_data.pkl\n",
      "saved new ./outputs/classifier_transformed_data.pkl\n",
      "Number of elements in y_train: 330646\n",
      "Number of elements in y_test: 100000\n",
      "need to create ./outputs/classifier_model.keras\n",
      "Epoch 1/3\n"
     ]
    },
    {
     "name": "stderr",
     "output_type": "stream",
     "text": [
      "/Users/alexis/.pyenv/versions/3.11.8/lib/python3.11/site-packages/keras/src/layers/core/dense.py:88: UserWarning: Do not pass an `input_shape`/`input_dim` argument to a layer. When using Sequential models, prefer using an `Input(shape)` object as the first layer in the model instead.\n",
      "  super().__init__(activity_regularizer=activity_regularizer, **kwargs)\n"
     ]
    },
    {
     "name": "stdout",
     "output_type": "stream",
     "text": [
      "\u001b[1m2584/2584\u001b[0m \u001b[32m━━━━━━━━━━━━━━━━━━━━\u001b[0m\u001b[37m\u001b[0m \u001b[1m4s\u001b[0m 1ms/step - accuracy: 0.5108 - loss: 3.4997 - val_accuracy: 0.5829 - val_loss: 1.0338\n",
      "Epoch 2/3\n",
      "\u001b[1m2584/2584\u001b[0m \u001b[32m━━━━━━━━━━━━━━━━━━━━\u001b[0m\u001b[37m\u001b[0m \u001b[1m4s\u001b[0m 1ms/step - accuracy: 0.6138 - loss: 2.5823 - val_accuracy: 0.6216 - val_loss: 0.9570\n",
      "Epoch 3/3\n",
      "\u001b[1m2584/2584\u001b[0m \u001b[32m━━━━━━━━━━━━━━━━━━━━\u001b[0m\u001b[37m\u001b[0m \u001b[1m4s\u001b[0m 1ms/step - accuracy: 0.6256 - loss: 2.5681 - val_accuracy: 0.6225 - val_loss: 0.9504\n",
      "\u001b[1m3125/3125\u001b[0m \u001b[32m━━━━━━━━━━━━━━━━━━━━\u001b[0m\u001b[37m\u001b[0m \u001b[1m1s\u001b[0m 265us/step\n",
      "market cumulative % per class: [0.00623 0.04168 0.15006 0.49872 1.     ]\n",
      "{'performance_score': 369.99953998602757, 'trimmed_average_profit': 1.0186973499072742, 'average_profit': 1.0204007005278635, 'median_profit': 1.0157818050638674, 'prediction_is_buy_count': 803, 'loss_limit_reached_pct': 0.18306351183063513, 'market_rate': 0.00623, 'tp': 371, 'tn': 98945, 'fp': 432, 'fn': 252, 'winning_rate': 0.46201743462017436, 'winning_rate_vs_market': 0.45578743462017435, 'buying_time': 'Close', 'selling_time': 'Open', 'target_future_days': 1, 'loss_limit': 0.93, 'sell_at_target': True, 'size_layer_1': 128, 'size_layer_2': 128, 'size_layer_3': 256, 'dropout_rate': 0.25, 'balance_data': True, 'batch_size': 128, 'n_first_classes': [0, 0], 'cumulated_probs_target': 0.65, 'thresholds': [1.08, 1.04, 1.02, 1.005], 'epochs': 3}\n",
      "step: 27/160\n",
      "need to create ./outputs/classifier_transformed_data.pkl\n",
      "saved new ./outputs/classifier_transformed_data.pkl\n",
      "Number of elements in y_train: 330646\n",
      "Number of elements in y_test: 100000\n",
      "need to create ./outputs/classifier_model.keras\n",
      "Epoch 1/3\n"
     ]
    },
    {
     "name": "stderr",
     "output_type": "stream",
     "text": [
      "/Users/alexis/.pyenv/versions/3.11.8/lib/python3.11/site-packages/keras/src/layers/core/dense.py:88: UserWarning: Do not pass an `input_shape`/`input_dim` argument to a layer. When using Sequential models, prefer using an `Input(shape)` object as the first layer in the model instead.\n",
      "  super().__init__(activity_regularizer=activity_regularizer, **kwargs)\n"
     ]
    },
    {
     "name": "stdout",
     "output_type": "stream",
     "text": [
      "\u001b[1m2584/2584\u001b[0m \u001b[32m━━━━━━━━━━━━━━━━━━━━\u001b[0m\u001b[37m\u001b[0m \u001b[1m4s\u001b[0m 1ms/step - accuracy: 0.5074 - loss: 3.6714 - val_accuracy: 0.6013 - val_loss: 0.9952\n",
      "Epoch 2/3\n",
      "\u001b[1m2584/2584\u001b[0m \u001b[32m━━━━━━━━━━━━━━━━━━━━\u001b[0m\u001b[37m\u001b[0m \u001b[1m4s\u001b[0m 2ms/step - accuracy: 0.6151 - loss: 2.6073 - val_accuracy: 0.5911 - val_loss: 1.0090\n",
      "Epoch 3/3\n",
      "\u001b[1m2584/2584\u001b[0m \u001b[32m━━━━━━━━━━━━━━━━━━━━\u001b[0m\u001b[37m\u001b[0m \u001b[1m4s\u001b[0m 2ms/step - accuracy: 0.6237 - loss: 2.5530 - val_accuracy: 0.6330 - val_loss: 0.9619\n",
      "\u001b[1m3125/3125\u001b[0m \u001b[32m━━━━━━━━━━━━━━━━━━━━\u001b[0m\u001b[37m\u001b[0m \u001b[1m1s\u001b[0m 268us/step\n",
      "market cumulative % per class: [0.00623 0.04168 0.15006 0.49872 1.     ]\n",
      "{'performance_score': 391.46903548892436, 'trimmed_average_profit': 1.030254268871192, 'average_profit': 1.0316269079613218, 'median_profit': 1.075688622754491, 'prediction_is_buy_count': 662, 'loss_limit_reached_pct': 0.1027190332326284, 'market_rate': 0.00623, 'tp': 354, 'tn': 99069, 'fp': 308, 'fn': 269, 'winning_rate': 0.5347432024169184, 'winning_rate_vs_market': 0.5285132024169185, 'buying_time': 'Close', 'selling_time': 'Open', 'target_future_days': 1, 'loss_limit': 0.93, 'sell_at_target': True, 'size_layer_1': 128, 'size_layer_2': 128, 'size_layer_3': 256, 'dropout_rate': 0.25, 'balance_data': True, 'batch_size': 128, 'n_first_classes': [0, 0], 'cumulated_probs_target': 0.75, 'thresholds': [1.08, 1.04, 1.02, 1.005], 'epochs': 3}\n",
      "step: 28/160\n",
      "need to create ./outputs/classifier_transformed_data.pkl\n",
      "saved new ./outputs/classifier_transformed_data.pkl\n",
      "Number of elements in y_train: 330646\n",
      "Number of elements in y_test: 100000\n",
      "need to create ./outputs/classifier_model.keras\n",
      "Epoch 1/3\n"
     ]
    },
    {
     "name": "stderr",
     "output_type": "stream",
     "text": [
      "/Users/alexis/.pyenv/versions/3.11.8/lib/python3.11/site-packages/keras/src/layers/core/dense.py:88: UserWarning: Do not pass an `input_shape`/`input_dim` argument to a layer. When using Sequential models, prefer using an `Input(shape)` object as the first layer in the model instead.\n",
      "  super().__init__(activity_regularizer=activity_regularizer, **kwargs)\n"
     ]
    },
    {
     "name": "stdout",
     "output_type": "stream",
     "text": [
      "\u001b[1m2584/2584\u001b[0m \u001b[32m━━━━━━━━━━━━━━━━━━━━\u001b[0m\u001b[37m\u001b[0m \u001b[1m4s\u001b[0m 1ms/step - accuracy: 0.5079 - loss: 3.5815 - val_accuracy: 0.6163 - val_loss: 0.9591\n",
      "Epoch 2/3\n",
      "\u001b[1m2584/2584\u001b[0m \u001b[32m━━━━━━━━━━━━━━━━━━━━\u001b[0m\u001b[37m\u001b[0m \u001b[1m4s\u001b[0m 1ms/step - accuracy: 0.6122 - loss: 2.5931 - val_accuracy: 0.6020 - val_loss: 0.9960\n",
      "Epoch 3/3\n",
      "\u001b[1m2584/2584\u001b[0m \u001b[32m━━━━━━━━━━━━━━━━━━━━\u001b[0m\u001b[37m\u001b[0m \u001b[1m4s\u001b[0m 1ms/step - accuracy: 0.6245 - loss: 2.5532 - val_accuracy: 0.5938 - val_loss: 1.0173\n",
      "\u001b[1m3125/3125\u001b[0m \u001b[32m━━━━━━━━━━━━━━━━━━━━\u001b[0m\u001b[37m\u001b[0m \u001b[1m1s\u001b[0m 265us/step\n",
      "market cumulative % per class: [0.00623 0.04168 0.15006 0.49872 1.     ]\n",
      "{'performance_score': 347.777897716551, 'trimmed_average_profit': 1.006156031864419, 'average_profit': 1.008295496199498, 'median_profit': 0.9973247629645285, 'prediction_is_buy_count': 520, 'loss_limit_reached_pct': 0.125, 'market_rate': 0.00623, 'tp': 141, 'tn': 98998, 'fp': 379, 'fn': 482, 'winning_rate': 0.27115384615384613, 'winning_rate_vs_market': 0.2649238461538461, 'buying_time': 'Close', 'selling_time': 'Open', 'target_future_days': 1, 'loss_limit': 0.93, 'sell_at_target': True, 'size_layer_1': 128, 'size_layer_2': 128, 'size_layer_3': 256, 'dropout_rate': 0.25, 'balance_data': True, 'batch_size': 128, 'n_first_classes': [0, 0], 'cumulated_probs_target': 0.85, 'thresholds': [1.08, 1.04, 1.02, 1.005], 'epochs': 3}\n",
      "step: 29/160\n",
      "need to create ./outputs/classifier_transformed_data.pkl\n",
      "saved new ./outputs/classifier_transformed_data.pkl\n",
      "Number of elements in y_train: 330646\n",
      "Number of elements in y_test: 100000\n",
      "need to create ./outputs/classifier_model.keras\n",
      "Epoch 1/3\n"
     ]
    },
    {
     "name": "stderr",
     "output_type": "stream",
     "text": [
      "/Users/alexis/.pyenv/versions/3.11.8/lib/python3.11/site-packages/keras/src/layers/core/dense.py:88: UserWarning: Do not pass an `input_shape`/`input_dim` argument to a layer. When using Sequential models, prefer using an `Input(shape)` object as the first layer in the model instead.\n",
      "  super().__init__(activity_regularizer=activity_regularizer, **kwargs)\n"
     ]
    },
    {
     "name": "stdout",
     "output_type": "stream",
     "text": [
      "\u001b[1m2584/2584\u001b[0m \u001b[32m━━━━━━━━━━━━━━━━━━━━\u001b[0m\u001b[37m\u001b[0m \u001b[1m4s\u001b[0m 1ms/step - accuracy: 0.4966 - loss: 3.5671 - val_accuracy: 0.5855 - val_loss: 1.0407\n",
      "Epoch 2/3\n",
      "\u001b[1m2584/2584\u001b[0m \u001b[32m━━━━━━━━━━━━━━━━━━━━\u001b[0m\u001b[37m\u001b[0m \u001b[1m4s\u001b[0m 1ms/step - accuracy: 0.6111 - loss: 2.5844 - val_accuracy: 0.5904 - val_loss: 1.0063\n",
      "Epoch 3/3\n",
      "\u001b[1m2584/2584\u001b[0m \u001b[32m━━━━━━━━━━━━━━━━━━━━\u001b[0m\u001b[37m\u001b[0m \u001b[1m3s\u001b[0m 1ms/step - accuracy: 0.6225 - loss: 2.5472 - val_accuracy: 0.6245 - val_loss: 0.9378\n",
      "\u001b[1m3125/3125\u001b[0m \u001b[32m━━━━━━━━━━━━━━━━━━━━\u001b[0m\u001b[37m\u001b[0m \u001b[1m1s\u001b[0m 263us/step\n",
      "market cumulative % per class: [0.00623 0.04168 0.15006 0.49872 1.     ]\n",
      "{'performance_score': 357.4423572408249, 'trimmed_average_profit': 1.0116869376139765, 'average_profit': 1.0124142028046559, 'median_profit': 1.0358483033932135, 'prediction_is_buy_count': 897, 'loss_limit_reached_pct': 0.1516164994425864, 'market_rate': 0.04168, 'tp': 603, 'tn': 95538, 'fp': 294, 'fn': 3565, 'winning_rate': 0.6722408026755853, 'winning_rate_vs_market': 0.6305608026755852, 'buying_time': 'Close', 'selling_time': 'Open', 'target_future_days': 1, 'loss_limit': 0.93, 'sell_at_target': True, 'size_layer_1': 128, 'size_layer_2': 128, 'size_layer_3': 256, 'dropout_rate': 0.25, 'balance_data': True, 'batch_size': 128, 'n_first_classes': [0, 1], 'cumulated_probs_target': 0.55, 'thresholds': [1.08, 1.04, 1.02, 1.005], 'epochs': 3}\n",
      "step: 30/160\n",
      "need to create ./outputs/classifier_transformed_data.pkl\n",
      "saved new ./outputs/classifier_transformed_data.pkl\n",
      "Number of elements in y_train: 330646\n",
      "Number of elements in y_test: 100000\n",
      "need to create ./outputs/classifier_model.keras\n",
      "Epoch 1/3\n"
     ]
    },
    {
     "name": "stderr",
     "output_type": "stream",
     "text": [
      "/Users/alexis/.pyenv/versions/3.11.8/lib/python3.11/site-packages/keras/src/layers/core/dense.py:88: UserWarning: Do not pass an `input_shape`/`input_dim` argument to a layer. When using Sequential models, prefer using an `Input(shape)` object as the first layer in the model instead.\n",
      "  super().__init__(activity_regularizer=activity_regularizer, **kwargs)\n"
     ]
    },
    {
     "name": "stdout",
     "output_type": "stream",
     "text": [
      "\u001b[1m2584/2584\u001b[0m \u001b[32m━━━━━━━━━━━━━━━━━━━━\u001b[0m\u001b[37m\u001b[0m \u001b[1m5s\u001b[0m 2ms/step - accuracy: 0.4948 - loss: 3.6605 - val_accuracy: 0.5723 - val_loss: 1.0223\n",
      "Epoch 2/3\n",
      "\u001b[1m2584/2584\u001b[0m \u001b[32m━━━━━━━━━━━━━━━━━━━━\u001b[0m\u001b[37m\u001b[0m \u001b[1m4s\u001b[0m 2ms/step - accuracy: 0.6125 - loss: 2.6211 - val_accuracy: 0.6188 - val_loss: 0.9537\n",
      "Epoch 3/3\n",
      "\u001b[1m2584/2584\u001b[0m \u001b[32m━━━━━━━━━━━━━━━━━━━━\u001b[0m\u001b[37m\u001b[0m \u001b[1m4s\u001b[0m 2ms/step - accuracy: 0.6207 - loss: 2.5880 - val_accuracy: 0.6030 - val_loss: 0.9962\n",
      "\u001b[1m3125/3125\u001b[0m \u001b[32m━━━━━━━━━━━━━━━━━━━━\u001b[0m\u001b[37m\u001b[0m \u001b[1m1s\u001b[0m 262us/step\n",
      "market cumulative % per class: [0.00623 0.04168 0.15006 0.49872 1.     ]\n",
      "{'performance_score': 350.4478086607523, 'trimmed_average_profit': 1.0076961731543472, 'average_profit': 1.008539597299155, 'median_profit': 1.0358483033932135, 'prediction_is_buy_count': 1235, 'loss_limit_reached_pct': 0.15789473684210525, 'market_rate': 0.04168, 'tp': 716, 'tn': 95313, 'fp': 519, 'fn': 3452, 'winning_rate': 0.5797570850202429, 'winning_rate_vs_market': 0.5380770850202429, 'buying_time': 'Close', 'selling_time': 'Open', 'target_future_days': 1, 'loss_limit': 0.93, 'sell_at_target': True, 'size_layer_1': 128, 'size_layer_2': 128, 'size_layer_3': 256, 'dropout_rate': 0.25, 'balance_data': True, 'batch_size': 128, 'n_first_classes': [0, 1], 'cumulated_probs_target': 0.65, 'thresholds': [1.08, 1.04, 1.02, 1.005], 'epochs': 3}\n",
      "step: 31/160\n",
      "need to create ./outputs/classifier_transformed_data.pkl\n",
      "saved new ./outputs/classifier_transformed_data.pkl\n",
      "Number of elements in y_train: 330646\n",
      "Number of elements in y_test: 100000\n",
      "need to create ./outputs/classifier_model.keras\n",
      "Epoch 1/3\n"
     ]
    },
    {
     "name": "stderr",
     "output_type": "stream",
     "text": [
      "/Users/alexis/.pyenv/versions/3.11.8/lib/python3.11/site-packages/keras/src/layers/core/dense.py:88: UserWarning: Do not pass an `input_shape`/`input_dim` argument to a layer. When using Sequential models, prefer using an `Input(shape)` object as the first layer in the model instead.\n",
      "  super().__init__(activity_regularizer=activity_regularizer, **kwargs)\n"
     ]
    },
    {
     "name": "stdout",
     "output_type": "stream",
     "text": [
      "\u001b[1m2584/2584\u001b[0m \u001b[32m━━━━━━━━━━━━━━━━━━━━\u001b[0m\u001b[37m\u001b[0m \u001b[1m4s\u001b[0m 1ms/step - accuracy: 0.5144 - loss: 3.4830 - val_accuracy: 0.5963 - val_loss: 1.0131\n",
      "Epoch 2/3\n",
      "\u001b[1m2584/2584\u001b[0m \u001b[32m━━━━━━━━━━━━━━━━━━━━\u001b[0m\u001b[37m\u001b[0m \u001b[1m4s\u001b[0m 1ms/step - accuracy: 0.6114 - loss: 2.5921 - val_accuracy: 0.6067 - val_loss: 0.9839\n",
      "Epoch 3/3\n",
      "\u001b[1m2584/2584\u001b[0m \u001b[32m━━━━━━━━━━━━━━━━━━━━\u001b[0m\u001b[37m\u001b[0m \u001b[1m4s\u001b[0m 2ms/step - accuracy: 0.6257 - loss: 2.5387 - val_accuracy: 0.6273 - val_loss: 0.9582\n",
      "\u001b[1m3125/3125\u001b[0m \u001b[32m━━━━━━━━━━━━━━━━━━━━\u001b[0m\u001b[37m\u001b[0m \u001b[1m1s\u001b[0m 282us/step\n",
      "market cumulative % per class: [0.00623 0.04168 0.15006 0.49872 1.     ]\n",
      "{'performance_score': 364.53326755657656, 'trimmed_average_profit': 1.0156694116295661, 'average_profit': 1.0162815114808397, 'median_profit': 1.0358483033932135, 'prediction_is_buy_count': 989, 'loss_limit_reached_pct': 0.13549039433771487, 'market_rate': 0.04168, 'tp': 739, 'tn': 95582, 'fp': 250, 'fn': 3429, 'winning_rate': 0.7472194135490394, 'winning_rate_vs_market': 0.7055394135490394, 'buying_time': 'Close', 'selling_time': 'Open', 'target_future_days': 1, 'loss_limit': 0.93, 'sell_at_target': True, 'size_layer_1': 128, 'size_layer_2': 128, 'size_layer_3': 256, 'dropout_rate': 0.25, 'balance_data': True, 'batch_size': 128, 'n_first_classes': [0, 1], 'cumulated_probs_target': 0.75, 'thresholds': [1.08, 1.04, 1.02, 1.005], 'epochs': 3}\n",
      "step: 32/160\n",
      "need to create ./outputs/classifier_transformed_data.pkl\n",
      "saved new ./outputs/classifier_transformed_data.pkl\n",
      "Number of elements in y_train: 330646\n",
      "Number of elements in y_test: 100000\n",
      "need to create ./outputs/classifier_model.keras\n",
      "Epoch 1/3\n"
     ]
    },
    {
     "name": "stderr",
     "output_type": "stream",
     "text": [
      "/Users/alexis/.pyenv/versions/3.11.8/lib/python3.11/site-packages/keras/src/layers/core/dense.py:88: UserWarning: Do not pass an `input_shape`/`input_dim` argument to a layer. When using Sequential models, prefer using an `Input(shape)` object as the first layer in the model instead.\n",
      "  super().__init__(activity_regularizer=activity_regularizer, **kwargs)\n"
     ]
    },
    {
     "name": "stdout",
     "output_type": "stream",
     "text": [
      "\u001b[1m2584/2584\u001b[0m \u001b[32m━━━━━━━━━━━━━━━━━━━━\u001b[0m\u001b[37m\u001b[0m \u001b[1m4s\u001b[0m 1ms/step - accuracy: 0.5059 - loss: 3.5595 - val_accuracy: 0.5974 - val_loss: 0.9837\n",
      "Epoch 2/3\n",
      "\u001b[1m2584/2584\u001b[0m \u001b[32m━━━━━━━━━━━━━━━━━━━━\u001b[0m\u001b[37m\u001b[0m \u001b[1m3s\u001b[0m 1ms/step - accuracy: 0.6134 - loss: 2.5991 - val_accuracy: 0.5875 - val_loss: 1.0134\n",
      "Epoch 3/3\n",
      "\u001b[1m2584/2584\u001b[0m \u001b[32m━━━━━━━━━━━━━━━━━━━━\u001b[0m\u001b[37m\u001b[0m \u001b[1m3s\u001b[0m 1ms/step - accuracy: 0.6256 - loss: 2.5419 - val_accuracy: 0.6179 - val_loss: 0.9952\n",
      "\u001b[1m3125/3125\u001b[0m \u001b[32m━━━━━━━━━━━━━━━━━━━━\u001b[0m\u001b[37m\u001b[0m \u001b[1m1s\u001b[0m 263us/step\n",
      "market cumulative % per class: [0.00623 0.04168 0.15006 0.49872 1.     ]\n",
      "{'performance_score': 348.1243830114354, 'trimmed_average_profit': 1.0063564352975645, 'average_profit': 1.0072691430142577, 'median_profit': 1.0358483033932135, 'prediction_is_buy_count': 517, 'loss_limit_reached_pct': 0.23210831721470018, 'market_rate': 0.04168, 'tp': 359, 'tn': 95674, 'fp': 158, 'fn': 3809, 'winning_rate': 0.6943907156673114, 'winning_rate_vs_market': 0.6527107156673113, 'buying_time': 'Close', 'selling_time': 'Open', 'target_future_days': 1, 'loss_limit': 0.93, 'sell_at_target': True, 'size_layer_1': 128, 'size_layer_2': 128, 'size_layer_3': 256, 'dropout_rate': 0.25, 'balance_data': True, 'batch_size': 128, 'n_first_classes': [0, 1], 'cumulated_probs_target': 0.85, 'thresholds': [1.08, 1.04, 1.02, 1.005], 'epochs': 3}\n",
      "step: 33/160\n",
      "need to create ./outputs/classifier_transformed_data.pkl\n",
      "saved new ./outputs/classifier_transformed_data.pkl\n",
      "Number of elements in y_train: 330646\n",
      "Number of elements in y_test: 100000\n",
      "need to create ./outputs/classifier_model.keras\n",
      "Epoch 1/3\n"
     ]
    },
    {
     "name": "stderr",
     "output_type": "stream",
     "text": [
      "/Users/alexis/.pyenv/versions/3.11.8/lib/python3.11/site-packages/keras/src/layers/core/dense.py:88: UserWarning: Do not pass an `input_shape`/`input_dim` argument to a layer. When using Sequential models, prefer using an `Input(shape)` object as the first layer in the model instead.\n",
      "  super().__init__(activity_regularizer=activity_regularizer, **kwargs)\n"
     ]
    },
    {
     "name": "stdout",
     "output_type": "stream",
     "text": [
      "\u001b[1m2584/2584\u001b[0m \u001b[32m━━━━━━━━━━━━━━━━━━━━\u001b[0m\u001b[37m\u001b[0m \u001b[1m4s\u001b[0m 1ms/step - accuracy: 0.5464 - loss: 3.2747 - val_accuracy: 0.6061 - val_loss: 1.0021\n",
      "Epoch 2/3\n",
      "\u001b[1m2584/2584\u001b[0m \u001b[32m━━━━━━━━━━━━━━━━━━━━\u001b[0m\u001b[37m\u001b[0m \u001b[1m3s\u001b[0m 1ms/step - accuracy: 0.6294 - loss: 2.5797 - val_accuracy: 0.6163 - val_loss: 1.0082\n",
      "Epoch 3/3\n",
      "\u001b[1m2584/2584\u001b[0m \u001b[32m━━━━━━━━━━━━━━━━━━━━\u001b[0m\u001b[37m\u001b[0m \u001b[1m3s\u001b[0m 1ms/step - accuracy: 0.6369 - loss: 2.5155 - val_accuracy: 0.6320 - val_loss: 0.9573\n",
      "\u001b[1m3125/3125\u001b[0m \u001b[32m━━━━━━━━━━━━━━━━━━━━\u001b[0m\u001b[37m\u001b[0m \u001b[1m1s\u001b[0m 261us/step\n",
      "market cumulative % per class: [0.00585 0.04065 0.14732 0.49063 1.     ]\n",
      "{'performance_score': 362.75668122845616, 'trimmed_average_profit': 1.0146774844262652, 'average_profit': 1.0165237637154274, 'median_profit': 1.0006375032140236, 'prediction_is_buy_count': 727, 'loss_limit_reached_pct': 0.19257221458046767, 'market_rate': 0.00585, 'tp': 277, 'tn': 98965, 'fp': 450, 'fn': 308, 'winning_rate': 0.3810178817056396, 'winning_rate_vs_market': 0.3751678817056396, 'buying_time': 'Close', 'selling_time': 'Open', 'target_future_days': 1, 'loss_limit': 0.95, 'sell_at_target': True, 'size_layer_1': 128, 'size_layer_2': 128, 'size_layer_3': 256, 'dropout_rate': 0.1, 'balance_data': True, 'batch_size': 128, 'n_first_classes': [0, 0], 'cumulated_probs_target': 0.55, 'thresholds': [1.08, 1.04, 1.02, 1.005], 'epochs': 3}\n",
      "step: 34/160\n",
      "need to create ./outputs/classifier_transformed_data.pkl\n",
      "saved new ./outputs/classifier_transformed_data.pkl\n",
      "Number of elements in y_train: 330646\n",
      "Number of elements in y_test: 100000\n",
      "need to create ./outputs/classifier_model.keras\n",
      "Epoch 1/3\n"
     ]
    },
    {
     "name": "stderr",
     "output_type": "stream",
     "text": [
      "/Users/alexis/.pyenv/versions/3.11.8/lib/python3.11/site-packages/keras/src/layers/core/dense.py:88: UserWarning: Do not pass an `input_shape`/`input_dim` argument to a layer. When using Sequential models, prefer using an `Input(shape)` object as the first layer in the model instead.\n",
      "  super().__init__(activity_regularizer=activity_regularizer, **kwargs)\n"
     ]
    },
    {
     "name": "stdout",
     "output_type": "stream",
     "text": [
      "\u001b[1m2584/2584\u001b[0m \u001b[32m━━━━━━━━━━━━━━━━━━━━\u001b[0m\u001b[37m\u001b[0m \u001b[1m5s\u001b[0m 1ms/step - accuracy: 0.5426 - loss: 3.1717 - val_accuracy: 0.6198 - val_loss: 0.9760\n",
      "Epoch 2/3\n",
      "\u001b[1m2584/2584\u001b[0m \u001b[32m━━━━━━━━━━━━━━━━━━━━\u001b[0m\u001b[37m\u001b[0m \u001b[1m4s\u001b[0m 1ms/step - accuracy: 0.6247 - loss: 2.5505 - val_accuracy: 0.5954 - val_loss: 1.0031\n",
      "Epoch 3/3\n",
      "\u001b[1m2584/2584\u001b[0m \u001b[32m━━━━━━━━━━━━━━━━━━━━\u001b[0m\u001b[37m\u001b[0m \u001b[1m4s\u001b[0m 1ms/step - accuracy: 0.6350 - loss: 2.5229 - val_accuracy: 0.6239 - val_loss: 0.9662\n",
      "\u001b[1m3125/3125\u001b[0m \u001b[32m━━━━━━━━━━━━━━━━━━━━\u001b[0m\u001b[37m\u001b[0m \u001b[1m1s\u001b[0m 262us/step\n",
      "market cumulative % per class: [0.00585 0.04065 0.14732 0.49063 1.     ]\n",
      "{'performance_score': 371.54349846220487, 'trimmed_average_profit': 1.0195461118729956, 'average_profit': 1.0212220077202045, 'median_profit': 1.0052277279700919, 'prediction_is_buy_count': 938, 'loss_limit_reached_pct': 0.1631130063965885, 'market_rate': 0.00585, 'tp': 393, 'tn': 98870, 'fp': 545, 'fn': 192, 'winning_rate': 0.4189765458422175, 'winning_rate_vs_market': 0.4131265458422175, 'buying_time': 'Close', 'selling_time': 'Open', 'target_future_days': 1, 'loss_limit': 0.95, 'sell_at_target': True, 'size_layer_1': 128, 'size_layer_2': 128, 'size_layer_3': 256, 'dropout_rate': 0.1, 'balance_data': True, 'batch_size': 128, 'n_first_classes': [0, 0], 'cumulated_probs_target': 0.65, 'thresholds': [1.08, 1.04, 1.02, 1.005], 'epochs': 3}\n",
      "step: 35/160\n",
      "need to create ./outputs/classifier_transformed_data.pkl\n",
      "saved new ./outputs/classifier_transformed_data.pkl\n",
      "Number of elements in y_train: 330646\n",
      "Number of elements in y_test: 100000\n",
      "need to create ./outputs/classifier_model.keras\n",
      "Epoch 1/3\n"
     ]
    },
    {
     "name": "stderr",
     "output_type": "stream",
     "text": [
      "/Users/alexis/.pyenv/versions/3.11.8/lib/python3.11/site-packages/keras/src/layers/core/dense.py:88: UserWarning: Do not pass an `input_shape`/`input_dim` argument to a layer. When using Sequential models, prefer using an `Input(shape)` object as the first layer in the model instead.\n",
      "  super().__init__(activity_regularizer=activity_regularizer, **kwargs)\n"
     ]
    },
    {
     "name": "stdout",
     "output_type": "stream",
     "text": [
      "\u001b[1m2584/2584\u001b[0m \u001b[32m━━━━━━━━━━━━━━━━━━━━\u001b[0m\u001b[37m\u001b[0m \u001b[1m4s\u001b[0m 1ms/step - accuracy: 0.5476 - loss: 3.3653 - val_accuracy: 0.6172 - val_loss: 0.9762\n",
      "Epoch 2/3\n",
      "\u001b[1m2584/2584\u001b[0m \u001b[32m━━━━━━━━━━━━━━━━━━━━\u001b[0m\u001b[37m\u001b[0m \u001b[1m3s\u001b[0m 1ms/step - accuracy: 0.6245 - loss: 2.5929 - val_accuracy: 0.6013 - val_loss: 1.0133\n",
      "Epoch 3/3\n",
      "\u001b[1m2584/2584\u001b[0m \u001b[32m━━━━━━━━━━━━━━━━━━━━\u001b[0m\u001b[37m\u001b[0m \u001b[1m3s\u001b[0m 1ms/step - accuracy: 0.6407 - loss: 2.4455 - val_accuracy: 0.6172 - val_loss: 0.9715\n",
      "\u001b[1m3125/3125\u001b[0m \u001b[32m━━━━━━━━━━━━━━━━━━━━\u001b[0m\u001b[37m\u001b[0m \u001b[1m1s\u001b[0m 262us/step\n",
      "market cumulative % per class: [0.00585 0.04065 0.14732 0.49063 1.     ]\n",
      "{'performance_score': 356.1622552308363, 'trimmed_average_profit': 1.010961270022421, 'average_profit': 1.0128599390358952, 'median_profit': 1.0038313084747814, 'prediction_is_buy_count': 375, 'loss_limit_reached_pct': 0.384, 'market_rate': 0.00585, 'tp': 169, 'tn': 99209, 'fp': 206, 'fn': 416, 'winning_rate': 0.45066666666666666, 'winning_rate_vs_market': 0.44481666666666664, 'buying_time': 'Close', 'selling_time': 'Open', 'target_future_days': 1, 'loss_limit': 0.95, 'sell_at_target': True, 'size_layer_1': 128, 'size_layer_2': 128, 'size_layer_3': 256, 'dropout_rate': 0.1, 'balance_data': True, 'batch_size': 128, 'n_first_classes': [0, 0], 'cumulated_probs_target': 0.75, 'thresholds': [1.08, 1.04, 1.02, 1.005], 'epochs': 3}\n",
      "step: 36/160\n",
      "need to create ./outputs/classifier_transformed_data.pkl\n",
      "saved new ./outputs/classifier_transformed_data.pkl\n",
      "Number of elements in y_train: 330646\n",
      "Number of elements in y_test: 100000\n",
      "need to create ./outputs/classifier_model.keras\n",
      "Epoch 1/3\n"
     ]
    },
    {
     "name": "stderr",
     "output_type": "stream",
     "text": [
      "/Users/alexis/.pyenv/versions/3.11.8/lib/python3.11/site-packages/keras/src/layers/core/dense.py:88: UserWarning: Do not pass an `input_shape`/`input_dim` argument to a layer. When using Sequential models, prefer using an `Input(shape)` object as the first layer in the model instead.\n",
      "  super().__init__(activity_regularizer=activity_regularizer, **kwargs)\n"
     ]
    },
    {
     "name": "stdout",
     "output_type": "stream",
     "text": [
      "\u001b[1m2584/2584\u001b[0m \u001b[32m━━━━━━━━━━━━━━━━━━━━\u001b[0m\u001b[37m\u001b[0m \u001b[1m4s\u001b[0m 1ms/step - accuracy: 0.5309 - loss: 3.2873 - val_accuracy: 0.6110 - val_loss: 0.9664\n",
      "Epoch 2/3\n",
      "\u001b[1m2584/2584\u001b[0m \u001b[32m━━━━━━━━━━━━━━━━━━━━\u001b[0m\u001b[37m\u001b[0m \u001b[1m3s\u001b[0m 1ms/step - accuracy: 0.6268 - loss: 2.5780 - val_accuracy: 0.6110 - val_loss: 1.0068\n",
      "Epoch 3/3\n",
      "\u001b[1m2584/2584\u001b[0m \u001b[32m━━━━━━━━━━━━━━━━━━━━\u001b[0m\u001b[37m\u001b[0m \u001b[1m4s\u001b[0m 1ms/step - accuracy: 0.6356 - loss: 2.5224 - val_accuracy: 0.6068 - val_loss: 1.0155\n",
      "\u001b[1m3125/3125\u001b[0m \u001b[32m━━━━━━━━━━━━━━━━━━━━\u001b[0m\u001b[37m\u001b[0m \u001b[1m1s\u001b[0m 274us/step\n",
      "market cumulative % per class: [0.00585 0.04065 0.14732 0.49063 1.     ]\n",
      "{'performance_score': 397.63524764718676, 'trimmed_average_profit': 1.0334796143404623, 'average_profit': 1.0347275328500944, 'median_profit': 1.075688622754491, 'prediction_is_buy_count': 575, 'loss_limit_reached_pct': 0.13217391304347825, 'market_rate': 0.00585, 'tp': 324, 'tn': 99164, 'fp': 251, 'fn': 261, 'winning_rate': 0.5634782608695652, 'winning_rate_vs_market': 0.5576282608695652, 'buying_time': 'Close', 'selling_time': 'Open', 'target_future_days': 1, 'loss_limit': 0.95, 'sell_at_target': True, 'size_layer_1': 128, 'size_layer_2': 128, 'size_layer_3': 256, 'dropout_rate': 0.1, 'balance_data': True, 'batch_size': 128, 'n_first_classes': [0, 0], 'cumulated_probs_target': 0.85, 'thresholds': [1.08, 1.04, 1.02, 1.005], 'epochs': 3}\n",
      "step: 37/160\n",
      "need to create ./outputs/classifier_transformed_data.pkl\n",
      "saved new ./outputs/classifier_transformed_data.pkl\n",
      "Number of elements in y_train: 330646\n",
      "Number of elements in y_test: 100000\n",
      "need to create ./outputs/classifier_model.keras\n",
      "Epoch 1/3\n"
     ]
    },
    {
     "name": "stderr",
     "output_type": "stream",
     "text": [
      "/Users/alexis/.pyenv/versions/3.11.8/lib/python3.11/site-packages/keras/src/layers/core/dense.py:88: UserWarning: Do not pass an `input_shape`/`input_dim` argument to a layer. When using Sequential models, prefer using an `Input(shape)` object as the first layer in the model instead.\n",
      "  super().__init__(activity_regularizer=activity_regularizer, **kwargs)\n"
     ]
    },
    {
     "name": "stdout",
     "output_type": "stream",
     "text": [
      "\u001b[1m2584/2584\u001b[0m \u001b[32m━━━━━━━━━━━━━━━━━━━━\u001b[0m\u001b[37m\u001b[0m \u001b[1m5s\u001b[0m 2ms/step - accuracy: 0.5427 - loss: 3.2836 - val_accuracy: 0.6028 - val_loss: 0.9968\n",
      "Epoch 2/3\n",
      "\u001b[1m2584/2584\u001b[0m \u001b[32m━━━━━━━━━━━━━━━━━━━━\u001b[0m\u001b[37m\u001b[0m \u001b[1m4s\u001b[0m 2ms/step - accuracy: 0.6244 - loss: 2.5551 - val_accuracy: 0.5986 - val_loss: 1.0020\n",
      "Epoch 3/3\n",
      "\u001b[1m2584/2584\u001b[0m \u001b[32m━━━━━━━━━━━━━━━━━━━━\u001b[0m\u001b[37m\u001b[0m \u001b[1m4s\u001b[0m 2ms/step - accuracy: 0.6383 - loss: 2.5126 - val_accuracy: 0.6240 - val_loss: 0.9615\n",
      "\u001b[1m3125/3125\u001b[0m \u001b[32m━━━━━━━━━━━━━━━━━━━━\u001b[0m\u001b[37m\u001b[0m \u001b[1m1s\u001b[0m 272us/step\n",
      "market cumulative % per class: [0.00585 0.04065 0.14732 0.49063 1.     ]\n",
      "{'performance_score': 359.5011829261321, 'trimmed_average_profit': 1.0128497011507263, 'average_profit': 1.0135466284914079, 'median_profit': 1.0358483033932135, 'prediction_is_buy_count': 825, 'loss_limit_reached_pct': 0.2096969696969697, 'market_rate': 0.04065, 'tp': 581, 'tn': 95691, 'fp': 244, 'fn': 3484, 'winning_rate': 0.7042424242424242, 'winning_rate_vs_market': 0.6635924242424243, 'buying_time': 'Close', 'selling_time': 'Open', 'target_future_days': 1, 'loss_limit': 0.95, 'sell_at_target': True, 'size_layer_1': 128, 'size_layer_2': 128, 'size_layer_3': 256, 'dropout_rate': 0.1, 'balance_data': True, 'batch_size': 128, 'n_first_classes': [0, 1], 'cumulated_probs_target': 0.55, 'thresholds': [1.08, 1.04, 1.02, 1.005], 'epochs': 3}\n",
      "step: 38/160\n",
      "need to create ./outputs/classifier_transformed_data.pkl\n",
      "saved new ./outputs/classifier_transformed_data.pkl\n",
      "Number of elements in y_train: 330646\n",
      "Number of elements in y_test: 100000\n",
      "need to create ./outputs/classifier_model.keras\n",
      "Epoch 1/3\n"
     ]
    },
    {
     "name": "stderr",
     "output_type": "stream",
     "text": [
      "/Users/alexis/.pyenv/versions/3.11.8/lib/python3.11/site-packages/keras/src/layers/core/dense.py:88: UserWarning: Do not pass an `input_shape`/`input_dim` argument to a layer. When using Sequential models, prefer using an `Input(shape)` object as the first layer in the model instead.\n",
      "  super().__init__(activity_regularizer=activity_regularizer, **kwargs)\n"
     ]
    },
    {
     "name": "stdout",
     "output_type": "stream",
     "text": [
      "\u001b[1m2584/2584\u001b[0m \u001b[32m━━━━━━━━━━━━━━━━━━━━\u001b[0m\u001b[37m\u001b[0m \u001b[1m5s\u001b[0m 2ms/step - accuracy: 0.5433 - loss: 3.2586 - val_accuracy: 0.6012 - val_loss: 1.0180\n",
      "Epoch 2/3\n",
      "\u001b[1m2584/2584\u001b[0m \u001b[32m━━━━━━━━━━━━━━━━━━━━\u001b[0m\u001b[37m\u001b[0m \u001b[1m4s\u001b[0m 2ms/step - accuracy: 0.6260 - loss: 2.5518 - val_accuracy: 0.6196 - val_loss: 0.9666\n",
      "Epoch 3/3\n",
      "\u001b[1m2584/2584\u001b[0m \u001b[32m━━━━━━━━━━━━━━━━━━━━\u001b[0m\u001b[37m\u001b[0m \u001b[1m3s\u001b[0m 1ms/step - accuracy: 0.6387 - loss: 2.4748 - val_accuracy: 0.6269 - val_loss: 0.9908\n",
      "\u001b[1m3125/3125\u001b[0m \u001b[32m━━━━━━━━━━━━━━━━━━━━\u001b[0m\u001b[37m\u001b[0m \u001b[1m1s\u001b[0m 287us/step\n",
      "market cumulative % per class: [0.00585 0.04065 0.14732 0.49063 1.     ]\n",
      "{'performance_score': 350.43514427591657, 'trimmed_average_profit': 1.0076888898806062, 'average_profit': 1.0085230758693706, 'median_profit': 1.0358483033932135, 'prediction_is_buy_count': 1249, 'loss_limit_reached_pct': 0.20176140912730184, 'market_rate': 0.04065, 'tp': 723, 'tn': 95409, 'fp': 526, 'fn': 3342, 'winning_rate': 0.5788630904723779, 'winning_rate_vs_market': 0.538213090472378, 'buying_time': 'Close', 'selling_time': 'Open', 'target_future_days': 1, 'loss_limit': 0.95, 'sell_at_target': True, 'size_layer_1': 128, 'size_layer_2': 128, 'size_layer_3': 256, 'dropout_rate': 0.1, 'balance_data': True, 'batch_size': 128, 'n_first_classes': [0, 1], 'cumulated_probs_target': 0.65, 'thresholds': [1.08, 1.04, 1.02, 1.005], 'epochs': 3}\n",
      "step: 39/160\n",
      "need to create ./outputs/classifier_transformed_data.pkl\n",
      "saved new ./outputs/classifier_transformed_data.pkl\n",
      "Number of elements in y_train: 330646\n",
      "Number of elements in y_test: 100000\n",
      "need to create ./outputs/classifier_model.keras\n",
      "Epoch 1/3\n"
     ]
    },
    {
     "name": "stderr",
     "output_type": "stream",
     "text": [
      "/Users/alexis/.pyenv/versions/3.11.8/lib/python3.11/site-packages/keras/src/layers/core/dense.py:88: UserWarning: Do not pass an `input_shape`/`input_dim` argument to a layer. When using Sequential models, prefer using an `Input(shape)` object as the first layer in the model instead.\n",
      "  super().__init__(activity_regularizer=activity_regularizer, **kwargs)\n"
     ]
    },
    {
     "name": "stdout",
     "output_type": "stream",
     "text": [
      "\u001b[1m2584/2584\u001b[0m \u001b[32m━━━━━━━━━━━━━━━━━━━━\u001b[0m\u001b[37m\u001b[0m \u001b[1m4s\u001b[0m 1ms/step - accuracy: 0.5380 - loss: 3.3841 - val_accuracy: 0.5918 - val_loss: 1.0165\n",
      "Epoch 2/3\n",
      "\u001b[1m2584/2584\u001b[0m \u001b[32m━━━━━━━━━━━━━━━━━━━━\u001b[0m\u001b[37m\u001b[0m \u001b[1m4s\u001b[0m 1ms/step - accuracy: 0.6252 - loss: 2.5399 - val_accuracy: 0.5903 - val_loss: 1.0439\n",
      "Epoch 3/3\n",
      "\u001b[1m2584/2584\u001b[0m \u001b[32m━━━━━━━━━━━━━━━━━━━━\u001b[0m\u001b[37m\u001b[0m \u001b[1m4s\u001b[0m 1ms/step - accuracy: 0.6351 - loss: 2.4679 - val_accuracy: 0.6129 - val_loss: 0.9866\n",
      "\u001b[1m3125/3125\u001b[0m \u001b[32m━━━━━━━━━━━━━━━━━━━━\u001b[0m\u001b[37m\u001b[0m \u001b[1m1s\u001b[0m 264us/step\n",
      "market cumulative % per class: [0.00585 0.04065 0.14732 0.49063 1.     ]\n",
      "{'performance_score': 363.66216602506495, 'trimmed_average_profit': 1.0151835310988175, 'average_profit': 1.0157902033129647, 'median_profit': 1.0358483033932135, 'prediction_is_buy_count': 545, 'loss_limit_reached_pct': 0.1889908256880734, 'market_rate': 0.04065, 'tp': 403, 'tn': 95793, 'fp': 142, 'fn': 3662, 'winning_rate': 0.7394495412844037, 'winning_rate_vs_market': 0.6987995412844037, 'buying_time': 'Close', 'selling_time': 'Open', 'target_future_days': 1, 'loss_limit': 0.95, 'sell_at_target': True, 'size_layer_1': 128, 'size_layer_2': 128, 'size_layer_3': 256, 'dropout_rate': 0.1, 'balance_data': True, 'batch_size': 128, 'n_first_classes': [0, 1], 'cumulated_probs_target': 0.75, 'thresholds': [1.08, 1.04, 1.02, 1.005], 'epochs': 3}\n",
      "step: 40/160\n",
      "need to create ./outputs/classifier_transformed_data.pkl\n",
      "saved new ./outputs/classifier_transformed_data.pkl\n",
      "Number of elements in y_train: 330646\n",
      "Number of elements in y_test: 100000\n",
      "need to create ./outputs/classifier_model.keras\n",
      "Epoch 1/3\n"
     ]
    },
    {
     "name": "stderr",
     "output_type": "stream",
     "text": [
      "/Users/alexis/.pyenv/versions/3.11.8/lib/python3.11/site-packages/keras/src/layers/core/dense.py:88: UserWarning: Do not pass an `input_shape`/`input_dim` argument to a layer. When using Sequential models, prefer using an `Input(shape)` object as the first layer in the model instead.\n",
      "  super().__init__(activity_regularizer=activity_regularizer, **kwargs)\n"
     ]
    },
    {
     "name": "stdout",
     "output_type": "stream",
     "text": [
      "\u001b[1m2584/2584\u001b[0m \u001b[32m━━━━━━━━━━━━━━━━━━━━\u001b[0m\u001b[37m\u001b[0m \u001b[1m4s\u001b[0m 1ms/step - accuracy: 0.5356 - loss: 3.2879 - val_accuracy: 0.6130 - val_loss: 0.9807\n",
      "Epoch 2/3\n",
      "\u001b[1m2584/2584\u001b[0m \u001b[32m━━━━━━━━━━━━━━━━━━━━\u001b[0m\u001b[37m\u001b[0m \u001b[1m3s\u001b[0m 1ms/step - accuracy: 0.6258 - loss: 2.6010 - val_accuracy: 0.6131 - val_loss: 0.9959\n",
      "Epoch 3/3\n",
      "\u001b[1m2584/2584\u001b[0m \u001b[32m━━━━━━━━━━━━━━━━━━━━\u001b[0m\u001b[37m\u001b[0m \u001b[1m3s\u001b[0m 1ms/step - accuracy: 0.6340 - loss: 2.5182 - val_accuracy: 0.6085 - val_loss: 0.9972\n",
      "\u001b[1m3125/3125\u001b[0m \u001b[32m━━━━━━━━━━━━━━━━━━━━\u001b[0m\u001b[37m\u001b[0m \u001b[1m1s\u001b[0m 272us/step\n",
      "market cumulative % per class: [0.00585 0.04065 0.14732 0.49063 1.     ]\n",
      "{'performance_score': 370.44979525201137, 'trimmed_average_profit': 1.0189451614281488, 'average_profit': 1.0194423126624153, 'median_profit': 1.0358483033932135, 'prediction_is_buy_count': 612, 'loss_limit_reached_pct': 0.14705882352941177, 'market_rate': 0.04065, 'tp': 476, 'tn': 95799, 'fp': 136, 'fn': 3589, 'winning_rate': 0.7777777777777778, 'winning_rate_vs_market': 0.7371277777777778, 'buying_time': 'Close', 'selling_time': 'Open', 'target_future_days': 1, 'loss_limit': 0.95, 'sell_at_target': True, 'size_layer_1': 128, 'size_layer_2': 128, 'size_layer_3': 256, 'dropout_rate': 0.1, 'balance_data': True, 'batch_size': 128, 'n_first_classes': [0, 1], 'cumulated_probs_target': 0.85, 'thresholds': [1.08, 1.04, 1.02, 1.005], 'epochs': 3}\n",
      "step: 41/160\n",
      "need to create ./outputs/classifier_transformed_data.pkl\n",
      "saved new ./outputs/classifier_transformed_data.pkl\n",
      "Number of elements in y_train: 330646\n",
      "Number of elements in y_test: 100000\n",
      "need to create ./outputs/classifier_model.keras\n",
      "Epoch 1/3\n"
     ]
    },
    {
     "name": "stderr",
     "output_type": "stream",
     "text": [
      "/Users/alexis/.pyenv/versions/3.11.8/lib/python3.11/site-packages/keras/src/layers/core/dense.py:88: UserWarning: Do not pass an `input_shape`/`input_dim` argument to a layer. When using Sequential models, prefer using an `Input(shape)` object as the first layer in the model instead.\n",
      "  super().__init__(activity_regularizer=activity_regularizer, **kwargs)\n"
     ]
    },
    {
     "name": "stdout",
     "output_type": "stream",
     "text": [
      "\u001b[1m2584/2584\u001b[0m \u001b[32m━━━━━━━━━━━━━━━━━━━━\u001b[0m\u001b[37m\u001b[0m \u001b[1m4s\u001b[0m 1ms/step - accuracy: 0.5314 - loss: 3.3522 - val_accuracy: 0.6202 - val_loss: 0.9917\n",
      "Epoch 2/3\n",
      "\u001b[1m2584/2584\u001b[0m \u001b[32m━━━━━━━━━━━━━━━━━━━━\u001b[0m\u001b[37m\u001b[0m \u001b[1m3s\u001b[0m 1ms/step - accuracy: 0.6254 - loss: 2.6107 - val_accuracy: 0.6019 - val_loss: 0.9997\n",
      "Epoch 3/3\n",
      "\u001b[1m2584/2584\u001b[0m \u001b[32m━━━━━━━━━━━━━━━━━━━━\u001b[0m\u001b[37m\u001b[0m \u001b[1m3s\u001b[0m 1ms/step - accuracy: 0.6360 - loss: 2.5331 - val_accuracy: 0.6003 - val_loss: 1.0123\n",
      "\u001b[1m3125/3125\u001b[0m \u001b[32m━━━━━━━━━━━━━━━━━━━━\u001b[0m\u001b[37m\u001b[0m \u001b[1m1s\u001b[0m 262us/step\n",
      "market cumulative % per class: [0.00585 0.04065 0.14732 0.49063 1.     ]\n",
      "{'performance_score': 345.87580883384226, 'trimmed_average_profit': 1.0050530297278861, 'average_profit': 1.0071861149357646, 'median_profit': 0.9966892636411305, 'prediction_is_buy_count': 1159, 'loss_limit_reached_pct': 0.31233822260569455, 'market_rate': 0.00585, 'tp': 382, 'tn': 98638, 'fp': 777, 'fn': 203, 'winning_rate': 0.32959447799827435, 'winning_rate_vs_market': 0.3237444779982743, 'buying_time': 'Close', 'selling_time': 'Open', 'target_future_days': 1, 'loss_limit': 0.95, 'sell_at_target': True, 'size_layer_1': 128, 'size_layer_2': 128, 'size_layer_3': 256, 'dropout_rate': 0.15, 'balance_data': True, 'batch_size': 128, 'n_first_classes': [0, 0], 'cumulated_probs_target': 0.55, 'thresholds': [1.08, 1.04, 1.02, 1.005], 'epochs': 3}\n",
      "step: 42/160\n",
      "need to create ./outputs/classifier_transformed_data.pkl\n",
      "saved new ./outputs/classifier_transformed_data.pkl\n",
      "Number of elements in y_train: 330646\n",
      "Number of elements in y_test: 100000\n",
      "need to create ./outputs/classifier_model.keras\n",
      "Epoch 1/3\n"
     ]
    },
    {
     "name": "stderr",
     "output_type": "stream",
     "text": [
      "/Users/alexis/.pyenv/versions/3.11.8/lib/python3.11/site-packages/keras/src/layers/core/dense.py:88: UserWarning: Do not pass an `input_shape`/`input_dim` argument to a layer. When using Sequential models, prefer using an `Input(shape)` object as the first layer in the model instead.\n",
      "  super().__init__(activity_regularizer=activity_regularizer, **kwargs)\n"
     ]
    },
    {
     "name": "stdout",
     "output_type": "stream",
     "text": [
      "\u001b[1m2584/2584\u001b[0m \u001b[32m━━━━━━━━━━━━━━━━━━━━\u001b[0m\u001b[37m\u001b[0m \u001b[1m4s\u001b[0m 1ms/step - accuracy: 0.5301 - loss: 3.4525 - val_accuracy: 0.5788 - val_loss: 1.0421\n",
      "Epoch 2/3\n",
      "\u001b[1m2584/2584\u001b[0m \u001b[32m━━━━━━━━━━━━━━━━━━━━\u001b[0m\u001b[37m\u001b[0m \u001b[1m4s\u001b[0m 1ms/step - accuracy: 0.6150 - loss: 2.6347 - val_accuracy: 0.6098 - val_loss: 0.9710\n",
      "Epoch 3/3\n",
      "\u001b[1m2584/2584\u001b[0m \u001b[32m━━━━━━━━━━━━━━━━━━━━\u001b[0m\u001b[37m\u001b[0m \u001b[1m4s\u001b[0m 1ms/step - accuracy: 0.6331 - loss: 2.5335 - val_accuracy: 0.6135 - val_loss: 0.9954\n",
      "\u001b[1m3125/3125\u001b[0m \u001b[32m━━━━━━━━━━━━━━━━━━━━\u001b[0m\u001b[37m\u001b[0m \u001b[1m1s\u001b[0m 263us/step\n",
      "market cumulative % per class: [0.00585 0.04065 0.14732 0.49063 1.     ]\n",
      "{'performance_score': 368.47407725797916, 'trimmed_average_profit': 1.0178559683466488, 'average_profit': 1.0196228884578167, 'median_profit': 1.0050586443196938, 'prediction_is_buy_count': 851, 'loss_limit_reached_pct': 0.21504112808460635, 'market_rate': 0.00585, 'tp': 365, 'tn': 98929, 'fp': 486, 'fn': 220, 'winning_rate': 0.4289071680376028, 'winning_rate_vs_market': 0.4230571680376028, 'buying_time': 'Close', 'selling_time': 'Open', 'target_future_days': 1, 'loss_limit': 0.95, 'sell_at_target': True, 'size_layer_1': 128, 'size_layer_2': 128, 'size_layer_3': 256, 'dropout_rate': 0.15, 'balance_data': True, 'batch_size': 128, 'n_first_classes': [0, 0], 'cumulated_probs_target': 0.65, 'thresholds': [1.08, 1.04, 1.02, 1.005], 'epochs': 3}\n",
      "step: 43/160\n",
      "need to create ./outputs/classifier_transformed_data.pkl\n",
      "saved new ./outputs/classifier_transformed_data.pkl\n",
      "Number of elements in y_train: 330646\n",
      "Number of elements in y_test: 100000\n",
      "need to create ./outputs/classifier_model.keras\n",
      "Epoch 1/3\n"
     ]
    },
    {
     "name": "stderr",
     "output_type": "stream",
     "text": [
      "/Users/alexis/.pyenv/versions/3.11.8/lib/python3.11/site-packages/keras/src/layers/core/dense.py:88: UserWarning: Do not pass an `input_shape`/`input_dim` argument to a layer. When using Sequential models, prefer using an `Input(shape)` object as the first layer in the model instead.\n",
      "  super().__init__(activity_regularizer=activity_regularizer, **kwargs)\n"
     ]
    },
    {
     "name": "stdout",
     "output_type": "stream",
     "text": [
      "\u001b[1m2584/2584\u001b[0m \u001b[32m━━━━━━━━━━━━━━━━━━━━\u001b[0m\u001b[37m\u001b[0m \u001b[1m4s\u001b[0m 1ms/step - accuracy: 0.5351 - loss: 3.4423 - val_accuracy: 0.5915 - val_loss: 1.0236\n",
      "Epoch 2/3\n",
      "\u001b[1m2584/2584\u001b[0m \u001b[32m━━━━━━━━━━━━━━━━━━━━\u001b[0m\u001b[37m\u001b[0m \u001b[1m5s\u001b[0m 2ms/step - accuracy: 0.6242 - loss: 2.5824 - val_accuracy: 0.5967 - val_loss: 1.0317\n",
      "Epoch 3/3\n",
      "\u001b[1m2584/2584\u001b[0m \u001b[32m━━━━━━━━━━━━━━━━━━━━\u001b[0m\u001b[37m\u001b[0m \u001b[1m5s\u001b[0m 2ms/step - accuracy: 0.6332 - loss: 2.5373 - val_accuracy: 0.6281 - val_loss: 0.9401\n",
      "\u001b[1m3125/3125\u001b[0m \u001b[32m━━━━━━━━━━━━━━━━━━━━\u001b[0m\u001b[37m\u001b[0m \u001b[1m1s\u001b[0m 270us/step\n",
      "market cumulative % per class: [0.00585 0.04065 0.14732 0.49063 1.     ]\n",
      "{'performance_score': 374.6121244362466, 'trimmed_average_profit': 1.0212246882949045, 'average_profit': 1.022852686335816, 'median_profit': 1.0165446399791143, 'prediction_is_buy_count': 736, 'loss_limit_reached_pct': 0.20652173913043478, 'market_rate': 0.00585, 'tp': 340, 'tn': 99019, 'fp': 396, 'fn': 245, 'winning_rate': 0.46195652173913043, 'winning_rate_vs_market': 0.4561065217391304, 'buying_time': 'Close', 'selling_time': 'Open', 'target_future_days': 1, 'loss_limit': 0.95, 'sell_at_target': True, 'size_layer_1': 128, 'size_layer_2': 128, 'size_layer_3': 256, 'dropout_rate': 0.15, 'balance_data': True, 'batch_size': 128, 'n_first_classes': [0, 0], 'cumulated_probs_target': 0.75, 'thresholds': [1.08, 1.04, 1.02, 1.005], 'epochs': 3}\n",
      "step: 44/160\n",
      "need to create ./outputs/classifier_transformed_data.pkl\n",
      "saved new ./outputs/classifier_transformed_data.pkl\n",
      "Number of elements in y_train: 330646\n",
      "Number of elements in y_test: 100000\n",
      "need to create ./outputs/classifier_model.keras\n",
      "Epoch 1/3\n"
     ]
    },
    {
     "name": "stderr",
     "output_type": "stream",
     "text": [
      "/Users/alexis/.pyenv/versions/3.11.8/lib/python3.11/site-packages/keras/src/layers/core/dense.py:88: UserWarning: Do not pass an `input_shape`/`input_dim` argument to a layer. When using Sequential models, prefer using an `Input(shape)` object as the first layer in the model instead.\n",
      "  super().__init__(activity_regularizer=activity_regularizer, **kwargs)\n"
     ]
    },
    {
     "name": "stdout",
     "output_type": "stream",
     "text": [
      "\u001b[1m2584/2584\u001b[0m \u001b[32m━━━━━━━━━━━━━━━━━━━━\u001b[0m\u001b[37m\u001b[0m \u001b[1m4s\u001b[0m 1ms/step - accuracy: 0.5286 - loss: 3.4456 - val_accuracy: 0.6059 - val_loss: 0.9918\n",
      "Epoch 2/3\n",
      "\u001b[1m2584/2584\u001b[0m \u001b[32m━━━━━━━━━━━━━━━━━━━━\u001b[0m\u001b[37m\u001b[0m \u001b[1m3s\u001b[0m 1ms/step - accuracy: 0.6191 - loss: 2.6204 - val_accuracy: 0.6266 - val_loss: 0.9586\n",
      "Epoch 3/3\n",
      "\u001b[1m2584/2584\u001b[0m \u001b[32m━━━━━━━━━━━━━━━━━━━━\u001b[0m\u001b[37m\u001b[0m \u001b[1m3s\u001b[0m 1ms/step - accuracy: 0.6319 - loss: 2.5447 - val_accuracy: 0.6342 - val_loss: 0.9668\n",
      "\u001b[1m3125/3125\u001b[0m \u001b[32m━━━━━━━━━━━━━━━━━━━━\u001b[0m\u001b[37m\u001b[0m \u001b[1m1s\u001b[0m 277us/step\n",
      "market cumulative % per class: [0.00585 0.04065 0.14732 0.49063 1.     ]\n",
      "{'performance_score': 361.21155834051547, 'trimmed_average_profit': 1.0138116261330803, 'average_profit': 1.015680394487418, 'median_profit': 0.9998911870684755, 'prediction_is_buy_count': 596, 'loss_limit_reached_pct': 0.20302013422818793, 'market_rate': 0.00585, 'tp': 226, 'tn': 99045, 'fp': 370, 'fn': 359, 'winning_rate': 0.37919463087248323, 'winning_rate_vs_market': 0.3733446308724832, 'buying_time': 'Close', 'selling_time': 'Open', 'target_future_days': 1, 'loss_limit': 0.95, 'sell_at_target': True, 'size_layer_1': 128, 'size_layer_2': 128, 'size_layer_3': 256, 'dropout_rate': 0.15, 'balance_data': True, 'batch_size': 128, 'n_first_classes': [0, 0], 'cumulated_probs_target': 0.85, 'thresholds': [1.08, 1.04, 1.02, 1.005], 'epochs': 3}\n",
      "step: 45/160\n",
      "need to create ./outputs/classifier_transformed_data.pkl\n",
      "saved new ./outputs/classifier_transformed_data.pkl\n",
      "Number of elements in y_train: 330646\n",
      "Number of elements in y_test: 100000\n",
      "need to create ./outputs/classifier_model.keras\n",
      "Epoch 1/3\n"
     ]
    },
    {
     "name": "stderr",
     "output_type": "stream",
     "text": [
      "/Users/alexis/.pyenv/versions/3.11.8/lib/python3.11/site-packages/keras/src/layers/core/dense.py:88: UserWarning: Do not pass an `input_shape`/`input_dim` argument to a layer. When using Sequential models, prefer using an `Input(shape)` object as the first layer in the model instead.\n",
      "  super().__init__(activity_regularizer=activity_regularizer, **kwargs)\n"
     ]
    },
    {
     "name": "stdout",
     "output_type": "stream",
     "text": [
      "\u001b[1m2584/2584\u001b[0m \u001b[32m━━━━━━━━━━━━━━━━━━━━\u001b[0m\u001b[37m\u001b[0m \u001b[1m5s\u001b[0m 2ms/step - accuracy: 0.5368 - loss: 3.3546 - val_accuracy: 0.6296 - val_loss: 0.9400\n",
      "Epoch 2/3\n",
      "\u001b[1m2584/2584\u001b[0m \u001b[32m━━━━━━━━━━━━━━━━━━━━\u001b[0m\u001b[37m\u001b[0m \u001b[1m4s\u001b[0m 1ms/step - accuracy: 0.6219 - loss: 2.6375 - val_accuracy: 0.5933 - val_loss: 1.0166\n",
      "Epoch 3/3\n",
      "\u001b[1m2584/2584\u001b[0m \u001b[32m━━━━━━━━━━━━━━━━━━━━\u001b[0m\u001b[37m\u001b[0m \u001b[1m4s\u001b[0m 2ms/step - accuracy: 0.6339 - loss: 2.5244 - val_accuracy: 0.6357 - val_loss: 0.9469\n",
      "\u001b[1m3125/3125\u001b[0m \u001b[32m━━━━━━━━━━━━━━━━━━━━\u001b[0m\u001b[37m\u001b[0m \u001b[1m1s\u001b[0m 272us/step\n",
      "market cumulative % per class: [0.00585 0.04065 0.14732 0.49063 1.     ]\n",
      "{'performance_score': 366.64187719868397, 'trimmed_average_profit': 1.0168417118614208, 'average_profit': 1.017416797838177, 'median_profit': 1.0358483033932135, 'prediction_is_buy_count': 1322, 'loss_limit_reached_pct': 0.1550680786686838, 'market_rate': 0.04065, 'tp': 963, 'tn': 95576, 'fp': 359, 'fn': 3102, 'winning_rate': 0.7284417549167927, 'winning_rate_vs_market': 0.6877917549167928, 'buying_time': 'Close', 'selling_time': 'Open', 'target_future_days': 1, 'loss_limit': 0.95, 'sell_at_target': True, 'size_layer_1': 128, 'size_layer_2': 128, 'size_layer_3': 256, 'dropout_rate': 0.15, 'balance_data': True, 'batch_size': 128, 'n_first_classes': [0, 1], 'cumulated_probs_target': 0.55, 'thresholds': [1.08, 1.04, 1.02, 1.005], 'epochs': 3}\n",
      "step: 46/160\n",
      "need to create ./outputs/classifier_transformed_data.pkl\n",
      "saved new ./outputs/classifier_transformed_data.pkl\n",
      "Number of elements in y_train: 330646\n",
      "Number of elements in y_test: 100000\n",
      "need to create ./outputs/classifier_model.keras\n",
      "Epoch 1/3\n"
     ]
    },
    {
     "name": "stderr",
     "output_type": "stream",
     "text": [
      "/Users/alexis/.pyenv/versions/3.11.8/lib/python3.11/site-packages/keras/src/layers/core/dense.py:88: UserWarning: Do not pass an `input_shape`/`input_dim` argument to a layer. When using Sequential models, prefer using an `Input(shape)` object as the first layer in the model instead.\n",
      "  super().__init__(activity_regularizer=activity_regularizer, **kwargs)\n"
     ]
    },
    {
     "name": "stdout",
     "output_type": "stream",
     "text": [
      "\u001b[1m2584/2584\u001b[0m \u001b[32m━━━━━━━━━━━━━━━━━━━━\u001b[0m\u001b[37m\u001b[0m \u001b[1m4s\u001b[0m 1ms/step - accuracy: 0.5304 - loss: 3.4278 - val_accuracy: 0.5871 - val_loss: 1.0412\n",
      "Epoch 2/3\n",
      "\u001b[1m2584/2584\u001b[0m \u001b[32m━━━━━━━━━━━━━━━━━━━━\u001b[0m\u001b[37m\u001b[0m \u001b[1m4s\u001b[0m 1ms/step - accuracy: 0.6191 - loss: 2.6200 - val_accuracy: 0.6443 - val_loss: 0.9341\n",
      "Epoch 3/3\n",
      "\u001b[1m2584/2584\u001b[0m \u001b[32m━━━━━━━━━━━━━━━━━━━━\u001b[0m\u001b[37m\u001b[0m \u001b[1m3s\u001b[0m 1ms/step - accuracy: 0.6359 - loss: 2.5085 - val_accuracy: 0.6349 - val_loss: 0.9625\n",
      "\u001b[1m3125/3125\u001b[0m \u001b[32m━━━━━━━━━━━━━━━━━━━━\u001b[0m\u001b[37m\u001b[0m \u001b[1m1s\u001b[0m 272us/step\n",
      "market cumulative % per class: [0.00585 0.04065 0.14732 0.49063 1.     ]\n",
      "{'performance_score': 336.42268972000045, 'trimmed_average_profit': 0.9994981515529522, 'average_profit': 1.0005692425832364, 'median_profit': 1.0358483033932135, 'prediction_is_buy_count': 543, 'loss_limit_reached_pct': 0.35359116022099446, 'market_rate': 0.04065, 'tp': 308, 'tn': 95700, 'fp': 235, 'fn': 3757, 'winning_rate': 0.567219152854512, 'winning_rate_vs_market': 0.526569152854512, 'buying_time': 'Close', 'selling_time': 'Open', 'target_future_days': 1, 'loss_limit': 0.95, 'sell_at_target': True, 'size_layer_1': 128, 'size_layer_2': 128, 'size_layer_3': 256, 'dropout_rate': 0.15, 'balance_data': True, 'batch_size': 128, 'n_first_classes': [0, 1], 'cumulated_probs_target': 0.65, 'thresholds': [1.08, 1.04, 1.02, 1.005], 'epochs': 3}\n",
      "step: 47/160\n",
      "need to create ./outputs/classifier_transformed_data.pkl\n",
      "saved new ./outputs/classifier_transformed_data.pkl\n",
      "Number of elements in y_train: 330646\n",
      "Number of elements in y_test: 100000\n",
      "need to create ./outputs/classifier_model.keras\n",
      "Epoch 1/3\n"
     ]
    },
    {
     "name": "stderr",
     "output_type": "stream",
     "text": [
      "/Users/alexis/.pyenv/versions/3.11.8/lib/python3.11/site-packages/keras/src/layers/core/dense.py:88: UserWarning: Do not pass an `input_shape`/`input_dim` argument to a layer. When using Sequential models, prefer using an `Input(shape)` object as the first layer in the model instead.\n",
      "  super().__init__(activity_regularizer=activity_regularizer, **kwargs)\n"
     ]
    },
    {
     "name": "stdout",
     "output_type": "stream",
     "text": [
      "\u001b[1m2584/2584\u001b[0m \u001b[32m━━━━━━━━━━━━━━━━━━━━\u001b[0m\u001b[37m\u001b[0m \u001b[1m5s\u001b[0m 2ms/step - accuracy: 0.5234 - loss: 3.3531 - val_accuracy: 0.5990 - val_loss: 0.9848\n",
      "Epoch 2/3\n",
      "\u001b[1m2584/2584\u001b[0m \u001b[32m━━━━━━━━━━━━━━━━━━━━\u001b[0m\u001b[37m\u001b[0m \u001b[1m3s\u001b[0m 1ms/step - accuracy: 0.6239 - loss: 2.6400 - val_accuracy: 0.5891 - val_loss: 1.0394\n",
      "Epoch 3/3\n",
      "\u001b[1m2584/2584\u001b[0m \u001b[32m━━━━━━━━━━━━━━━━━━━━\u001b[0m\u001b[37m\u001b[0m \u001b[1m3s\u001b[0m 1ms/step - accuracy: 0.6321 - loss: 2.5210 - val_accuracy: 0.6210 - val_loss: 0.9729\n",
      "\u001b[1m3125/3125\u001b[0m \u001b[32m━━━━━━━━━━━━━━━━━━━━\u001b[0m\u001b[37m\u001b[0m \u001b[1m1s\u001b[0m 266us/step\n",
      "market cumulative % per class: [0.00585 0.04065 0.14732 0.49063 1.     ]\n",
      "{'performance_score': 373.5682936629252, 'trimmed_average_profit': 1.0206549385217478, 'average_profit': 1.0211166760938184, 'median_profit': 1.0358483033932135, 'prediction_is_buy_count': 691, 'loss_limit_reached_pct': 0.12735166425470332, 'market_rate': 0.04065, 'tp': 545, 'tn': 95789, 'fp': 146, 'fn': 3520, 'winning_rate': 0.788712011577424, 'winning_rate_vs_market': 0.748062011577424, 'buying_time': 'Close', 'selling_time': 'Open', 'target_future_days': 1, 'loss_limit': 0.95, 'sell_at_target': True, 'size_layer_1': 128, 'size_layer_2': 128, 'size_layer_3': 256, 'dropout_rate': 0.15, 'balance_data': True, 'batch_size': 128, 'n_first_classes': [0, 1], 'cumulated_probs_target': 0.75, 'thresholds': [1.08, 1.04, 1.02, 1.005], 'epochs': 3}\n",
      "step: 48/160\n",
      "need to create ./outputs/classifier_transformed_data.pkl\n",
      "saved new ./outputs/classifier_transformed_data.pkl\n",
      "Number of elements in y_train: 330646\n",
      "Number of elements in y_test: 100000\n",
      "need to create ./outputs/classifier_model.keras\n",
      "Epoch 1/3\n"
     ]
    },
    {
     "name": "stderr",
     "output_type": "stream",
     "text": [
      "/Users/alexis/.pyenv/versions/3.11.8/lib/python3.11/site-packages/keras/src/layers/core/dense.py:88: UserWarning: Do not pass an `input_shape`/`input_dim` argument to a layer. When using Sequential models, prefer using an `Input(shape)` object as the first layer in the model instead.\n",
      "  super().__init__(activity_regularizer=activity_regularizer, **kwargs)\n"
     ]
    },
    {
     "name": "stdout",
     "output_type": "stream",
     "text": [
      "\u001b[1m2584/2584\u001b[0m \u001b[32m━━━━━━━━━━━━━━━━━━━━\u001b[0m\u001b[37m\u001b[0m \u001b[1m4s\u001b[0m 1ms/step - accuracy: 0.5354 - loss: 3.2527 - val_accuracy: 0.6164 - val_loss: 0.9971\n",
      "Epoch 2/3\n",
      "\u001b[1m2584/2584\u001b[0m \u001b[32m━━━━━━━━━━━━━━━━━━━━\u001b[0m\u001b[37m\u001b[0m \u001b[1m3s\u001b[0m 1ms/step - accuracy: 0.6252 - loss: 2.5533 - val_accuracy: 0.5992 - val_loss: 1.0076\n",
      "Epoch 3/3\n",
      "\u001b[1m2584/2584\u001b[0m \u001b[32m━━━━━━━━━━━━━━━━━━━━\u001b[0m\u001b[37m\u001b[0m \u001b[1m3s\u001b[0m 1ms/step - accuracy: 0.6358 - loss: 2.5336 - val_accuracy: 0.6043 - val_loss: 0.9937\n",
      "\u001b[1m3125/3125\u001b[0m \u001b[32m━━━━━━━━━━━━━━━━━━━━\u001b[0m\u001b[37m\u001b[0m \u001b[1m1s\u001b[0m 262us/step\n",
      "market cumulative % per class: [0.00585 0.04065 0.14732 0.49063 1.     ]\n",
      "{'performance_score': 371.6693639130268, 'trimmed_average_profit': 1.0196151795575294, 'average_profit': 1.0201126462557197, 'median_profit': 1.0358483033932135, 'prediction_is_buy_count': 620, 'loss_limit_reached_pct': 0.14193548387096774, 'market_rate': 0.04065, 'tp': 485, 'tn': 95800, 'fp': 135, 'fn': 3580, 'winning_rate': 0.782258064516129, 'winning_rate_vs_market': 0.741608064516129, 'buying_time': 'Close', 'selling_time': 'Open', 'target_future_days': 1, 'loss_limit': 0.95, 'sell_at_target': True, 'size_layer_1': 128, 'size_layer_2': 128, 'size_layer_3': 256, 'dropout_rate': 0.15, 'balance_data': True, 'batch_size': 128, 'n_first_classes': [0, 1], 'cumulated_probs_target': 0.85, 'thresholds': [1.08, 1.04, 1.02, 1.005], 'epochs': 3}\n",
      "step: 49/160\n",
      "need to create ./outputs/classifier_transformed_data.pkl\n",
      "saved new ./outputs/classifier_transformed_data.pkl\n",
      "Number of elements in y_train: 330646\n",
      "Number of elements in y_test: 100000\n",
      "need to create ./outputs/classifier_model.keras\n",
      "Epoch 1/3\n"
     ]
    },
    {
     "name": "stderr",
     "output_type": "stream",
     "text": [
      "/Users/alexis/.pyenv/versions/3.11.8/lib/python3.11/site-packages/keras/src/layers/core/dense.py:88: UserWarning: Do not pass an `input_shape`/`input_dim` argument to a layer. When using Sequential models, prefer using an `Input(shape)` object as the first layer in the model instead.\n",
      "  super().__init__(activity_regularizer=activity_regularizer, **kwargs)\n"
     ]
    },
    {
     "name": "stdout",
     "output_type": "stream",
     "text": [
      "\u001b[1m2584/2584\u001b[0m \u001b[32m━━━━━━━━━━━━━━━━━━━━\u001b[0m\u001b[37m\u001b[0m \u001b[1m4s\u001b[0m 1ms/step - accuracy: 0.5207 - loss: 3.5717 - val_accuracy: 0.6279 - val_loss: 0.9605\n",
      "Epoch 2/3\n",
      "\u001b[1m2584/2584\u001b[0m \u001b[32m━━━━━━━━━━━━━━━━━━━━\u001b[0m\u001b[37m\u001b[0m \u001b[1m4s\u001b[0m 1ms/step - accuracy: 0.6173 - loss: 2.6434 - val_accuracy: 0.6163 - val_loss: 0.9613\n",
      "Epoch 3/3\n",
      "\u001b[1m2584/2584\u001b[0m \u001b[32m━━━━━━━━━━━━━━━━━━━━\u001b[0m\u001b[37m\u001b[0m \u001b[1m4s\u001b[0m 1ms/step - accuracy: 0.6291 - loss: 2.5327 - val_accuracy: 0.6114 - val_loss: 0.9970\n",
      "\u001b[1m3125/3125\u001b[0m \u001b[32m━━━━━━━━━━━━━━━━━━━━\u001b[0m\u001b[37m\u001b[0m \u001b[1m1s\u001b[0m 264us/step\n",
      "market cumulative % per class: [0.00585 0.04065 0.14732 0.49063 1.     ]\n",
      "{'performance_score': 357.1847579947041, 'trimmed_average_profit': 1.0115410763608308, 'average_profit': 1.0134412590425634, 'median_profit': 0.9997807559936516, 'prediction_is_buy_count': 979, 'loss_limit_reached_pct': 0.27374872318692545, 'market_rate': 0.00585, 'tp': 377, 'tn': 98813, 'fp': 602, 'fn': 208, 'winning_rate': 0.38508682328907046, 'winning_rate_vs_market': 0.37923682328907043, 'buying_time': 'Close', 'selling_time': 'Open', 'target_future_days': 1, 'loss_limit': 0.95, 'sell_at_target': True, 'size_layer_1': 128, 'size_layer_2': 128, 'size_layer_3': 256, 'dropout_rate': 0.2, 'balance_data': True, 'batch_size': 128, 'n_first_classes': [0, 0], 'cumulated_probs_target': 0.55, 'thresholds': [1.08, 1.04, 1.02, 1.005], 'epochs': 3}\n",
      "step: 50/160\n",
      "need to create ./outputs/classifier_transformed_data.pkl\n",
      "saved new ./outputs/classifier_transformed_data.pkl\n",
      "Number of elements in y_train: 330646\n",
      "Number of elements in y_test: 100000\n",
      "need to create ./outputs/classifier_model.keras\n",
      "Epoch 1/3\n"
     ]
    },
    {
     "name": "stderr",
     "output_type": "stream",
     "text": [
      "/Users/alexis/.pyenv/versions/3.11.8/lib/python3.11/site-packages/keras/src/layers/core/dense.py:88: UserWarning: Do not pass an `input_shape`/`input_dim` argument to a layer. When using Sequential models, prefer using an `Input(shape)` object as the first layer in the model instead.\n",
      "  super().__init__(activity_regularizer=activity_regularizer, **kwargs)\n"
     ]
    },
    {
     "name": "stdout",
     "output_type": "stream",
     "text": [
      "\u001b[1m2584/2584\u001b[0m \u001b[32m━━━━━━━━━━━━━━━━━━━━\u001b[0m\u001b[37m\u001b[0m \u001b[1m5s\u001b[0m 2ms/step - accuracy: 0.5256 - loss: 3.4715 - val_accuracy: 0.6182 - val_loss: 0.9829\n",
      "Epoch 2/3\n",
      "\u001b[1m2584/2584\u001b[0m \u001b[32m━━━━━━━━━━━━━━━━━━━━\u001b[0m\u001b[37m\u001b[0m \u001b[1m4s\u001b[0m 2ms/step - accuracy: 0.6199 - loss: 2.6492 - val_accuracy: 0.6416 - val_loss: 0.9540\n",
      "Epoch 3/3\n",
      "\u001b[1m2584/2584\u001b[0m \u001b[32m━━━━━━━━━━━━━━━━━━━━\u001b[0m\u001b[37m\u001b[0m \u001b[1m4s\u001b[0m 1ms/step - accuracy: 0.6341 - loss: 2.5784 - val_accuracy: 0.5882 - val_loss: 1.0287\n",
      "\u001b[1m3125/3125\u001b[0m \u001b[32m━━━━━━━━━━━━━━━━━━━━\u001b[0m\u001b[37m\u001b[0m \u001b[1m1s\u001b[0m 278us/step\n",
      "market cumulative % per class: [0.00585 0.04065 0.14732 0.49063 1.     ]\n",
      "{'performance_score': 335.6960833065186, 'trimmed_average_profit': 0.9990660344460737, 'average_profit': 1.0013753348773098, 'median_profit': 0.9960079840319361, 'prediction_is_buy_count': 1659, 'loss_limit_reached_pct': 0.31103074141048825, 'market_rate': 0.00585, 'tp': 415, 'tn': 98171, 'fp': 1244, 'fn': 170, 'winning_rate': 0.2501506931886679, 'winning_rate_vs_market': 0.2443006931886679, 'buying_time': 'Close', 'selling_time': 'Open', 'target_future_days': 1, 'loss_limit': 0.95, 'sell_at_target': True, 'size_layer_1': 128, 'size_layer_2': 128, 'size_layer_3': 256, 'dropout_rate': 0.2, 'balance_data': True, 'batch_size': 128, 'n_first_classes': [0, 0], 'cumulated_probs_target': 0.65, 'thresholds': [1.08, 1.04, 1.02, 1.005], 'epochs': 3}\n",
      "step: 51/160\n",
      "need to create ./outputs/classifier_transformed_data.pkl\n",
      "saved new ./outputs/classifier_transformed_data.pkl\n",
      "Number of elements in y_train: 330646\n",
      "Number of elements in y_test: 100000\n",
      "need to create ./outputs/classifier_model.keras\n",
      "Epoch 1/3\n"
     ]
    },
    {
     "name": "stderr",
     "output_type": "stream",
     "text": [
      "/Users/alexis/.pyenv/versions/3.11.8/lib/python3.11/site-packages/keras/src/layers/core/dense.py:88: UserWarning: Do not pass an `input_shape`/`input_dim` argument to a layer. When using Sequential models, prefer using an `Input(shape)` object as the first layer in the model instead.\n",
      "  super().__init__(activity_regularizer=activity_regularizer, **kwargs)\n"
     ]
    },
    {
     "name": "stdout",
     "output_type": "stream",
     "text": [
      "\u001b[1m2584/2584\u001b[0m \u001b[32m━━━━━━━━━━━━━━━━━━━━\u001b[0m\u001b[37m\u001b[0m \u001b[1m5s\u001b[0m 2ms/step - accuracy: 0.5191 - loss: 3.4936 - val_accuracy: 0.5929 - val_loss: 1.0209\n",
      "Epoch 2/3\n",
      "\u001b[1m2584/2584\u001b[0m \u001b[32m━━━━━━━━━━━━━━━━━━━━\u001b[0m\u001b[37m\u001b[0m \u001b[1m4s\u001b[0m 2ms/step - accuracy: 0.6198 - loss: 2.6274 - val_accuracy: 0.6004 - val_loss: 1.0069\n",
      "Epoch 3/3\n",
      "\u001b[1m2584/2584\u001b[0m \u001b[32m━━━━━━━━━━━━━━━━━━━━\u001b[0m\u001b[37m\u001b[0m \u001b[1m4s\u001b[0m 2ms/step - accuracy: 0.6301 - loss: 2.5991 - val_accuracy: 0.6276 - val_loss: 0.9600\n",
      "\u001b[1m3125/3125\u001b[0m \u001b[32m━━━━━━━━━━━━━━━━━━━━\u001b[0m\u001b[37m\u001b[0m \u001b[1m1s\u001b[0m 277us/step\n",
      "market cumulative % per class: [0.00585 0.04065 0.14732 0.49063 1.     ]\n",
      "{'performance_score': 388.2314335502514, 'trimmed_average_profit': 1.0285444821338892, 'average_profit': 1.0299730924557255, 'median_profit': 1.075688622754491, 'prediction_is_buy_count': 594, 'loss_limit_reached_pct': 0.17003367003367004, 'market_rate': 0.00585, 'tp': 315, 'tn': 99136, 'fp': 279, 'fn': 270, 'winning_rate': 0.5303030303030303, 'winning_rate_vs_market': 0.5244530303030303, 'buying_time': 'Close', 'selling_time': 'Open', 'target_future_days': 1, 'loss_limit': 0.95, 'sell_at_target': True, 'size_layer_1': 128, 'size_layer_2': 128, 'size_layer_3': 256, 'dropout_rate': 0.2, 'balance_data': True, 'batch_size': 128, 'n_first_classes': [0, 0], 'cumulated_probs_target': 0.75, 'thresholds': [1.08, 1.04, 1.02, 1.005], 'epochs': 3}\n",
      "step: 52/160\n",
      "need to create ./outputs/classifier_transformed_data.pkl\n",
      "saved new ./outputs/classifier_transformed_data.pkl\n",
      "Number of elements in y_train: 330646\n",
      "Number of elements in y_test: 100000\n",
      "need to create ./outputs/classifier_model.keras\n",
      "Epoch 1/3\n"
     ]
    },
    {
     "name": "stderr",
     "output_type": "stream",
     "text": [
      "/Users/alexis/.pyenv/versions/3.11.8/lib/python3.11/site-packages/keras/src/layers/core/dense.py:88: UserWarning: Do not pass an `input_shape`/`input_dim` argument to a layer. When using Sequential models, prefer using an `Input(shape)` object as the first layer in the model instead.\n",
      "  super().__init__(activity_regularizer=activity_regularizer, **kwargs)\n"
     ]
    },
    {
     "name": "stdout",
     "output_type": "stream",
     "text": [
      "\u001b[1m2584/2584\u001b[0m \u001b[32m━━━━━━━━━━━━━━━━━━━━\u001b[0m\u001b[37m\u001b[0m \u001b[1m5s\u001b[0m 2ms/step - accuracy: 0.5159 - loss: 3.5373 - val_accuracy: 0.6075 - val_loss: 0.9783\n",
      "Epoch 2/3\n",
      "\u001b[1m2584/2584\u001b[0m \u001b[32m━━━━━━━━━━━━━━━━━━━━\u001b[0m\u001b[37m\u001b[0m \u001b[1m4s\u001b[0m 2ms/step - accuracy: 0.6180 - loss: 2.6384 - val_accuracy: 0.6149 - val_loss: 0.9723\n",
      "Epoch 3/3\n",
      "\u001b[1m2584/2584\u001b[0m \u001b[32m━━━━━━━━━━━━━━━━━━━━\u001b[0m\u001b[37m\u001b[0m \u001b[1m4s\u001b[0m 2ms/step - accuracy: 0.6320 - loss: 2.5766 - val_accuracy: 0.6251 - val_loss: 1.0012\n",
      "\u001b[1m3125/3125\u001b[0m \u001b[32m━━━━━━━━━━━━━━━━━━━━\u001b[0m\u001b[37m\u001b[0m \u001b[1m1s\u001b[0m 270us/step\n",
      "market cumulative % per class: [0.00585 0.04065 0.14732 0.49063 1.     ]\n",
      "{'performance_score': 393.59071280061505, 'trimmed_average_profit': 1.0313686066558403, 'average_profit': 1.0326686604614006, 'median_profit': 1.075688622754491, 'prediction_is_buy_count': 375, 'loss_limit_reached_pct': 0.21333333333333335, 'market_rate': 0.00585, 'tp': 224, 'tn': 99264, 'fp': 151, 'fn': 361, 'winning_rate': 0.5973333333333334, 'winning_rate_vs_market': 0.5914833333333334, 'buying_time': 'Close', 'selling_time': 'Open', 'target_future_days': 1, 'loss_limit': 0.95, 'sell_at_target': True, 'size_layer_1': 128, 'size_layer_2': 128, 'size_layer_3': 256, 'dropout_rate': 0.2, 'balance_data': True, 'batch_size': 128, 'n_first_classes': [0, 0], 'cumulated_probs_target': 0.85, 'thresholds': [1.08, 1.04, 1.02, 1.005], 'epochs': 3}\n",
      "step: 53/160\n",
      "need to create ./outputs/classifier_transformed_data.pkl\n",
      "saved new ./outputs/classifier_transformed_data.pkl\n",
      "Number of elements in y_train: 330646\n",
      "Number of elements in y_test: 100000\n",
      "need to create ./outputs/classifier_model.keras\n",
      "Epoch 1/3\n"
     ]
    },
    {
     "name": "stderr",
     "output_type": "stream",
     "text": [
      "/Users/alexis/.pyenv/versions/3.11.8/lib/python3.11/site-packages/keras/src/layers/core/dense.py:88: UserWarning: Do not pass an `input_shape`/`input_dim` argument to a layer. When using Sequential models, prefer using an `Input(shape)` object as the first layer in the model instead.\n",
      "  super().__init__(activity_regularizer=activity_regularizer, **kwargs)\n"
     ]
    },
    {
     "name": "stdout",
     "output_type": "stream",
     "text": [
      "\u001b[1m2584/2584\u001b[0m \u001b[32m━━━━━━━━━━━━━━━━━━━━\u001b[0m\u001b[37m\u001b[0m \u001b[1m6s\u001b[0m 2ms/step - accuracy: 0.5168 - loss: 3.5277 - val_accuracy: 0.5949 - val_loss: 1.0141\n",
      "Epoch 2/3\n",
      "\u001b[1m2584/2584\u001b[0m \u001b[32m━━━━━━━━━━━━━━━━━━━━\u001b[0m\u001b[37m\u001b[0m \u001b[1m5s\u001b[0m 2ms/step - accuracy: 0.6209 - loss: 2.6438 - val_accuracy: 0.6145 - val_loss: 0.9862\n",
      "Epoch 3/3\n",
      "\u001b[1m2584/2584\u001b[0m \u001b[32m━━━━━━━━━━━━━━━━━━━━\u001b[0m\u001b[37m\u001b[0m \u001b[1m5s\u001b[0m 2ms/step - accuracy: 0.6315 - loss: 2.5694 - val_accuracy: 0.6310 - val_loss: 0.9664\n",
      "\u001b[1m3125/3125\u001b[0m \u001b[32m━━━━━━━━━━━━━━━━━━━━\u001b[0m\u001b[37m\u001b[0m \u001b[1m1s\u001b[0m 272us/step\n",
      "market cumulative % per class: [0.00585 0.04065 0.14732 0.49063 1.     ]\n",
      "{'performance_score': 364.2679923304573, 'trimmed_average_profit': 1.015521545621924, 'average_profit': 1.0161236661279172, 'median_profit': 1.0358483033932135, 'prediction_is_buy_count': 979, 'loss_limit_reached_pct': 0.15832482124616956, 'market_rate': 0.04065, 'tp': 691, 'tn': 95647, 'fp': 288, 'fn': 3374, 'winning_rate': 0.7058222676200204, 'winning_rate_vs_market': 0.6651722676200205, 'buying_time': 'Close', 'selling_time': 'Open', 'target_future_days': 1, 'loss_limit': 0.95, 'sell_at_target': True, 'size_layer_1': 128, 'size_layer_2': 128, 'size_layer_3': 256, 'dropout_rate': 0.2, 'balance_data': True, 'batch_size': 128, 'n_first_classes': [0, 1], 'cumulated_probs_target': 0.55, 'thresholds': [1.08, 1.04, 1.02, 1.005], 'epochs': 3}\n",
      "step: 54/160\n",
      "need to create ./outputs/classifier_transformed_data.pkl\n",
      "saved new ./outputs/classifier_transformed_data.pkl\n",
      "Number of elements in y_train: 330646\n",
      "Number of elements in y_test: 100000\n",
      "need to create ./outputs/classifier_model.keras\n",
      "Epoch 1/3\n"
     ]
    },
    {
     "name": "stderr",
     "output_type": "stream",
     "text": [
      "/Users/alexis/.pyenv/versions/3.11.8/lib/python3.11/site-packages/keras/src/layers/core/dense.py:88: UserWarning: Do not pass an `input_shape`/`input_dim` argument to a layer. When using Sequential models, prefer using an `Input(shape)` object as the first layer in the model instead.\n",
      "  super().__init__(activity_regularizer=activity_regularizer, **kwargs)\n"
     ]
    },
    {
     "name": "stdout",
     "output_type": "stream",
     "text": [
      "\u001b[1m2584/2584\u001b[0m \u001b[32m━━━━━━━━━━━━━━━━━━━━\u001b[0m\u001b[37m\u001b[0m \u001b[1m4s\u001b[0m 1ms/step - accuracy: 0.5197 - loss: 3.4724 - val_accuracy: 0.5802 - val_loss: 1.0476\n",
      "Epoch 2/3\n",
      "\u001b[1m2584/2584\u001b[0m \u001b[32m━━━━━━━━━━━━━━━━━━━━\u001b[0m\u001b[37m\u001b[0m \u001b[1m3s\u001b[0m 1ms/step - accuracy: 0.6178 - loss: 2.5809 - val_accuracy: 0.6198 - val_loss: 1.0023\n",
      "Epoch 3/3\n",
      "\u001b[1m2584/2584\u001b[0m \u001b[32m━━━━━━━━━━━━━━━━━━━━\u001b[0m\u001b[37m\u001b[0m \u001b[1m4s\u001b[0m 1ms/step - accuracy: 0.6288 - loss: 2.5618 - val_accuracy: 0.6125 - val_loss: 1.0046\n",
      "\u001b[1m3125/3125\u001b[0m \u001b[32m━━━━━━━━━━━━━━━━━━━━\u001b[0m\u001b[37m\u001b[0m \u001b[1m1s\u001b[0m 269us/step\n",
      "market cumulative % per class: [0.00585 0.04065 0.14732 0.49063 1.     ]\n",
      "{'performance_score': 359.26418932889135, 'trimmed_average_profit': 1.0127161259488473, 'average_profit': 1.0134163151764235, 'median_profit': 1.0358483033932135, 'prediction_is_buy_count': 892, 'loss_limit_reached_pct': 0.20739910313901344, 'market_rate': 0.04065, 'tp': 627, 'tn': 95670, 'fp': 265, 'fn': 3438, 'winning_rate': 0.702914798206278, 'winning_rate_vs_market': 0.662264798206278, 'buying_time': 'Close', 'selling_time': 'Open', 'target_future_days': 1, 'loss_limit': 0.95, 'sell_at_target': True, 'size_layer_1': 128, 'size_layer_2': 128, 'size_layer_3': 256, 'dropout_rate': 0.2, 'balance_data': True, 'batch_size': 128, 'n_first_classes': [0, 1], 'cumulated_probs_target': 0.65, 'thresholds': [1.08, 1.04, 1.02, 1.005], 'epochs': 3}\n",
      "step: 55/160\n",
      "need to create ./outputs/classifier_transformed_data.pkl\n",
      "saved new ./outputs/classifier_transformed_data.pkl\n",
      "Number of elements in y_train: 330646\n",
      "Number of elements in y_test: 100000\n",
      "need to create ./outputs/classifier_model.keras\n",
      "Epoch 1/3\n"
     ]
    },
    {
     "name": "stderr",
     "output_type": "stream",
     "text": [
      "/Users/alexis/.pyenv/versions/3.11.8/lib/python3.11/site-packages/keras/src/layers/core/dense.py:88: UserWarning: Do not pass an `input_shape`/`input_dim` argument to a layer. When using Sequential models, prefer using an `Input(shape)` object as the first layer in the model instead.\n",
      "  super().__init__(activity_regularizer=activity_regularizer, **kwargs)\n"
     ]
    },
    {
     "name": "stdout",
     "output_type": "stream",
     "text": [
      "\u001b[1m2584/2584\u001b[0m \u001b[32m━━━━━━━━━━━━━━━━━━━━\u001b[0m\u001b[37m\u001b[0m \u001b[1m5s\u001b[0m 2ms/step - accuracy: 0.5155 - loss: 3.4922 - val_accuracy: 0.6220 - val_loss: 0.9858\n",
      "Epoch 2/3\n",
      "\u001b[1m2584/2584\u001b[0m \u001b[32m━━━━━━━━━━━━━━━━━━━━\u001b[0m\u001b[37m\u001b[0m \u001b[1m3s\u001b[0m 1ms/step - accuracy: 0.6174 - loss: 2.6448 - val_accuracy: 0.6201 - val_loss: 0.9707\n",
      "Epoch 3/3\n",
      "\u001b[1m2584/2584\u001b[0m \u001b[32m━━━━━━━━━━━━━━━━━━━━\u001b[0m\u001b[37m\u001b[0m \u001b[1m4s\u001b[0m 2ms/step - accuracy: 0.6317 - loss: 2.5550 - val_accuracy: 0.6299 - val_loss: 0.9429\n",
      "\u001b[1m3125/3125\u001b[0m \u001b[32m━━━━━━━━━━━━━━━━━━━━\u001b[0m\u001b[37m\u001b[0m \u001b[1m1s\u001b[0m 269us/step\n",
      "market cumulative % per class: [0.00585 0.04065 0.14732 0.49063 1.     ]\n",
      "{'performance_score': 344.8639438028154, 'trimmed_average_profit': 1.0044642807282116, 'average_profit': 1.0054450314364929, 'median_profit': 1.0358483033932135, 'prediction_is_buy_count': 384, 'loss_limit_reached_pct': 0.3046875, 'market_rate': 0.04065, 'tp': 241, 'tn': 95792, 'fp': 143, 'fn': 3824, 'winning_rate': 0.6276041666666666, 'winning_rate_vs_market': 0.5869541666666667, 'buying_time': 'Close', 'selling_time': 'Open', 'target_future_days': 1, 'loss_limit': 0.95, 'sell_at_target': True, 'size_layer_1': 128, 'size_layer_2': 128, 'size_layer_3': 256, 'dropout_rate': 0.2, 'balance_data': True, 'batch_size': 128, 'n_first_classes': [0, 1], 'cumulated_probs_target': 0.75, 'thresholds': [1.08, 1.04, 1.02, 1.005], 'epochs': 3}\n",
      "step: 56/160\n",
      "need to create ./outputs/classifier_transformed_data.pkl\n",
      "saved new ./outputs/classifier_transformed_data.pkl\n",
      "Number of elements in y_train: 330646\n",
      "Number of elements in y_test: 100000\n",
      "need to create ./outputs/classifier_model.keras\n",
      "Epoch 1/3\n"
     ]
    },
    {
     "name": "stderr",
     "output_type": "stream",
     "text": [
      "/Users/alexis/.pyenv/versions/3.11.8/lib/python3.11/site-packages/keras/src/layers/core/dense.py:88: UserWarning: Do not pass an `input_shape`/`input_dim` argument to a layer. When using Sequential models, prefer using an `Input(shape)` object as the first layer in the model instead.\n",
      "  super().__init__(activity_regularizer=activity_regularizer, **kwargs)\n"
     ]
    },
    {
     "name": "stdout",
     "output_type": "stream",
     "text": [
      "\u001b[1m2584/2584\u001b[0m \u001b[32m━━━━━━━━━━━━━━━━━━━━\u001b[0m\u001b[37m\u001b[0m \u001b[1m4s\u001b[0m 1ms/step - accuracy: 0.5220 - loss: 3.4973 - val_accuracy: 0.6196 - val_loss: 0.9730\n",
      "Epoch 2/3\n",
      "\u001b[1m2584/2584\u001b[0m \u001b[32m━━━━━━━━━━━━━━━━━━━━\u001b[0m\u001b[37m\u001b[0m \u001b[1m4s\u001b[0m 2ms/step - accuracy: 0.6194 - loss: 2.6476 - val_accuracy: 0.6171 - val_loss: 0.9641\n",
      "Epoch 3/3\n",
      "\u001b[1m2584/2584\u001b[0m \u001b[32m━━━━━━━━━━━━━━━━━━━━\u001b[0m\u001b[37m\u001b[0m \u001b[1m4s\u001b[0m 2ms/step - accuracy: 0.6333 - loss: 2.5229 - val_accuracy: 0.6259 - val_loss: 0.9513\n",
      "\u001b[1m3125/3125\u001b[0m \u001b[32m━━━━━━━━━━━━━━━━━━━━\u001b[0m\u001b[37m\u001b[0m \u001b[1m1s\u001b[0m 263us/step\n",
      "market cumulative % per class: [0.00585 0.04065 0.14732 0.49063 1.     ]\n",
      "{'performance_score': 340.7849992543798, 'trimmed_average_profit': 1.0070636360054959, 'average_profit': 1.0079385499078581, 'median_profit': 1.0358483033932135, 'prediction_is_buy_count': 329, 'loss_limit_reached_pct': 0.2796352583586626, 'market_rate': 0.04065, 'tp': 218, 'tn': 95824, 'fp': 111, 'fn': 3847, 'winning_rate': 0.662613981762918, 'winning_rate_vs_market': 0.621963981762918, 'buying_time': 'Close', 'selling_time': 'Open', 'target_future_days': 1, 'loss_limit': 0.95, 'sell_at_target': True, 'size_layer_1': 128, 'size_layer_2': 128, 'size_layer_3': 256, 'dropout_rate': 0.2, 'balance_data': True, 'batch_size': 128, 'n_first_classes': [0, 1], 'cumulated_probs_target': 0.85, 'thresholds': [1.08, 1.04, 1.02, 1.005], 'epochs': 3}\n",
      "step: 57/160\n",
      "need to create ./outputs/classifier_transformed_data.pkl\n",
      "saved new ./outputs/classifier_transformed_data.pkl\n",
      "Number of elements in y_train: 330646\n",
      "Number of elements in y_test: 100000\n",
      "need to create ./outputs/classifier_model.keras\n",
      "Epoch 1/3\n"
     ]
    },
    {
     "name": "stderr",
     "output_type": "stream",
     "text": [
      "/Users/alexis/.pyenv/versions/3.11.8/lib/python3.11/site-packages/keras/src/layers/core/dense.py:88: UserWarning: Do not pass an `input_shape`/`input_dim` argument to a layer. When using Sequential models, prefer using an `Input(shape)` object as the first layer in the model instead.\n",
      "  super().__init__(activity_regularizer=activity_regularizer, **kwargs)\n"
     ]
    },
    {
     "name": "stdout",
     "output_type": "stream",
     "text": [
      "\u001b[1m2584/2584\u001b[0m \u001b[32m━━━━━━━━━━━━━━━━━━━━\u001b[0m\u001b[37m\u001b[0m \u001b[1m5s\u001b[0m 2ms/step - accuracy: 0.5050 - loss: 3.7140 - val_accuracy: 0.6113 - val_loss: 0.9933\n",
      "Epoch 2/3\n",
      "\u001b[1m2584/2584\u001b[0m \u001b[32m━━━━━━━━━━━━━━━━━━━━\u001b[0m\u001b[37m\u001b[0m \u001b[1m4s\u001b[0m 2ms/step - accuracy: 0.6170 - loss: 2.6518 - val_accuracy: 0.6108 - val_loss: 0.9941\n",
      "Epoch 3/3\n",
      "\u001b[1m2584/2584\u001b[0m \u001b[32m━━━━━━━━━━━━━━━━━━━━\u001b[0m\u001b[37m\u001b[0m \u001b[1m4s\u001b[0m 2ms/step - accuracy: 0.6274 - loss: 2.5850 - val_accuracy: 0.6191 - val_loss: 0.9663\n",
      "\u001b[1m3125/3125\u001b[0m \u001b[32m━━━━━━━━━━━━━━━━━━━━\u001b[0m\u001b[37m\u001b[0m \u001b[1m1s\u001b[0m 279us/step\n",
      "market cumulative % per class: [0.00585 0.04065 0.14732 0.49063 1.     ]\n",
      "{'performance_score': 382.11889323385134, 'trimmed_average_profit': 1.0252850899931922, 'average_profit': 1.0268043454133025, 'median_profit': 1.075688622754491, 'prediction_is_buy_count': 564, 'loss_limit_reached_pct': 0.21453900709219859, 'market_rate': 0.00585, 'tp': 291, 'tn': 99142, 'fp': 273, 'fn': 294, 'winning_rate': 0.5159574468085106, 'winning_rate_vs_market': 0.5101074468085106, 'buying_time': 'Close', 'selling_time': 'Open', 'target_future_days': 1, 'loss_limit': 0.95, 'sell_at_target': True, 'size_layer_1': 128, 'size_layer_2': 128, 'size_layer_3': 256, 'dropout_rate': 0.25, 'balance_data': True, 'batch_size': 128, 'n_first_classes': [0, 0], 'cumulated_probs_target': 0.55, 'thresholds': [1.08, 1.04, 1.02, 1.005], 'epochs': 3}\n",
      "step: 58/160\n",
      "need to create ./outputs/classifier_transformed_data.pkl\n",
      "saved new ./outputs/classifier_transformed_data.pkl\n",
      "Number of elements in y_train: 330646\n",
      "Number of elements in y_test: 100000\n",
      "need to create ./outputs/classifier_model.keras\n",
      "Epoch 1/3\n"
     ]
    },
    {
     "name": "stderr",
     "output_type": "stream",
     "text": [
      "/Users/alexis/.pyenv/versions/3.11.8/lib/python3.11/site-packages/keras/src/layers/core/dense.py:88: UserWarning: Do not pass an `input_shape`/`input_dim` argument to a layer. When using Sequential models, prefer using an `Input(shape)` object as the first layer in the model instead.\n",
      "  super().__init__(activity_regularizer=activity_regularizer, **kwargs)\n"
     ]
    },
    {
     "name": "stdout",
     "output_type": "stream",
     "text": [
      "\u001b[1m2584/2584\u001b[0m \u001b[32m━━━━━━━━━━━━━━━━━━━━\u001b[0m\u001b[37m\u001b[0m \u001b[1m4s\u001b[0m 1ms/step - accuracy: 0.5141 - loss: 3.4803 - val_accuracy: 0.6302 - val_loss: 0.9261\n",
      "Epoch 2/3\n",
      "\u001b[1m2584/2584\u001b[0m \u001b[32m━━━━━━━━━━━━━━━━━━━━\u001b[0m\u001b[37m\u001b[0m \u001b[1m4s\u001b[0m 1ms/step - accuracy: 0.6145 - loss: 2.6259 - val_accuracy: 0.6234 - val_loss: 0.9609\n",
      "Epoch 3/3\n",
      "\u001b[1m2584/2584\u001b[0m \u001b[32m━━━━━━━━━━━━━━━━━━━━\u001b[0m\u001b[37m\u001b[0m \u001b[1m3s\u001b[0m 1ms/step - accuracy: 0.6268 - loss: 2.5679 - val_accuracy: 0.6156 - val_loss: 1.0001\n",
      "\u001b[1m3125/3125\u001b[0m \u001b[32m━━━━━━━━━━━━━━━━━━━━\u001b[0m\u001b[37m\u001b[0m \u001b[1m1s\u001b[0m 278us/step\n",
      "market cumulative % per class: [0.00585 0.04065 0.14732 0.49063 1.     ]\n",
      "{'performance_score': 370.95875350789316, 'trimmed_average_profit': 1.0192249919438925, 'average_profit': 1.020910473460627, 'median_profit': 1.0059690599798503, 'prediction_is_buy_count': 938, 'loss_limit_reached_pct': 0.15671641791044777, 'market_rate': 0.00585, 'tp': 381, 'tn': 98858, 'fp': 557, 'fn': 204, 'winning_rate': 0.40618336886993606, 'winning_rate_vs_market': 0.40033336886993603, 'buying_time': 'Close', 'selling_time': 'Open', 'target_future_days': 1, 'loss_limit': 0.95, 'sell_at_target': True, 'size_layer_1': 128, 'size_layer_2': 128, 'size_layer_3': 256, 'dropout_rate': 0.25, 'balance_data': True, 'batch_size': 128, 'n_first_classes': [0, 0], 'cumulated_probs_target': 0.65, 'thresholds': [1.08, 1.04, 1.02, 1.005], 'epochs': 3}\n",
      "step: 59/160\n",
      "need to create ./outputs/classifier_transformed_data.pkl\n",
      "saved new ./outputs/classifier_transformed_data.pkl\n",
      "Number of elements in y_train: 330646\n",
      "Number of elements in y_test: 100000\n",
      "need to create ./outputs/classifier_model.keras\n",
      "Epoch 1/3\n"
     ]
    },
    {
     "name": "stderr",
     "output_type": "stream",
     "text": [
      "/Users/alexis/.pyenv/versions/3.11.8/lib/python3.11/site-packages/keras/src/layers/core/dense.py:88: UserWarning: Do not pass an `input_shape`/`input_dim` argument to a layer. When using Sequential models, prefer using an `Input(shape)` object as the first layer in the model instead.\n",
      "  super().__init__(activity_regularizer=activity_regularizer, **kwargs)\n"
     ]
    },
    {
     "name": "stdout",
     "output_type": "stream",
     "text": [
      "\u001b[1m2584/2584\u001b[0m \u001b[32m━━━━━━━━━━━━━━━━━━━━\u001b[0m\u001b[37m\u001b[0m \u001b[1m6s\u001b[0m 2ms/step - accuracy: 0.5074 - loss: 3.5076 - val_accuracy: 0.5903 - val_loss: 1.0317\n",
      "Epoch 2/3\n",
      "\u001b[1m2584/2584\u001b[0m \u001b[32m━━━━━━━━━━━━━━━━━━━━\u001b[0m\u001b[37m\u001b[0m \u001b[1m4s\u001b[0m 2ms/step - accuracy: 0.6158 - loss: 2.6344 - val_accuracy: 0.6288 - val_loss: 0.9530\n",
      "Epoch 3/3\n",
      "\u001b[1m2584/2584\u001b[0m \u001b[32m━━━━━━━━━━━━━━━━━━━━\u001b[0m\u001b[37m\u001b[0m \u001b[1m4s\u001b[0m 2ms/step - accuracy: 0.6294 - loss: 2.6049 - val_accuracy: 0.6386 - val_loss: 0.9269\n",
      "\u001b[1m3125/3125\u001b[0m \u001b[32m━━━━━━━━━━━━━━━━━━━━\u001b[0m\u001b[37m\u001b[0m \u001b[1m1s\u001b[0m 264us/step\n",
      "market cumulative % per class: [0.00585 0.04065 0.14732 0.49063 1.     ]\n",
      "{'performance_score': 377.43684358466686, 'trimmed_average_profit': 1.0227601492610552, 'average_profit': 1.0243706975554612, 'median_profit': 1.0180942051491517, 'prediction_is_buy_count': 723, 'loss_limit_reached_pct': 0.19778699861687413, 'market_rate': 0.00585, 'tp': 344, 'tn': 99036, 'fp': 379, 'fn': 241, 'winning_rate': 0.47579529737206083, 'winning_rate_vs_market': 0.4699452973720608, 'buying_time': 'Close', 'selling_time': 'Open', 'target_future_days': 1, 'loss_limit': 0.95, 'sell_at_target': True, 'size_layer_1': 128, 'size_layer_2': 128, 'size_layer_3': 256, 'dropout_rate': 0.25, 'balance_data': True, 'batch_size': 128, 'n_first_classes': [0, 0], 'cumulated_probs_target': 0.75, 'thresholds': [1.08, 1.04, 1.02, 1.005], 'epochs': 3}\n",
      "step: 60/160\n",
      "need to create ./outputs/classifier_transformed_data.pkl\n",
      "saved new ./outputs/classifier_transformed_data.pkl\n",
      "Number of elements in y_train: 330646\n",
      "Number of elements in y_test: 100000\n",
      "need to create ./outputs/classifier_model.keras\n",
      "Epoch 1/3\n"
     ]
    },
    {
     "name": "stderr",
     "output_type": "stream",
     "text": [
      "/Users/alexis/.pyenv/versions/3.11.8/lib/python3.11/site-packages/keras/src/layers/core/dense.py:88: UserWarning: Do not pass an `input_shape`/`input_dim` argument to a layer. When using Sequential models, prefer using an `Input(shape)` object as the first layer in the model instead.\n",
      "  super().__init__(activity_regularizer=activity_regularizer, **kwargs)\n"
     ]
    },
    {
     "name": "stdout",
     "output_type": "stream",
     "text": [
      "\u001b[1m2584/2584\u001b[0m \u001b[32m━━━━━━━━━━━━━━━━━━━━\u001b[0m\u001b[37m\u001b[0m \u001b[1m5s\u001b[0m 2ms/step - accuracy: 0.5057 - loss: 3.5601 - val_accuracy: 0.5829 - val_loss: 1.1132\n",
      "Epoch 2/3\n",
      "\u001b[1m2584/2584\u001b[0m \u001b[32m━━━━━━━━━━━━━━━━━━━━\u001b[0m\u001b[37m\u001b[0m \u001b[1m4s\u001b[0m 2ms/step - accuracy: 0.6174 - loss: 2.6592 - val_accuracy: 0.6251 - val_loss: 0.9675\n",
      "Epoch 3/3\n",
      "\u001b[1m2584/2584\u001b[0m \u001b[32m━━━━━━━━━━━━━━━━━━━━\u001b[0m\u001b[37m\u001b[0m \u001b[1m5s\u001b[0m 2ms/step - accuracy: 0.6277 - loss: 2.5635 - val_accuracy: 0.6133 - val_loss: 0.9823\n",
      "\u001b[1m3125/3125\u001b[0m \u001b[32m━━━━━━━━━━━━━━━━━━━━\u001b[0m\u001b[37m\u001b[0m \u001b[1m1s\u001b[0m 264us/step\n",
      "market cumulative % per class: [0.00585 0.04065 0.14732 0.49063 1.     ]\n",
      "{'performance_score': 353.74071634719803, 'trimmed_average_profit': 1.0095828156467344, 'average_profit': 1.0116326081151923, 'median_profit': 1.0032516929840225, 'prediction_is_buy_count': 387, 'loss_limit_reached_pct': 0.3979328165374677, 'market_rate': 0.00585, 'tp': 171, 'tn': 99199, 'fp': 216, 'fn': 414, 'winning_rate': 0.4418604651162791, 'winning_rate_vs_market': 0.43601046511627906, 'buying_time': 'Close', 'selling_time': 'Open', 'target_future_days': 1, 'loss_limit': 0.95, 'sell_at_target': True, 'size_layer_1': 128, 'size_layer_2': 128, 'size_layer_3': 256, 'dropout_rate': 0.25, 'balance_data': True, 'batch_size': 128, 'n_first_classes': [0, 0], 'cumulated_probs_target': 0.85, 'thresholds': [1.08, 1.04, 1.02, 1.005], 'epochs': 3}\n",
      "step: 61/160\n",
      "need to create ./outputs/classifier_transformed_data.pkl\n",
      "saved new ./outputs/classifier_transformed_data.pkl\n",
      "Number of elements in y_train: 330646\n",
      "Number of elements in y_test: 100000\n",
      "need to create ./outputs/classifier_model.keras\n",
      "Epoch 1/3\n"
     ]
    },
    {
     "name": "stderr",
     "output_type": "stream",
     "text": [
      "/Users/alexis/.pyenv/versions/3.11.8/lib/python3.11/site-packages/keras/src/layers/core/dense.py:88: UserWarning: Do not pass an `input_shape`/`input_dim` argument to a layer. When using Sequential models, prefer using an `Input(shape)` object as the first layer in the model instead.\n",
      "  super().__init__(activity_regularizer=activity_regularizer, **kwargs)\n"
     ]
    },
    {
     "name": "stdout",
     "output_type": "stream",
     "text": [
      "\u001b[1m2584/2584\u001b[0m \u001b[32m━━━━━━━━━━━━━━━━━━━━\u001b[0m\u001b[37m\u001b[0m \u001b[1m4s\u001b[0m 1ms/step - accuracy: 0.5123 - loss: 3.6200 - val_accuracy: 0.6016 - val_loss: 0.9971\n",
      "Epoch 2/3\n",
      "\u001b[1m2584/2584\u001b[0m \u001b[32m━━━━━━━━━━━━━━━━━━━━\u001b[0m\u001b[37m\u001b[0m \u001b[1m3s\u001b[0m 1ms/step - accuracy: 0.6160 - loss: 2.6611 - val_accuracy: 0.6054 - val_loss: 1.0119\n",
      "Epoch 3/3\n",
      "\u001b[1m2584/2584\u001b[0m \u001b[32m━━━━━━━━━━━━━━━━━━━━\u001b[0m\u001b[37m\u001b[0m \u001b[1m3s\u001b[0m 1ms/step - accuracy: 0.6275 - loss: 2.5798 - val_accuracy: 0.6222 - val_loss: 0.9580\n",
      "\u001b[1m3125/3125\u001b[0m \u001b[32m━━━━━━━━━━━━━━━━━━━━\u001b[0m\u001b[37m\u001b[0m \u001b[1m1s\u001b[0m 267us/step\n",
      "market cumulative % per class: [0.00585 0.04065 0.14732 0.49063 1.     ]\n",
      "{'performance_score': 361.07519181468564, 'trimmed_average_profit': 1.0137350666498703, 'average_profit': 1.0143834485914192, 'median_profit': 1.0358483033932135, 'prediction_is_buy_count': 648, 'loss_limit_reached_pct': 0.19907407407407407, 'market_rate': 0.04065, 'tp': 465, 'tn': 95752, 'fp': 183, 'fn': 3600, 'winning_rate': 0.7175925925925926, 'winning_rate_vs_market': 0.6769425925925926, 'buying_time': 'Close', 'selling_time': 'Open', 'target_future_days': 1, 'loss_limit': 0.95, 'sell_at_target': True, 'size_layer_1': 128, 'size_layer_2': 128, 'size_layer_3': 256, 'dropout_rate': 0.25, 'balance_data': True, 'batch_size': 128, 'n_first_classes': [0, 1], 'cumulated_probs_target': 0.55, 'thresholds': [1.08, 1.04, 1.02, 1.005], 'epochs': 3}\n",
      "step: 62/160\n",
      "need to create ./outputs/classifier_transformed_data.pkl\n",
      "saved new ./outputs/classifier_transformed_data.pkl\n"
     ]
    }
   ],
   "source": [
    "from itertools import product\n",
    "\n",
    "i = 0\n",
    "results = []\n",
    "\n",
    "def objective(hyperparams):\n",
    "    df_data = get_df_data(hyperparams)\n",
    "    test_train_data, model = load_model(df_data, hyperparams)\n",
    "    performance_metrics = evaluate_model(df_data, model, test_train_data, hyperparams)\n",
    "\n",
    "    result = {**performance_metrics, **hyperparams, 'epochs': epochs}\n",
    "    results.append(result)\n",
    "\n",
    "    performance = result['performance_score']\n",
    "\n",
    "    return -performance\n",
    "\n",
    "if use_hyperopt:\n",
    "    best = fmin(objective, search_space, algo=tpe.suggest, max_evals=hyperopt_n_iterations)\n",
    "    print(f'best parameters: {best}')\n",
    "else:\n",
    "    for params in product(*param_grid.values()):\n",
    "        i += 1\n",
    "        hf.print_combination(i, num_combinations)\n",
    "\n",
    "        hyperparams = dict(zip(param_grid.keys(), params))\n",
    "\n",
    "        df_data = get_df_data(hyperparams)\n",
    "        test_train_data, model = load_model(df_data, hyperparams)\n",
    "        performance_metrics = evaluate_model(df_data, model, test_train_data, hyperparams)\n",
    "\n",
    "        result = {**performance_metrics, **hyperparams, 'epochs': epochs}\n",
    "        print(result)\n",
    "        results.append(result)\n"
   ]
  },
  {
   "cell_type": "code",
   "execution_count": null,
   "metadata": {},
   "outputs": [],
   "source": [
    "pd.set_option('display.max_columns', None)\n",
    "pd.set_option('display.max_rows', None)\n",
    "\n",
    "df_results = pd.DataFrame(results)\n",
    "df_results = df_results.sort_values(by='performance_score', ascending=False)\n",
    "df_results.head(1000)"
   ]
  },
  {
   "cell_type": "code",
   "execution_count": null,
   "metadata": {},
   "outputs": [],
   "source": [
    "df_results.to_excel(f'./outputs/{hf.get_date()}_classifier_results.xlsx')"
   ]
  }
 ],
 "metadata": {
  "kernelspec": {
   "display_name": "Python 3",
   "language": "python",
   "name": "python3"
  },
  "language_info": {
   "codemirror_mode": {
    "name": "ipython",
    "version": 3
   },
   "file_extension": ".py",
   "mimetype": "text/x-python",
   "name": "python",
   "nbconvert_exporter": "python",
   "pygments_lexer": "ipython3",
   "version": "3.11.8"
  }
 },
 "nbformat": 4,
 "nbformat_minor": 2
}
