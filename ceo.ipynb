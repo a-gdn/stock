{
 "cells": [
  {
   "cell_type": "code",
   "execution_count": 1,
   "metadata": {},
   "outputs": [],
   "source": [
    "import requests\n",
    "\n",
    "def retrieve_ceo_stock_transactions():\n",
    "    base_url = \"https://www.amf-france.org/api/1/entity/transactions\"\n",
    "    \n",
    "    # Specify parameters for the request\n",
    "    params = {\n",
    "        \"issuerRole\": \"CEO\",  # Retrieve transactions of CEOs\n",
    "        \"format\": \"json\",     # Specify the response format as JSON\n",
    "        \"limit\": 10           # Set the limit to the number of transactions you want to retrieve\n",
    "    }\n",
    "    \n",
    "    try:\n",
    "        response = requests.get(base_url, params=params)\n",
    "        data = response.json()\n",
    "        \n",
    "        # Process the retrieved data as needed\n",
    "        for transaction in data:\n",
    "            # Access transaction details such as date, type, shares, etc.\n",
    "            date = transaction[\"date\"]\n",
    "            transaction_type = transaction[\"type\"]\n",
    "            shares = transaction[\"shares\"]\n",
    "\n",
    "            print(f\"{date} {transaction_type} {shares}\")\n",
    "            \n",
    "            # Perform further operations or store the data as required\n",
    "            \n",
    "    except requests.exceptions.RequestException as e:\n",
    "        print(\"Error occurred:\", str(e))"
   ]
  }
 ],
 "metadata": {
  "kernelspec": {
   "display_name": "Python 3",
   "language": "python",
   "name": "python3"
  },
  "language_info": {
   "codemirror_mode": {
    "name": "ipython",
    "version": 3
   },
   "file_extension": ".py",
   "mimetype": "text/x-python",
   "name": "python",
   "nbconvert_exporter": "python",
   "pygments_lexer": "ipython3",
   "version": "3.9.10"
  },
  "orig_nbformat": 4
 },
 "nbformat": 4,
 "nbformat_minor": 2
}
