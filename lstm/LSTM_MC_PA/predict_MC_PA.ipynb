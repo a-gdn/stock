{
 "cells": [
  {
   "cell_type": "markdown",
   "metadata": {},
   "source": [
    "Bilan: assez mauvais résultats, ne prévoit pas bien si ce sera une hausse ou une baisse"
   ]
  },
  {
   "cell_type": "code",
   "execution_count": 9,
   "metadata": {},
   "outputs": [],
   "source": [
    "import tensorflow as tf\n",
    "import pandas as pd\n",
    "import numpy as np\n",
    "from sklearn.preprocessing import MinMaxScaler"
   ]
  },
  {
   "cell_type": "code",
   "execution_count": 20,
   "metadata": {},
   "outputs": [
    {
     "name": "stdout",
     "output_type": "stream",
     "text": [
      "[[[0.09402967]\n",
      "  [0.10000018]\n",
      "  [0.23432854]\n",
      "  [0.        ]\n",
      "  [0.05671624]\n",
      "  [0.10895504]\n",
      "  [0.15671642]\n",
      "  [0.2104474 ]\n",
      "  [0.03880561]\n",
      "  [0.1313431 ]\n",
      "  [0.21492573]\n",
      "  [0.25373134]\n",
      "  [0.22835803]\n",
      "  [0.35820896]\n",
      "  [0.55522406]\n",
      "  [0.44179069]\n",
      "  [0.467164  ]\n",
      "  [0.3686569 ]\n",
      "  [0.32388078]\n",
      "  [0.26119403]\n",
      "  [0.42238788]\n",
      "  [0.39253713]\n",
      "  [0.5791043 ]\n",
      "  [0.46567182]\n",
      "  [0.55970149]\n",
      "  [0.38208919]\n",
      "  [0.27462722]\n",
      "  [0.39850764]\n",
      "  [0.42388096]\n",
      "  [0.0791043 ]\n",
      "  [0.10447761]\n",
      "  [0.3029849 ]\n",
      "  [0.03432818]\n",
      "  [0.38208919]\n",
      "  [0.64179104]\n",
      "  [0.50298525]\n",
      "  [0.32835821]\n",
      "  [0.3880597 ]\n",
      "  [0.10447761]\n",
      "  [0.3089554 ]\n",
      "  [0.03432818]\n",
      "  [0.21791009]\n",
      "  [0.03432818]\n",
      "  [0.32835821]\n",
      "  [0.10746287]\n",
      "  [0.41343301]\n",
      "  [0.32388078]\n",
      "  [0.42985057]\n",
      "  [0.52238806]\n",
      "  [0.54328394]\n",
      "  [0.61641773]\n",
      "  [0.565672  ]\n",
      "  [0.65671642]\n",
      "  [0.68507499]\n",
      "  [0.86417946]\n",
      "  [0.94029851]\n",
      "  [1.        ]\n",
      "  [0.87462651]\n",
      "  [0.80597015]\n",
      "  [0.94029851]]]\n"
     ]
    }
   ],
   "source": [
    "csv_path = 'MC.PA.csv'\n",
    "date = '2023-04-13'\n",
    "\n",
    "data = pd.read_csv(csv_path)\n",
    "\n",
    "data_open = data[['Date', 'Open']]\n",
    "data_open = data_open.fillna(method='ffill') # forward fill for na values\n",
    "\n",
    "filtered_data = data_open[data_open['Date'] < date].tail(60)\n",
    "filtered_array = filtered_data['Open'].to_numpy()\n",
    "\n",
    "expected_price = data_open[data_open['Date'] == date]\n",
    "expected_price = expected_price['Open'].iloc[-1]\n",
    "last_price = filtered_array[-1]\n",
    "expected_var = expected_price / last_price\n",
    "\n",
    "scaler = MinMaxScaler(feature_range=(0,1))\n",
    "scaled_array = scaler.fit_transform(filtered_array.reshape(-1,1))\n",
    "\n",
    "reshaped_array = scaled_array.reshape(1, 60, 1)\n",
    "\n",
    "print(reshaped_array)\n"
   ]
  },
  {
   "cell_type": "code",
   "execution_count": 21,
   "metadata": {},
   "outputs": [
    {
     "name": "stdout",
     "output_type": "stream",
     "text": [
      "Input shape: (None, 60, 1)\n"
     ]
    }
   ],
   "source": [
    "# Load the model architecture from model.json\n",
    "with open('model.json', 'r') as json_file:\n",
    "    loaded_model_json = json_file.read()\n",
    "\n",
    "loaded_model = tf.keras.models.model_from_json(loaded_model_json)\n",
    "\n",
    "# Load the model weights into the architecture\n",
    "loaded_model.load_weights('weights.h5')\n",
    "\n",
    "# loaded_model.summary()\n",
    "\n",
    "input_shape = loaded_model.layers[0].input_shape\n",
    "print(\"Input shape:\", input_shape)"
   ]
  },
  {
   "cell_type": "code",
   "execution_count": 22,
   "metadata": {},
   "outputs": [
    {
     "name": "stdout",
     "output_type": "stream",
     "text": [
      "WARNING:tensorflow:6 out of the last 7 calls to <function Model.make_predict_function.<locals>.predict_function at 0x132fad280> triggered tf.function retracing. Tracing is expensive and the excessive number of tracings could be due to (1) creating @tf.function repeatedly in a loop, (2) passing tensors with different shapes, (3) passing Python objects instead of tensors. For (1), please define your @tf.function outside of the loop. For (2), @tf.function has experimental_relax_shapes=True option that relaxes argument shapes that can avoid unnecessary retracing. For (3), please refer to https://www.tensorflow.org/guide/function#controlling_retracing and https://www.tensorflow.org/api_docs/python/tf/function for  more details.\n",
      "last_price: 846.0\n",
      "expected_price: 866.0\n",
      "predicted_price: 840.9930419921875\n",
      "expected_var: 1.0236406619385343\n",
      "predicted_var: 0.9940816099198434\n"
     ]
    }
   ],
   "source": [
    "# Now, the model is ready to make predictions on new data\n",
    "# For instance, if you have new data 'new_data' for prediction:\n",
    "predicted_prices = loaded_model.predict(reshaped_array)\n",
    "predicted_prices = scaler.inverse_transform(predicted_prices)\n",
    "predicted_price = predicted_prices[0][0]\n",
    "predicted_var = predicted_price / last_price\n",
    "\n",
    "print(f'last_price: {last_price}')\n",
    "print(f'expected_price: {expected_price}')\n",
    "print(f'predicted_price: {predicted_price}')\n",
    "\n",
    "print(f'expected_var: {expected_var}')\n",
    "print(f'predicted_var: {predicted_var}')"
   ]
  }
 ],
 "metadata": {
  "kernelspec": {
   "display_name": "Python 3",
   "language": "python",
   "name": "python3"
  },
  "language_info": {
   "codemirror_mode": {
    "name": "ipython",
    "version": 3
   },
   "file_extension": ".py",
   "mimetype": "text/x-python",
   "name": "python",
   "nbconvert_exporter": "python",
   "pygments_lexer": "ipython3",
   "version": "3.9.10"
  }
 },
 "nbformat": 4,
 "nbformat_minor": 2
}
