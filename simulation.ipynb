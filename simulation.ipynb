{
 "cells": [
  {
   "cell_type": "code",
   "execution_count": 1,
   "metadata": {},
   "outputs": [],
   "source": [
    "import yfinance as yf\n",
    "import pandas as pd\n",
    "import numpy as np\n",
    "\n",
    "import config as cfg"
   ]
  },
  {
   "cell_type": "code",
   "execution_count": null,
   "metadata": {},
   "outputs": [
    {
     "name": "stdout",
     "output_type": "stream",
     "text": [
      "[**********************75%***********            ]  158 of 212 completed"
     ]
    },
    {
     "ename": "KeyboardInterrupt",
     "evalue": "",
     "output_type": "error",
     "traceback": [
      "\u001b[0;31m---------------------------------------------------------------------------\u001b[0m",
      "\u001b[0;31mKeyboardInterrupt\u001b[0m                         Traceback (most recent call last)",
      "\u001b[1;32m/Users/alexis/code/stock/simulation.ipynb Cell 2\u001b[0m in \u001b[0;36m<module>\u001b[0;34m\u001b[0m\n\u001b[1;32m      <a href='vscode-notebook-cell:/Users/alexis/code/stock/simulation.ipynb#W1sZmlsZQ%3D%3D?line=0'>1</a>\u001b[0m \u001b[39m# Download stock prices\u001b[39;00m\n\u001b[0;32m----> <a href='vscode-notebook-cell:/Users/alexis/code/stock/simulation.ipynb#W1sZmlsZQ%3D%3D?line=1'>2</a>\u001b[0m stock_data \u001b[39m=\u001b[39m yf\u001b[39m.\u001b[39;49mdownload(cfg\u001b[39m.\u001b[39;49mtickers, start\u001b[39m=\u001b[39;49mcfg\u001b[39m.\u001b[39;49mstart_date, end\u001b[39m=\u001b[39;49mcfg\u001b[39m.\u001b[39;49mend_date)\n\u001b[1;32m      <a href='vscode-notebook-cell:/Users/alexis/code/stock/simulation.ipynb#W1sZmlsZQ%3D%3D?line=3'>4</a>\u001b[0m df \u001b[39m=\u001b[39m pd\u001b[39m.\u001b[39mDataFrame(stock_data) \u001b[39m# Transform stock prices to a dataframe\u001b[39;00m\n\u001b[1;32m      <a href='vscode-notebook-cell:/Users/alexis/code/stock/simulation.ipynb#W1sZmlsZQ%3D%3D?line=4'>5</a>\u001b[0m df \u001b[39m=\u001b[39m df\u001b[39m.\u001b[39msort_values(\u001b[39m\"\u001b[39m\u001b[39mDate\u001b[39m\u001b[39m\"\u001b[39m) \u001b[39m# stock_data is not ordered by default\u001b[39;00m\n",
      "File \u001b[0;32m/usr/local/lib/python3.9/site-packages/yfinance/multi.py:112\u001b[0m, in \u001b[0;36mdownload\u001b[0;34m(tickers, start, end, actions, threads, group_by, auto_adjust, back_adjust, progress, period, show_errors, interval, prepost, proxy, rounding, timeout, **kwargs)\u001b[0m\n\u001b[1;32m    105\u001b[0m         _download_one_threaded(ticker, period\u001b[39m=\u001b[39mperiod, interval\u001b[39m=\u001b[39minterval,\n\u001b[1;32m    106\u001b[0m                                start\u001b[39m=\u001b[39mstart, end\u001b[39m=\u001b[39mend, prepost\u001b[39m=\u001b[39mprepost,\n\u001b[1;32m    107\u001b[0m                                actions\u001b[39m=\u001b[39mactions, auto_adjust\u001b[39m=\u001b[39mauto_adjust,\n\u001b[1;32m    108\u001b[0m                                back_adjust\u001b[39m=\u001b[39mback_adjust,\n\u001b[1;32m    109\u001b[0m                                progress\u001b[39m=\u001b[39m(progress \u001b[39mand\u001b[39;00m i \u001b[39m>\u001b[39m \u001b[39m0\u001b[39m), proxy\u001b[39m=\u001b[39mproxy,\n\u001b[1;32m    110\u001b[0m                                rounding\u001b[39m=\u001b[39mrounding, timeout\u001b[39m=\u001b[39mtimeout)\n\u001b[1;32m    111\u001b[0m     \u001b[39mwhile\u001b[39;00m \u001b[39mlen\u001b[39m(shared\u001b[39m.\u001b[39m_DFS) \u001b[39m<\u001b[39m \u001b[39mlen\u001b[39m(tickers):\n\u001b[0;32m--> 112\u001b[0m         _time\u001b[39m.\u001b[39;49msleep(\u001b[39m0.01\u001b[39;49m)\n\u001b[1;32m    114\u001b[0m \u001b[39m# download synchronously\u001b[39;00m\n\u001b[1;32m    115\u001b[0m \u001b[39melse\u001b[39;00m:\n\u001b[1;32m    116\u001b[0m     \u001b[39mfor\u001b[39;00m i, ticker \u001b[39min\u001b[39;00m \u001b[39menumerate\u001b[39m(tickers):\n",
      "\u001b[0;31mKeyboardInterrupt\u001b[0m: "
     ]
    },
    {
     "name": "stdout",
     "output_type": "stream",
     "text": [
      "[**********************75%***********            ]  159 of 212 completed"
     ]
    },
    {
     "name": "stdout",
     "output_type": "stream",
     "text": [
      "[*********************100%***********************]  211 of 212 completed"
     ]
    }
   ],
   "source": [
    "# Download stock prices\n",
    "stock_data = yf.download(cfg.tickers, start=cfg.start_date, end=cfg.end_date)\n",
    "\n",
    "df = pd.DataFrame(stock_data) # Transform stock prices to a dataframe\n",
    "df = df.sort_values(\"Date\") # stock_data is not ordered by default\n",
    "df = df[[\"Close\"]]\n",
    "print(df.head(10))"
   ]
  },
  {
   "cell_type": "code",
   "execution_count": null,
   "metadata": {},
   "outputs": [],
   "source": [
    "watch_days_range = [1,2,3,5]\n",
    "hold_days_days_range = [1,2,3,5]\n",
    "num_stocks_to_buy_range = [1,2,3,5]\n",
    "loss_limit_range = [1]\n",
    "\n",
    "# watch_days_range = [5,30]\n",
    "# hold_days_days_range = [5,30]\n",
    "# num_stocks_to_buy_range = [1]\n",
    "# loss_limit_range = [0.99,0.9]\n",
    "\n",
    "num_combinations = len(watch_days_range) * len(hold_days_days_range) * len(num_stocks_to_buy_range) * len(loss_limit_range)\n",
    "combinations_per_minute = 10\n",
    "\n",
    "print(f\"Number of cases: {num_combinations}, Estimated time: {(num_combinations / combinations_per_minute):.2f} minutes\")"
   ]
  },
  {
   "cell_type": "code",
   "execution_count": null,
   "metadata": {},
   "outputs": [],
   "source": [
    "results = []\n",
    "combination_index = 0\n",
    "\n",
    "# Repeat for each period of watch_days\n",
    "for watch_days in watch_days_range:  # watch_days represents the number of days for price increase calculation\n",
    "    # num_iterations = (len(df) - watch_days + 1) // watch_days # Calculate the number of iterations\n",
    "    for hold_days in hold_days_days_range:  # hold_days represents the number of additional days before selling. Repeat for each period of watch_days plus hold_days\n",
    "        num_iterations = int(len(df) / (watch_days + hold_days)) - 1\n",
    "\n",
    "        for num_stocks_to_buy in num_stocks_to_buy_range:  # num_stocks_to_buy represents the number of stocks to buy\n",
    "            for loss_limit in loss_limit_range:  # loss_limit represents the percentage decrease threshold for selling\n",
    "                total_profit = 1\n",
    "\n",
    "                for i in range(num_iterations):\n",
    "                    start_watch_day_number = i * (watch_days + hold_days)\n",
    "                    buy_day_number = start_watch_day_number + watch_days\n",
    "                    sell_day_number = buy_day_number + hold_days\n",
    "\n",
    "                    price_increase = df[start_watch_day_number:buy_day_number].pct_change(watch_days - 1).tail(1) # Calculate the price increase in the last watch_days days for each stock\n",
    "                    price_increase.dropna(axis=1) # remove columns with n/a values\n",
    "\n",
    "                    top_stocks = price_increase.squeeze().nlargest(num_stocks_to_buy).index # Select the num_stocks_to_buy stocks with the highest price increase\n",
    "\n",
    "                    buy_prices = df.loc[df.index[buy_day_number], top_stocks] # Calculate the buying prices at the start of the hold period\n",
    "                    sell_prices = df.loc[df.index[sell_day_number], top_stocks] # Calculate the selling prices after watch_days + hold_days days\n",
    "\n",
    "                    profits = sell_prices / buy_prices # Calculate the profit for each stock\n",
    "                    profits = (sell_prices * (1 - cfg.fee)) / (buy_prices * (1 + cfg.fee))\n",
    "\n",
    "                    sell_mask = profits < loss_limit # Filter the stocks to sell based on decrease threshold loss_limit\n",
    "                    profits[sell_mask] = loss_limit  # Set profit to loss_limit for stocks that decrease beyond threshold\n",
    "\n",
    "                    profit = profits.mean(skipna=True)\n",
    "                    total_profit *= profit if np.isfinite(profit) else 1 # Calculate the total profit for the selected stocks (i.e. average of profits)\n",
    "                    # print(f\"buy_prices \\n {buy_prices} \\n sell_prices \\n {sell_prices} \\n profits {profits} \\\n",
    "                    #       \\n total_profit: {total_profit}\")\n",
    "                \n",
    "                    if np.isnan(total_profit):\n",
    "                        print(\"hello\")\n",
    "\n",
    "                results.append({'watch_days': watch_days, 'num_stocks_to_buy': num_stocks_to_buy, 'hold_days': hold_days,\n",
    "                                'loss_limit': loss_limit, 'total_profit': total_profit})\n",
    "                \n",
    "                print(f\"Combination: {combination_index + 1} / {num_combinations}\")\n",
    "                combination_index += 1\n",
    "\n",
    "results_df = pd.DataFrame(results)"
   ]
  },
  {
   "cell_type": "code",
   "execution_count": null,
   "metadata": {},
   "outputs": [],
   "source": [
    "print(results_df)"
   ]
  },
  {
   "cell_type": "code",
   "execution_count": null,
   "metadata": {},
   "outputs": [],
   "source": [
    "results_df.sort_values(\"total_profit\", ascending=False, inplace=True)\n",
    "with pd.option_context('display.max_rows', None,\n",
    "                       'display.max_columns', None,\n",
    "                       'display.precision', 3,\n",
    "                       ):\n",
    "    print(results_df)"
   ]
  },
  {
   "cell_type": "code",
   "execution_count": null,
   "metadata": {},
   "outputs": [],
   "source": [
    "from datetime import datetime\n",
    "\n",
    "def get_number_of_years(start_date, end_date):\n",
    "    start = datetime.strptime(start_date, \"%Y-%m-%d\")\n",
    "    end = datetime.strptime(end_date, \"%Y-%m-%d\")\n",
    "    delta = end - start\n",
    "    return delta.days / 365.25\n",
    "\n",
    "top_profit = results_df['total_profit'].max()\n",
    "years = get_number_of_years(cfg.start_date, cfg.end_date)\n",
    "top_yearly_profit = pow(top_profit, 1 / years)\n",
    "\n",
    "print(f\"years: {years:.2f}, top_profit: x{top_profit:.2f}, top_yearly_profit: x{top_yearly_profit:.2f}\")"
   ]
  }
 ],
 "metadata": {
  "kernelspec": {
   "display_name": "Python 3",
   "language": "python",
   "name": "python3"
  },
  "language_info": {
   "codemirror_mode": {
    "name": "ipython",
    "version": 3
   },
   "file_extension": ".py",
   "mimetype": "text/x-python",
   "name": "python",
   "nbconvert_exporter": "python",
   "pygments_lexer": "ipython3",
   "version": "3.9.10"
  },
  "orig_nbformat": 4
 },
 "nbformat": 4,
 "nbformat_minor": 2
}
