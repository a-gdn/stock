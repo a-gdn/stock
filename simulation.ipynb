{
 "cells": [
  {
   "cell_type": "code",
   "execution_count": 1,
   "metadata": {},
   "outputs": [],
   "source": [
    "import yfinance as yf\n",
    "import pandas as pd\n",
    "import numpy as np\n",
    "\n",
    "import config as cfg"
   ]
  },
  {
   "cell_type": "code",
   "execution_count": 2,
   "metadata": {},
   "outputs": [
    {
     "name": "stdout",
     "output_type": "stream",
     "text": [
      "[*********************100%***********************]  212 of 212 completed\n",
      "\n",
      "14 Failed downloads:\n",
      "- EUCAR.PA: No data found, symbol may be delisted\n",
      "- HOLN.PA: No data found, symbol may be delisted\n",
      "- ATI.PA: No data found, symbol may be delisted\n",
      "- GOE.PA: No data found, symbol may be delisted\n",
      "- STM.PA: No data found, symbol may be delisted\n",
      "- 2CRSI.PA: No data found, symbol may be delisted\n",
      "- PHA.PA: No data found, symbol may be delisted\n",
      "- TIS.MI: No data found, symbol may be delisted\n",
      "- ATA.PA: No data found, symbol may be delisted\n",
      "- CNP.PA: No data found, symbol may be delisted\n",
      "- ABIO.PA: No data found, symbol may be delisted\n",
      "- AKA.PA: No data found, symbol may be delisted\n",
      "- HEXA.PA: No data found, symbol may be delisted\n",
      "- URW.AS: No data found, symbol may be delisted\n",
      "                       Close                                                \\\n",
      "                    2CRSI.PA  A2A.MI AB.PA ABCA.PA ABIO.PA ABNX.PA ABVX.PA   \n",
      "Date                                                                         \n",
      "2012-01-03 00:00:00      NaN     NaN   NaN     NaN     NaN     NaN     NaN   \n",
      "2012-01-04 00:00:00      NaN  0.7575  5.60    6.18     NaN     NaN     NaN   \n",
      "2012-01-05 00:00:00      NaN  0.7265  5.44    6.23     NaN     NaN     NaN   \n",
      "2012-01-06 00:00:00      NaN  0.7225  5.40    6.14     NaN     NaN     NaN   \n",
      "2012-01-09 00:00:00      NaN  0.7165  5.50    6.17     NaN     NaN     NaN   \n",
      "2012-01-10 00:00:00      NaN  0.7290  5.45    6.15     NaN     NaN     NaN   \n",
      "2012-01-11 00:00:00      NaN  0.7215  5.40    6.13     NaN     NaN     NaN   \n",
      "2012-01-12 00:00:00      NaN  0.7250  5.71    6.15     NaN     NaN     NaN   \n",
      "2012-01-13 00:00:00      NaN  0.7040  5.85    6.17     NaN     NaN     NaN   \n",
      "2012-01-16 00:00:00      NaN  0.6945  5.92    6.21     NaN     NaN     NaN   \n",
      "\n",
      "                                                     ...             \\\n",
      "                         AC.PA    ACA.PA     ADP.PA  ...     VIV.PA   \n",
      "Date                                                 ...              \n",
      "2012-01-03 00:00:00        NaN       NaN        NaN  ...        NaN   \n",
      "2012-01-04 00:00:00  19.670000  4.140738  52.770000  ...  16.446779   \n",
      "2012-01-05 00:00:00  18.959999  3.925035  51.799999  ...  16.146778   \n",
      "2012-01-06 00:00:00  19.105000  3.976072  52.000000  ...  16.016134   \n",
      "2012-01-09 00:00:00  18.795000  3.893257  51.799999  ...  15.793553   \n",
      "2012-01-10 00:00:00  19.754999  3.964516  53.570000  ...  15.754843   \n",
      "2012-01-11 00:00:00  19.650000  3.996294  53.230000  ...  15.493553   \n",
      "2012-01-12 00:00:00  20.400000  4.067553  53.939999  ...  15.474198   \n",
      "2012-01-13 00:00:00  20.735001  4.052146  53.970001  ...  15.358069   \n",
      "2012-01-16 00:00:00  21.129999  4.094516  54.759998  ...  15.561295   \n",
      "\n",
      "                                                                           \\\n",
      "                           VK.PA VLA.PA   VLTSA.PA VMX.PA VRLA.PA WAVE.PA   \n",
      "Date                                                                        \n",
      "2012-01-03 00:00:00          NaN    NaN        NaN    NaN     NaN     NaN   \n",
      "2012-01-04 00:00:00  1247.559937   5.70   6.160677    NaN     NaN  4.1625   \n",
      "2012-01-05 00:00:00  1234.093628   5.60   8.169593    NaN     NaN  4.1625   \n",
      "2012-01-06 00:00:00  1238.662598   5.63   8.169593    NaN     NaN  4.1550   \n",
      "2012-01-09 00:00:00  1224.715332   5.70   8.169593    NaN     NaN  4.1375   \n",
      "2012-01-10 00:00:00  1267.038086   5.75   8.169593    NaN     NaN  4.2000   \n",
      "2012-01-11 00:00:00  1278.580688   5.82  10.848149    NaN     NaN  4.1375   \n",
      "2012-01-12 00:00:00  1292.527954   5.84  10.848149    NaN     NaN  4.1825   \n",
      "2012-01-13 00:00:00  1295.654053   5.82  10.848149    NaN     NaN  4.1500   \n",
      "2012-01-16 00:00:00  1307.917969   5.94  14.062415    NaN     NaN  4.1875   \n",
      "\n",
      "                                                 \n",
      "                    WLN.PA XFAB.PA        ^FCHI  \n",
      "Date                                             \n",
      "2012-01-03 00:00:00    NaN     NaN          NaN  \n",
      "2012-01-04 00:00:00    NaN     NaN  3193.649902  \n",
      "2012-01-05 00:00:00    NaN     NaN  3144.909912  \n",
      "2012-01-06 00:00:00    NaN     NaN  3137.360107  \n",
      "2012-01-09 00:00:00    NaN     NaN  3127.689941  \n",
      "2012-01-10 00:00:00    NaN     NaN  3210.790039  \n",
      "2012-01-11 00:00:00    NaN     NaN  3204.830078  \n",
      "2012-01-12 00:00:00    NaN     NaN  3199.979980  \n",
      "2012-01-13 00:00:00    NaN     NaN  3196.489990  \n",
      "2012-01-16 00:00:00    NaN     NaN  3225.000000  \n",
      "\n",
      "[10 rows x 212 columns]\n"
     ]
    }
   ],
   "source": [
    "# Download stock prices\n",
    "stock_data = yf.download(cfg.tickers, start=cfg.start_date, end=cfg.end_date)\n",
    "\n",
    "df = pd.DataFrame(stock_data) # Transform stock prices to a dataframe\n",
    "df = df.sort_values(\"Date\") # stock_data is not ordered by default\n",
    "df = df[[\"Close\"]]\n",
    "print(df.head(10))"
   ]
  },
  {
   "cell_type": "code",
   "execution_count": 3,
   "metadata": {},
   "outputs": [
    {
     "name": "stdout",
     "output_type": "stream",
     "text": [
      "Number of combinations: 1, Estimated time: 0.17 minutes\n"
     ]
    }
   ],
   "source": [
    "watch_days_range = [2]\n",
    "hold_days_days_range = [5]\n",
    "num_stocks_to_buy_range = [3]\n",
    "loss_limit_range = [1]\n",
    "\n",
    "# watch_days_range = [5,30]\n",
    "# hold_days_days_range = [5,30]\n",
    "# num_stocks_to_buy_range = [1]\n",
    "# loss_limit_range = [0.99,0.9]\n",
    "\n",
    "num_combinations = len(watch_days_range) * len(hold_days_days_range) * len(num_stocks_to_buy_range) * len(loss_limit_range)\n",
    "combinations_per_minute = 6\n",
    "\n",
    "print(f\"Number of combinations: {num_combinations}, Estimated time: {(num_combinations / combinations_per_minute):.2f} minutes\")"
   ]
  },
  {
   "cell_type": "code",
   "execution_count": 5,
   "metadata": {},
   "outputs": [
    {
     "name": "stdout",
     "output_type": "stream",
     "text": [
      "Combination: 1 / 1\n"
     ]
    }
   ],
   "source": [
    "results = []\n",
    "combination_index = 0\n",
    "\n",
    "for watch_days in watch_days_range:  # watch_days represents the number of days for price increase calculation\n",
    "    for hold_days in hold_days_days_range:  # hold_days represents the number of additional days before selling. Repeat for each period of watch_days plus hold_days\n",
    "        num_iterations = int(len(df) / (watch_days + hold_days)) - 1\n",
    "\n",
    "        for num_stocks_to_buy in num_stocks_to_buy_range:  # num_stocks_to_buy represents the number of stocks to buy\n",
    "            for loss_limit in loss_limit_range:  # loss_limit represents the percentage decrease threshold for selling\n",
    "                total_profit = 1\n",
    "\n",
    "                for i in range(num_iterations):\n",
    "                    start_watch_day_number = i * (watch_days + hold_days)\n",
    "                    buy_day_number = start_watch_day_number + watch_days\n",
    "                    sell_day_number = buy_day_number + hold_days\n",
    "\n",
    "                    price_increase = df[start_watch_day_number:buy_day_number].pct_change(watch_days - 1).tail(1) # Calculate the price increase in the last watch_days days for each stock\n",
    "                    price_increase.dropna(axis=1) # Remove columns with n/a values\n",
    "\n",
    "                    top_stocks = price_increase.squeeze().nlargest(num_stocks_to_buy).index # Select the num_stocks_to_buy stocks with the highest price increase\n",
    "\n",
    "                    buy_prices = df.loc[df.index[buy_day_number], top_stocks] # Calculate the buying prices at the start of the hold period\n",
    "                    hold_end_prices = df.loc[df.index[sell_day_number], top_stocks] # Calculate the selling prices after watch_days + hold_days days\n",
    "                    hold_end_prices = hold_end_prices.sort_index(axis=0)\n",
    "                    min_prices = df.iloc[buy_day_number+1:sell_day_number].min() # Calculate the minimum price in the holding period\n",
    "                    min_prices = min_prices.loc[min_prices.index.intersection(top_stocks)]\n",
    "                    min_prices = min_prices.sort_index(axis=0)\n",
    "                    sell_prices = pd.DataFrame.min(pd.concat([hold_end_prices, min_prices]), axis=0)\n",
    "\n",
    "                    # profits = (sell_prices * (1 - cfg.fee)) / (buy_prices * (1 + cfg.fee)) # Calculate the profit for each stock\n",
    "\n",
    "                    # sell_mask = profits < loss_limit # Filter the stocks to sell based on decrease threshold loss_limit\n",
    "                    # sell_mask_day_range = np.arange(buy_day_number + 1, sell_day_number + 1)\n",
    "                    # sell_mask = np.any(profits.loc[:, sell_mask_day_range] < loss_limit)\n",
    "                    # profits[sell_mask] = loss_limit  # Set profit to loss_limit for stocks that decrease beyond threshold\n",
    "\n",
    "                    # profit = profits.mean(skipna=True)\n",
    "                    # total_profit *= profit if np.isfinite(profit) else 1 # Calculate the total profit for the selected stocks (i.e. average of profits)\n",
    "\n",
    "                results.append({'watch_days': watch_days, 'num_stocks_to_buy': num_stocks_to_buy, 'hold_days': hold_days,\n",
    "                                'loss_limit': loss_limit, 'total_profit': total_profit})\n",
    "                \n",
    "                print(f\"Combination: {combination_index + 1} / {num_combinations}\")\n",
    "                combination_index += 1\n",
    "\n",
    "results_df = pd.DataFrame(results)"
   ]
  },
  {
   "cell_type": "code",
   "execution_count": null,
   "metadata": {},
   "outputs": [],
   "source": [
    "print(results_df)"
   ]
  },
  {
   "cell_type": "code",
   "execution_count": null,
   "metadata": {},
   "outputs": [],
   "source": [
    "results_df.sort_values(\"total_profit\", ascending=False, inplace=True)\n",
    "with pd.option_context('display.max_rows', None,\n",
    "                       'display.max_columns', None,\n",
    "                       'display.precision', 3,\n",
    "                       ):\n",
    "    print(results_df)"
   ]
  },
  {
   "cell_type": "code",
   "execution_count": null,
   "metadata": {},
   "outputs": [],
   "source": [
    "from datetime import datetime\n",
    "\n",
    "def get_number_of_years(start_date, end_date):\n",
    "    start = datetime.strptime(start_date, \"%Y-%m-%d\")\n",
    "    end = datetime.strptime(end_date, \"%Y-%m-%d\")\n",
    "    delta = end - start\n",
    "    return delta.days / 365.25\n",
    "\n",
    "top_profit = results_df['total_profit'].max()\n",
    "years = get_number_of_years(cfg.start_date, cfg.end_date)\n",
    "top_yearly_profit = pow(top_profit, 1 / years)\n",
    "\n",
    "print(f\"years: {years:.2f}, top_profit: x{top_profit:.2f}, top_yearly_profit: x{top_yearly_profit:.2f}\")"
   ]
  }
 ],
 "metadata": {
  "kernelspec": {
   "display_name": "Python 3",
   "language": "python",
   "name": "python3"
  },
  "language_info": {
   "codemirror_mode": {
    "name": "ipython",
    "version": 3
   },
   "file_extension": ".py",
   "mimetype": "text/x-python",
   "name": "python",
   "nbconvert_exporter": "python",
   "pygments_lexer": "ipython3",
   "version": "3.9.10"
  },
  "orig_nbformat": 4
 },
 "nbformat": 4,
 "nbformat_minor": 2
}
