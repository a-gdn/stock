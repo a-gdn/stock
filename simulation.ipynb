{
 "cells": [
  {
   "cell_type": "code",
   "execution_count": 1,
   "metadata": {},
   "outputs": [],
   "source": [
    "import yfinance as yf\n",
    "import pandas as pd\n",
    "import numpy as np\n",
    "\n",
    "import config as cfg"
   ]
  },
  {
   "cell_type": "code",
   "execution_count": 2,
   "metadata": {},
   "outputs": [
    {
     "name": "stdout",
     "output_type": "stream",
     "text": [
      "[*********************100%***********************]  212 of 212 completed\n",
      "\n",
      "14 Failed downloads:\n",
      "- EUCAR.PA: No data found, symbol may be delisted\n",
      "- 2CRSI.PA: No data found, symbol may be delisted\n",
      "- PHA.PA: No data found, symbol may be delisted\n",
      "- GOE.PA: No data found, symbol may be delisted\n",
      "- ABIO.PA: No data found, symbol may be delisted\n",
      "- CNP.PA: No data found, symbol may be delisted\n",
      "- HOLN.PA: No data found, symbol may be delisted\n",
      "- AKA.PA: No data found, symbol may be delisted\n",
      "- URW.AS: No data found, symbol may be delisted\n",
      "- TIS.MI: No data found, symbol may be delisted\n",
      "- ATI.PA: No data found, symbol may be delisted\n",
      "- STM.PA: No data found, symbol may be delisted\n",
      "- ATA.PA: No data found, symbol may be delisted\n",
      "- HEXA.PA: No data found, symbol may be delisted\n",
      "                     2CRSI.PA  A2A.MI  AB.PA  ABCA.PA  ABIO.PA  ABNX.PA  \\\n",
      "Date                                                                      \n",
      "2012-01-03 00:00:00       NaN     NaN    NaN      NaN      NaN      NaN   \n",
      "2012-01-04 00:00:00       NaN  0.7575   5.60     6.18      NaN      NaN   \n",
      "2012-01-05 00:00:00       NaN  0.7265   5.44     6.23      NaN      NaN   \n",
      "2012-01-06 00:00:00       NaN  0.7225   5.40     6.14      NaN      NaN   \n",
      "2012-01-09 00:00:00       NaN  0.7165   5.50     6.17      NaN      NaN   \n",
      "2012-01-10 00:00:00       NaN  0.7290   5.45     6.15      NaN      NaN   \n",
      "2012-01-11 00:00:00       NaN  0.7215   5.40     6.13      NaN      NaN   \n",
      "2012-01-12 00:00:00       NaN  0.7250   5.71     6.15      NaN      NaN   \n",
      "2012-01-13 00:00:00       NaN  0.7040   5.85     6.17      NaN      NaN   \n",
      "2012-01-16 00:00:00       NaN  0.6945   5.92     6.21      NaN      NaN   \n",
      "\n",
      "                     ABVX.PA      AC.PA    ACA.PA     ADP.PA  ...     VIV.PA  \\\n",
      "Date                                                          ...              \n",
      "2012-01-03 00:00:00      NaN        NaN       NaN        NaN  ...        NaN   \n",
      "2012-01-04 00:00:00      NaN  19.670000  4.140738  52.770000  ...  16.446779   \n",
      "2012-01-05 00:00:00      NaN  18.959999  3.925035  51.799999  ...  16.146778   \n",
      "2012-01-06 00:00:00      NaN  19.105000  3.976072  52.000000  ...  16.016134   \n",
      "2012-01-09 00:00:00      NaN  18.795000  3.893257  51.799999  ...  15.793553   \n",
      "2012-01-10 00:00:00      NaN  19.754999  3.964516  53.570000  ...  15.754843   \n",
      "2012-01-11 00:00:00      NaN  19.650000  3.996294  53.230000  ...  15.493553   \n",
      "2012-01-12 00:00:00      NaN  20.400000  4.067553  53.939999  ...  15.474198   \n",
      "2012-01-13 00:00:00      NaN  20.735001  4.052146  53.970001  ...  15.358069   \n",
      "2012-01-16 00:00:00      NaN  21.129999  4.094516  54.759998  ...  15.561295   \n",
      "\n",
      "                           VK.PA  VLA.PA   VLTSA.PA  VMX.PA  VRLA.PA  WAVE.PA  \\\n",
      "Date                                                                            \n",
      "2012-01-03 00:00:00          NaN     NaN        NaN     NaN      NaN      NaN   \n",
      "2012-01-04 00:00:00  1247.559937    5.70   6.160677     NaN      NaN   4.1625   \n",
      "2012-01-05 00:00:00  1234.093628    5.60   8.169593     NaN      NaN   4.1625   \n",
      "2012-01-06 00:00:00  1238.662598    5.63   8.169593     NaN      NaN   4.1550   \n",
      "2012-01-09 00:00:00  1224.715332    5.70   8.169593     NaN      NaN   4.1375   \n",
      "2012-01-10 00:00:00  1267.038086    5.75   8.169593     NaN      NaN   4.2000   \n",
      "2012-01-11 00:00:00  1278.580688    5.82  10.848149     NaN      NaN   4.1375   \n",
      "2012-01-12 00:00:00  1292.527954    5.84  10.848149     NaN      NaN   4.1825   \n",
      "2012-01-13 00:00:00  1295.654053    5.82  10.848149     NaN      NaN   4.1500   \n",
      "2012-01-16 00:00:00  1307.917969    5.94  14.062415     NaN      NaN   4.1875   \n",
      "\n",
      "                     WLN.PA  XFAB.PA        ^FCHI  \n",
      "Date                                               \n",
      "2012-01-03 00:00:00     NaN      NaN          NaN  \n",
      "2012-01-04 00:00:00     NaN      NaN  3193.649902  \n",
      "2012-01-05 00:00:00     NaN      NaN  3144.909912  \n",
      "2012-01-06 00:00:00     NaN      NaN  3137.360107  \n",
      "2012-01-09 00:00:00     NaN      NaN  3127.689941  \n",
      "2012-01-10 00:00:00     NaN      NaN  3210.790039  \n",
      "2012-01-11 00:00:00     NaN      NaN  3204.830078  \n",
      "2012-01-12 00:00:00     NaN      NaN  3199.979980  \n",
      "2012-01-13 00:00:00     NaN      NaN  3196.489990  \n",
      "2012-01-16 00:00:00     NaN      NaN  3225.000000  \n",
      "\n",
      "[10 rows x 212 columns]\n"
     ]
    }
   ],
   "source": [
    "# Download stock prices\n",
    "stock_data = yf.download(cfg.tickers, start=cfg.start_date, end=cfg.end_date)\n",
    "\n",
    "df = pd.DataFrame(stock_data) # Transform stock prices to a dataframe\n",
    "df = df.sort_values(\"Date\") # stock_data is not ordered by default\n",
    "df = df[[\"Close\"]]\n",
    "df.columns = df.columns.droplevel(0) # Convert to single level columns\n",
    "print(df.head(10))"
   ]
  },
  {
   "cell_type": "code",
   "execution_count": 28,
   "metadata": {},
   "outputs": [
    {
     "name": "stdout",
     "output_type": "stream",
     "text": [
      "Number of combinations: 64, Estimated time: 10.67 minutes\n"
     ]
    }
   ],
   "source": [
    "# watch_days_range = [2]\n",
    "# hold_days_range = [5]\n",
    "# num_stocks_to_buy_range = [1]\n",
    "# loss_limit_range = [0.995]\n",
    "\n",
    "watch_days_range = [1,2,3]\n",
    "hold_days_range = [4,5,6,7,8]\n",
    "num_stocks_to_buy_range = [1,2]\n",
    "loss_limit_range = [0.999,0.99]\n",
    "\n",
    "num_combinations = len(watch_days_range) * len(hold_days_range) * len(num_stocks_to_buy_range) * len(loss_limit_range)\n",
    "combinations_per_minute = 6\n",
    "\n",
    "print(f\"Number of combinations: {num_combinations}, Estimated time: {(num_combinations / combinations_per_minute):.2f} minutes\")"
   ]
  },
  {
   "cell_type": "code",
   "execution_count": 29,
   "metadata": {},
   "outputs": [
    {
     "name": "stdout",
     "output_type": "stream",
     "text": [
      "Combination: 1 / 64\n",
      "Combination: 2 / 64\n"
     ]
    },
    {
     "ename": "KeyboardInterrupt",
     "evalue": "",
     "output_type": "error",
     "traceback": [
      "\u001b[0;31m---------------------------------------------------------------------------\u001b[0m",
      "\u001b[0;31mOSError\u001b[0m                                   Traceback (most recent call last)",
      "File \u001b[0;32m/usr/local/Cellar/python@3.9/3.9.10/Frameworks/Python.framework/Versions/3.9/lib/python3.9/shutil.py:1365\u001b[0m, in \u001b[0;36mget_terminal_size\u001b[0;34m(fallback)\u001b[0m\n\u001b[1;32m   1364\u001b[0m \u001b[39mtry\u001b[39;00m:\n\u001b[0;32m-> 1365\u001b[0m     size \u001b[39m=\u001b[39m os\u001b[39m.\u001b[39;49mget_terminal_size(sys\u001b[39m.\u001b[39;49m__stdout__\u001b[39m.\u001b[39;49mfileno())\n\u001b[1;32m   1366\u001b[0m \u001b[39mexcept\u001b[39;00m (\u001b[39mAttributeError\u001b[39;00m, \u001b[39mValueError\u001b[39;00m, \u001b[39mOSError\u001b[39;00m):\n\u001b[1;32m   1367\u001b[0m     \u001b[39m# stdout is None, closed, detached, or not a terminal, or\u001b[39;00m\n\u001b[1;32m   1368\u001b[0m     \u001b[39m# os.get_terminal_size() is unsupported\u001b[39;00m\n",
      "\u001b[0;31mOSError\u001b[0m: [Errno 25] Inappropriate ioctl for device",
      "\nDuring handling of the above exception, another exception occurred:\n",
      "\u001b[0;31mKeyboardInterrupt\u001b[0m                         Traceback (most recent call last)",
      "\u001b[1;32m/Users/alexis/code/stock/simulation.ipynb Cell 4\u001b[0m in \u001b[0;36m<module>\u001b[0;34m\u001b[0m\n\u001b[1;32m     <a href='vscode-notebook-cell:/Users/alexis/code/stock/simulation.ipynb#W3sZmlsZQ%3D%3D?line=34'>35</a>\u001b[0m condition \u001b[39m=\u001b[39m min_prices \u001b[39m<\u001b[39m limit_prices\n\u001b[1;32m     <a href='vscode-notebook-cell:/Users/alexis/code/stock/simulation.ipynb#W3sZmlsZQ%3D%3D?line=36'>37</a>\u001b[0m sell_prices \u001b[39m=\u001b[39m hold_prices\u001b[39m.\u001b[39mcopy()\n\u001b[0;32m---> <a href='vscode-notebook-cell:/Users/alexis/code/stock/simulation.ipynb#W3sZmlsZQ%3D%3D?line=37'>38</a>\u001b[0m sell_prices[condition] \u001b[39m=\u001b[39m limit_prices[condition]\n\u001b[1;32m     <a href='vscode-notebook-cell:/Users/alexis/code/stock/simulation.ipynb#W3sZmlsZQ%3D%3D?line=39'>40</a>\u001b[0m profits \u001b[39m=\u001b[39m (sell_prices \u001b[39m*\u001b[39m (\u001b[39m1\u001b[39m \u001b[39m-\u001b[39m cfg\u001b[39m.\u001b[39mfee)) \u001b[39m/\u001b[39m (buy_prices \u001b[39m*\u001b[39m (\u001b[39m1\u001b[39m \u001b[39m+\u001b[39m cfg\u001b[39m.\u001b[39mfee)) \u001b[39m# Calculate the profit for each stock\u001b[39;00m\n\u001b[1;32m     <a href='vscode-notebook-cell:/Users/alexis/code/stock/simulation.ipynb#W3sZmlsZQ%3D%3D?line=40'>41</a>\u001b[0m profits \u001b[39m=\u001b[39m profits\u001b[39m.\u001b[39mdropna()\n",
      "File \u001b[0;32m/usr/local/lib/python3.9/site-packages/pandas/core/series.py:1085\u001b[0m, in \u001b[0;36mSeries.__setitem__\u001b[0;34m(self, key, value)\u001b[0m\n\u001b[1;32m   1082\u001b[0m     \u001b[39mreturn\u001b[39;00m \u001b[39mself\u001b[39m\u001b[39m.\u001b[39m_set_values(indexer, value)\n\u001b[1;32m   1084\u001b[0m \u001b[39mtry\u001b[39;00m:\n\u001b[0;32m-> 1085\u001b[0m     \u001b[39mself\u001b[39;49m\u001b[39m.\u001b[39;49m_set_with_engine(key, value)\n\u001b[1;32m   1086\u001b[0m \u001b[39mexcept\u001b[39;00m (\u001b[39mKeyError\u001b[39;00m, \u001b[39mValueError\u001b[39;00m):\n\u001b[1;32m   1087\u001b[0m     \u001b[39mif\u001b[39;00m is_integer(key) \u001b[39mand\u001b[39;00m \u001b[39mself\u001b[39m\u001b[39m.\u001b[39mindex\u001b[39m.\u001b[39minferred_type \u001b[39m!=\u001b[39m \u001b[39m\"\u001b[39m\u001b[39minteger\u001b[39m\u001b[39m\"\u001b[39m:\n\u001b[1;32m   1088\u001b[0m         \u001b[39m# positional setter\u001b[39;00m\n",
      "File \u001b[0;32m/usr/local/lib/python3.9/site-packages/pandas/core/series.py:1146\u001b[0m, in \u001b[0;36mSeries._set_with_engine\u001b[0;34m(self, key, value)\u001b[0m\n\u001b[1;32m   1145\u001b[0m \u001b[39mdef\u001b[39;00m \u001b[39m_set_with_engine\u001b[39m(\u001b[39mself\u001b[39m, key, value) \u001b[39m-\u001b[39m\u001b[39m>\u001b[39m \u001b[39mNone\u001b[39;00m:\n\u001b[0;32m-> 1146\u001b[0m     loc \u001b[39m=\u001b[39m \u001b[39mself\u001b[39;49m\u001b[39m.\u001b[39;49mindex\u001b[39m.\u001b[39;49mget_loc(key)\n\u001b[1;32m   1148\u001b[0m     \u001b[39m# this is equivalent to self._values[key] = value\u001b[39;00m\n\u001b[1;32m   1149\u001b[0m     \u001b[39mself\u001b[39m\u001b[39m.\u001b[39m_mgr\u001b[39m.\u001b[39msetitem_inplace(loc, value)\n",
      "File \u001b[0;32m/usr/local/lib/python3.9/site-packages/pandas/core/indexes/base.py:3621\u001b[0m, in \u001b[0;36mIndex.get_loc\u001b[0;34m(self, key, method, tolerance)\u001b[0m\n\u001b[1;32m   3619\u001b[0m casted_key \u001b[39m=\u001b[39m \u001b[39mself\u001b[39m\u001b[39m.\u001b[39m_maybe_cast_indexer(key)\n\u001b[1;32m   3620\u001b[0m \u001b[39mtry\u001b[39;00m:\n\u001b[0;32m-> 3621\u001b[0m     \u001b[39mreturn\u001b[39;00m \u001b[39mself\u001b[39;49m\u001b[39m.\u001b[39;49m_engine\u001b[39m.\u001b[39;49mget_loc(casted_key)\n\u001b[1;32m   3622\u001b[0m \u001b[39mexcept\u001b[39;00m \u001b[39mKeyError\u001b[39;00m \u001b[39mas\u001b[39;00m err:\n\u001b[1;32m   3623\u001b[0m     \u001b[39mraise\u001b[39;00m \u001b[39mKeyError\u001b[39;00m(key) \u001b[39mfrom\u001b[39;00m \u001b[39merr\u001b[39;00m\n",
      "File \u001b[0;32m/usr/local/lib/python3.9/site-packages/pandas/_libs/index.pyx:136\u001b[0m, in \u001b[0;36mpandas._libs.index.IndexEngine.get_loc\u001b[0;34m()\u001b[0m\n",
      "File \u001b[0;32m/usr/local/lib/python3.9/site-packages/pandas/_libs/index.pyx:142\u001b[0m, in \u001b[0;36mpandas._libs.index.IndexEngine.get_loc\u001b[0;34m()\u001b[0m\n",
      "File \u001b[0;32m/usr/local/lib/python3.9/site-packages/pandas/core/series.py:1503\u001b[0m, in \u001b[0;36mSeries.__repr__\u001b[0;34m(self)\u001b[0m\n\u001b[1;32m   1499\u001b[0m \u001b[39mdef\u001b[39;00m \u001b[39m__repr__\u001b[39m(\u001b[39mself\u001b[39m) \u001b[39m-\u001b[39m\u001b[39m>\u001b[39m \u001b[39mstr\u001b[39m:\n\u001b[1;32m   1500\u001b[0m     \u001b[39m\"\"\"\u001b[39;00m\n\u001b[1;32m   1501\u001b[0m \u001b[39m    Return a string representation for a particular Series.\u001b[39;00m\n\u001b[1;32m   1502\u001b[0m \u001b[39m    \"\"\"\u001b[39;00m\n\u001b[0;32m-> 1503\u001b[0m     repr_params \u001b[39m=\u001b[39m fmt\u001b[39m.\u001b[39;49mget_series_repr_params()\n\u001b[1;32m   1504\u001b[0m     \u001b[39mreturn\u001b[39;00m \u001b[39mself\u001b[39m\u001b[39m.\u001b[39mto_string(\u001b[39m*\u001b[39m\u001b[39m*\u001b[39mrepr_params)\n",
      "File \u001b[0;32m/usr/local/lib/python3.9/site-packages/pandas/io/formats/format.py:533\u001b[0m, in \u001b[0;36mget_series_repr_params\u001b[0;34m()\u001b[0m\n\u001b[1;32m    516\u001b[0m \u001b[39mdef\u001b[39;00m \u001b[39mget_series_repr_params\u001b[39m() \u001b[39m-\u001b[39m\u001b[39m>\u001b[39m \u001b[39mdict\u001b[39m[\u001b[39mstr\u001b[39m, Any]:\n\u001b[1;32m    517\u001b[0m     \u001b[39m\"\"\"Get the parameters used to repr(Series) calls using Series.to_string.\u001b[39;00m\n\u001b[1;32m    518\u001b[0m \n\u001b[1;32m    519\u001b[0m \u001b[39m    Supplying these parameters to Series.to_string is equivalent to calling\u001b[39;00m\n\u001b[0;32m   (...)\u001b[0m\n\u001b[1;32m    531\u001b[0m \u001b[39m    True\u001b[39;00m\n\u001b[1;32m    532\u001b[0m \u001b[39m    \"\"\"\u001b[39;00m\n\u001b[0;32m--> 533\u001b[0m     width, height \u001b[39m=\u001b[39m get_terminal_size()\n\u001b[1;32m    534\u001b[0m     max_rows \u001b[39m=\u001b[39m (\n\u001b[1;32m    535\u001b[0m         height\n\u001b[1;32m    536\u001b[0m         \u001b[39mif\u001b[39;00m get_option(\u001b[39m\"\u001b[39m\u001b[39mdisplay.max_rows\u001b[39m\u001b[39m\"\u001b[39m) \u001b[39m==\u001b[39m \u001b[39m0\u001b[39m\n\u001b[1;32m    537\u001b[0m         \u001b[39melse\u001b[39;00m get_option(\u001b[39m\"\u001b[39m\u001b[39mdisplay.max_rows\u001b[39m\u001b[39m\"\u001b[39m)\n\u001b[1;32m    538\u001b[0m     )\n\u001b[1;32m    539\u001b[0m     min_rows \u001b[39m=\u001b[39m (\n\u001b[1;32m    540\u001b[0m         height\n\u001b[1;32m    541\u001b[0m         \u001b[39mif\u001b[39;00m get_option(\u001b[39m\"\u001b[39m\u001b[39mdisplay.max_rows\u001b[39m\u001b[39m\"\u001b[39m) \u001b[39m==\u001b[39m \u001b[39m0\u001b[39m\n\u001b[1;32m    542\u001b[0m         \u001b[39melse\u001b[39;00m get_option(\u001b[39m\"\u001b[39m\u001b[39mdisplay.min_rows\u001b[39m\u001b[39m\"\u001b[39m)\n\u001b[1;32m    543\u001b[0m     )\n",
      "File \u001b[0;32m/usr/local/Cellar/python@3.9/3.9.10/Frameworks/Python.framework/Versions/3.9/lib/python3.9/shutil.py:1366\u001b[0m, in \u001b[0;36mget_terminal_size\u001b[0;34m(fallback)\u001b[0m\n\u001b[1;32m   1364\u001b[0m \u001b[39mtry\u001b[39;00m:\n\u001b[1;32m   1365\u001b[0m     size \u001b[39m=\u001b[39m os\u001b[39m.\u001b[39mget_terminal_size(sys\u001b[39m.\u001b[39m__stdout__\u001b[39m.\u001b[39mfileno())\n\u001b[0;32m-> 1366\u001b[0m \u001b[39mexcept\u001b[39;00m (\u001b[39mAttributeError\u001b[39;00m, \u001b[39mValueError\u001b[39;49;00m, \u001b[39mOSError\u001b[39;00m):\n\u001b[1;32m   1367\u001b[0m     \u001b[39m# stdout is None, closed, detached, or not a terminal, or\u001b[39;00m\n\u001b[1;32m   1368\u001b[0m     \u001b[39m# os.get_terminal_size() is unsupported\u001b[39;00m\n\u001b[1;32m   1369\u001b[0m     size \u001b[39m=\u001b[39m os\u001b[39m.\u001b[39mterminal_size(fallback)\n\u001b[1;32m   1370\u001b[0m \u001b[39mif\u001b[39;00m columns \u001b[39m<\u001b[39m\u001b[39m=\u001b[39m \u001b[39m0\u001b[39m:\n",
      "\u001b[0;31mKeyboardInterrupt\u001b[0m: "
     ]
    }
   ],
   "source": [
    "results = []\n",
    "combination_index = 0\n",
    "\n",
    "for watch_days in watch_days_range:  # watch_days represents the number of days for price increase calculation\n",
    "    for hold_days in hold_days_range:  # hold_days represents the number of additional days before selling. Repeat for each period of watch_days plus hold_days\n",
    "        num_iterations = int(len(df) / (watch_days + hold_days)) - 1\n",
    "\n",
    "        for num_stocks_to_buy in num_stocks_to_buy_range:  # num_stocks_to_buy represents the number of stocks to buy\n",
    "            for loss_limit in loss_limit_range:  # loss_limit represents the percentage decrease threshold for selling\n",
    "                total_profit = 1\n",
    "\n",
    "                for i in range(num_iterations):\n",
    "                    start_watch_day_number = i * (watch_days + hold_days)\n",
    "                    buy_day_number = start_watch_day_number + watch_days\n",
    "                    sell_day_number = buy_day_number + hold_days\n",
    "\n",
    "                    price_increase = df[start_watch_day_number:buy_day_number].pct_change(watch_days - 1).tail(1) # Calculate the price increase in the last watch_days days for each stock\n",
    "\n",
    "                    if len(price_increase.columns) >= num_stocks_to_buy:\n",
    "                        top_stocks = price_increase.squeeze().nlargest(num_stocks_to_buy).index # Select the num_stocks_to_buy stocks with the highest price increase\n",
    "                        top_stocks = top_stocks.dropna()\n",
    "\n",
    "                        buy_prices = df.loc[df.index[buy_day_number], top_stocks] # Calculate the buying prices at the start of the hold period\n",
    "                        buy_prices = buy_prices.sort_index(axis=0)\n",
    "\n",
    "                        hold_prices = df.loc[df.index[sell_day_number], top_stocks] # Calculate the selling prices after watch_days + hold_days days\n",
    "                        hold_prices = hold_prices.sort_index(axis=0)\n",
    "\n",
    "                        limit_prices = loss_limit * buy_prices\n",
    "\n",
    "                        min_prices = df.iloc[buy_day_number+1:sell_day_number].min() # Calculate the minimum price in the holding period\n",
    "                        min_prices = min_prices.loc[min_prices.index.intersection(top_stocks)]\n",
    "                        min_prices = min_prices.sort_index(axis=0)\n",
    "                        \n",
    "                        condition = min_prices < limit_prices\n",
    "\n",
    "                        sell_prices = hold_prices.copy()\n",
    "                        sell_prices[condition] = limit_prices[condition]\n",
    "\n",
    "                        profits = (sell_prices * (1 - cfg.fee)) / (buy_prices * (1 + cfg.fee)) # Calculate the profit for each stock\n",
    "                        profits = profits.dropna()\n",
    "\n",
    "                        profit = profits.mean(skipna=True)\n",
    "                        \n",
    "                        total_profit *= profit if np.isfinite(profit) else 1 # Calculate the total profit for the selected stocks (i.e. average of profits)\n",
    "\n",
    "                results.append({'watch_days': watch_days, 'num_stocks_to_buy': num_stocks_to_buy, 'hold_days': hold_days,\n",
    "                                'loss_limit': loss_limit, 'total_profit': total_profit})\n",
    "                \n",
    "                print(f\"Combination: {combination_index + 1} / {num_combinations}\")\n",
    "                combination_index += 1\n",
    "\n",
    "results_df = pd.DataFrame(results)"
   ]
  },
  {
   "cell_type": "code",
   "execution_count": null,
   "metadata": {},
   "outputs": [
    {
     "name": "stdout",
     "output_type": "stream",
     "text": [
      "    watch_days  num_stocks_to_buy  hold_days  loss_limit  total_profit\n",
      "0            1                  1          1       0.999  1.212823e-07\n",
      "1            1                  1          1       0.990  1.212823e-07\n",
      "2            1                  2          1       0.999  2.226394e-07\n",
      "3            1                  2          1       0.990  2.226394e-07\n",
      "4            1                  1          2       0.999  2.841337e-03\n",
      "5            1                  1          2       0.990  2.420377e-04\n",
      "6            1                  2          2       0.999  4.615794e-02\n",
      "7            1                  2          2       0.990  2.791479e-03\n",
      "8            2                  1          1       0.999  4.047269e-07\n",
      "9            2                  1          1       0.990  4.047269e-07\n",
      "10           2                  2          1       0.999  2.502827e-06\n",
      "11           2                  2          1       0.990  2.502827e-06\n",
      "12           2                  1          2       0.999  2.189012e+00\n",
      "13           2                  1          2       0.990  7.338900e-02\n",
      "14           2                  2          2       0.999  1.764386e+00\n",
      "15           2                  2          2       0.990  6.922687e-02\n"
     ]
    }
   ],
   "source": [
    "print(results_df)"
   ]
  },
  {
   "cell_type": "code",
   "execution_count": null,
   "metadata": {},
   "outputs": [
    {
     "name": "stdout",
     "output_type": "stream",
     "text": [
      "    watch_days  num_stocks_to_buy  hold_days  loss_limit  total_profit\n",
      "12           2                  1          2       0.999     2.189e+00\n",
      "14           2                  2          2       0.999     1.764e+00\n",
      "13           2                  1          2       0.990     7.339e-02\n",
      "15           2                  2          2       0.990     6.923e-02\n",
      "6            1                  2          2       0.999     4.616e-02\n",
      "4            1                  1          2       0.999     2.841e-03\n",
      "7            1                  2          2       0.990     2.791e-03\n",
      "5            1                  1          2       0.990     2.420e-04\n",
      "10           2                  2          1       0.999     2.503e-06\n",
      "11           2                  2          1       0.990     2.503e-06\n",
      "8            2                  1          1       0.999     4.047e-07\n",
      "9            2                  1          1       0.990     4.047e-07\n",
      "2            1                  2          1       0.999     2.226e-07\n",
      "3            1                  2          1       0.990     2.226e-07\n",
      "0            1                  1          1       0.999     1.213e-07\n",
      "1            1                  1          1       0.990     1.213e-07\n"
     ]
    }
   ],
   "source": [
    "results_df.sort_values(\"total_profit\", ascending=False, inplace=True)\n",
    "with pd.option_context('display.max_rows', None,\n",
    "                       'display.max_columns', None,\n",
    "                       'display.precision', 3,\n",
    "                       ):\n",
    "    print(results_df)"
   ]
  },
  {
   "cell_type": "code",
   "execution_count": null,
   "metadata": {},
   "outputs": [
    {
     "name": "stdout",
     "output_type": "stream",
     "text": [
      "years: 10.99, top_profit: x2.19, top_yearly_profit: x1.07\n"
     ]
    }
   ],
   "source": [
    "from datetime import datetime\n",
    "\n",
    "def get_number_of_years(start_date, end_date):\n",
    "    start = datetime.strptime(start_date, \"%Y-%m-%d\")\n",
    "    end = datetime.strptime(end_date, \"%Y-%m-%d\")\n",
    "    delta = end - start\n",
    "    return delta.days / 365.25\n",
    "\n",
    "top_profit = results_df['total_profit'].max()\n",
    "years = get_number_of_years(cfg.start_date, cfg.end_date)\n",
    "top_yearly_profit = pow(top_profit, 1 / years)\n",
    "\n",
    "print(f\"years: {years:.2f}, top_profit: x{top_profit:.2f}, top_yearly_profit: x{top_yearly_profit:.2f}\")"
   ]
  }
 ],
 "metadata": {
  "kernelspec": {
   "display_name": "Python 3",
   "language": "python",
   "name": "python3"
  },
  "language_info": {
   "codemirror_mode": {
    "name": "ipython",
    "version": 3
   },
   "file_extension": ".py",
   "mimetype": "text/x-python",
   "name": "python",
   "nbconvert_exporter": "python",
   "pygments_lexer": "ipython3",
   "version": "3.9.10"
  },
  "orig_nbformat": 4
 },
 "nbformat": 4,
 "nbformat_minor": 2
}
