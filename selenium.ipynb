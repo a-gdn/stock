{
 "cells": [
  {
   "cell_type": "code",
   "execution_count": null,
   "metadata": {},
   "outputs": [
    {
     "name": "stdout",
     "output_type": "stream",
     "text": [
      "Webpage title: Passage d'ordre intelligent - Compte-titres M GAUDIN ALEXIS n°019071118001Passage d'ordre intelligent - Compte-titres M GAUDIN ALEXIS n°019071118001\n"
     ]
    }
   ],
   "source": [
    "import time\n",
    "\n",
    "from selenium import webdriver\n",
    "from selenium.webdriver.chrome.options import Options\n",
    "from selenium.webdriver.common.by import By\n",
    "from selenium.webdriver.common.keys import Keys\n",
    "from selenium.webdriver.support.ui import Select\n",
    "\n",
    "# Terminal instrcution before running this code\n",
    "# /Applications/Google\\ Chrome.app/Contents/MacOS/Google\\ Chrome --remote-debugging-port=9222 --user-data-dir=\"/Users/alexis/temp\"\n",
    "\n",
    "def set_input_value(driver, selection_type, selection_name, value):\n",
    "    field = driver.find_element(selection_type, selection_name)\n",
    "    field.clear()\n",
    "    driver.execute_script(f\"arguments[0].value = '{value}';\", field)\n",
    "\n",
    "def select_dropdown_value(driver, element_id, selected_option):\n",
    "    dropdown = driver.find_element(By.ID, element_id)\n",
    "    select = Select(dropdown)\n",
    "    select.select_by_visible_text(selected_option)\n",
    "\n",
    "def click_button(driver, element_id):\n",
    "    button = driver.find_element(By.ID, element_id)\n",
    "    button.click()\n",
    "\n",
    "chrome_options = Options() # Configurer les options pour se connecter au port de débogage\n",
    "chrome_options.debugger_address = \"127.0.0.1:9222\"  # Adresse du port de débogage\n",
    "\n",
    "driver = webdriver.Chrome(options=chrome_options)\n",
    "print(\"Webpage title:\", driver.title)\n",
    "\n",
    "# \"Ordre intelligent Trio\" page\n",
    "iframe = driver.find_element(By.ID, \"iframe_centrale\")\n",
    "driver.switch_to.frame(iframe)\n",
    "\n",
    "ticker_field = driver.find_element(By.ID, \"isin\")\n",
    "ticker_field.clear()\n",
    "ticker_field.send_keys(\"BNP\")\n",
    "ticker_field.send_keys(Keys.ARROW_DOWN)\n",
    "ticker_field.send_keys(Keys.ARROW_DOWN)\n",
    "ticker_field.send_keys(Keys.ENTER)\n",
    "\n",
    "select_dropdown_value(driver, \"sens\", \"Achat\")\n",
    "select_dropdown_value(driver, \"reglement\", \"Comptant\")\n",
    "\n",
    "set_input_value(driver, By.ID, \"quantite\", \"1\")\n",
    "set_input_value(driver, By.NAME, \"dateValiditeString\", \"09/12/2024\")\n",
    "set_input_value(driver, By.ID, \"seuilPrisePosition\", \"0,96\")\n",
    "set_input_value(driver, By.ID, \"seuilPositionGagnante\", \"1,22\")\n",
    "set_input_value(driver, By.ID, \"seuilStopProtection\", \"0,76\")\n",
    "\n",
    "click_button(driver, \"validerStrategie\")\n",
    "\n",
    "# Confirmation page\n",
    "driver.switch_to.default_content()\n",
    "\n",
    "time.sleep(20)\n",
    "\n",
    "\n",
    "iframe = driver.find_element(By.ID, \"iframe_centrale\")\n",
    "driver.switch_to.frame(iframe)\n",
    "\n",
    "click_button(driver, \"validerStrategie\")\n"
   ]
  }
 ],
 "metadata": {
  "kernelspec": {
   "display_name": "Python 3",
   "language": "python",
   "name": "python3"
  },
  "language_info": {
   "codemirror_mode": {
    "name": "ipython",
    "version": 3
   },
   "file_extension": ".py",
   "mimetype": "text/x-python",
   "name": "python",
   "nbconvert_exporter": "python",
   "pygments_lexer": "ipython3",
   "version": "3.11.8"
  }
 },
 "nbformat": 4,
 "nbformat_minor": 2
}
