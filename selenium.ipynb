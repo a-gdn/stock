{
 "cells": [
  {
   "cell_type": "code",
   "execution_count": null,
   "metadata": {
    "vscode": {
     "languageId": "plaintext"
    }
   },
   "outputs": [],
   "source": [
    "from selenium import webdriver\n",
    "from selenium.webdriver.common.by import By\n",
    "from selenium.webdriver.chrome.options import Options\n",
    "\n",
    "# Configurer les options du navigateur\n",
    "chrome_options = Options()\n",
    "chrome_options.debugger_address = \"127.0.0.1:9222\"  # Port du remote debugging\n",
    "\n",
    "# Connecter Selenium au navigateur existant\n",
    "driver = webdriver.Chrome(executable_path=\"chemin/vers/chromedriver\", options=chrome_options)\n",
    "\n",
    "# Vérifier que Selenium est connecté\n",
    "print(\"Titre de la page actuelle :\", driver.title)\n",
    "\n",
    "# Exemple : Cliquer sur un bouton ou remplir un formulaire\n",
    "bouton = driver.find_element(By.ID, \"id_du_bouton\")\n",
    "bouton.click()\n",
    "\n",
    "# Ne fermez pas le navigateur manuellement, laissez Selenium le gérer\n"
   ]
  }
 ],
 "metadata": {
  "language_info": {
   "name": "python"
  }
 },
 "nbformat": 4,
 "nbformat_minor": 2
}
