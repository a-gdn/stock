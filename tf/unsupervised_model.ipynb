{
 "cells": [
  {
   "cell_type": "code",
   "execution_count": null,
   "metadata": {},
   "outputs": [],
   "source": [
    "import yfinance as yf\n",
    "import pandas as pd\n",
    "import numpy as np\n",
    "from sklearn.preprocessing import MinMaxScaler\n",
    "import tensorflow as tf\n",
    "import random\n",
    "\n",
    "tickers = [\"AB.PA\", \"A2A.MI\", \"ABCA.PA\", \"ABNX.PA\", \"ABVX.PA\", \"AC.PA\", \"ADP.PA\", \"AIR.PA\"]\n",
    "start_date = \"2007-07-01\"\n",
    "end_date = \"2023-10-01\"\n",
    "\n",
    "num_actions = 5\n",
    "\n",
    "initial_wallet = 10000\n",
    "\n",
    "window_size = 10 # how many previous days to look at to take a decision\n",
    "\n",
    "num_epochs = 3\n",
    "batch_size = 64"
   ]
  },
  {
   "cell_type": "markdown",
   "metadata": {},
   "source": [
    "Download data"
   ]
  },
  {
   "cell_type": "code",
   "execution_count": null,
   "metadata": {},
   "outputs": [],
   "source": [
    "# Fetch historical data for the stocks\n",
    "data = yf.download(tickers, start='2022-01-01', end='2023-01-01')\n",
    "\n",
    "def remove_top_column_name(df):\n",
    "    return df.droplevel(0, axis=1)\n",
    "\n",
    "data = data[['Close']]\n",
    "data = remove_top_column_name(data)\n",
    "\n",
    "data.head(5)"
   ]
  },
  {
   "cell_type": "markdown",
   "metadata": {},
   "source": [
    "Preprocess data"
   ]
  },
  {
   "cell_type": "code",
   "execution_count": null,
   "metadata": {},
   "outputs": [],
   "source": [
    "from sklearn.preprocessing import MinMaxScaler\n",
    "\n",
    "# Normalize the data column by column\n",
    "scaler = MinMaxScaler(feature_range=(-1, 1))\n",
    "\n",
    "normalized_data = pd.DataFrame()\n",
    "normalized_data[tickers] = scaler.fit_transform(data[tickers])\n",
    "\n",
    "normalized_data.head(5)"
   ]
  },
  {
   "cell_type": "code",
   "execution_count": null,
   "metadata": {},
   "outputs": [],
   "source": [
    "def create_sequences(data, window_size):\n",
    "    sequences = []\n",
    "\n",
    "    for i in range(len(data) - window_size):\n",
    "        sequence = data[i : i + window_size]\n",
    "        sequences.append(sequence)\n",
    "    return np.array(sequences)\n",
    "\n",
    "# Create sliding window sequences\n",
    "sequences = create_sequences(normalized_data, window_size)\n",
    "\n",
    "print(sequences)"
   ]
  },
  {
   "cell_type": "code",
   "execution_count": null,
   "metadata": {},
   "outputs": [],
   "source": [
    "# Define the state space for the model (input shape)\n",
    "input_shape = sequences.shape[1:]  # Shape of each sequence\n",
    "\n",
    "print(input_shape)"
   ]
  },
  {
   "cell_type": "markdown",
   "metadata": {},
   "source": [
    "Define Reinforcement Learning Environment"
   ]
  },
  {
   "cell_type": "code",
   "execution_count": null,
   "metadata": {},
   "outputs": [],
   "source": [
    "class StockTradingEnvironment:\n",
    "    def __init__(self, data, initial_wallet=10000):\n",
    "        self.data = data\n",
    "        self.reset(initial_wallet)\n",
    "\n",
    "    def reset(self, initial_wallet):\n",
    "        self.current_step = 0\n",
    "        self.wallet = initial_wallet\n",
    "        self.positions = {stock: 0 for stock in self.data.columns}  # Initialize positions for each stock\n",
    "        self.initial_prices = self.data.iloc[0]  # Initial prices of stocks\n",
    "        self.current_prices = self.initial_prices  # Current prices start at initial prices\n",
    "        self.done = False\n",
    "        self.history = []  # To store the history of actions taken\n",
    "\n",
    "    def step(self, action):\n",
    "        if self.done:\n",
    "            raise ValueError(\"Episode is done, please reset the environment.\")\n",
    "\n",
    "        # Update the environment based on the action taken\n",
    "        self.current_step += 1\n",
    "        self.current_prices = self.data.iloc[self.current_step]\n",
    "\n",
    "        # Perform action based on the chosen action code\n",
    "        # Action codes: 0 - Buy, 1 - Buy with stop loss, 2 - Sell, 3 - Hold\n",
    "        # Implement your action handling logic here based on the action code\n",
    "\n",
    "        if action == 0:  # Buy\n",
    "            for stock, price in zip(self.positions.keys(), self.current_prices):\n",
    "                if self.wallet >= price:\n",
    "                    self.wallet -= price\n",
    "                    self.positions[stock] += 1\n",
    "                else:\n",
    "                    break # Insufficient funds for buying the stock\n",
    "        elif action == 1:  # Sell\n",
    "            for stock, position in self.positions.items():\n",
    "                if position > 0:\n",
    "                    sell_price = self.current_prices[stock]\n",
    "                    self.wallet += sell_price * position\n",
    "                    self.positions[stock] -= position\n",
    "                else:\n",
    "                    # No position to sell for the stock\n",
    "                    break\n",
    "        elif action == 3:  # Hold\n",
    "            pass\n",
    "\n",
    "        # Calculate the reward based on the action taken (Example: based on wallet changes)\n",
    "        reward = self.calculate_reward(action)\n",
    "\n",
    "        # Check termination conditions (if episode is done)\n",
    "        if self.current_step == len(self.data) - 1:\n",
    "            self.done = True\n",
    "\n",
    "        # Collect relevant information for next state\n",
    "        next_state = {\n",
    "            'wallet': self.wallet,\n",
    "            'positions': self.positions,\n",
    "            'prices': self.current_prices\n",
    "            # Add other relevant state information\n",
    "        }\n",
    "\n",
    "        # Append action to history for monitoring or analysis\n",
    "        self.history.append(action)\n",
    "\n",
    "        return next_state, reward, self.done, {}\n",
    "\n",
    "    def calculate_reward(self, action):\n",
    "        # Calculate reward based on the action taken and its impact on wallet, positions, etc.\n",
    "        # Example: Reward based on changes in wallet amount after the action\n",
    "        # Return the calculated reward\n",
    "        return 0  # Placeholder reward value, replace with actual calculation\n",
    "\n",
    "    # Implement additional methods as needed for action handling, state representation, etc.\n"
   ]
  },
  {
   "cell_type": "markdown",
   "metadata": {},
   "source": [
    "Model Architecture"
   ]
  },
  {
   "cell_type": "code",
   "execution_count": null,
   "metadata": {},
   "outputs": [],
   "source": [
    "\n",
    "# Assuming 'input_shape' is defined from Step 2\n",
    "# Define your neural network architecture using Keras Sequential API\n",
    "\n",
    "model = tf.keras.Sequential([\n",
    "    tf.keras.layers.LSTM(64, input_shape=input_shape, return_sequences=True),\n",
    "    tf.keras.layers.LSTM(64),\n",
    "    tf.keras.layers.Dense(32, activation='relu'),\n",
    "    tf.keras.layers.Dense(num_actions, activation='softmax')  # Output layer for action predictions\n",
    "])\n",
    "\n",
    "model.compile(optimizer='adam', loss='categorical_crossentropy', metrics=['accuracy'])"
   ]
  },
  {
   "cell_type": "code",
   "execution_count": null,
   "metadata": {},
   "outputs": [],
   "source": [
    "model.summary()"
   ]
  },
  {
   "cell_type": "code",
   "execution_count": null,
   "metadata": {},
   "outputs": [],
   "source": [
    "# Assuming 'sequences' and 'actions' are prepared appropriately\n",
    "model.fit(sequences, actions, epochs=num_epochs, batch_size=batch_size)"
   ]
  }
 ],
 "metadata": {
  "kernelspec": {
   "display_name": "Python 3",
   "language": "python",
   "name": "python3"
  },
  "language_info": {
   "codemirror_mode": {
    "name": "ipython",
    "version": 3
   },
   "file_extension": ".py",
   "mimetype": "text/x-python",
   "name": "python",
   "nbconvert_exporter": "python",
   "pygments_lexer": "ipython3",
   "version": "3.9.10"
  }
 },
 "nbformat": 4,
 "nbformat_minor": 2
}
