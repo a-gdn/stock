{
 "cells": [
  {
   "cell_type": "code",
   "execution_count": 6,
   "metadata": {},
   "outputs": [
    {
     "name": "stdout",
     "output_type": "stream",
     "text": [
      "[*********************100%***********************]  8 of 8 completed\n"
     ]
    }
   ],
   "source": [
    "import yfinance as yf\n",
    "import tensorflow as tf\n",
    "import numpy as np\n",
    "import pandas as pd\n",
    "\n",
    "tickers = [\"AB.PA\", \"A2A.MI\", \"ABCA.PA\", \"ABNX.PA\", \"ABVX.PA\", \"AC.PA\", \"ADP.PA\", \"AIR.PA\"]\n",
    "data = yf.download(tickers, start='2022-01-01', end='2023-01-01')\n",
    "\n",
    "def remove_top_column_name(df):\n",
    "    return df.droplevel(0, axis=1)\n",
    "\n",
    "close_prices = data[['Close']]\n",
    "close_prices = remove_top_column_name(close_prices)\n",
    "\n",
    "close_prices.head(5)\n",
    "# Valeurs historiques des 10 actions\n",
    "# close_prices = pd.DataFrame(\n",
    "#     np.array([\n",
    "#         [10, 11, 12, 13, 14, 15, 16, 17, 18, 19],\n",
    "#         [20, 21, 22, 23, 24, 25, 26, 27, 28, 29],\n",
    "#         ...\n",
    "#     ]),\n",
    "#     index=pd.to_datetime(['2023-01-01', '2023-01-02', '...']),\n",
    "#     columns=['action_0', 'action_1', '...']\n",
    "# )\n",
    "\n",
    "# Nombre d'actions\n",
    "n_actions = close_prices.shape[1]"
   ]
  },
  {
   "cell_type": "code",
   "execution_count": 10,
   "metadata": {},
   "outputs": [
    {
     "name": "stdout",
     "output_type": "stream",
     "text": [
      "Model: \"sequential_4\"\n",
      "_________________________________________________________________\n",
      " Layer (type)                Output Shape              Param #   \n",
      "=================================================================\n",
      " dense_6 (Dense)             (None, 128)               1152      \n",
      "                                                                 \n",
      " dense_7 (Dense)             (None, 32)                4128      \n",
      "                                                                 \n",
      " dense_8 (Dense)             (None, 8)                 264       \n",
      "                                                                 \n",
      "=================================================================\n",
      "Total params: 5,544\n",
      "Trainable params: 5,544\n",
      "Non-trainable params: 0\n",
      "_________________________________________________________________\n"
     ]
    }
   ],
   "source": [
    "# Créer un modèle RNN\n",
    "model = tf.keras.Sequential([\n",
    "    tf.keras.layers.Dense(128, activation='relu'),\n",
    "    tf.keras.layers.Dense(32, activation='relu'),\n",
    "    tf.keras.layers.Dense(n_actions, activation='softmax')  # Output layer for action predictions\n",
    "])\n",
    "\n",
    "# Initialiser les poids du modèle\n",
    "model.build(input_shape=(None, close_prices.shape[1]))\n",
    "model.summary()"
   ]
  },
  {
   "cell_type": "code",
   "execution_count": 11,
   "metadata": {},
   "outputs": [],
   "source": [
    "# Fonction d'optimisation\n",
    "def optimize(model, close_prices, initial_value):\n",
    "    # Initialiser le portefeuille\n",
    "    portfolio = np.zeros(n_actions)\n",
    "    portfolio[0] = initial_value\n",
    "\n",
    "    # Itérer sur les données\n",
    "    for close_price in close_prices.iterrows():\n",
    "        # Prédire la prochaine action\n",
    "        action = model.predict(close_price[1].values[np.newaxis, Ellipsis])[0]\n",
    "\n",
    "        # Effectuer l'action\n",
    "        if action == 0:\n",
    "            # Acheter\n",
    "            portfolio[action] += close_price[1][action]\n",
    "        elif action == 1:\n",
    "            # Vendre\n",
    "            portfolio[action] -= close_price[1][action]\n",
    "        else:\n",
    "            # Attendre\n",
    "            pass\n",
    "\n",
    "    # Retourner la valeur du portefeuille\n",
    "    return portfolio.sum()"
   ]
  },
  {
   "cell_type": "code",
   "execution_count": 13,
   "metadata": {},
   "outputs": [
    {
     "name": "stdout",
     "output_type": "stream",
     "text": [
      "Epoch 0: 1000.0 €\n"
     ]
    },
    {
     "ename": "ValueError",
     "evalue": "The truth value of an array with more than one element is ambiguous. Use a.any() or a.all()",
     "output_type": "error",
     "traceback": [
      "\u001b[0;31m---------------------------------------------------------------------------\u001b[0m",
      "\u001b[0;31mValueError\u001b[0m                                Traceback (most recent call last)",
      "Input \u001b[0;32mIn [13]\u001b[0m, in \u001b[0;36m<module>\u001b[0;34m\u001b[0m\n\u001b[1;32m      4\u001b[0m close_prices_train \u001b[38;5;241m=\u001b[39m close_prices[:epoch]\n\u001b[1;32m      6\u001b[0m \u001b[38;5;66;03m# Optimiser le modèle\u001b[39;00m\n\u001b[0;32m----> 7\u001b[0m optimized_value \u001b[38;5;241m=\u001b[39m \u001b[43moptimize\u001b[49m\u001b[43m(\u001b[49m\u001b[43mmodel\u001b[49m\u001b[43m,\u001b[49m\u001b[43m \u001b[49m\u001b[43mclose_prices_train\u001b[49m\u001b[43m,\u001b[49m\u001b[43m \u001b[49m\u001b[38;5;241;43m1000\u001b[39;49m\u001b[43m)\u001b[49m\n\u001b[1;32m      9\u001b[0m \u001b[38;5;66;03m# Afficher la valeur du portefeuille\u001b[39;00m\n\u001b[1;32m     10\u001b[0m \u001b[38;5;28mprint\u001b[39m(\u001b[38;5;124mf\u001b[39m\u001b[38;5;124m\"\u001b[39m\u001b[38;5;124mEpoch \u001b[39m\u001b[38;5;132;01m{\u001b[39;00mepoch\u001b[38;5;132;01m}\u001b[39;00m\u001b[38;5;124m: \u001b[39m\u001b[38;5;132;01m{\u001b[39;00moptimized_value\u001b[38;5;132;01m}\u001b[39;00m\u001b[38;5;124m €\u001b[39m\u001b[38;5;124m\"\u001b[39m)\n",
      "Input \u001b[0;32mIn [11]\u001b[0m, in \u001b[0;36moptimize\u001b[0;34m(model, close_prices, initial_value)\u001b[0m\n\u001b[1;32m     10\u001b[0m action \u001b[38;5;241m=\u001b[39m model\u001b[38;5;241m.\u001b[39mpredict(close_price[\u001b[38;5;241m1\u001b[39m]\u001b[38;5;241m.\u001b[39mvalues[np\u001b[38;5;241m.\u001b[39mnewaxis, \u001b[38;5;28mEllipsis\u001b[39m])[\u001b[38;5;241m0\u001b[39m]\n\u001b[1;32m     12\u001b[0m \u001b[38;5;66;03m# Effectuer l'action\u001b[39;00m\n\u001b[0;32m---> 13\u001b[0m \u001b[38;5;28;01mif\u001b[39;00m action \u001b[38;5;241m==\u001b[39m \u001b[38;5;241m0\u001b[39m:\n\u001b[1;32m     14\u001b[0m     \u001b[38;5;66;03m# Acheter\u001b[39;00m\n\u001b[1;32m     15\u001b[0m     portfolio[action] \u001b[38;5;241m+\u001b[39m\u001b[38;5;241m=\u001b[39m close_price[\u001b[38;5;241m1\u001b[39m][action]\n\u001b[1;32m     16\u001b[0m \u001b[38;5;28;01melif\u001b[39;00m action \u001b[38;5;241m==\u001b[39m \u001b[38;5;241m1\u001b[39m:\n\u001b[1;32m     17\u001b[0m     \u001b[38;5;66;03m# Vendre\u001b[39;00m\n",
      "\u001b[0;31mValueError\u001b[0m: The truth value of an array with more than one element is ambiguous. Use a.any() or a.all()"
     ]
    }
   ],
   "source": [
    "# Entraîner le modèle\n",
    "for epoch in range(1000):\n",
    "    # Générer un jeu de données d'entraînement\n",
    "    close_prices_train = close_prices[:epoch]\n",
    "\n",
    "    # Optimiser le modèle\n",
    "    optimized_value = optimize(model, close_prices_train, 1000)\n",
    "\n",
    "    # Afficher la valeur du portefeuille\n",
    "    print(f\"Epoch {epoch}: {optimized_value} €\")"
   ]
  }
 ],
 "metadata": {
  "kernelspec": {
   "display_name": "Python 3",
   "language": "python",
   "name": "python3"
  },
  "language_info": {
   "codemirror_mode": {
    "name": "ipython",
    "version": 3
   },
   "file_extension": ".py",
   "mimetype": "text/x-python",
   "name": "python",
   "nbconvert_exporter": "python",
   "pygments_lexer": "ipython3",
   "version": "3.9.10"
  }
 },
 "nbformat": 4,
 "nbformat_minor": 2
}
