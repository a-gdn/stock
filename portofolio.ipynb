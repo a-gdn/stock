{
 "cells": [
  {
   "cell_type": "code",
   "execution_count": null,
   "metadata": {},
   "outputs": [],
   "source": [
    "import numpy as np\n",
    "import pandas as pd\n",
    "import matplotlib.pyplot as plt"
   ]
  },
  {
   "cell_type": "code",
   "execution_count": null,
   "metadata": {},
   "outputs": [],
   "source": [
    "import os\n",
    "import glob\n",
    "\n",
    "folder_path = './db/all/'\n",
    "file_extension = '.csv'\n",
    "\n",
    "file_paths = glob.glob(os.path.join(folder_path, f'*{file_extension}'))\n",
    "file_paths = sorted(file_paths, reverse=True)\n",
    "print(file_paths)"
   ]
  },
  {
   "cell_type": "code",
   "execution_count": null,
   "metadata": {},
   "outputs": [],
   "source": [
    "days_in_year = 252\n",
    "data_list = []\n",
    "tickers_list = []\n",
    "\n",
    "for file_path in file_paths:\n",
    "    ticker_year_df = pd.read_csv(file_path)\n",
    "    ticker_year_df = ticker_year_df['Close']\n",
    "\n",
    "    daily_profit_df = ticker_year_df.pct_change()\n",
    "    daily_profit_df = daily_profit_df.dropna()\n",
    "    daily_profit_df.head()\n",
    "\n",
    "    profit = daily_profit_df.mean() * days_in_year * 100\n",
    "    volatility = daily_profit_df.std() * days_in_year\n",
    "\n",
    "    file_name = file_path.replace(folder_path, '')\n",
    "    year = file_name[0:4]\n",
    "    ticker = file_name[5:].replace(file_extension, '')\n",
    "    index = f'{ticker}-{year}'\n",
    "\n",
    "    data_list.append({'index': index, 'year': year, 'ticker': ticker,\n",
    "                      'profit': profit, 'volatility': volatility})\n",
    "    \n",
    "    tickers_list.append(ticker)\n",
    "\n",
    "df = pd.DataFrame(data_list)"
   ]
  },
  {
   "cell_type": "code",
   "execution_count": null,
   "metadata": {},
   "outputs": [],
   "source": [
    "df = df.dropna()\n",
    "df = df.sort_values(by=['index'])\n",
    "df['previous_profit'] = df['profit'].shift(periods=1)\n",
    "df['profit_ratio'] = df['profit'] / df['previous_profit']\n",
    "\n",
    "min_years = df.groupby('ticker')['year'].transform('min')\n",
    "df = df[df['year'] != min_years]\n",
    "\n",
    "print(df.to_markdown())"
   ]
  },
  {
   "cell_type": "code",
   "execution_count": null,
   "metadata": {},
   "outputs": [],
   "source": [
    "df = df.sort_values(by=['previous_profit'], ascending=False)\n",
    "print(df.to_markdown())"
   ]
  },
  {
   "cell_type": "code",
   "execution_count": null,
   "metadata": {},
   "outputs": [],
   "source": [
    "threshold_pct = 60\n",
    "big_profit_df = df.drop(df[df['previous_profit'] < threshold_pct].index)\n",
    "big_profit_df = big_profit_df.sort_values(by=['year'])\n",
    "\n",
    "print(f'number of values: {len(big_profit_df)} i.e. {len(big_profit_df)/22}/yr')\n",
    "print(f'mean: {big_profit_df[\"profit\"].mean()}')\n",
    "print(f'median: {big_profit_df[\"profit\"].median()}')\n",
    "print(f'std dev: {big_profit_df[\"profit\"].std()}')\n",
    "\n",
    "print(big_profit_df.groupby('year')['profit'].agg(['mean', 'median']))"
   ]
  },
  {
   "cell_type": "code",
   "execution_count": null,
   "metadata": {},
   "outputs": [],
   "source": [
    "top_n = 12\n",
    "top_n_profit_df = df.groupby('year').apply(lambda x: x.nlargest(top_n, 'previous_profit')).reset_index(drop=True)\n",
    "\n",
    "print(f'mean: {top_n_profit_df[\"profit\"].mean()}')\n",
    "print(f'median: {top_n_profit_df[\"profit\"].median()}')\n",
    "print(f'std dev: {top_n_profit_df[\"profit\"].std()}')\n",
    "\n",
    "print(top_n_profit_df.groupby('year')['profit'].agg(['mean', 'median']))"
   ]
  },
  {
   "cell_type": "code",
   "execution_count": null,
   "metadata": {},
   "outputs": [],
   "source": [
    "plt.rcParams[\"figure.figsize\"] = (15, 15)\n",
    "\n",
    "fig, ax = plt.subplots()\n",
    "ax.scatter(x=df['previous_profit'], y=df['profit'], marker='2', c=df.volatility, cmap='brg')\n",
    "ax.set_xlabel('previous_profit')\n",
    "ax.set_ylabel('profit')\n",
    "ax.axhline(0, color='black', linewidth=2)\n",
    "ax.axvline(0, color='black', linewidth=2)\n",
    "\n",
    "plt.grid()\n",
    "plt.show()"
   ]
  },
  {
   "cell_type": "code",
   "execution_count": null,
   "metadata": {},
   "outputs": [],
   "source": [
    "limit1 = 200\n",
    "df1 = df.drop(df[(df.profit < -limit1) | (df.profit > limit1) | (df.previous_profit < -limit1) | (df.previous_profit > limit1)].index)\n",
    "\n",
    "plt.rcParams[\"figure.figsize\"] = (15, 15)\n",
    "\n",
    "fig, ax = plt.subplots()\n",
    "ax.scatter(x=df1['previous_profit'], y=df1['profit'], marker='2', c=df1.volatility, cmap='brg')\n",
    "ax.set_xlabel('previous_profit')\n",
    "ax.set_ylabel('profit')\n",
    "ax.axhline(0, color='black', linewidth=2)\n",
    "ax.axvline(0, color='black', linewidth=2)\n",
    "\n",
    "plt.xlim([-limit1, limit1])\n",
    "plt.ylim([-limit1, limit1])\n",
    "plt.grid()\n",
    "plt.show()"
   ]
  }
 ],
 "metadata": {
  "kernelspec": {
   "display_name": "Python 3",
   "language": "python",
   "name": "python3"
  },
  "language_info": {
   "codemirror_mode": {
    "name": "ipython",
    "version": 3
   },
   "file_extension": ".py",
   "mimetype": "text/x-python",
   "name": "python",
   "nbconvert_exporter": "python",
   "pygments_lexer": "ipython3",
   "version": "3.9.10"
  }
 },
 "nbformat": 4,
 "nbformat_minor": 2
}
