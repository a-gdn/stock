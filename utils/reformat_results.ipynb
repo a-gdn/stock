{
 "cells": [
  {
   "attachments": {},
   "cell_type": "markdown",
   "metadata": {},
   "source": [
    "Add columns to a specific csv file"
   ]
  },
  {
   "cell_type": "code",
   "execution_count": null,
   "metadata": {},
   "outputs": [],
   "source": []
  },
  {
   "attachments": {},
   "cell_type": "markdown",
   "metadata": {},
   "source": [
    "Reorder columns in all csv files"
   ]
  },
  {
   "cell_type": "code",
   "execution_count": null,
   "metadata": {},
   "outputs": [],
   "source": [
    "import os\n",
    "import pandas as pd\n",
    "\n",
    "# Define the folder path containing the CSV files\n",
    "folder_path = '../outputs/aa/'\n",
    "\n",
    "# Define the columns and their desired new positions\n",
    "column_positions = {\n",
    "    # 'fee_%': 5,  # Zero-based index for the 5th column\n",
    "    # 'num_tickers': 6,  # Zero-based index for the 6th column\n",
    "    'nlargest_nsmallest': 7  # Zero-based index for the 7th column\n",
    "}\n",
    "\n",
    "# Iterate over all CSV files in the folder\n",
    "for filename in os.listdir(folder_path):\n",
    "    if filename.endswith('.csv'):\n",
    "        # Read each CSV file into a DataFrame\n",
    "        file_path = os.path.join(folder_path, filename)\n",
    "        df = pd.read_csv(file_path)\n",
    "\n",
    "        # Iterate over the columns and their new positions\n",
    "        for column_name, new_index in column_positions.items():\n",
    "            # Get the index of the column to be moved\n",
    "            current_index = df.columns.get_loc(column_name)\n",
    "\n",
    "            # Remove the column from its current position\n",
    "            column = df.pop(column_name)\n",
    "\n",
    "            # Insert the column at the desired position\n",
    "            df.insert(new_index, column_name, column)\n",
    "\n",
    "        # Save the updated DataFrame to the same CSV file, overwriting the original file\n",
    "        df.to_csv(file_path, index=False)"
   ]
  },
  {
   "attachments": {},
   "cell_type": "markdown",
   "metadata": {},
   "source": [
    "Combine all csv files and drop duplicates"
   ]
  },
  {
   "cell_type": "code",
   "execution_count": null,
   "metadata": {},
   "outputs": [],
   "source": [
    "import os\n",
    "import pandas as pd\n",
    "\n",
    "# Define the folder path containing the CSV files\n",
    "folder_path = '../outputs/aa/'\n",
    "\n",
    "# Initialize an empty DataFrame to hold the combined data\n",
    "combined_df = pd.DataFrame()\n",
    "\n",
    "# Iterate over all CSV files in the folder\n",
    "for filename in os.listdir(folder_path):\n",
    "    if filename.endswith('.csv'):\n",
    "        # Read each CSV file into a DataFrame\n",
    "        file_path = os.path.join(folder_path, filename)\n",
    "        df = pd.read_csv(file_path)\n",
    "        \n",
    "        # Append the DataFrame to the combined DataFrame\n",
    "        combined_df = combined_df.append(df, ignore_index=True)\n",
    "\n",
    "# Drop duplicate rows from the combined DataFrame\n",
    "combined_df.drop_duplicates(inplace=True)\n",
    "\n",
    "# Sort the DataFrame by \"yearly_profit\" column in descending order\n",
    "combined_df.sort_values('yearly_profit', ascending=False, inplace=True)\n",
    "\n",
    "print(len(combined_df))\n",
    "\n",
    "# Save the combined DataFrame to a new CSV file\n",
    "combined_df.to_csv(f'{folder_path}2023-07-11_combined_profit_results2.csv', index=False)"
   ]
  },
  {
   "attachments": {},
   "cell_type": "markdown",
   "metadata": {},
   "source": [
    "Pivot table"
   ]
  },
  {
   "cell_type": "code",
   "execution_count": 4,
   "metadata": {},
   "outputs": [
    {
     "ename": "KeyError",
     "evalue": "('median', 'All')",
     "output_type": "error",
     "traceback": [
      "\u001b[0;31m---------------------------------------------------------------------------\u001b[0m",
      "\u001b[0;31mKeyError\u001b[0m                                  Traceback (most recent call last)",
      "\u001b[1;32m/Users/alexis/code/stock/utils/reformat_results.ipynb Cell 8\u001b[0m in \u001b[0;36m<module>\u001b[0;34m\u001b[0m\n\u001b[1;32m     <a href='vscode-notebook-cell:/Users/alexis/code/stock/utils/reformat_results.ipynb#X10sZmlsZQ%3D%3D?line=34'>35</a>\u001b[0m     \u001b[39mreturn\u001b[39;00m cross_tab\n\u001b[1;32m     <a href='vscode-notebook-cell:/Users/alexis/code/stock/utils/reformat_results.ipynb#X10sZmlsZQ%3D%3D?line=36'>37</a>\u001b[0m cross_tab_profit \u001b[39m=\u001b[39m get_cross_tab(df, \u001b[39m'\u001b[39m\u001b[39myearly_profit\u001b[39m\u001b[39m'\u001b[39m, [\u001b[39m'\u001b[39m\u001b[39mmedian\u001b[39m\u001b[39m'\u001b[39m, \u001b[39m'\u001b[39m\u001b[39mmean\u001b[39m\u001b[39m'\u001b[39m, \u001b[39m'\u001b[39m\u001b[39mmin\u001b[39m\u001b[39m'\u001b[39m, \u001b[39m'\u001b[39m\u001b[39mmax\u001b[39m\u001b[39m'\u001b[39m, \u001b[39m'\u001b[39m\u001b[39mcount\u001b[39m\u001b[39m'\u001b[39m])\n\u001b[0;32m---> <a href='vscode-notebook-cell:/Users/alexis/code/stock/utils/reformat_results.ipynb#X10sZmlsZQ%3D%3D?line=37'>38</a>\u001b[0m cross_tab_win_ratio \u001b[39m=\u001b[39m get_cross_tab(df, \u001b[39m'\u001b[39;49m\u001b[39mwin_ratio\u001b[39;49m\u001b[39m'\u001b[39;49m, \u001b[39m'\u001b[39;49m\u001b[39mmean\u001b[39;49m\u001b[39m'\u001b[39;49m)\n\u001b[1;32m     <a href='vscode-notebook-cell:/Users/alexis/code/stock/utils/reformat_results.ipynb#X10sZmlsZQ%3D%3D?line=39'>40</a>\u001b[0m merged_cross_tab \u001b[39m=\u001b[39m pd\u001b[39m.\u001b[39mconcat([cross_tab_profit, cross_tab_win_ratio], axis\u001b[39m=\u001b[39m\u001b[39m1\u001b[39m)\n\u001b[1;32m     <a href='vscode-notebook-cell:/Users/alexis/code/stock/utils/reformat_results.ipynb#X10sZmlsZQ%3D%3D?line=41'>42</a>\u001b[0m \u001b[39mprint\u001b[39m(merged_cross_tab\u001b[39m.\u001b[39mto_markdown())\n",
      "\u001b[1;32m/Users/alexis/code/stock/utils/reformat_results.ipynb Cell 8\u001b[0m in \u001b[0;36mget_cross_tab\u001b[0;34m(df, values_column, aggfuncs)\u001b[0m\n\u001b[1;32m     <a href='vscode-notebook-cell:/Users/alexis/code/stock/utils/reformat_results.ipynb#X10sZmlsZQ%3D%3D?line=24'>25</a>\u001b[0m \u001b[39mdef\u001b[39;00m \u001b[39mget_cross_tab\u001b[39m(df, values_column, aggfuncs):\n\u001b[1;32m     <a href='vscode-notebook-cell:/Users/alexis/code/stock/utils/reformat_results.ipynb#X10sZmlsZQ%3D%3D?line=25'>26</a>\u001b[0m     cross_tab \u001b[39m=\u001b[39m pd\u001b[39m.\u001b[39mcrosstab(\n\u001b[1;32m     <a href='vscode-notebook-cell:/Users/alexis/code/stock/utils/reformat_results.ipynb#X10sZmlsZQ%3D%3D?line=26'>27</a>\u001b[0m         index\u001b[39m=\u001b[39m[df[\u001b[39m'\u001b[39m\u001b[39mstart_watch_time\u001b[39m\u001b[39m'\u001b[39m], df[\u001b[39m'\u001b[39m\u001b[39mbuy_time\u001b[39m\u001b[39m'\u001b[39m], df[\u001b[39m'\u001b[39m\u001b[39msell_time\u001b[39m\u001b[39m'\u001b[39m], df[\u001b[39m'\u001b[39m\u001b[39mrank\u001b[39m\u001b[39m'\u001b[39m], df[\u001b[39m'\u001b[39m\u001b[39mpct_change_threshold\u001b[39m\u001b[39m'\u001b[39m], df[\u001b[39m'\u001b[39m\u001b[39mwatch_days\u001b[39m\u001b[39m'\u001b[39m], df[\u001b[39m'\u001b[39m\u001b[39mhold_days\u001b[39m\u001b[39m'\u001b[39m], df[\u001b[39m'\u001b[39m\u001b[39mnum_stocks_to_buy\u001b[39m\u001b[39m'\u001b[39m], df[\u001b[39m'\u001b[39m\u001b[39mloss_limit\u001b[39m\u001b[39m'\u001b[39m], df[\u001b[39m'\u001b[39m\u001b[39mfee\u001b[39m\u001b[39m'\u001b[39m], df[\u001b[39m'\u001b[39m\u001b[39mnum_tickers\u001b[39m\u001b[39m'\u001b[39m]],\n\u001b[1;32m     <a href='vscode-notebook-cell:/Users/alexis/code/stock/utils/reformat_results.ipynb#X10sZmlsZQ%3D%3D?line=27'>28</a>\u001b[0m         columns\u001b[39m=\u001b[39mdf[\u001b[39m'\u001b[39m\u001b[39myear\u001b[39m\u001b[39m'\u001b[39m],\n\u001b[1;32m     <a href='vscode-notebook-cell:/Users/alexis/code/stock/utils/reformat_results.ipynb#X10sZmlsZQ%3D%3D?line=28'>29</a>\u001b[0m         values\u001b[39m=\u001b[39mdf[values_column],\n\u001b[1;32m     <a href='vscode-notebook-cell:/Users/alexis/code/stock/utils/reformat_results.ipynb#X10sZmlsZQ%3D%3D?line=29'>30</a>\u001b[0m         aggfunc\u001b[39m=\u001b[39maggfuncs,\n\u001b[1;32m     <a href='vscode-notebook-cell:/Users/alexis/code/stock/utils/reformat_results.ipynb#X10sZmlsZQ%3D%3D?line=30'>31</a>\u001b[0m         margins\u001b[39m=\u001b[39m\u001b[39mTrue\u001b[39;00m)\n\u001b[0;32m---> <a href='vscode-notebook-cell:/Users/alexis/code/stock/utils/reformat_results.ipynb#X10sZmlsZQ%3D%3D?line=32'>33</a>\u001b[0m     cross_tab \u001b[39m=\u001b[39m cross_tab\u001b[39m.\u001b[39;49msort_values(by\u001b[39m=\u001b[39;49m[(\u001b[39m'\u001b[39;49m\u001b[39mmedian\u001b[39;49m\u001b[39m'\u001b[39;49m, \u001b[39m'\u001b[39;49m\u001b[39mAll\u001b[39;49m\u001b[39m'\u001b[39;49m)], ascending\u001b[39m=\u001b[39;49m\u001b[39mFalse\u001b[39;49;00m)\n\u001b[1;32m     <a href='vscode-notebook-cell:/Users/alexis/code/stock/utils/reformat_results.ipynb#X10sZmlsZQ%3D%3D?line=34'>35</a>\u001b[0m     \u001b[39mreturn\u001b[39;00m cross_tab\n",
      "File \u001b[0;32m/usr/local/lib/python3.9/site-packages/pandas/util/_decorators.py:311\u001b[0m, in \u001b[0;36mdeprecate_nonkeyword_arguments.<locals>.decorate.<locals>.wrapper\u001b[0;34m(*args, **kwargs)\u001b[0m\n\u001b[1;32m    305\u001b[0m \u001b[39mif\u001b[39;00m \u001b[39mlen\u001b[39m(args) \u001b[39m>\u001b[39m num_allow_args:\n\u001b[1;32m    306\u001b[0m     warnings\u001b[39m.\u001b[39mwarn(\n\u001b[1;32m    307\u001b[0m         msg\u001b[39m.\u001b[39mformat(arguments\u001b[39m=\u001b[39marguments),\n\u001b[1;32m    308\u001b[0m         \u001b[39mFutureWarning\u001b[39;00m,\n\u001b[1;32m    309\u001b[0m         stacklevel\u001b[39m=\u001b[39mstacklevel,\n\u001b[1;32m    310\u001b[0m     )\n\u001b[0;32m--> 311\u001b[0m \u001b[39mreturn\u001b[39;00m func(\u001b[39m*\u001b[39;49margs, \u001b[39m*\u001b[39;49m\u001b[39m*\u001b[39;49mkwargs)\n",
      "File \u001b[0;32m/usr/local/lib/python3.9/site-packages/pandas/core/frame.py:6307\u001b[0m, in \u001b[0;36mDataFrame.sort_values\u001b[0;34m(self, by, axis, ascending, inplace, kind, na_position, ignore_index, key)\u001b[0m\n\u001b[1;32m   6303\u001b[0m \u001b[39melif\u001b[39;00m \u001b[39mlen\u001b[39m(by):\n\u001b[1;32m   6304\u001b[0m     \u001b[39m# len(by) == 1\u001b[39;00m\n\u001b[1;32m   6306\u001b[0m     by \u001b[39m=\u001b[39m by[\u001b[39m0\u001b[39m]\n\u001b[0;32m-> 6307\u001b[0m     k \u001b[39m=\u001b[39m \u001b[39mself\u001b[39;49m\u001b[39m.\u001b[39;49m_get_label_or_level_values(by, axis\u001b[39m=\u001b[39;49maxis)\n\u001b[1;32m   6309\u001b[0m     \u001b[39m# need to rewrap column in Series to apply key function\u001b[39;00m\n\u001b[1;32m   6310\u001b[0m     \u001b[39mif\u001b[39;00m key \u001b[39mis\u001b[39;00m \u001b[39mnot\u001b[39;00m \u001b[39mNone\u001b[39;00m:\n\u001b[1;32m   6311\u001b[0m         \u001b[39m# error: Incompatible types in assignment (expression has type\u001b[39;00m\n\u001b[1;32m   6312\u001b[0m         \u001b[39m# \"Series\", variable has type \"ndarray\")\u001b[39;00m\n",
      "File \u001b[0;32m/usr/local/lib/python3.9/site-packages/pandas/core/generic.py:1848\u001b[0m, in \u001b[0;36mNDFrame._get_label_or_level_values\u001b[0;34m(self, key, axis)\u001b[0m\n\u001b[1;32m   1846\u001b[0m     values \u001b[39m=\u001b[39m \u001b[39mself\u001b[39m\u001b[39m.\u001b[39maxes[axis]\u001b[39m.\u001b[39mget_level_values(key)\u001b[39m.\u001b[39m_values\n\u001b[1;32m   1847\u001b[0m \u001b[39melse\u001b[39;00m:\n\u001b[0;32m-> 1848\u001b[0m     \u001b[39mraise\u001b[39;00m \u001b[39mKeyError\u001b[39;00m(key)\n\u001b[1;32m   1850\u001b[0m \u001b[39m# Check for duplicates\u001b[39;00m\n\u001b[1;32m   1851\u001b[0m \u001b[39mif\u001b[39;00m values\u001b[39m.\u001b[39mndim \u001b[39m>\u001b[39m \u001b[39m1\u001b[39m:\n",
      "\u001b[0;31mKeyError\u001b[0m: ('median', 'All')"
     ]
    }
   ],
   "source": [
    "import pandas as pd\n",
    "\n",
    "filename = 'results_2023-07-29_17h30m24s'\n",
    "\n",
    "df = pd.read_csv(f'../outputs/{filename}.csv')\n",
    "\n",
    "# Add column year & move to 2nd column\n",
    "df['year'] = df['date_range'].str[:4]\n",
    "# current_index = df.columns.get_loc(\"year\") # Get the index of the \"year\" column\n",
    "column = df.pop(\"year\") # Remove the \"year\" column from its current position\n",
    "df.insert(1, \"year\", column) # Insert the \"year\" column at the desired position (index 1)\n",
    "\n",
    "df.to_csv(f'../outputs/{filename}.csv', index=False)\n",
    "\n",
    "# pivot_table = pd.pivot_table(df,\n",
    "#                              index=['watch_days', 'hold_days', 'num_stocks_to_buy', 'loss_limit', 'fee_%', 'num_tickers', 'nsmallest/nlargest'],\n",
    "#                              columns=['year'],\n",
    "#                              values=['yearly_profit', 'win_ratio'],\n",
    "#                              aggfunc={\n",
    "#                                 'yearly_profit': ['median', 'mean', 'min', 'max', ('count where < 1', lambda x: (x < 1).sum()), 'count'],\n",
    "#                                 'win_ratio': [('win_median', lambda x: np.median(x))]\n",
    "#                              },\n",
    "#                              margins=True)\n",
    "\n",
    "def get_cross_tab(df, values_column, aggfuncs):\n",
    "    cross_tab = pd.crosstab(\n",
    "        index=[df['start_watch_time'], df['buy_time'], df['sell_time'], df['rank'], df['pct_change_threshold'], df['watch_days'], df['hold_days'], df['num_stocks_to_buy'], df['loss_limit'], df['fee'], df['num_tickers']],\n",
    "        columns=df['year'],\n",
    "        values=df[values_column],\n",
    "        aggfunc=aggfuncs,\n",
    "        margins=True)\n",
    "    \n",
    "    cross_tab = cross_tab.sort_values(by=[('median', 'All')], ascending=False)\n",
    "\n",
    "    return cross_tab\n",
    "\n",
    "cross_tab_profit = get_cross_tab(df, 'yearly_profit', ['median', 'mean', 'min', 'max', 'count'])\n",
    "cross_tab_win_ratio = get_cross_tab(df, 'win_ratio', ['mean', 'min'])\n",
    "\n",
    "merged_cross_tab = pd.concat([cross_tab_profit, cross_tab_win_ratio], axis=1)\n",
    "\n",
    "print(merged_cross_tab.to_markdown())\n",
    "\n",
    "merged_cross_tab.to_csv(f'../outputs/pivot_table_{filename}.csv')\n"
   ]
  },
  {
   "attachments": {},
   "cell_type": "markdown",
   "metadata": {},
   "source": [
    "signle column CSV to list"
   ]
  },
  {
   "cell_type": "code",
   "execution_count": null,
   "metadata": {},
   "outputs": [],
   "source": [
    "import csv\n",
    "\n",
    "file_path = '../db/french_synched_tickers.csv'\n",
    "\n",
    "def csv_to_list(file_path):\n",
    "    with open(file_path, 'r') as csv_file:\n",
    "        reader = csv.reader(csv_file)\n",
    "        column_list = [row[0] for row in reader]\n",
    "\n",
    "    return column_list\n",
    "\n",
    "result_list = csv_to_list(file_path)\n",
    "print(result_list)"
   ]
  }
 ],
 "metadata": {
  "kernelspec": {
   "display_name": "Python 3",
   "language": "python",
   "name": "python3"
  },
  "language_info": {
   "codemirror_mode": {
    "name": "ipython",
    "version": 3
   },
   "file_extension": ".py",
   "mimetype": "text/x-python",
   "name": "python",
   "nbconvert_exporter": "python",
   "pygments_lexer": "ipython3",
   "version": "3.9.10"
  },
  "orig_nbformat": 4
 },
 "nbformat": 4,
 "nbformat_minor": 2
}
