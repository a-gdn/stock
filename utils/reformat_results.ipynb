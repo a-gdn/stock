{
 "cells": [
  {
   "attachments": {},
   "cell_type": "markdown",
   "metadata": {},
   "source": [
    "Add columns to a specific csv file"
   ]
  },
  {
   "cell_type": "code",
   "execution_count": null,
   "metadata": {},
   "outputs": [],
   "source": []
  },
  {
   "attachments": {},
   "cell_type": "markdown",
   "metadata": {},
   "source": [
    "Reorder columns in all csv files"
   ]
  },
  {
   "cell_type": "code",
   "execution_count": null,
   "metadata": {},
   "outputs": [],
   "source": [
    "import os\n",
    "import pandas as pd\n",
    "\n",
    "# Define the folder path containing the CSV files\n",
    "folder_path = '../outputs/aa/'\n",
    "\n",
    "# Define the columns and their desired new positions\n",
    "column_positions = {\n",
    "    # 'fee_%': 5,  # Zero-based index for the 5th column\n",
    "    # 'num_tickers': 6,  # Zero-based index for the 6th column\n",
    "    'nlargest_nsmallest': 7  # Zero-based index for the 7th column\n",
    "}\n",
    "\n",
    "# Iterate over all CSV files in the folder\n",
    "for filename in os.listdir(folder_path):\n",
    "    if filename.endswith('.csv'):\n",
    "        # Read each CSV file into a DataFrame\n",
    "        file_path = os.path.join(folder_path, filename)\n",
    "        df = pd.read_csv(file_path)\n",
    "\n",
    "        # Iterate over the columns and their new positions\n",
    "        for column_name, new_index in column_positions.items():\n",
    "            # Get the index of the column to be moved\n",
    "            current_index = df.columns.get_loc(column_name)\n",
    "\n",
    "            # Remove the column from its current position\n",
    "            column = df.pop(column_name)\n",
    "\n",
    "            # Insert the column at the desired position\n",
    "            df.insert(new_index, column_name, column)\n",
    "\n",
    "        # Save the updated DataFrame to the same CSV file, overwriting the original file\n",
    "        df.to_csv(file_path, index=False)"
   ]
  },
  {
   "attachments": {},
   "cell_type": "markdown",
   "metadata": {},
   "source": [
    "Combine all csv files and drop duplicates"
   ]
  },
  {
   "cell_type": "code",
   "execution_count": null,
   "metadata": {},
   "outputs": [],
   "source": [
    "import os\n",
    "import pandas as pd\n",
    "\n",
    "# Define the folder path containing the CSV files\n",
    "folder_path = '../outputs/aa/'\n",
    "\n",
    "# Initialize an empty DataFrame to hold the combined data\n",
    "combined_df = pd.DataFrame()\n",
    "\n",
    "# Iterate over all CSV files in the folder\n",
    "for filename in os.listdir(folder_path):\n",
    "    if filename.endswith('.csv'):\n",
    "        # Read each CSV file into a DataFrame\n",
    "        file_path = os.path.join(folder_path, filename)\n",
    "        df = pd.read_csv(file_path)\n",
    "        \n",
    "        # Append the DataFrame to the combined DataFrame\n",
    "        combined_df = combined_df.append(df, ignore_index=True)\n",
    "\n",
    "# Drop duplicate rows from the combined DataFrame\n",
    "combined_df.drop_duplicates(inplace=True)\n",
    "\n",
    "# Sort the DataFrame by \"yearly_profit\" column in descending order\n",
    "combined_df.sort_values('yearly_profit', ascending=False, inplace=True)\n",
    "\n",
    "print(len(combined_df))\n",
    "\n",
    "# Save the combined DataFrame to a new CSV file\n",
    "combined_df.to_csv(f'{folder_path}2023-07-11_combined_profit_results2.csv', index=False)"
   ]
  },
  {
   "attachments": {},
   "cell_type": "markdown",
   "metadata": {},
   "source": [
    "Pivot table"
   ]
  },
  {
   "cell_type": "code",
   "execution_count": 1,
   "metadata": {},
   "outputs": [
    {
     "name": "stdout",
     "output_type": "stream",
     "text": [
      "|                                                  |   ('median', '2000') |   ('median', '2023') |   ('median', 'All') |   ('mean', '2000') |   ('mean', '2023') |   ('mean', 'All') |   ('min', '2000') |   ('min', '2023') |   ('min', 'All') |   ('max', '2000') |   ('max', '2023') |   ('max', 'All') |   ('count', '2000') |   ('count', '2023') |   ('count', 'All') |\n",
      "|:-------------------------------------------------|---------------------:|---------------------:|--------------------:|-------------------:|-------------------:|------------------:|------------------:|------------------:|-----------------:|------------------:|------------------:|-----------------:|--------------------:|--------------------:|-------------------:|\n",
      "| ('nsmallest', -9999, 2, 2, 1, 0.999, 0.002, 208) |              3.33025 |               1.5337 |             2.11155 |            3.96542 |            2.18276 |            3.4963 |            1.5925 |            0.8391 |           0.8391 |            8.9792 |            7.0847 |           8.9792 |                 112 |                  40 |                152 |\n",
      "| ('All', '', '', '', '', '', '', '')              |              3.33025 |               1.5337 |             2.11155 |            3.96542 |            2.18276 |            3.4963 |            1.5925 |            0.8391 |           0.8391 |            8.9792 |            7.0847 |           8.9792 |                 112 |                  40 |                152 |\n"
     ]
    }
   ],
   "source": [
    "import pandas as pd\n",
    "\n",
    "filename = 'results_open_2023-07-26_09h22m42s'\n",
    "\n",
    "df = pd.read_csv(f'../outputs/{filename}.csv')\n",
    "\n",
    "# Add column year & move to 2nd column\n",
    "df['year'] = df['date_range'].str[:4]\n",
    "# current_index = df.columns.get_loc(\"year\") # Get the index of the \"year\" column\n",
    "column = df.pop(\"year\") # Remove the \"year\" column from its current position\n",
    "df.insert(1, \"year\", column) # Insert the \"year\" column at the desired position (index 1)\n",
    "\n",
    "df.to_csv(f'../outputs/{filename}.csv', index=False)\n",
    "\n",
    "# pivot_table = pd.pivot_table(df,\n",
    "#                              index=['watch_days', 'hold_days', 'num_stocks_to_buy', 'loss_limit', 'fee_%', 'num_tickers', 'nsmallest/nlargest'],\n",
    "#                              columns=['year'],\n",
    "#                              values=['yearly_profit', 'win_ratio'],\n",
    "#                              aggfunc={\n",
    "#                                 'yearly_profit': ['median', 'mean', 'min', 'max', ('count where < 1', lambda x: (x < 1).sum()), 'count'],\n",
    "#                                 'win_ratio': [('win_median', lambda x: np.median(x))]\n",
    "#                              },\n",
    "#                              margins=True)\n",
    "\n",
    "cross_tab = pd.crosstab(\n",
    "    index=[df['start_watch_time'], df['buy_time'], df['sell_time'], df['rank'], df['pct_change_threshold'], df['watch_days'], df['hold_days'], df['num_stocks_to_buy'], df['loss_limit'], df['fee'], df['num_tickers']],\n",
    "    columns=df['year'],\n",
    "    values=df['yearly_profit'],\n",
    "    aggfunc=['median', 'mean', 'min', 'max', 'count'],\n",
    "    margins=True)\n",
    "cross_tab = cross_tab.sort_values(by=[('median', 'All')], ascending=False)\n",
    "\n",
    "print(cross_tab.to_markdown())\n",
    "\n",
    "cross_tab.to_csv(f'../outputs/pivot_table_{filename}.csv')\n"
   ]
  },
  {
   "attachments": {},
   "cell_type": "markdown",
   "metadata": {},
   "source": [
    "signle column CSV to list"
   ]
  },
  {
   "cell_type": "code",
   "execution_count": null,
   "metadata": {},
   "outputs": [],
   "source": [
    "import csv\n",
    "\n",
    "file_path = '../db/french_synched_tickers.csv'\n",
    "\n",
    "def csv_to_list(file_path):\n",
    "    with open(file_path, 'r') as csv_file:\n",
    "        reader = csv.reader(csv_file)\n",
    "        column_list = [row[0] for row in reader]\n",
    "\n",
    "    return column_list\n",
    "\n",
    "result_list = csv_to_list(file_path)\n",
    "print(result_list)"
   ]
  }
 ],
 "metadata": {
  "kernelspec": {
   "display_name": "Python 3",
   "language": "python",
   "name": "python3"
  },
  "language_info": {
   "codemirror_mode": {
    "name": "ipython",
    "version": 3
   },
   "file_extension": ".py",
   "mimetype": "text/x-python",
   "name": "python",
   "nbconvert_exporter": "python",
   "pygments_lexer": "ipython3",
   "version": "3.9.10"
  },
  "orig_nbformat": 4
 },
 "nbformat": 4,
 "nbformat_minor": 2
}
