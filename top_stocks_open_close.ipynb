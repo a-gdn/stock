{
 "cells": [
  {
   "cell_type": "code",
   "execution_count": 1,
   "metadata": {},
   "outputs": [],
   "source": [
    "# Libraries and imports\n",
    "\n",
    "import os\n",
    "import yfinance as yf\n",
    "import pandas as pd\n",
    "import numpy as np\n",
    "from itertools import product\n",
    "import matplotlib as mpl\n",
    "import matplotlib.pyplot as plt\n",
    "from datetime import datetime\n",
    "\n",
    "import config as cfg"
   ]
  },
  {
   "cell_type": "code",
   "execution_count": 2,
   "metadata": {},
   "outputs": [
    {
     "name": "stdout",
     "output_type": "stream",
     "text": [
      "Number of combinations: 1000, Estimated time: 100.00 minutes\n"
     ]
    }
   ],
   "source": [
    "# Constants\n",
    "\n",
    "watch_days_range = [2]\n",
    "hold_days_range = [1]\n",
    "num_stocks_to_buy_range = [1]\n",
    "loss_limit_range = [0.999]\n",
    "fee_range = [0.002]\n",
    "ranks = ['nsmallest']\n",
    "pct_change_threshold_range = [float('-inf')]\n",
    "start_watch_operation_times = [\"Open\", \"Close\"]\n",
    "buy_operation_times = [\"Open\", \"Close\"]\n",
    "sell_operation_times = [\"Open\", \"Close\"]\n",
    "\n",
    "overall_start_date = '2000-08-01'\n",
    "overall_end_date = '2023-12-23'\n",
    "\n",
    "# dates_range = [('2023-01-02', '2023-06-23')]\n",
    "dates_range = [('2000-08-01', '2022-12-31'), ('2000-08-02', '2022-12-31'), ('2000-08-03', '2022-12-31'), ('2000-08-04', '2022-12-31'), ('2000-08-05', '2022-12-31'), ('2000-08-06', '2022-12-31'), ('2000-08-07', '2022-12-31'), ('2000-08-08', '2022-12-31'), ('2000-08-09', '2022-12-31'), ('2000-08-10', '2022-12-31'),\n",
    "               ('2001-01-01', '2001-12-31'), ('2001-01-02', '2001-12-31'), ('2001-01-03', '2001-12-31'), ('2001-01-04', '2001-12-31'), ('2001-01-05', '2001-12-31'),\n",
    "               ('2002-01-01', '2002-12-31'), ('2002-01-02', '2002-12-31'), ('2002-01-03', '2002-12-31'), ('2002-01-04', '2002-12-31'), ('2002-01-07', '2002-12-31'),\n",
    "               ('2003-01-01', '2003-12-31'), ('2003-01-02', '2003-12-31'), ('2003-01-03', '2003-12-31'), ('2003-01-06', '2003-12-31'), ('2003-01-07', '2003-12-31'),\n",
    "               ('2004-01-01', '2004-12-31'), ('2004-01-02', '2004-12-31'), ('2004-01-05', '2004-12-31'), ('2004-01-06', '2004-12-31'), ('2004-01-07', '2004-12-31'),\n",
    "               ('2005-01-03', '2005-12-31'), ('2005-01-04', '2005-12-31'), ('2005-01-05', '2005-12-31'), ('2005-01-06', '2005-12-31'), ('2005-01-07', '2005-12-31'),\n",
    "               ('2006-01-02', '2006-12-31'), ('2006-01-03', '2006-12-31'), ('2006-01-04', '2006-12-31'), ('2006-01-05', '2006-12-31'), ('2006-01-06', '2006-12-31'),\n",
    "               ('2007-01-01', '2007-12-31'), ('2007-01-02', '2007-12-31'), ('2007-01-03', '2007-12-31'), ('2007-01-04', '2007-12-31'), ('2007-01-05', '2007-12-31'),\n",
    "               ('2008-01-01', '2008-12-31'), ('2008-01-02', '2008-12-31'), ('2008-01-03', '2008-12-31'), ('2008-01-04', '2008-12-31'), ('2008-01-07', '2008-12-31'),\n",
    "               ('2009-01-01', '2009-12-31'), ('2009-01-02', '2009-12-31'), ('2009-01-05', '2009-12-31'), ('2009-01-06', '2009-12-31'), ('2009-01-07', '2009-12-31'),\n",
    "               ('2010-01-01', '2010-12-31'), ('2010-01-04', '2010-12-31'), ('2010-01-05', '2010-12-31'), ('2010-01-06', '2010-12-31'), ('2010-01-07', '2010-12-31'),\n",
    "               ('2011-01-03', '2011-12-31'), ('2011-01-04', '2011-12-31'), ('2011-01-05', '2011-12-31'), ('2011-01-06', '2011-12-31'), ('2011-01-07', '2011-12-31'),\n",
    "               ('2012-01-02', '2012-12-31'), ('2012-01-03', '2012-12-31'), ('2012-01-04', '2012-12-31'), ('2012-01-05', '2012-12-31'), ('2012-01-06', '2012-12-31'),\n",
    "               ('2013-01-01', '2013-12-31'), ('2013-01-02', '2013-12-31'), ('2013-01-03', '2013-12-31'), ('2013-01-04', '2013-12-31'), ('2013-01-07', '2013-12-31'),\n",
    "               ('2014-01-01', '2014-12-31'), ('2014-01-02', '2014-12-31'), ('2014-01-03', '2014-12-31'), ('2014-01-06', '2014-12-31'), ('2014-01-07', '2014-12-31'),\n",
    "               ('2015-01-01', '2015-12-31'), ('2015-01-05', '2015-12-31'), ('2015-01-06', '2015-12-31'), ('2015-01-07', '2015-12-31'), ('2015-01-08', '2015-12-31'),\n",
    "               ('2016-01-01', '2016-12-31'), ('2016-01-04', '2016-12-31'), ('2016-01-05', '2016-12-31'), ('2016-01-06', '2016-12-31'), ('2016-01-07', '2016-12-31'),\n",
    "               ('2017-01-02', '2017-12-31'), ('2017-01-03', '2017-12-31'), ('2017-01-04', '2017-12-31'), ('2017-01-05', '2017-12-31'), ('2017-01-06', '2017-12-31'),\n",
    "               ('2018-01-01', '2018-12-31'), ('2018-01-02', '2018-12-31'), ('2018-01-03', '2018-12-31'), ('2018-01-04', '2018-12-31'), ('2018-01-05', '2018-12-31'),\n",
    "               ('2019-01-01', '2019-12-31'), ('2019-01-02', '2019-12-31'), ('2019-01-03', '2019-12-31'), ('2019-01-04', '2019-12-31'), ('2019-01-07', '2019-12-31'),\n",
    "               ('2020-01-01', '2020-12-31'), ('2020-01-02', '2020-12-31'), ('2020-01-03', '2020-12-31'), ('2020-01-06', '2020-12-31'), ('2020-01-07', '2020-12-31'),\n",
    "               ('2021-01-01', '2021-12-31'), ('2021-01-04', '2021-12-31'), ('2021-01-05', '2021-12-31'), ('2021-01-06', '2021-12-31'), ('2021-01-07', '2021-12-31'),\n",
    "               ('2022-01-03', '2022-12-31'), ('2022-01-04', '2022-12-31'), ('2022-01-05', '2022-12-31'), ('2022-01-06', '2022-12-31'), ('2022-01-07', '2022-12-31'),\n",
    "               ('2023-01-02', '2023-06-23'), ('2023-01-03', '2023-06-23'), ('2023-01-04', '2023-06-23'), ('2023-01-05', '2023-12-23'), ('2023-01-06', '2023-12-23')]\n",
    "\n",
    "tickers = cfg.selected_tickers\n",
    "num_tickers = len(tickers)\n",
    "\n",
    "num_combinations = len(dates_range) * len(ranks) * len(start_watch_operation_times) * len(buy_operation_times) * len(sell_operation_times) * len(pct_change_threshold_range) * len(watch_days_range) * len(hold_days_range) * len(num_stocks_to_buy_range) * len(loss_limit_range) * len(fee_range)\n",
    "combinations_per_minute = 10\n",
    "\n",
    "print(f\"Number of combinations: {num_combinations}, Estimated time: {(num_combinations / combinations_per_minute):.2f} minutes\")"
   ]
  },
  {
   "cell_type": "code",
   "execution_count": 3,
   "metadata": {},
   "outputs": [],
   "source": [
    "# Download stock data\n",
    "\n",
    "folder_path = './db/'\n",
    "file_name = f'ohlcv_ntickers_{num_tickers}_{overall_start_date}_to_{overall_end_date}.pkl'\n",
    "file_path = folder_path + file_name\n",
    "\n",
    "def download_stock_data(tickers, start_date, end_date):\n",
    "    if not os.path.exists(folder_path):\n",
    "        os.makedirs(folder_path)\n",
    "\n",
    "    if os.path.isfile(file_path):\n",
    "        df = pd.read_pickle(file_path)\n",
    "    else:\n",
    "        stock_data = yf.download(tickers, start=start_date, end=end_date)\n",
    "        df = pd.DataFrame(stock_data)\n",
    "        df = df.sort_values(\"Date\") # stock_data is not ordered by default\n",
    "        df.to_pickle(file_path)\n",
    "\n",
    "    return df\n",
    "\n",
    "stock_data_df = download_stock_data(tickers, overall_start_date, overall_end_date)"
   ]
  },
  {
   "cell_type": "code",
   "execution_count": 4,
   "metadata": {},
   "outputs": [],
   "source": [
    "# Pre-process stock data\n",
    "\n",
    "def filter_stock_data(df, start_date, end_date):\n",
    "    start_date = pd.Timestamp(start_date)\n",
    "    end_date = pd.Timestamp(end_date)\n",
    "    filtered_df = df.loc[(df.index >= start_date) & (df.index <= end_date)]\n",
    "    \n",
    "    return filtered_df\n",
    "\n",
    "def extract_stock_data(df, start_watch_time, buy_time, sell_time):\n",
    "    def get_column_df(df, column):\n",
    "        column_df = df[[column]]\n",
    "        column_df.columns = column_df.columns.droplevel(0) # Convert to single level columns\n",
    "        return column_df\n",
    "    \n",
    "    start_watch_df = get_column_df(df, start_watch_time)\n",
    "    buy_df = get_column_df(df, buy_time)\n",
    "    sell_df = get_column_df(df, sell_time)\n",
    "    low_df = get_column_df(df, \"Low\")\n",
    "\n",
    "    return start_watch_df, buy_df, sell_df, low_df"
   ]
  },
  {
   "cell_type": "code",
   "execution_count": 5,
   "metadata": {},
   "outputs": [],
   "source": [
    "# Helper functions\n",
    "def get_num_iterations(start_watch_time, buy_time, sell_time, watch_days, hold_days, df):\n",
    "    operation_times = [start_watch_time, buy_time, sell_time]\n",
    "\n",
    "    num_days = len(df)\n",
    "\n",
    "    # Fix formulas to consider the number of watch days and hold days !!!!!\n",
    "    \n",
    "    if operation_times == [\"Open\", \"Open\", \"Open\"] or operation_times == [\"Close\", \"Open\", \"Open\"] or operation_times == [\"Close\", \"Close\", \"Open\"] or operation_times == [\"Close\", \"Close\", \"Close\"]: # Cases 1, 4, 6 and 8\n",
    "        num_iterations = int((num_days - 1) / 2)\n",
    "    elif operation_times == [\"Open\", \"Open\", \"Close\"] or operation_times == [\"Open\", \"Close\", \"Close\"]: # Cases 2 and 5\n",
    "        num_iterations = int(num_days / 2)\n",
    "    elif operation_times == [\"Open\", \"Close\", \"Open\"] or operation_times == [\"Close\", \"Open\", \"Close\"]: # Cases 3 and 7\n",
    "        num_iterations = num_days - 1\n",
    "    \n",
    "    return num_iterations - 1\n",
    "\n",
    "def get_operation_days(start_watch_time, buy_time, sell_time, watch_days, hold_days, num_iterations):        \n",
    "    operation_times = [start_watch_time, buy_time, sell_time]\n",
    "    start_watch_days, buy_days, sell_days = [], [], []\n",
    "    \n",
    "    for i in range(1, num_iterations + 1):\n",
    "        if operation_times == [\"Open\", \"Open\", \"Open\"] or operation_times == [\"Close\", \"Open\", \"Open\"]: # Cases 1 and 4\n",
    "            start_watch_day = sell_days[-1] if sell_days else 1\n",
    "            buy_day = start_watch_day + watch_days if watch_days > 0 else start_watch_day + 1\n",
    "            sell_day = buy_day + hold_days if hold_days > 0 else buy_day + 1\n",
    "        elif operation_times == [\"Open\", \"Open\", \"Close\"]: # Case 2\n",
    "            start_watch_day = sell_days[-1] + 1 if sell_days else 1\n",
    "            buy_day = start_watch_day + watch_days if watch_days > 0 else start_watch_day + 1\n",
    "            sell_day = buy_day + hold_days\n",
    "        elif operation_times == [\"Open\", \"Close\", \"Open\"]: # Case 3\n",
    "            start_watch_day = sell_days[-1] if sell_days else 1\n",
    "            buy_day = start_watch_day + watch_days\n",
    "            sell_day = buy_day + hold_days if hold_days > 0 else buy_day + 1\n",
    "        elif operation_times == [\"Open\", \"Close\", \"Close\"]: # Case 5\n",
    "            start_watch_day = sell_days[-1] + 1 if sell_days else 1\n",
    "            buy_day = start_watch_day + watch_days\n",
    "            sell_day = buy_day + hold_days if hold_days > 0 else buy_day + 1\n",
    "        elif operation_times == [\"Close\", \"Close\", \"Open\"]: # Case 6\n",
    "            start_watch_day = sell_days[-1] if sell_days else 1\n",
    "            buy_day = start_watch_day + watch_days if watch_days > 0 else start_watch_day + 1\n",
    "            sell_day = buy_day + hold_days if hold_days > 0 else buy_day + 1\n",
    "        elif operation_times == [\"Close\", \"Open\", \"Close\"]: # Case 7\n",
    "            start_watch_day = sell_days[-1] if sell_days else 1\n",
    "            buy_day = start_watch_day + watch_days if watch_days > 0 else start_watch_day + 1\n",
    "            sell_day = buy_day + hold_days\n",
    "        elif operation_times == [\"Close\", \"Close\", \"Close\"]: # Case 8\n",
    "            start_watch_day = sell_days[-1] if sell_days else 1\n",
    "            buy_day = start_watch_day + watch_days if watch_days > 0 else start_watch_day + 1\n",
    "            sell_day = buy_day + hold_days if hold_days > 0 else buy_day + 1\n",
    "        \n",
    "        start_watch_days.append(start_watch_day)\n",
    "        buy_days.append(buy_day)\n",
    "        sell_days.append(sell_day)\n",
    "        \n",
    "    return start_watch_days, buy_days, sell_days\n",
    "\n",
    "def get_number_of_years(start_date, end_date):\n",
    "    start = datetime.strptime(start_date, \"%Y-%m-%d\")\n",
    "    end = datetime.strptime(end_date, \"%Y-%m-%d\")\n",
    "    delta = end - start\n",
    "    return delta.days / 365.25\n",
    "\n",
    "def add_year_column(df):\n",
    "    df['year'] = df['date_range'].str[:4]\n",
    "    column = df.pop(\"year\") # Remove the \"year\" column from its current position\n",
    "    df.insert(1, \"year\", column) # Insert the \"year\" column at the desired position (index 1)\n",
    "    \n",
    "    return df\n",
    "\n",
    "def plot_profits(profits_list, total_profits_list):\n",
    "    mpl.rcParams['figure.figsize'] = [20, 15]\n",
    "    mpl.rcParams['axes.grid'] = True\n",
    "\n",
    "    plt.plot(profits_list)\n",
    "    plt.title('profit vs iteration')\n",
    "    plt.show()\n",
    "\n",
    "    plt.plot(total_profits_list)\n",
    "    plt.title('total profit vs iteration')\n",
    "    plt.show()"
   ]
  },
  {
   "cell_type": "code",
   "execution_count": 6,
   "metadata": {},
   "outputs": [],
   "source": [
    "# Analysis functions\n",
    "\n",
    "def get_price_increases(start_watch_df, buy_df, start_watch_day_number, buy_day_number):\n",
    "    start_watch_prices = start_watch_df.iloc[[start_watch_day_number]]\n",
    "    buy_prices = buy_df.iloc[[buy_day_number]]\n",
    "\n",
    "    prices = pd.concat([start_watch_prices, buy_prices])\n",
    "    price_increases = prices.pct_change().tail(1)\n",
    "    \n",
    "    return price_increases\n",
    "\n",
    "def get_top_stocks(rank, pct_change_threshold, price_increases, num_stocks_to_buy):\n",
    "    if rank == 'nlargest':    \n",
    "        filtered_columns = price_increases.columns[(price_increases > pct_change_threshold).any()].tolist()\n",
    "        top_stocks = sorted(filtered_columns, key=lambda col: price_increases[col].values[0], reverse=True)[:num_stocks_to_buy]\n",
    "        return top_stocks\n",
    "\n",
    "    elif rank == 'nsmallest':\n",
    "        filtered_columns = price_increases.columns[(price_increases > pct_change_threshold).any()].tolist()\n",
    "        top_stocks = sorted(filtered_columns, key=lambda col: price_increases[col].values[0], reverse=False)[:num_stocks_to_buy]\n",
    "        return top_stocks\n",
    "    \n",
    "    return None\n",
    "\n",
    "def calculate_profit(buy_df, sell_df, low_df, buy_day_number, sell_day_number, top_stocks, loss_limit, buy_time, sell_time, fee):\n",
    "    def get_min_prices_index(day_number, operation_time):     \n",
    "        if operation_time == \"Open\":\n",
    "            index = day_number\n",
    "        elif operation_time == \"Close\":\n",
    "            index = day_number + 1\n",
    "        return index\n",
    "    \n",
    "    buy_prices = buy_df.loc[buy_df.index[buy_day_number], top_stocks] # Calculate the buying prices at the start of the hold period\n",
    "    buy_prices = buy_prices.sort_index(axis=0)\n",
    "\n",
    "    hold_prices = sell_df.loc[sell_df.index[sell_day_number], top_stocks] # Calculate the selling prices after watch_days + hold_days days\n",
    "    hold_prices = hold_prices.sort_index(axis=0)\n",
    "\n",
    "    limit_prices = loss_limit * buy_prices\n",
    "\n",
    "    min_prices_start_index = get_min_prices_index(buy_day_number, buy_time)\n",
    "    min_prices_end_index = get_min_prices_index(sell_day_number, sell_time)\n",
    "\n",
    "    min_prices = low_df.iloc[min_prices_start_index:min_prices_end_index].min() # Calculate the minimum price in the holding period. In .iloc[a:b], rows from a to b-1 are extracted\n",
    "    min_prices = min_prices.loc[min_prices.index.intersection(top_stocks)]\n",
    "    min_prices = min_prices.sort_index(axis=0)\n",
    "    \n",
    "    condition = min_prices < limit_prices\n",
    "\n",
    "    sell_prices = hold_prices.copy()\n",
    "    sell_prices[condition] = limit_prices[condition]\n",
    "\n",
    "    profits = (sell_prices * (1 - fee)) / (buy_prices * (1 + fee))\n",
    "    profits = profits.dropna()\n",
    "\n",
    "    mean_profit = profits.mean(skipna=True) # Calculate the average of profits of the selected stocks\n",
    "\n",
    "    if num_combinations == 1:\n",
    "        print(f\"profits: {profits} \\n buy_prices: {buy_prices} \\n sell_prices: {sell_prices} \\n\")\n",
    "\n",
    "    return mean_profit\n",
    "\n",
    "def get_win_ratio(profits):\n",
    "    count = sum(1 for num in profits if num > 1)\n",
    "    win_ratio = count / len(profits)\n",
    "    \n",
    "    return round(win_ratio, 2)"
   ]
  },
  {
   "cell_type": "code",
   "execution_count": 7,
   "metadata": {},
   "outputs": [],
   "source": [
    "# Transform functions\n",
    "\n",
    "def get_results(stock_data_df):\n",
    "    results = []\n",
    "    combination_index = 0\n",
    "\n",
    "    for start_date, end_date in dates_range:\n",
    "        filtered_stock_data_df = filter_stock_data(stock_data_df, start_date, end_date)\n",
    "        years = get_number_of_years(start_date, end_date)\n",
    "        \n",
    "        for start_watch_time, buy_time, sell_time in product(start_watch_operation_times, buy_operation_times, sell_operation_times):\n",
    "            start_watch_df, buy_df, sell_df, low_df = extract_stock_data(filtered_stock_data_df, start_watch_time, buy_time, sell_time)\n",
    "            \n",
    "            for rank, pct_change_threshold, watch_days, hold_days, num_stocks_to_buy, loss_limit, fee in product(\n",
    "                ranks, pct_change_threshold_range, watch_days_range, hold_days_range, num_stocks_to_buy_range, loss_limit_range, fee_range\n",
    "            ):\n",
    "                # num_iterations = int(len(buy_df) / (watch_days + hold_days)) - 1\n",
    "                num_iterations = get_num_iterations(start_watch_time, buy_time, sell_time, watch_days, hold_days, buy_df)\n",
    "                start_watch_days, buy_days, sell_days = get_operation_days(start_watch_time, buy_time, sell_time, watch_days, hold_days, num_iterations)\n",
    "                \n",
    "                total_profit = 1\n",
    "                profits_list = []\n",
    "                total_profits_list = []\n",
    "\n",
    "                for i in range(num_iterations):\n",
    "                    # start_watch_day_number = i * (watch_days + hold_days)\n",
    "                    # buy_day_number = start_watch_day_number + watch_days\n",
    "                    # sell_day_number = buy_day_number + hold_days\n",
    "                    start_watch_day_number, buy_day_number, sell_day_number = start_watch_days[i], buy_days[i], sell_days[i]\n",
    "\n",
    "                    price_increases = get_price_increases(start_watch_df, buy_df, start_watch_day_number, buy_day_number)\n",
    "\n",
    "                    if len(price_increases.columns) >= num_stocks_to_buy:\n",
    "                        top_stocks = get_top_stocks(rank, pct_change_threshold, price_increases, num_stocks_to_buy)\n",
    "                        profit = calculate_profit(buy_df, sell_df, low_df, buy_day_number, sell_day_number, top_stocks, loss_limit, buy_time, sell_time, fee) if top_stocks is not None else 1\n",
    "                        total_profit *= profit if np.isfinite(profit) else 1\n",
    "                        yearly_profit = pow(total_profit, 1 / years)\n",
    "\n",
    "                        profits_list.append(profit)\n",
    "                        total_profits_list.append(total_profit)\n",
    "\n",
    "                win_ratio = get_win_ratio(profits_list)\n",
    "\n",
    "                results.append({\n",
    "                    'date_range': f'{start_date}/{end_date}',\n",
    "                    'start_watch_time': start_watch_time,\n",
    "                    'buy_time': buy_time,\n",
    "                    'sell_time': sell_time,\n",
    "                    'rank': rank,\n",
    "                    'pct_change_threshold': pct_change_threshold,\n",
    "                    'watch_days': watch_days,\n",
    "                    'hold_days': hold_days,\n",
    "                    'num_stocks_to_buy': num_stocks_to_buy,\n",
    "                    'loss_limit': loss_limit,\n",
    "                    'fee': fee,\n",
    "                    'num_tickers': num_tickers,\n",
    "                    'total_profit': round(total_profit, 4),\n",
    "                    'yearly_profit': round(yearly_profit, 4),\n",
    "                    'win_ratio': win_ratio\n",
    "                })\n",
    "\n",
    "                print(f\"Combination: {combination_index + 1} / {num_combinations}\", end=\"\\r\")\n",
    "                combination_index += 1\n",
    "    \n",
    "    if num_combinations == 1:\n",
    "        plot_profits(profits_list, total_profits_list)\n",
    "\n",
    "    results_df = pd.DataFrame(results)\n",
    "    results_df = add_year_column(results_df)\n",
    "    results_df.sort_values(\"yearly_profit\", ascending=False, inplace=True)\n",
    "\n",
    "    return results_df\n",
    "\n",
    "def get_overall_cross_tab(df):\n",
    "    def get_cross_tab(df, values_column, agg_funcs, sorting_func):\n",
    "        cross_tab = pd.crosstab(\n",
    "            index=[df['start_watch_time'], df['buy_time'], df['sell_time'], df['rank'], df['pct_change_threshold'], df['watch_days'], df['hold_days'], df['num_stocks_to_buy'], df['loss_limit'], df['fee'], df['num_tickers']],\n",
    "            columns=df['year'],\n",
    "            values=df[values_column],\n",
    "            aggfunc=agg_funcs,\n",
    "            margins=True)\n",
    "        cross_tab = cross_tab.sort_values(by=[(sorting_func, 'All')], ascending=False)\n",
    "\n",
    "        return cross_tab\n",
    "\n",
    "    cross_tab_profit = get_cross_tab(df, 'yearly_profit', ['median', 'mean', 'min', 'max', 'count'], 'median')\n",
    "    cross_tab_win_ratio = get_cross_tab(df, 'win_ratio', ['mean'], 'mean')\n",
    "    \n",
    "    cross_tab_profit.columns = pd.MultiIndex.from_tuples([('yearly_profit', col) for col in cross_tab_profit.columns])\n",
    "    cross_tab_win_ratio.columns = pd.MultiIndex.from_tuples([('win_ratio', col) for col in cross_tab_win_ratio.columns])\n",
    "\n",
    "    overall_cross_tab = pd.concat([cross_tab_profit, cross_tab_win_ratio], axis=1)\n",
    "    \n",
    "    print(overall_cross_tab.to_markdown())\n",
    "\n",
    "    return overall_cross_tab"
   ]
  },
  {
   "cell_type": "code",
   "execution_count": 8,
   "metadata": {},
   "outputs": [
    {
     "name": "stdout",
     "output_type": "stream",
     "text": [
      "Combination: 5 / 1000\r"
     ]
    },
    {
     "name": "stderr",
     "output_type": "stream",
     "text": [
      "/var/folders/1x/b84w4ts97b728gp2r8cchfgw0000gn/T/ipykernel_37759/1533881210.py:36: RuntimeWarning: overflow encountered in double_scalars\n",
      "  total_profit *= profit if np.isfinite(profit) else 1\n"
     ]
    },
    {
     "name": "stdout",
     "output_type": "stream",
     "text": [
      "Combination: 13 / 1000\r"
     ]
    },
    {
     "name": "stderr",
     "output_type": "stream",
     "text": [
      "/var/folders/1x/b84w4ts97b728gp2r8cchfgw0000gn/T/ipykernel_37759/1533881210.py:36: RuntimeWarning: overflow encountered in double_scalars\n",
      "  total_profit *= profit if np.isfinite(profit) else 1\n"
     ]
    },
    {
     "name": "stdout",
     "output_type": "stream",
     "text": [
      "Combination: 21 / 1000\r"
     ]
    },
    {
     "name": "stderr",
     "output_type": "stream",
     "text": [
      "/var/folders/1x/b84w4ts97b728gp2r8cchfgw0000gn/T/ipykernel_37759/1533881210.py:36: RuntimeWarning: overflow encountered in double_scalars\n",
      "  total_profit *= profit if np.isfinite(profit) else 1\n"
     ]
    },
    {
     "name": "stdout",
     "output_type": "stream",
     "text": [
      "Combination: 29 / 1000\r"
     ]
    },
    {
     "name": "stderr",
     "output_type": "stream",
     "text": [
      "/var/folders/1x/b84w4ts97b728gp2r8cchfgw0000gn/T/ipykernel_37759/1533881210.py:36: RuntimeWarning: overflow encountered in double_scalars\n",
      "  total_profit *= profit if np.isfinite(profit) else 1\n"
     ]
    },
    {
     "name": "stdout",
     "output_type": "stream",
     "text": [
      "Combination: 37 / 1000\r"
     ]
    },
    {
     "name": "stderr",
     "output_type": "stream",
     "text": [
      "/var/folders/1x/b84w4ts97b728gp2r8cchfgw0000gn/T/ipykernel_37759/1533881210.py:36: RuntimeWarning: overflow encountered in double_scalars\n",
      "  total_profit *= profit if np.isfinite(profit) else 1\n"
     ]
    },
    {
     "name": "stdout",
     "output_type": "stream",
     "text": [
      "Combination: 45 / 1000\r"
     ]
    },
    {
     "name": "stderr",
     "output_type": "stream",
     "text": [
      "/var/folders/1x/b84w4ts97b728gp2r8cchfgw0000gn/T/ipykernel_37759/1533881210.py:36: RuntimeWarning: overflow encountered in double_scalars\n",
      "  total_profit *= profit if np.isfinite(profit) else 1\n"
     ]
    },
    {
     "name": "stdout",
     "output_type": "stream",
     "text": [
      "Combination: 53 / 1000\r"
     ]
    },
    {
     "name": "stderr",
     "output_type": "stream",
     "text": [
      "/var/folders/1x/b84w4ts97b728gp2r8cchfgw0000gn/T/ipykernel_37759/1533881210.py:36: RuntimeWarning: overflow encountered in double_scalars\n",
      "  total_profit *= profit if np.isfinite(profit) else 1\n"
     ]
    },
    {
     "name": "stdout",
     "output_type": "stream",
     "text": [
      "Combination: 61 / 1000\r"
     ]
    },
    {
     "name": "stderr",
     "output_type": "stream",
     "text": [
      "/var/folders/1x/b84w4ts97b728gp2r8cchfgw0000gn/T/ipykernel_37759/1533881210.py:36: RuntimeWarning: overflow encountered in double_scalars\n",
      "  total_profit *= profit if np.isfinite(profit) else 1\n"
     ]
    },
    {
     "name": "stdout",
     "output_type": "stream",
     "text": [
      "Combination: 69 / 1000\r"
     ]
    },
    {
     "name": "stderr",
     "output_type": "stream",
     "text": [
      "/var/folders/1x/b84w4ts97b728gp2r8cchfgw0000gn/T/ipykernel_37759/1533881210.py:36: RuntimeWarning: overflow encountered in double_scalars\n",
      "  total_profit *= profit if np.isfinite(profit) else 1\n"
     ]
    },
    {
     "name": "stdout",
     "output_type": "stream",
     "text": [
      "Combination: 77 / 1000\r"
     ]
    },
    {
     "name": "stderr",
     "output_type": "stream",
     "text": [
      "/var/folders/1x/b84w4ts97b728gp2r8cchfgw0000gn/T/ipykernel_37759/1533881210.py:36: RuntimeWarning: overflow encountered in double_scalars\n",
      "  total_profit *= profit if np.isfinite(profit) else 1\n"
     ]
    },
    {
     "name": "stdout",
     "output_type": "stream",
     "text": [
      "|                                                                             |   ('yearly_profit', ('median', '2000')) |   ('yearly_profit', ('median', '2001')) |   ('yearly_profit', ('median', '2002')) |   ('yearly_profit', ('median', '2003')) |   ('yearly_profit', ('median', '2004')) |   ('yearly_profit', ('median', '2005')) |   ('yearly_profit', ('median', '2006')) |   ('yearly_profit', ('median', '2007')) |   ('yearly_profit', ('median', '2008')) |   ('yearly_profit', ('median', '2009')) |   ('yearly_profit', ('median', '2010')) |   ('yearly_profit', ('median', '2011')) |   ('yearly_profit', ('median', '2012')) |   ('yearly_profit', ('median', '2013')) |   ('yearly_profit', ('median', '2014')) |   ('yearly_profit', ('median', '2015')) |   ('yearly_profit', ('median', '2016')) |   ('yearly_profit', ('median', '2017')) |   ('yearly_profit', ('median', '2018')) |   ('yearly_profit', ('median', '2019')) |   ('yearly_profit', ('median', '2020')) |   ('yearly_profit', ('median', '2021')) |   ('yearly_profit', ('median', '2022')) |   ('yearly_profit', ('median', '2023')) |   ('yearly_profit', ('median', 'All')) |   ('yearly_profit', ('mean', '2000')) |   ('yearly_profit', ('mean', '2001')) |   ('yearly_profit', ('mean', '2002')) |   ('yearly_profit', ('mean', '2003')) |   ('yearly_profit', ('mean', '2004')) |   ('yearly_profit', ('mean', '2005')) |   ('yearly_profit', ('mean', '2006')) |   ('yearly_profit', ('mean', '2007')) |   ('yearly_profit', ('mean', '2008')) |   ('yearly_profit', ('mean', '2009')) |   ('yearly_profit', ('mean', '2010')) |   ('yearly_profit', ('mean', '2011')) |   ('yearly_profit', ('mean', '2012')) |   ('yearly_profit', ('mean', '2013')) |   ('yearly_profit', ('mean', '2014')) |   ('yearly_profit', ('mean', '2015')) |   ('yearly_profit', ('mean', '2016')) |   ('yearly_profit', ('mean', '2017')) |   ('yearly_profit', ('mean', '2018')) |   ('yearly_profit', ('mean', '2019')) |   ('yearly_profit', ('mean', '2020')) |   ('yearly_profit', ('mean', '2021')) |   ('yearly_profit', ('mean', '2022')) |   ('yearly_profit', ('mean', '2023')) |   ('yearly_profit', ('mean', 'All')) |   ('yearly_profit', ('min', '2000')) |   ('yearly_profit', ('min', '2001')) |   ('yearly_profit', ('min', '2002')) |   ('yearly_profit', ('min', '2003')) |   ('yearly_profit', ('min', '2004')) |   ('yearly_profit', ('min', '2005')) |   ('yearly_profit', ('min', '2006')) |   ('yearly_profit', ('min', '2007')) |   ('yearly_profit', ('min', '2008')) |   ('yearly_profit', ('min', '2009')) |   ('yearly_profit', ('min', '2010')) |   ('yearly_profit', ('min', '2011')) |   ('yearly_profit', ('min', '2012')) |   ('yearly_profit', ('min', '2013')) |   ('yearly_profit', ('min', '2014')) |   ('yearly_profit', ('min', '2015')) |   ('yearly_profit', ('min', '2016')) |   ('yearly_profit', ('min', '2017')) |   ('yearly_profit', ('min', '2018')) |   ('yearly_profit', ('min', '2019')) |   ('yearly_profit', ('min', '2020')) |   ('yearly_profit', ('min', '2021')) |   ('yearly_profit', ('min', '2022')) |   ('yearly_profit', ('min', '2023')) |   ('yearly_profit', ('min', 'All')) |   ('yearly_profit', ('max', '2000')) |   ('yearly_profit', ('max', '2001')) |   ('yearly_profit', ('max', '2002')) |   ('yearly_profit', ('max', '2003')) |   ('yearly_profit', ('max', '2004')) |   ('yearly_profit', ('max', '2005')) |   ('yearly_profit', ('max', '2006')) |   ('yearly_profit', ('max', '2007')) |   ('yearly_profit', ('max', '2008')) |   ('yearly_profit', ('max', '2009')) |   ('yearly_profit', ('max', '2010')) |   ('yearly_profit', ('max', '2011')) |   ('yearly_profit', ('max', '2012')) |   ('yearly_profit', ('max', '2013')) |   ('yearly_profit', ('max', '2014')) |   ('yearly_profit', ('max', '2015')) |   ('yearly_profit', ('max', '2016')) |   ('yearly_profit', ('max', '2017')) |   ('yearly_profit', ('max', '2018')) |   ('yearly_profit', ('max', '2019')) |   ('yearly_profit', ('max', '2020')) |   ('yearly_profit', ('max', '2021')) |   ('yearly_profit', ('max', '2022')) |   ('yearly_profit', ('max', '2023')) |   ('yearly_profit', ('max', 'All')) |   ('yearly_profit', ('count', '2000')) |   ('yearly_profit', ('count', '2001')) |   ('yearly_profit', ('count', '2002')) |   ('yearly_profit', ('count', '2003')) |   ('yearly_profit', ('count', '2004')) |   ('yearly_profit', ('count', '2005')) |   ('yearly_profit', ('count', '2006')) |   ('yearly_profit', ('count', '2007')) |   ('yearly_profit', ('count', '2008')) |   ('yearly_profit', ('count', '2009')) |   ('yearly_profit', ('count', '2010')) |   ('yearly_profit', ('count', '2011')) |   ('yearly_profit', ('count', '2012')) |   ('yearly_profit', ('count', '2013')) |   ('yearly_profit', ('count', '2014')) |   ('yearly_profit', ('count', '2015')) |   ('yearly_profit', ('count', '2016')) |   ('yearly_profit', ('count', '2017')) |   ('yearly_profit', ('count', '2018')) |   ('yearly_profit', ('count', '2019')) |   ('yearly_profit', ('count', '2020')) |   ('yearly_profit', ('count', '2021')) |   ('yearly_profit', ('count', '2022')) |   ('yearly_profit', ('count', '2023')) |   ('yearly_profit', ('count', 'All')) |   ('win_ratio', ('mean', '2000')) |   ('win_ratio', ('mean', '2001')) |   ('win_ratio', ('mean', '2002')) |   ('win_ratio', ('mean', '2003')) |   ('win_ratio', ('mean', '2004')) |   ('win_ratio', ('mean', '2005')) |   ('win_ratio', ('mean', '2006')) |   ('win_ratio', ('mean', '2007')) |   ('win_ratio', ('mean', '2008')) |   ('win_ratio', ('mean', '2009')) |   ('win_ratio', ('mean', '2010')) |   ('win_ratio', ('mean', '2011')) |   ('win_ratio', ('mean', '2012')) |   ('win_ratio', ('mean', '2013')) |   ('win_ratio', ('mean', '2014')) |   ('win_ratio', ('mean', '2015')) |   ('win_ratio', ('mean', '2016')) |   ('win_ratio', ('mean', '2017')) |   ('win_ratio', ('mean', '2018')) |   ('win_ratio', ('mean', '2019')) |   ('win_ratio', ('mean', '2020')) |   ('win_ratio', ('mean', '2021')) |   ('win_ratio', ('mean', '2022')) |   ('win_ratio', ('mean', '2023')) |   ('win_ratio', ('mean', 'All')) |\n",
      "|:----------------------------------------------------------------------------|----------------------------------------:|----------------------------------------:|----------------------------------------:|----------------------------------------:|----------------------------------------:|----------------------------------------:|----------------------------------------:|----------------------------------------:|----------------------------------------:|----------------------------------------:|----------------------------------------:|----------------------------------------:|----------------------------------------:|----------------------------------------:|----------------------------------------:|----------------------------------------:|----------------------------------------:|----------------------------------------:|----------------------------------------:|----------------------------------------:|----------------------------------------:|----------------------------------------:|----------------------------------------:|----------------------------------------:|---------------------------------------:|--------------------------------------:|--------------------------------------:|--------------------------------------:|--------------------------------------:|--------------------------------------:|--------------------------------------:|--------------------------------------:|--------------------------------------:|--------------------------------------:|--------------------------------------:|--------------------------------------:|--------------------------------------:|--------------------------------------:|--------------------------------------:|--------------------------------------:|--------------------------------------:|--------------------------------------:|--------------------------------------:|--------------------------------------:|--------------------------------------:|--------------------------------------:|--------------------------------------:|--------------------------------------:|--------------------------------------:|-------------------------------------:|-------------------------------------:|-------------------------------------:|-------------------------------------:|-------------------------------------:|-------------------------------------:|-------------------------------------:|-------------------------------------:|-------------------------------------:|-------------------------------------:|-------------------------------------:|-------------------------------------:|-------------------------------------:|-------------------------------------:|-------------------------------------:|-------------------------------------:|-------------------------------------:|-------------------------------------:|-------------------------------------:|-------------------------------------:|-------------------------------------:|-------------------------------------:|-------------------------------------:|-------------------------------------:|-------------------------------------:|------------------------------------:|-------------------------------------:|-------------------------------------:|-------------------------------------:|-------------------------------------:|-------------------------------------:|-------------------------------------:|-------------------------------------:|-------------------------------------:|-------------------------------------:|-------------------------------------:|-------------------------------------:|-------------------------------------:|-------------------------------------:|-------------------------------------:|-------------------------------------:|-------------------------------------:|-------------------------------------:|-------------------------------------:|-------------------------------------:|-------------------------------------:|-------------------------------------:|-------------------------------------:|-------------------------------------:|-------------------------------------:|------------------------------------:|---------------------------------------:|---------------------------------------:|---------------------------------------:|---------------------------------------:|---------------------------------------:|---------------------------------------:|---------------------------------------:|---------------------------------------:|---------------------------------------:|---------------------------------------:|---------------------------------------:|---------------------------------------:|---------------------------------------:|---------------------------------------:|---------------------------------------:|---------------------------------------:|---------------------------------------:|---------------------------------------:|---------------------------------------:|---------------------------------------:|---------------------------------------:|---------------------------------------:|---------------------------------------:|---------------------------------------:|--------------------------------------:|----------------------------------:|----------------------------------:|----------------------------------:|----------------------------------:|----------------------------------:|----------------------------------:|----------------------------------:|----------------------------------:|----------------------------------:|----------------------------------:|----------------------------------:|----------------------------------:|----------------------------------:|----------------------------------:|----------------------------------:|----------------------------------:|----------------------------------:|----------------------------------:|----------------------------------:|----------------------------------:|----------------------------------:|----------------------------------:|----------------------------------:|----------------------------------:|---------------------------------:|\n",
      "| ('Close', 'Open', 'Close', 'nsmallest', -inf, 2, 1, 1, 0.999, 0.002, 1254)  |                           inf           |                             2.82974e+42 |                             5.97761e+49 |                             5.50602e+77 |                             3.08162e+45 |                             3.81617e+20 |                             1.36126e+22 |                             1.56871e+09 |                             5.10789e+06 |                             2.67296e+12 |                             1.50674e+15 |                             1.06376e+25 |                             7.93947e+15 |                             7.16382e+08 |                             6.89091e+07 |                             1.38256e+11 |                             1.11513e+13 |                             9.76716e+06 |                               4386.53   |                             407482      |                             956658      |                           824.892       |                             1.36191e+09 |                             6.27967e+14 |                            8.71141e+12 |                         nan           |                           4.52497e+42 |                           7.88448e+49 |                           7.53787e+77 |                           3.01021e+45 |                           6.23077e+20 |                           1.136e+22   |                           1.58559e+09 |                           5.18442e+06 |                           2.5574e+12  |                           1.48829e+15 |                           1.13241e+25 |                           6.98911e+15 |                           7.39648e+08 |                           6.88314e+07 |                            1.334e+11  |                           1.10971e+13 |                           9.80181e+06 |                            4392.08    |                           405060      |                           991532      |                         820.391       |                           1.36863e+09 |                           4.31168e+14 |                        nan           |                        inf           |                          1.63487e+42 |                          3.15896e+49 |                          1.24275e+77 |                          1.94789e+45 |                          2.99376e+20 |                          4.82939e+21 |                          1.46997e+09 |                          4.67462e+06 |                          1.94397e+12 |                          1.0346e+15  |                          9.03147e+24 |                          2.97239e+15 |                          6.37252e+08 |                          6.33735e+07 |                          1.06399e+11 |                          8.71141e+12 |                          8.58313e+06 |                            4168.03   |                          377663      |                          882698      |                        762.377       |                          1.20276e+09 |                          2.93625e+09 |                            762.377  |                        inf           |                          1.22796e+43 |                          1.84287e+50 |                          1.87538e+78 |                          4.12978e+45 |                          1.06387e+21 |                          1.70301e+22 |                          1.67221e+09 |                          6.00964e+06 |                          3.162e+12   |                          1.84661e+15 |                          1.4798e+25  |                          9.80798e+15 |                            9.089e+08 |                          7.51453e+07 |                          1.49286e+11 |                          1.27888e+13 |                          1.10987e+07 |                            4633.19   |                          424469      |                          1.12442e+06 |                        864.327       |                          1.54742e+09 |                          7.75621e+14 |                       inf           |                                     10 |                                      5 |                                      5 |                                      5 |                                      5 |                                      5 |                                      5 |                                      5 |                                      5 |                                      5 |                                      5 |                                      5 |                                      5 |                                      5 |                                      5 |                                      5 |                                      5 |                                      5 |                                      5 |                                      5 |                                      5 |                                      5 |                                      5 |                                      5 |                                   125 |                            0.39   |                           0.442   |                           0.422   |                           0.498   |                           0.44    |                            0.324  |                           0.31    |                            0.32   |                            0.3    |                           0.384   |                             0.442 |                             0.52  |                            0.462  |                            0.424  |                             0.404 |                           0.462   |                             0.49  |                            0.368  |                             0.27  |                           0.334   |                            0.31   |                             0.27  |                             0.376 |                           0.34    |                          0.38768 |\n",
      "| ('Close', 'Open', 'Open', 'nsmallest', -inf, 2, 1, 1, 0.999, 0.002, 1254)   |                             2.21911e+07 |                             2.96965e+21 |                             6.75726e+20 |                             1.02261e+21 |                             6.77196e+16 |                             4.45376e+07 |                             3.41701e+10 |                          2822.84        |                          8622.31        |                        183212           |                             2.97085e+06 |                             1.16826e+09 |                             4.05976e+06 |                        183918           |                          2975.46        |                           125.991       |                        154213           |                           229.948       |                                 21.6394 |                               2528.21   |                                998.345  |                           575.949       |                         34269.8         |                             1.99282e+07 |                       190164           |                           1.22213e+08 |                           2.33921e+21 |                           6.03569e+20 |                           2.11862e+21 |                           4.4171e+20  |                           5.68402e+08 |                           5.18661e+10 |                       70630.9         |                        6586.39        |                      178471           |                           7.92691e+07 |                           1.21183e+09 |                           2.91733e+06 |                      118356           |                        1991.92        |                         5890.19       |                      106496           |                         265.029       |                             127.8     |                             2271.29   |                             5210.77   |                         371.767       |                       27985.2         |                           3.59642e+12 |                          2.20125e+20 |                          2.0977e+07  |                          3.92814e+20 |                          6.35165e+18 |                          5.2379e+16  |                          3.54568e+16 |                          4.01548e+07 |                          1.18206e+06 |                       2628.58        |                       2954.66        |                     111366           |                          2.42168e+06 |                          9.23831e+08 |                     598690           |                       6286.87        |                        300.22        |                        113.77        |                      20253.7         |                        146.476       |                              20.9924 |                            1688.65   |                             903.694  |                         21.3752      |                      15147.8         |                       9871.63        |                             20.9924 |                          2.74841e+08 |                          4.45312e+21 |                          1.4224e+21  |                          7.8056e+21  |                          1.66298e+21 |                          2.12605e+09 |                          1.20762e+11 |                     178690           |                       9332.38        |                     217886           |                          2.03034e+08 |                          1.50832e+09 |                          4.84678e+06 |                       204443         |                       3339.64        |                      17100.5         |                     170262           |                        386.441       |                             324.171  |                            2711.99   |                      12240.7         |                        632.468       |                      38865.9         |                          9.13503e+12 |                         7.8056e+21  |                                     10 |                                      5 |                                      5 |                                      5 |                                      5 |                                      5 |                                      5 |                                      5 |                                      5 |                                      5 |                                      5 |                                      5 |                                      5 |                                      5 |                                      5 |                                      5 |                                      5 |                                      5 |                                      5 |                                      5 |                                      5 |                                      5 |                                      5 |                                      5 |                                   125 |                            0.394  |                           0.508   |                           0.464   |                           0.432   |                           0.464   |                            0.416  |                           0.354   |                            0.362  |                            0.382  |                           0.374   |                             0.442 |                             0.498 |                            0.404  |                            0.424  |                             0.384 |                           0.28    |                             0.38  |                            0.302  |                             0.326 |                           0.38    |                            0.402  |                             0.336 |                             0.398 |                           0.308   |                          0.39232 |\n",
      "| ('Open', 'Close', 'Open', 'nsmallest', -inf, 2, 1, 1, 0.999, 0.002, 1254)   |                        235127           |                           256.786       |                             9.89287e+06 |                             2.92477e+20 |                            48.2606      |                            46.2071      |                             0.3466      |                             4.1584      |                        244650           |                             1.98401e+10 |                             7.81258e+12 |                             9.93405e+09 |                             4.39068e+08 |                         21399.9         |                           202.076       |                           526.545       |                         42292.4         |                          5330.43        |                                  5.8455 |                                 47.0965 |                                 15.0084 |                             1.71245e+06 |                             1.6669e+11  |                             8.64374e+17 |                        42292.4         |                      235496           |                         256.711       |                           1.15827e+07 |                           3.35441e+20 |                          47.1155      |                          46.1632      |                           0.34178     |                           4.16032     |                      251549           |                           1.92718e+10 |                           7.8932e+12  |                           9.78652e+09 |                           4.38115e+08 |                       21717.4         |                         200.002       |                          507.925      |                       43256.2         |                        5289.24        |                               6.91862 |                               44.5648 |                               14.8686 |                           1.69446e+06 |                           1.74715e+11 |                           5.68929e+17 |                          1.34404e+19 |                     234653           |                        248.816       |                          8.65345e+06 |                          2.21869e+20 |                         40.7095      |                         45.2722      |                          0.3142      |                          4.0813      |                     235070           |                          1.56774e+10 |                          4.58395e+12 |                          6.61048e+09 |                          4.0422e+08  |                      20535.8         |                        185.311       |                        454.076       |                      40896.8         |                       5064.13        |                               5.7052 |                              35.3072 |                              14.2228 |                          1.47067e+06 |                          1.54062e+11 |                          9.59009e+11 |                              0.3142 |                     237066           |                        261.659       |                          1.6484e+07  |                          4.45872e+20 |                         53.0456      |                         47.128       |                          0.3532      |                          4.2107      |                     282483           |                          2.28358e+10 |                          1.13155e+13 |                          1.25136e+10 |                          4.77167e+08 |                        23920.5       |                        212.522       |                        545.751       |                      47543.3         |                       5481.21        |                               8.6463 |                              48.3042 |                         15.1818      |                          1.83528e+06 |                          2.09127e+11 |                          1.06251e+18 |                         4.45872e+20 |                                     10 |                                      5 |                                      5 |                                      5 |                                      5 |                                      5 |                                      5 |                                      5 |                                      5 |                                      5 |                                      5 |                                      5 |                                      5 |                                      5 |                                      5 |                                      5 |                                      5 |                                      5 |                                      5 |                                      5 |                                      5 |                                      5 |                                      5 |                                      5 |                                   125 |                            0.52   |                           0.54    |                           0.624   |                           0.74    |                           0.51    |                            0.514  |                           0.482   |                            0.448  |                            0.596  |                           0.532   |                             0.58  |                             0.508 |                            0.492  |                            0.4    |                             0.472 |                           0.488   |                             0.47  |                            0.47   |                             0.46  |                           0.55    |                            0.45   |                             0.61  |                             0.54  |                           0.584   |                          0.524   |\n",
      "| ('Open', 'Open', 'Close', 'nsmallest', -inf, 2, 1, 1, 0.999, 0.002, 1254)   |                             1.41016e+07 |                             4.92045e+15 |                             4.54588e+20 |                             1.22477e+19 |                             2.02417e+16 |                             2.32293e+07 |                             1.99919e+08 |                          5231.97        |                            80.0296      |                         50358.1         |                             8.22334e+06 |                             3.40909e+09 |                             4.5148e+06  |                          1196.95        |                           150.124       |                           338.122       |                         32695.4         |                           201.341       |                                 21.7401 |                                301.424  |                                 19.7762 |                            19.2305      |                          1846.89        |                         24383.3         |                        35636.8         |                           1.43041e+07 |                           4.82453e+20 |                           4.15955e+20 |                           2.66811e+19 |                           1.73797e+22 |                           3.87313e+09 |                           2.74086e+08 |                       41889.1         |                         394.825       |                       48325.8         |                           5.3489e+06  |                           2.30712e+09 |                           2.97811e+06 |                        1129.31        |                         136.352       |                         1012.08       |                       22844.7         |                         262.739       |                              30.9648  |                              209.198  |                               24.2151 |                          13.7712      |                        1218.43        |                           6.05195e+08 |                          7.32193e+20 |                          1.33243e+07 |                          6.04714e+14 |                          6.342e+18   |                          1.37448e+18 |                          1.08215e+16 |                          2.10335e+07 |                          1.25391e+08 |                       4739.9         |                         76.8129      |                      28457.1         |                      52863.9         |                          2.29457e+08 |                      14518.5         |                        968.637       |                        105.76        |                        299.581       |                       4585.41        |                        165.935       |                              11.0117 |                              58.9747 |                              18.8892 |                          4.8538      |                        137.895       |                        276.495       |                              4.8538 |                          1.50029e+07 |                          1.36986e+21 |                          1.01714e+21 |                          9.61814e+19 |                          6.42942e+22 |                          1.50876e+10 |                          4.57923e+08 |                      98434.1         |                        904.565       |                      58818.4         |                          1.00376e+07 |                          3.87355e+09 |                          5.40736e+06 |                         1276         |                        161.797       |                       2097.24        |                      36475.5         |                        382.954       |                              50.9046 |                             317.349  |                         32.3545      |                         20.1411      |                       2029.41        |                          3.02585e+09 |                         6.42942e+22 |                                     10 |                                      5 |                                      5 |                                      5 |                                      5 |                                      5 |                                      5 |                                      5 |                                      5 |                                      5 |                                      5 |                                      5 |                                      5 |                                      5 |                                      5 |                                      5 |                                      5 |                                      5 |                                      5 |                                      5 |                                      5 |                                      5 |                                      5 |                                      5 |                                   125 |                            0.27   |                           0.338   |                           0.32    |                           0.29    |                           0.346   |                            0.288  |                           0.218   |                            0.264  |                            0.24   |                           0.286   |                             0.34  |                             0.39  |                            0.316  |                            0.29   |                             0.22  |                           0.268   |                             0.326 |                            0.242  |                             0.148 |                           0.228   |                            0.154  |                             0.164 |                             0.192 |                           0.204   |                          0.26448 |\n",
      "| ('Open', 'Open', 'Open', 'nsmallest', -inf, 2, 1, 1, 0.999, 0.002, 1254)    |                        644852           |                             1.4594e+18  |                             7.14434e+16 |                             3.7207e+14  |                             5.51009e+13 |                        445267           |                             6.1887e+07  |                          3816.65        |                           377.622       |                         16645.8         |                             6.8747e+06  |                             2.50665e+06 |                         50994.7         |                          8661.36        |                           174.892       |                            21.4091      |                          4537.13        |                            23.5462      |                                 34.5502 |                                909.48   |                                 53.2267 |                           103.109       |                         26707.4         |                             2.20218e+06 |                        22999.3         |                           2.40865e+06 |                           2.60189e+19 |                           5.89044e+16 |                           7.99501e+14 |                           4.49271e+18 |                           1.03769e+08 |                           9.8227e+07  |                       33129.3         |                         629.392       |                       14608.4         |                           4.95236e+06 |                           2.51892e+06 |                       53289           |                        6309.5         |                         114.953       |                          117.65       |                        3164.8         |                          49.4738      |                             108.502   |                              662.693  |                              113.233  |                          69.5135      |                       17713.5         |                           9.2756e+11  |                          1.22285e+18 |                     608913           |                          1.85088e+17 |                          1.68092e+15 |                          7.98328e+10 |                          3.25955e+13 |                     412131           |                      21648.4         |                       3439.55        |                        357.851       |                       2994.94        |                      56078.7         |                          2.11931e+06 |                      44816.3         |                       2301.99        |                         15.1926      |                         20.0026      |                        863.474       |                         22.5583      |                               8.7013 |                             246.947  |                              50.1546 |                         13.2449      |                       1571.63        |                        329.812       |                              8.7013 |                          5.10634e+06 |                          7.2301e+19  |                          1.28452e+17 |                          3.08106e+15 |                          1.71252e+19 |                          4.05785e+08 |                          2.26503e+08 |                      77677.2         |                       1065.78        |                      19144.1         |                          9.37133e+06 |                          2.86902e+06 |                      63447.7         |                         9386.54      |                        188.893       |                        267.698       |                       4865.03        |                         90.4437      |                             262.223  |                             966.36   |                        212.54        |                        110.547       |                      30235.8         |                          2.71332e+12 |                         7.2301e+19  |                                     10 |                                      5 |                                      5 |                                      5 |                                      5 |                                      5 |                                      5 |                                      5 |                                      5 |                                      5 |                                      5 |                                      5 |                                      5 |                                      5 |                                      5 |                                      5 |                                      5 |                                      5 |                                      5 |                                      5 |                                      5 |                                      5 |                                      5 |                                      5 |                                   125 |                            0.288  |                           0.416   |                           0.37    |                           0.364   |                           0.374   |                            0.336  |                           0.254   |                            0.284  |                            0.286  |                           0.302   |                             0.356 |                             0.358 |                            0.29   |                            0.328  |                             0.234 |                           0.194   |                             0.28  |                            0.204  |                             0.176 |                           0.266   |                            0.208  |                             0.2   |                             0.228 |                           0.18    |                          0.28256 |\n",
      "| ('All', '', '', '', '', '', '', '', '', '', '')                             |                        422989           |                             3.02357e+14 |                             8.4046e+14  |                             2.773e+16   |                             1.62977e+13 |                        206089           |                         10833.1         |                          1343.39        |                          2295.44        |                         52502.7         |                             7.54902e+06 |                             1.16525e+08 |                        159431           |                          6118.88        |                           168.345       |                           321.321       |                          4743.8         |                           215.645       |                                 21.6898 |                                223.956  |                                 51.4459 |                           783.228       |                         15163.1         |                             2.98105e+09 |                         5222.02        |                         nan           |                           5.65621e+41 |                           9.8556e+48  |                           9.42234e+76 |                           3.76277e+44 |                           7.78846e+19 |                           1.42e+21    |                           1.98217e+08 |                      681098           |                           3.22084e+11 |                           1.87023e+14 |                           1.41551e+24 |                           8.73638e+14 |                           9.24751e+07 |                           8.60427e+06 |                            1.6675e+10 |                           1.38714e+12 |                           1.22614e+06 |                             601.535   |                            51095.9    |                           124646      |                      212643           |                           2.20104e+10 |                           1.20441e+20 |                        inf           |                        241.214       |                         22.2772      |                         30.2658      |                        127.248       |                          5.817       |                          1.2292      |                          0.3142      |                          1.319       |                         76.8129      |                       2166.78        |                      52863.9         |                      16054.4         |                        485.033       |                         31.1328      |                         15.1926      |                         20.0026      |                         67.2034      |                         20.6436      |                               0.9102 |                               3.3673 |                              11.104  |                          4.8538      |                        137.895       |                        276.495       |                              0.3142 |                        inf           |                          1.22796e+43 |                          1.84287e+50 |                          1.87538e+78 |                          4.12978e+45 |                          1.06387e+21 |                          1.70301e+22 |                          1.67221e+09 |                          6.00964e+06 |                          3.162e+12   |                          1.84661e+15 |                          1.4798e+25  |                          9.80798e+15 |                            9.089e+08 |                          7.51453e+07 |                          1.49286e+11 |                          1.27888e+13 |                          1.10987e+07 |                            4633.19   |                          424469      |                          1.12442e+06 |                          1.83528e+06 |                          2.09127e+11 |                          2.49027e+21 |                       inf           |                                     80 |                                     40 |                                     40 |                                     40 |                                     40 |                                     40 |                                     40 |                                     40 |                                     40 |                                     40 |                                     40 |                                     40 |                                     40 |                                     40 |                                     40 |                                     40 |                                     40 |                                     40 |                                     40 |                                     40 |                                     40 |                                     40 |                                     40 |                                     40 |                                  1000 |                            0.3645 |                           0.41475 |                           0.42475 |                           0.44025 |                           0.40475 |                            0.3675 |                           0.33425 |                            0.3335 |                            0.3685 |                           0.36775 |                             0.433 |                             0.439 |                            0.3755 |                            0.3565 |                             0.35  |                           0.34775 |                             0.363 |                            0.3275 |                             0.275 |                           0.34625 |                            0.2995 |                             0.321 |                             0.335 |                           0.32225 |                          0.36305 |\n",
      "| ('Close', 'Close', 'Close', 'nsmallest', -inf, 2, 1, 1, 0.999, 0.002, 1254) |                           870.602       |                             1.22127e+06 |                            57.5204      |                           164.638       |                            56.1834      |                             4.4012      |                             8.4579      |                             4.1481      |                          3252.48        |                          2359.82        |                             3.94068e+06 |                             1.64882e+06 |                         67852.5         |                          1189.68        |                           108.507       |                           430.231       |                           901.793       |                          1588.5         |                                  6.2257 |                                 17.5234 |                                319.337  |                          1347.63        |                           431.702       |                             5.463e+10   |                          459.541       |                         826.826       |                      793111           |                          84.0221      |                         179.257       |                          44.0252      |                           6.65572     |                          12.0513      |                          25.3737      |                        2794.88        |                       16005.6         |                           3.05746e+06 |                           2.29018e+06 |                      132004           |                         913.466       |                         189.401       |                          416.927      |                         750.52        |                        1165.07        |                              86.3068  |                              408.566  |                              215.267  |                         915.777       |                         867.235       |                           1.91824e+20 |                          7.67296e+18 |                        754.766       |                       8075.8         |                         53.5346      |                        133.801       |                         21.7295      |                          4.2863      |                          8.317       |                          3.9143      |                       1752.99        |                       2166.78        |                     733363           |                          1.40192e+06 |                      34886.1         |                        267.296       |                        101.335       |                        282.662       |                        441.954       |                        131.066       |                               6.1081 |                              17.029  |                              49.7682 |                        151.977       |                        412.196       |                        358.658       |                              3.9143 |                        876.149       |                          1.40155e+06 |                        128.805       |                        230.295       |                         60.6494      |                         10.2148      |                         17.728       |                         58.2083      |                       3495.53        |                      70813.8         |                          5.12979e+06 |                          3.59429e+06 |                     270274           |                         1426.42      |                        328.217       |                        489.539       |                        995.205       |                       2031.92        |                             232.979  |                            1036.24   |                        330.118       |                       1495.98        |                       1573.71        |                          6.12023e+20 |                         6.12023e+20 |                                     10 |                                      5 |                                      5 |                                      5 |                                      5 |                                      5 |                                      5 |                                      5 |                                      5 |                                      5 |                                      5 |                                      5 |                                      5 |                                      5 |                                      5 |                                      5 |                                      5 |                                      5 |                                      5 |                                      5 |                                      5 |                                      5 |                                      5 |                                      5 |                                   125 |                            0.302  |                           0.32    |                           0.338   |                           0.346   |                           0.318   |                            0.306  |                           0.286   |                            0.28   |                            0.332  |                           0.314   |                             0.37  |                             0.382 |                            0.34   |                            0.312  |                             0.356 |                           0.294   |                             0.282 |                            0.304  |                             0.184 |                           0.252   |                            0.25   |                             0.218 |                             0.218 |                           0.208   |                          0.29656 |\n",
      "| ('Close', 'Close', 'Open', 'nsmallest', -inf, 2, 1, 1, 0.999, 0.002, 1254)  |                           353.554       |                        612607           |                            32.9713      |                           455.775       |                            22.5796      |                             1.2873      |                             1.9191      |                             1.347       |                          1528.83        |                         10041.8         |                             3.62231e+07 |                             1.05314e+06 |                         52253.6         |                          5950.89        |                            24.7786      |                            89.8448      |                           452.765       |                            57.915       |                                  0.9153 |                                 10.8063 |                                 53.5094 |                          4497.42        |                          8916.51        |                             9.00332e+10 |                          351.899       |                         379.25        |                      397069           |                          37.4754      |                         462.894       |                          16.4856      |                           1.3386      |                           1.34774     |                           5.7505      |                        1943.11        |                       44486.2         |                           3.13801e+07 |                           1.66351e+06 |                       46896.9         |                        4038.64        |                          36.5124      |                          149.968      |                         311.761       |                          49.8861      |                               9.57746 |                               84.3743 |                               40.7084 |                        2903.24        |                        6545.31        |                           7.71136e+20 |                          3.08454e+19 |                        351.855       |                        652.927       |                         30.2658      |                        425.022       |                          5.817       |                          1.2292      |                          0.4543      |                          1.319       |                       1366.94        |                       9074.81        |                     411407           |                     563351           |                      34624.5         |                        132.972       |                         23.6148      |                         85.0986      |                         67.2034      |                         20.6436      |                               0.9102 |                              10.5539 |                              19.0907 |                         59.3011      |                       1638.04        |                      10975.9         |                              0.4543 |                        419.882       |                     703332           |                         47.4921      |                        528.639       |                         23.74        |                          1.453       |                          1.9584      |                         12.6333      |                       2982.39        |                     183393           |                          6.61682e+07 |                          3.1267e+06  |                      55710.3         |                         7072.1       |                         56.1526      |                        289.805       |                        494.906       |                         75.453       |                              25.6002 |                             200.964  |                         55.8726      |                       5077.01        |                      10350           |                          2.49027e+21 |                         2.49027e+21 |                                     10 |                                      5 |                                      5 |                                      5 |                                      5 |                                      5 |                                      5 |                                      5 |                                      5 |                                      5 |                                      5 |                                      5 |                                      5 |                                      5 |                                      5 |                                      5 |                                      5 |                                      5 |                                      5 |                                      5 |                                      5 |                                      5 |                                      5 |                                      5 |                                   125 |                            0.462  |                           0.44    |                           0.496   |                           0.466   |                           0.418   |                            0.422  |                           0.46    |                            0.424  |                            0.484  |                           0.468   |                             0.522 |                             0.518 |                            0.404  |                            0.43   |                             0.462 |                           0.49    |                             0.4   |                            0.43   |                             0.432 |                           0.538   |                            0.442  |                             0.536 |                             0.516 |                           0.476   |                          0.46392 |\n",
      "| ('Open', 'Close', 'Close', 'nsmallest', -inf, 2, 1, 1, 0.999, 0.002, 1254)  |                           241.946       |                            34.065       |                           210.509       |                           143.226       |                            46.0961      |                             8.2727      |                             7.939       |                            10.2307      |                           514.44        |                         13563.2         |                        947786           |                        674002           |                           524.831       |                            32.7167      |                            21.3038      |                           283.807       |                           147.112       |                           118.19        |                                 34.4993 |                                 41.2744 |                                 11.5399 |                           887.099       |                         19136.4         |                        294855           |                          187.346       |                         253.991       |                          29.964       |                         156.332       |                         155.84        |                          99.123       |                           7.65612     |                           8.10914     |                           9.02924     |                         466.141       |                       21465.4         |                      896562           |                      443580           |                        8795.33        |                         226.17        |                          38.3304      |                          209.681      |                         398.413       |                         269.383       |                              50.1239  |                               26.503  |                               16.677  |                        1589.88        |                       13256.8         |                           2.30648e+06 |                     147776           |                        241.214       |                         22.2772      |                         50.4037      |                        127.248       |                         42.8948      |                          6.5078      |                          7.6821      |                          6.7557      |                        360.991       |                      12216.7         |                     582093           |                      16054.4         |                        485.033       |                         31.1328      |                         20.325       |                         68.513       |                        136.84        |                        111.236       |                               6.7319 |                               3.3673 |                              11.104  |                        804.08        |                       3536.72        |                       4189.72        |                              3.3673 |                        273.43        |                         35.7882      |                        232.141       |                        187.346       |                        184.893       |                          8.5572      |                          8.6304      |                         10.6056      |                        544.497       |                      54647.3         |                          1.2414e+06  |                     780704           |                      22990.2         |                          536.557     |                         66.3961      |                        316.975       |                        798.862       |                        511.327       |                             101.781  |                              42.7431 |                         25.5473      |                       2770.47        |                      20323.5         |                          6.00676e+06 |                         6.00676e+06 |                                     10 |                                      5 |                                      5 |                                      5 |                                      5 |                                      5 |                                      5 |                                      5 |                                      5 |                                      5 |                                      5 |                                      5 |                                      5 |                                      5 |                                      5 |                                      5 |                                      5 |                                      5 |                                      5 |                                      5 |                                      5 |                                      5 |                                      5 |                                      5 |                                   125 |                            0.29   |                           0.314   |                           0.364   |                           0.386   |                           0.368   |                            0.334  |                           0.31    |                            0.286  |                            0.328  |                           0.282   |                             0.412 |                             0.338 |                            0.296  |                            0.244  |                             0.268 |                           0.306   |                             0.276 |                            0.3    |                             0.204 |                           0.222   |                            0.18   |                             0.234 |                             0.212 |                           0.278   |                          0.29288 |\n"
     ]
    }
   ],
   "source": [
    "# Load functions\n",
    "\n",
    "formatted_datetime = datetime.now().strftime(\"%Y-%m-%d_%Hh%Mm%Ss\")\n",
    "\n",
    "results_df = get_results(stock_data_df)\n",
    "results_df.to_csv(f'./outputs/results_{formatted_datetime}.csv', index=False)\n",
    "\n",
    "cross_tab = get_overall_cross_tab(results_df)\n",
    "cross_tab.to_csv(f'./outputs/pivot_table_{formatted_datetime}.csv')"
   ]
  }
 ],
 "metadata": {
  "kernelspec": {
   "display_name": "Python 3",
   "language": "python",
   "name": "python3"
  },
  "language_info": {
   "codemirror_mode": {
    "name": "ipython",
    "version": 3
   },
   "file_extension": ".py",
   "mimetype": "text/x-python",
   "name": "python",
   "nbconvert_exporter": "python",
   "pygments_lexer": "ipython3",
   "version": "3.9.10"
  },
  "orig_nbformat": 4
 },
 "nbformat": 4,
 "nbformat_minor": 2
}
