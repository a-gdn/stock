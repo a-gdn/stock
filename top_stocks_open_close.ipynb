{
 "cells": [
  {
   "cell_type": "code",
   "execution_count": 1,
   "metadata": {},
   "outputs": [],
   "source": [
    "import yfinance as yf\n",
    "import pandas as pd\n",
    "import numpy as np\n",
    "from itertools import product\n",
    "import matplotlib as mpl\n",
    "import matplotlib.pyplot as plt\n",
    "from datetime import datetime\n",
    "\n",
    "import config as cfg"
   ]
  },
  {
   "cell_type": "code",
   "execution_count": 2,
   "metadata": {},
   "outputs": [
    {
     "name": "stdout",
     "output_type": "stream",
     "text": [
      "Number of combinations: 152, Estimated time: 15.20 minutes\n"
     ]
    }
   ],
   "source": [
    "# dates_range = [('2023-01-02', '2023-06-23')]\n",
    "# watch_days_range = [2]\n",
    "# hold_days_range = [2]\n",
    "# num_stocks_to_buy_range = [1]\n",
    "# loss_limit_range = [0.999]\n",
    "# fee_range = [0.002]\n",
    "# ranks = ['nsmallest']\n",
    "# pct_change_threshold_range = [-99, 0.01]\n",
    "\n",
    "dates_range = [('2000-08-01', '2022-12-31'), ('2000-08-02', '2022-12-31'), ('2000-08-03', '2022-12-31'), ('2000-08-04', '2022-12-31'), ('2000-08-05', '2022-12-31'), ('2000-08-06', '2022-12-31'), ('2000-08-07', '2022-12-31'), ('2000-08-08', '2022-12-31'), ('2000-08-09', '2022-12-31'), ('2000-08-10', '2022-12-31'), ('2000-08-11', '2022-12-31'), ('2000-08-12', '2022-12-31'), ('2000-08-13', '2022-12-31'), ('2000-08-14', '2022-12-31'),\n",
    "            #    ('2001-01-01', '2001-12-31'), ('2001-01-02', '2001-12-31'), ('2001-01-03', '2001-12-31'), ('2001-01-04', '2001-12-31'), ('2001-01-05', '2001-12-31'),\n",
    "            #    ('2002-01-01', '2002-12-31'), ('2002-01-02', '2002-12-31'), ('2002-01-03', '2002-12-31'), ('2002-01-04', '2002-12-31'), ('2002-01-07', '2002-12-31'),\n",
    "            #    ('2003-01-01', '2003-12-31'), ('2003-01-02', '2003-12-31'), ('2003-01-03', '2003-12-31'), ('2003-01-06', '2003-12-31'), ('2003-01-07', '2003-12-31'),\n",
    "            #    ('2004-01-01', '2004-12-31'), ('2004-01-02', '2004-12-31'), ('2004-01-05', '2004-12-31'), ('2004-01-06', '2004-12-31'), ('2004-01-07', '2004-12-31'),\n",
    "            #    ('2005-01-03', '2005-12-31'), ('2005-01-04', '2005-12-31'), ('2005-01-05', '2005-12-31'), ('2005-01-06', '2005-12-31'), ('2005-01-07', '2005-12-31'),\n",
    "            #    ('2006-01-02', '2006-12-31'), ('2006-01-03', '2006-12-31'), ('2006-01-04', '2006-12-31'), ('2006-01-05', '2006-12-31'), ('2006-01-06', '2006-12-31'),\n",
    "            #    ('2007-01-01', '2007-12-31'), ('2007-01-02', '2007-12-31'), ('2007-01-03', '2007-12-31'), ('2007-01-04', '2007-12-31'), ('2007-01-05', '2007-12-31'),\n",
    "            #    ('2008-01-01', '2008-12-31'), ('2008-01-02', '2008-12-31'), ('2008-01-03', '2008-12-31'), ('2008-01-04', '2008-12-31'), ('2008-01-07', '2008-12-31'),\n",
    "            #    ('2009-01-01', '2009-12-31'), ('2009-01-02', '2009-12-31'), ('2009-01-05', '2009-12-31'), ('2009-01-06', '2009-12-31'), ('2009-01-07', '2009-12-31'),\n",
    "            #    ('2010-01-01', '2010-12-31'), ('2010-01-04', '2010-12-31'), ('2010-01-05', '2010-12-31'), ('2010-01-06', '2010-12-31'), ('2010-01-07', '2010-12-31'),\n",
    "            #    ('2011-01-03', '2011-12-31'), ('2011-01-04', '2011-12-31'), ('2011-01-05', '2011-12-31'), ('2011-01-06', '2011-12-31'), ('2011-01-07', '2011-12-31'),\n",
    "            #    ('2012-01-02', '2012-12-31'), ('2012-01-03', '2012-12-31'), ('2012-01-04', '2012-12-31'), ('2012-01-05', '2012-12-31'), ('2012-01-06', '2012-12-31'),\n",
    "            #    ('2013-01-01', '2013-12-31'), ('2013-01-02', '2013-12-31'), ('2013-01-03', '2013-12-31'), ('2013-01-04', '2013-12-31'), ('2013-01-07', '2013-12-31'),\n",
    "            #    ('2014-01-01', '2014-12-31'), ('2014-01-02', '2014-12-31'), ('2014-01-03', '2014-12-31'), ('2014-01-06', '2014-12-31'), ('2014-01-07', '2014-12-31'),\n",
    "            #    ('2015-01-01', '2015-12-31'), ('2015-01-05', '2015-12-31'), ('2015-01-06', '2015-12-31'), ('2015-01-07', '2015-12-31'), ('2015-01-08', '2015-12-31'),\n",
    "            #    ('2016-01-01', '2016-12-31'), ('2016-01-04', '2016-12-31'), ('2016-01-05', '2016-12-31'), ('2016-01-06', '2016-12-31'), ('2016-01-07', '2016-12-31'),\n",
    "            #    ('2017-01-02', '2017-12-31'), ('2017-01-03', '2017-12-31'), ('2017-01-04', '2017-12-31'), ('2017-01-05', '2017-12-31'), ('2017-01-06', '2017-12-31'),\n",
    "            #    ('2018-01-01', '2018-12-31'), ('2018-01-02', '2018-12-31'), ('2018-01-03', '2018-12-31'), ('2018-01-04', '2018-12-31'), ('2018-01-05', '2018-12-31'),\n",
    "            #    ('2019-01-01', '2019-12-31'), ('2019-01-02', '2019-12-31'), ('2019-01-03', '2019-12-31'), ('2019-01-04', '2019-12-31'), ('2019-01-07', '2019-12-31'),\n",
    "            #    ('2020-01-01', '2020-12-31'), ('2020-01-02', '2020-12-31'), ('2020-01-03', '2020-12-31'), ('2020-01-06', '2020-12-31'), ('2020-01-07', '2020-12-31'),\n",
    "            #    ('2021-01-01', '2021-12-31'), ('2021-01-04', '2021-12-31'), ('2021-01-05', '2021-12-31'), ('2021-01-06', '2021-12-31'), ('2021-01-07', '2021-12-31'),\n",
    "            #    ('2022-01-03', '2022-12-31'), ('2022-01-04', '2022-12-31'), ('2022-01-05', '2022-12-31'), ('2022-01-06', '2022-12-31'), ('2022-01-07', '2022-12-31'),\n",
    "               ('2023-01-02', '2023-06-23'), ('2023-01-03', '2023-06-23'), ('2023-01-04', '2023-06-23'), ('2023-01-05', '2023-12-23'), ('2023-01-06', '2023-12-23'),]\n",
    "watch_days_range = [2]\n",
    "hold_days_range = [2]\n",
    "num_stocks_to_buy_range = [1]\n",
    "loss_limit_range = [0.999]\n",
    "fee_range = [0.002]\n",
    "ranks = ['nsmallest']\n",
    "pct_change_threshold_range = [-9999]\n",
    "start_watch_times = [\"Open\", \"Close\"]\n",
    "buy_times = [\"Open\", \"Close\"]\n",
    "sell_times = [\"Open\", \"Close\"]\n",
    "\n",
    "\n",
    "overall_start_date = '2000-08-01'\n",
    "overall_end_date = '2023-12-23'\n",
    "tickers = cfg.tickers\n",
    "num_tickers = len(tickers)\n",
    "\n",
    "num_combinations = len(dates_range) * len(ranks) * len(start_watch_times) * len(buy_times) * len(sell_times) * len(pct_change_threshold_range) * len(watch_days_range) * len(hold_days_range) * len(num_stocks_to_buy_range) * len(loss_limit_range) * len(fee_range)\n",
    "combinations_per_minute = 10\n",
    "\n",
    "print(f\"Number of combinations: {num_combinations}, Estimated time: {(num_combinations / combinations_per_minute):.2f} minutes\")"
   ]
  },
  {
   "cell_type": "code",
   "execution_count": 3,
   "metadata": {},
   "outputs": [],
   "source": [
    "def get_number_of_years(start_date, end_date):\n",
    "    start = datetime.strptime(start_date, \"%Y-%m-%d\")\n",
    "    end = datetime.strptime(end_date, \"%Y-%m-%d\")\n",
    "    delta = end - start\n",
    "    return delta.days / 365.25"
   ]
  },
  {
   "cell_type": "code",
   "execution_count": 4,
   "metadata": {},
   "outputs": [],
   "source": [
    "def download_stock_data():\n",
    "    stock_data = yf.download(tickers, start=overall_start_date, end=overall_end_date)\n",
    "\n",
    "    df = pd.DataFrame(stock_data)\n",
    "    df = df.sort_values(\"Date\") # stock_data is not ordered by default\n",
    "\n",
    "    return df"
   ]
  },
  {
   "cell_type": "code",
   "execution_count": 5,
   "metadata": {},
   "outputs": [],
   "source": [
    "def filter_stock_data(df, start_date, end_date):\n",
    "    # df.reset_index(inplace=True)\n",
    "    start_date = pd.Timestamp(start_date)\n",
    "    end_date = pd.Timestamp(end_date)\n",
    "    filtered_df = df.loc[(df.index >= start_date) & (df.index <= end_date)]\n",
    "    # filtered_df.set_index(\"Date\", inplace=True)\n",
    "    return filtered_df"
   ]
  },
  {
   "cell_type": "code",
   "execution_count": 6,
   "metadata": {},
   "outputs": [],
   "source": [
    "def extract_stock_data(df, start_watch_time, buy_time, sell_time):\n",
    "    def get_column_df(df, column):\n",
    "        column_df = df[[column]]\n",
    "        column_df.columns = column_df.columns.droplevel(0) # Convert to single level columns\n",
    "        return column_df\n",
    "    \n",
    "    start_watch_df = get_column_df(df, start_watch_time)\n",
    "    buy_df = get_column_df(df, buy_time)\n",
    "    sell_df = get_column_df(df, sell_time)\n",
    "    low_df = get_column_df(df, \"Low\")\n",
    "\n",
    "    return start_watch_df, buy_df, sell_df, low_df"
   ]
  },
  {
   "cell_type": "code",
   "execution_count": 7,
   "metadata": {},
   "outputs": [],
   "source": [
    "def get_price_increases(start_watch_df, buy_df, start_watch_day_number, buy_day_number):\n",
    "    start_watch_prices = start_watch_df.iloc[[start_watch_day_number]]\n",
    "    buy_prices = buy_df.iloc[[buy_day_number]]\n",
    "\n",
    "    prices = pd.concat([start_watch_prices, buy_prices])\n",
    "    price_increases = prices.pct_change().tail(1)\n",
    "    \n",
    "    return price_increases"
   ]
  },
  {
   "cell_type": "code",
   "execution_count": 8,
   "metadata": {},
   "outputs": [],
   "source": [
    "def get_top_stocks(rank, pct_change_threshold, price_increases, num_stocks_to_buy):\n",
    "    if rank == 'nlargest':    \n",
    "        filtered_columns = price_increases.columns[(price_increases > pct_change_threshold).any()].tolist()\n",
    "        top_stocks = sorted(filtered_columns, key=lambda col: price_increases[col].values[0], reverse=True)[:num_stocks_to_buy]\n",
    "        return top_stocks\n",
    "\n",
    "    elif rank == 'nsmallest':\n",
    "        filtered_columns = price_increases.columns[(price_increases > pct_change_threshold).any()].tolist()\n",
    "        top_stocks = sorted(filtered_columns, key=lambda col: price_increases[col].values[0], reverse=False)[:num_stocks_to_buy]\n",
    "        return top_stocks\n",
    "    \n",
    "    return None"
   ]
  },
  {
   "cell_type": "code",
   "execution_count": 9,
   "metadata": {},
   "outputs": [],
   "source": [
    "def calculate_profit(buy_df, sell_df, low_df, buy_day_number, sell_day_number, top_stocks, loss_limit, fee):\n",
    "    buy_prices = buy_df.loc[buy_df.index[buy_day_number], top_stocks] # Calculate the buying prices at the start of the hold period\n",
    "    buy_prices = buy_prices.sort_index(axis=0)\n",
    "\n",
    "    hold_prices = sell_df.loc[sell_df.index[sell_day_number], top_stocks] # Calculate the selling prices after watch_days + hold_days days\n",
    "    hold_prices = hold_prices.sort_index(axis=0)\n",
    "\n",
    "    limit_prices = loss_limit * buy_prices\n",
    "\n",
    "    min_prices = low_df.iloc[buy_day_number+1:sell_day_number+1].min() # Calculate the minimum price in the holding period\n",
    "    min_prices = min_prices.loc[min_prices.index.intersection(top_stocks)]\n",
    "    min_prices = min_prices.sort_index(axis=0)\n",
    "    \n",
    "    condition = min_prices < limit_prices\n",
    "\n",
    "    sell_prices = hold_prices.copy()\n",
    "    sell_prices[condition] = limit_prices[condition]\n",
    "\n",
    "    profits = (sell_prices * (1 - fee)) / (buy_prices * (1 + fee))\n",
    "    profits = profits.dropna()\n",
    "\n",
    "    if num_combinations == 1:\n",
    "        print(f'buy_price: {buy_prices}, sell_prices: {sell_prices}')\n",
    "\n",
    "    profit = profits.mean(skipna=True) # Calculate the average of profits of the selected stocks\n",
    "\n",
    "    return profit"
   ]
  },
  {
   "cell_type": "code",
   "execution_count": 10,
   "metadata": {},
   "outputs": [],
   "source": [
    "def plot_profits(profits_list, total_profits_list):\n",
    "    mpl.rcParams['figure.figsize'] = [20, 15]\n",
    "    mpl.rcParams['axes.grid'] = True\n",
    "\n",
    "    plt.plot(profits_list)\n",
    "    plt.title('profit vs iteration')\n",
    "    plt.show()\n",
    "\n",
    "    plt.plot(total_profits_list)\n",
    "    plt.title('total profit vs iteration')\n",
    "    plt.show()"
   ]
  },
  {
   "cell_type": "code",
   "execution_count": 11,
   "metadata": {},
   "outputs": [],
   "source": [
    "def get_win_ratio(profits):\n",
    "    count = sum(1 for num in profits if num > 1)\n",
    "    win_ratio = count / len(profits)\n",
    "    return round(win_ratio, 2)"
   ]
  },
  {
   "cell_type": "code",
   "execution_count": 12,
   "metadata": {},
   "outputs": [],
   "source": [
    "def get_results(stock_data_df):\n",
    "    results = []\n",
    "    combination_index = 0\n",
    "\n",
    "    for start_date, end_date in dates_range:\n",
    "        filtered_stock_data_df = filter_stock_data(stock_data_df, start_date, end_date)\n",
    "        \n",
    "        for start_watch_time, buy_time, sell_time in product(start_watch_times, buy_times, sell_times):\n",
    "            start_watch_df, buy_df, sell_df, low_df = extract_stock_data(filtered_stock_data_df, start_watch_time, buy_time, sell_time)\n",
    "            years = get_number_of_years(start_date, end_date)\n",
    "\n",
    "            for rank, pct_change_threshold, watch_days, hold_days, num_stocks_to_buy, loss_limit, fee in product(\n",
    "                ranks, pct_change_threshold_range, watch_days_range, hold_days_range, num_stocks_to_buy_range, loss_limit_range, fee_range\n",
    "            ):\n",
    "                num_iterations = int(len(buy_df) / (watch_days + hold_days)) - 1\n",
    "                total_profit = 1\n",
    "                profits_list = []\n",
    "                total_profits_list = []\n",
    "\n",
    "                for i in range(num_iterations):\n",
    "                    start_watch_day_number = i * (watch_days + hold_days)\n",
    "                    buy_day_number = start_watch_day_number + watch_days\n",
    "                    sell_day_number = buy_day_number + hold_days\n",
    "\n",
    "                    price_increases = get_price_increases(start_watch_df, buy_df, start_watch_day_number, buy_day_number)\n",
    "\n",
    "                    if len(price_increases.columns) >= num_stocks_to_buy:\n",
    "                        top_stocks = get_top_stocks(rank, pct_change_threshold, price_increases, num_stocks_to_buy)\n",
    "                        profit = calculate_profit(buy_df, sell_df, low_df, buy_day_number, sell_day_number, top_stocks, loss_limit, fee) if top_stocks is not None else 1\n",
    "                        total_profit *= profit if np.isfinite(profit) else 1\n",
    "                        yearly_profit = pow(total_profit, 1 / years)\n",
    "\n",
    "                        profits_list.append(profit)\n",
    "                        total_profits_list.append(total_profit)\n",
    "\n",
    "                win_ratio = get_win_ratio(profits_list)\n",
    "\n",
    "                results.append({\n",
    "                    'date_range': f'{start_date}/{end_date}',\n",
    "                    'start_watch_time': start_watch_time,\n",
    "                    'buy_time': buy_time,\n",
    "                    'sell_time': sell_time,\n",
    "                    'rank': rank,\n",
    "                    'pct_change_threshold': pct_change_threshold,\n",
    "                    'watch_days': watch_days,\n",
    "                    'hold_days': hold_days,\n",
    "                    'num_stocks_to_buy': num_stocks_to_buy,\n",
    "                    'loss_limit': loss_limit,\n",
    "                    'fee': fee,\n",
    "                    'num_tickers': num_tickers,\n",
    "                    'total_profit': round(total_profit, 4),\n",
    "                    'yearly_profit': round(yearly_profit, 4),\n",
    "                    'win_ratio': win_ratio\n",
    "                })\n",
    "\n",
    "                print(f\"Combination: {combination_index + 1} / {num_combinations}\", end=\"\\r\")\n",
    "                combination_index += 1\n",
    "    \n",
    "    if num_combinations == 1:\n",
    "        plot_profits(profits_list, total_profits_list)\n",
    "\n",
    "    return results"
   ]
  },
  {
   "cell_type": "code",
   "execution_count": 13,
   "metadata": {},
   "outputs": [],
   "source": [
    "def add_year_column(df):\n",
    "    df['year'] = df['date_range'].str[:4]\n",
    "    column = df.pop(\"year\") # Remove the \"year\" column from its current position\n",
    "    df.insert(1, \"year\", column) # Insert the \"year\" column at the desired position (index 1)\n",
    "    \n",
    "    return df"
   ]
  },
  {
   "cell_type": "code",
   "execution_count": 14,
   "metadata": {},
   "outputs": [],
   "source": [
    "def get_cross_tab(df):\n",
    "    cross_tab = pd.crosstab(\n",
    "        index=[df['start_watch_time'], df['buy_time'], df['sell_time'], df['rank'], df['pct_change_threshold'], df['watch_days'], df['hold_days'], df['num_stocks_to_buy'], df['loss_limit'], df['fee'], df['num_tickers']],\n",
    "        columns=df['year'],\n",
    "        values=df['yearly_profit'],\n",
    "        aggfunc=['median', 'mean', 'min', 'max', 'count'],\n",
    "        margins=True)\n",
    "    cross_tab = cross_tab.sort_values(by=[('median', 'All')], ascending=False)\n",
    "    print(cross_tab.to_markdown())\n",
    "    \n",
    "    return cross_tab"
   ]
  },
  {
   "cell_type": "code",
   "execution_count": 15,
   "metadata": {},
   "outputs": [
    {
     "name": "stdout",
     "output_type": "stream",
     "text": [
      "[*********************100%***********************]  208 of 208 completed\n",
      "\n",
      "6 Failed downloads:\n",
      "- EUCAR.PA: No data found, symbol may be delisted\n",
      "- EDF.PA: No data found, symbol may be delisted\n",
      "- COX.PA: No data found, symbol may be delisted\n",
      "- HOLN.PA: No data found, symbol may be delisted\n",
      "- PHA.PA: No data found, symbol may be delisted\n",
      "- NAVYA.PA: No data found, symbol may be delisted\n",
      "|                                                  |   ('median', '2000') |   ('median', '2023') |   ('median', 'All') |   ('mean', '2000') |   ('mean', '2023') |   ('mean', 'All') |   ('min', '2000') |   ('min', '2023') |   ('min', 'All') |   ('max', '2000') |   ('max', '2023') |   ('max', 'All') |   ('count', '2000') |   ('count', '2023') |   ('count', 'All') |\n",
      "|:-------------------------------------------------|---------------------:|---------------------:|--------------------:|-------------------:|-------------------:|------------------:|------------------:|------------------:|-----------------:|------------------:|------------------:|-----------------:|--------------------:|--------------------:|-------------------:|\n",
      "| ('nsmallest', -9999, 2, 2, 1, 0.999, 0.002, 208) |              3.33025 |               1.5337 |             2.11155 |            3.96542 |            2.18276 |            3.4963 |            1.5925 |            0.8391 |           0.8391 |            8.9792 |            7.0847 |           8.9792 |                 112 |                  40 |                152 |\n",
      "| ('All', '', '', '', '', '', '', '')              |              3.33025 |               1.5337 |             2.11155 |            3.96542 |            2.18276 |            3.4963 |            1.5925 |            0.8391 |           0.8391 |            8.9792 |            7.0847 |           8.9792 |                 112 |                  40 |                152 |\n"
     ]
    }
   ],
   "source": [
    "formatted_datetime = datetime.now().strftime(\"%Y-%m-%d_%Hh%Mm%Ss\")\n",
    "\n",
    "stock_data_df = download_stock_data()\n",
    "\n",
    "results_df = pd.DataFrame(get_results(stock_data_df))\n",
    "results_df = add_year_column(results_df)\n",
    "results_df.sort_values(\"yearly_profit\", ascending=False, inplace=True)\n",
    "\n",
    "results_df.to_csv(f'./outputs/results_open_{formatted_datetime}.csv', index=False)\n",
    "\n",
    "cross_tab = get_cross_tab(results_df)\n",
    "cross_tab.to_csv(f'./outputs/pivot_table_open_{formatted_datetime}.csv')"
   ]
  }
 ],
 "metadata": {
  "kernelspec": {
   "display_name": "Python 3",
   "language": "python",
   "name": "python3"
  },
  "language_info": {
   "codemirror_mode": {
    "name": "ipython",
    "version": 3
   },
   "file_extension": ".py",
   "mimetype": "text/x-python",
   "name": "python",
   "nbconvert_exporter": "python",
   "pygments_lexer": "ipython3",
   "version": "3.9.10"
  },
  "orig_nbformat": 4
 },
 "nbformat": 4,
 "nbformat_minor": 2
}
