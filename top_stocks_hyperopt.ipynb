{
 "cells": [
  {
   "cell_type": "code",
   "execution_count": 25,
   "metadata": {},
   "outputs": [],
   "source": [
    "import yfinance as yf\n",
    "import pandas as pd\n",
    "import numpy as np\n",
    "from itertools import product\n",
    "from hyperopt import fmin, tpe, hp\n",
    "from functools import partial\n",
    "import matplotlib as mpl\n",
    "import matplotlib.pyplot as plt\n",
    "from datetime import datetime\n",
    "\n",
    "import config as cfg"
   ]
  },
  {
   "cell_type": "code",
   "execution_count": 26,
   "metadata": {},
   "outputs": [
    {
     "name": "stdout",
     "output_type": "stream",
     "text": [
      "Number of combinations: 6761664, Estimated time: 676166.40 minutes\n"
     ]
    }
   ],
   "source": [
    "# dates_range = [('2023-01-02', '2023-06-23')]\n",
    "# watch_days_range = [2]\n",
    "# hold_days_range = [2]\n",
    "# num_stocks_to_buy_range = [1]\n",
    "# loss_limit_range = [0.999]\n",
    "# fee_range = [0.002]\n",
    "# ranks = ['nsmallest']\n",
    "# pct_change_thresholds = [-99, 0.01]\n",
    "\n",
    "dates_range = [('2000-08-01', '2022-12-31'), ('2000-08-02', '2022-12-31'), ('2000-08-03', '2022-12-31'), ('2000-08-04', '2022-12-31'), ('2000-08-05', '2022-12-31'), ('2000-08-06', '2022-12-31'), ('2000-08-07', '2022-12-31'), ('2000-08-08', '2022-12-31'), ('2000-08-09', '2022-12-31'), ('2000-08-10', '2022-12-31'), ('2000-08-11', '2022-12-31'), ('2000-08-12', '2022-12-31'), ('2000-08-13', '2022-12-31'), ('2000-08-14', '2022-12-31'),\n",
    "               ('2001-01-01', '2001-12-31'), ('2001-01-02', '2001-12-31'), ('2001-01-03', '2001-12-31'), ('2001-01-04', '2001-12-31'), ('2001-01-05', '2001-12-31'),\n",
    "               ('2002-01-01', '2002-12-31'), ('2002-01-02', '2002-12-31'), ('2002-01-03', '2002-12-31'), ('2002-01-04', '2002-12-31'), ('2002-01-07', '2002-12-31'),\n",
    "               ('2003-01-01', '2003-12-31'), ('2003-01-02', '2003-12-31'), ('2003-01-03', '2003-12-31'), ('2003-01-06', '2003-12-31'), ('2003-01-07', '2003-12-31'),\n",
    "               ('2004-01-01', '2004-12-31'), ('2004-01-02', '2004-12-31'), ('2004-01-05', '2004-12-31'), ('2004-01-06', '2004-12-31'), ('2004-01-07', '2004-12-31'),\n",
    "               ('2005-01-03', '2005-12-31'), ('2005-01-04', '2005-12-31'), ('2005-01-05', '2005-12-31'), ('2005-01-06', '2005-12-31'), ('2005-01-07', '2005-12-31'),\n",
    "               ('2006-01-02', '2006-12-31'), ('2006-01-03', '2006-12-31'), ('2006-01-04', '2006-12-31'), ('2006-01-05', '2006-12-31'), ('2006-01-06', '2006-12-31'),\n",
    "               ('2007-01-01', '2007-12-31'), ('2007-01-02', '2007-12-31'), ('2007-01-03', '2007-12-31'), ('2007-01-04', '2007-12-31'), ('2007-01-05', '2007-12-31'),\n",
    "               ('2008-01-01', '2008-12-31'), ('2008-01-02', '2008-12-31'), ('2008-01-03', '2008-12-31'), ('2008-01-04', '2008-12-31'), ('2008-01-07', '2008-12-31'),\n",
    "               ('2009-01-01', '2009-12-31'), ('2009-01-02', '2009-12-31'), ('2009-01-05', '2009-12-31'), ('2009-01-06', '2009-12-31'), ('2009-01-07', '2009-12-31'),\n",
    "               ('2010-01-01', '2010-12-31'), ('2010-01-04', '2010-12-31'), ('2010-01-05', '2010-12-31'), ('2010-01-06', '2010-12-31'), ('2010-01-07', '2010-12-31'),\n",
    "               ('2011-01-03', '2011-12-31'), ('2011-01-04', '2011-12-31'), ('2011-01-05', '2011-12-31'), ('2011-01-06', '2011-12-31'), ('2011-01-07', '2011-12-31'),\n",
    "               ('2012-01-02', '2012-12-31'), ('2012-01-03', '2012-12-31'), ('2012-01-04', '2012-12-31'), ('2012-01-05', '2012-12-31'), ('2012-01-06', '2012-12-31'),\n",
    "               ('2013-01-01', '2013-12-31'), ('2013-01-02', '2013-12-31'), ('2013-01-03', '2013-12-31'), ('2013-01-04', '2013-12-31'), ('2013-01-07', '2013-12-31'),\n",
    "               ('2014-01-01', '2014-12-31'), ('2014-01-02', '2014-12-31'), ('2014-01-03', '2014-12-31'), ('2014-01-06', '2014-12-31'), ('2014-01-07', '2014-12-31'),\n",
    "               ('2015-01-01', '2015-12-31'), ('2015-01-05', '2015-12-31'), ('2015-01-06', '2015-12-31'), ('2015-01-07', '2015-12-31'), ('2015-01-08', '2015-12-31'),\n",
    "               ('2016-01-01', '2016-12-31'), ('2016-01-04', '2016-12-31'), ('2016-01-05', '2016-12-31'), ('2016-01-06', '2016-12-31'), ('2016-01-07', '2016-12-31'),\n",
    "               ('2017-01-02', '2017-12-31'), ('2017-01-03', '2017-12-31'), ('2017-01-04', '2017-12-31'), ('2017-01-05', '2017-12-31'), ('2017-01-06', '2017-12-31'),\n",
    "               ('2018-01-01', '2018-12-31'), ('2018-01-02', '2018-12-31'), ('2018-01-03', '2018-12-31'), ('2018-01-04', '2018-12-31'), ('2018-01-05', '2018-12-31'),\n",
    "               ('2019-01-01', '2019-12-31'), ('2019-01-02', '2019-12-31'), ('2019-01-03', '2019-12-31'), ('2019-01-04', '2019-12-31'), ('2019-01-07', '2019-12-31'),\n",
    "               ('2020-01-01', '2020-12-31'), ('2020-01-02', '2020-12-31'), ('2020-01-03', '2020-12-31'), ('2020-01-06', '2020-12-31'), ('2020-01-07', '2020-12-31'),\n",
    "               ('2021-01-01', '2021-12-31'), ('2021-01-04', '2021-12-31'), ('2021-01-05', '2021-12-31'), ('2021-01-06', '2021-12-31'), ('2021-01-07', '2021-12-31'),\n",
    "               ('2022-01-03', '2022-12-31'), ('2022-01-04', '2022-12-31'), ('2022-01-05', '2022-12-31'), ('2022-01-06', '2022-12-31'), ('2022-01-07', '2022-12-31'),\n",
    "               ('2023-01-02', '2023-06-23'), ('2023-01-03', '2023-06-23'), ('2023-01-04', '2023-06-23'), ('2023-01-05', '2023-12-23'), ('2023-01-06', '2023-12-23'),]\n",
    "watch_days_range = [1,2,3,4,5,6,7]\n",
    "hold_days_range = [1,2,3,4,5,6,7,10]\n",
    "num_stocks_to_buy_range = [1,2,3,4]\n",
    "loss_limit_range = [0.999,0.998,0.997]\n",
    "fee_range = [0.002, 0.003, 0.006]\n",
    "ranks = ['nsmallest', 'nlargest']\n",
    "pct_change_thresholds = [-99, 0.01, 0.05, 0.1, 0.2, 0.4, 0.6, 0.8, 1, 1.5, 2, 3, 5]\n",
    "\n",
    "tickers = cfg.tickers\n",
    "num_tickers = len(tickers)\n",
    "\n",
    "num_combinations = len(dates_range) * len(ranks) * len(pct_change_thresholds) * len(watch_days_range) * len(hold_days_range) * len(num_stocks_to_buy_range) * len(loss_limit_range) * len(fee_range)\n",
    "combinations_per_minute = 10\n",
    "\n",
    "print(f\"Number of combinations: {num_combinations}, Estimated time: {(num_combinations / combinations_per_minute):.2f} minutes\")"
   ]
  },
  {
   "cell_type": "code",
   "execution_count": 27,
   "metadata": {},
   "outputs": [],
   "source": [
    "def get_number_of_years(start_date, end_date):\n",
    "    start = datetime.strptime(start_date, \"%Y-%m-%d\")\n",
    "    end = datetime.strptime(end_date, \"%Y-%m-%d\")\n",
    "    delta = end - start\n",
    "    return delta.days / 365.25"
   ]
  },
  {
   "cell_type": "code",
   "execution_count": 28,
   "metadata": {},
   "outputs": [
    {
     "name": "stdout",
     "output_type": "stream",
     "text": [
      "[****                   9%                       ]  19 of 208 completed"
     ]
    },
    {
     "name": "stdout",
     "output_type": "stream",
     "text": [
      "[*****                 10%                       ]  20 of 208 completed"
     ]
    }
   ],
   "source": [
    "def download_stock_data(start_date, end_date):\n",
    "    stock_data = yf.download(tickers, start=start_date, end=end_date)\n",
    "\n",
    "    df = pd.DataFrame(stock_data)\n",
    "    df = df.sort_values(\"Date\") # stock_data is not ordered by default\n",
    "    \n",
    "    close_df = df[[\"Close\"]]\n",
    "    close_df.columns = close_df.columns.droplevel(0) # Convert to single level columns\n",
    "    \n",
    "    low_df = df[[\"Low\"]]\n",
    "    low_df.columns = low_df.columns.droplevel(0)\n",
    "\n",
    "    return close_df, low_df"
   ]
  },
  {
   "cell_type": "code",
   "execution_count": 29,
   "metadata": {},
   "outputs": [],
   "source": [
    "def get_top_stocks(rank, pct_change_threshold, price_increase, num_stocks_to_buy):\n",
    "    if rank == 'nlargest':    \n",
    "        filtered_columns = price_increase.columns[(price_increase > pct_change_threshold).any()].tolist()\n",
    "        top_stocks = sorted(filtered_columns, key=lambda col: price_increase[col].values[0], reverse=True)[:num_stocks_to_buy]\n",
    "        return top_stocks\n",
    "\n",
    "    elif rank == 'nsmallest':\n",
    "        filtered_columns = price_increase.columns[(price_increase > pct_change_threshold).any()].tolist()\n",
    "        top_stocks = sorted(filtered_columns, key=lambda col: price_increase[col].values[0], reverse=False)[:num_stocks_to_buy]\n",
    "        return top_stocks\n",
    "    \n",
    "    return None"
   ]
  },
  {
   "cell_type": "code",
   "execution_count": 30,
   "metadata": {},
   "outputs": [],
   "source": [
    "def calculate_profit(close_df, low_df, buy_day_number, sell_day_number, top_stocks, loss_limit, fee):\n",
    "    buy_prices = close_df.loc[close_df.index[buy_day_number], top_stocks] # Calculate the buying prices at the start of the hold period\n",
    "    buy_prices = buy_prices.sort_index(axis=0)\n",
    "\n",
    "    hold_prices = close_df.loc[close_df.index[sell_day_number], top_stocks] # Calculate the selling prices after watch_days + hold_days days\n",
    "    hold_prices = hold_prices.sort_index(axis=0)\n",
    "\n",
    "    limit_prices = loss_limit * buy_prices\n",
    "\n",
    "    min_prices = low_df.iloc[buy_day_number+1:sell_day_number+1].min() # Calculate the minimum price in the holding period\n",
    "    min_prices = min_prices.loc[min_prices.index.intersection(top_stocks)]\n",
    "    min_prices = min_prices.sort_index(axis=0)\n",
    "    \n",
    "    condition = min_prices < limit_prices\n",
    "\n",
    "    sell_prices = hold_prices.copy()\n",
    "    sell_prices[condition] = limit_prices[condition]\n",
    "\n",
    "    profits = (sell_prices * (1 - fee)) / (buy_prices * (1 + fee))\n",
    "    profits = profits.dropna()\n",
    "\n",
    "    if num_combinations == 1:\n",
    "        print(f'buy_price: {buy_prices}, sell_prices: {sell_prices}')\n",
    "\n",
    "    profit = profits.mean(skipna=True) # Calculate the average of profits of the selected stocks\n",
    "\n",
    "    return profit\n",
    "\n",
    "def calculate_profit_with_hyperparams(params, close_df, low_df, years):\n",
    "    rank = params['rank']\n",
    "    pct_change_threshold = params['pct_change_threshold']\n",
    "    watch_days = params['watch_days']\n",
    "    hold_days = params['hold_days']\n",
    "    num_stocks_to_buy = params['num_stocks_to_buy']\n",
    "    loss_limit = params['loss_limit']\n",
    "    fee = params['fee']\n",
    "\n",
    "    num_iterations = int(len(close_df) / (watch_days + hold_days)) - 1\n",
    "    total_profits = []\n",
    "\n",
    "    for i in range(num_iterations):\n",
    "        start_watch_day_number = i * (watch_days + hold_days)\n",
    "        buy_day_number = start_watch_day_number + watch_days\n",
    "        sell_day_number = buy_day_number + hold_days\n",
    "\n",
    "        price_increase = close_df[start_watch_day_number:buy_day_number].pct_change(watch_days - 1).tail(1)\n",
    "\n",
    "        if len(price_increase.columns) >= num_stocks_to_buy:\n",
    "            top_stocks = get_top_stocks(rank, pct_change_threshold, price_increase, num_stocks_to_buy)\n",
    "            profit = calculate_profit(close_df, low_df, buy_day_number, sell_day_number, top_stocks, loss_limit, fee) if top_stocks is not None else 1\n",
    "            total_profits.append(profit if np.isfinite(profit) else 1)\n",
    "\n",
    "    if len(total_profits) > 0:\n",
    "        if years == 0:\n",
    "            return 0\n",
    "        average_yearly_profit = pow(np.prod(total_profits), 1 / years)\n",
    "        return -average_yearly_profit  # Negative average_yearly_profit to maximize it\n",
    "\n",
    "    return 0\n",
    "\n",
    "    return -1"
   ]
  },
  {
   "cell_type": "code",
   "execution_count": 31,
   "metadata": {},
   "outputs": [
    {
     "name": "stdout",
     "output_type": "stream",
     "text": [
      "[******                12%                       ]  24 of 208 completed"
     ]
    }
   ],
   "source": [
    "def plot_profits(profits_list, total_profits_list):\n",
    "    mpl.rcParams['figure.figsize'] = [20, 15]\n",
    "    mpl.rcParams['axes.grid'] = True\n",
    "\n",
    "    plt.plot(profits_list)\n",
    "    plt.title('profit vs iteration')\n",
    "    plt.show()\n",
    "\n",
    "    plt.plot(total_profits_list)\n",
    "    plt.title('total profit vs iteration')\n",
    "    plt.show()"
   ]
  },
  {
   "cell_type": "code",
   "execution_count": 32,
   "metadata": {},
   "outputs": [],
   "source": [
    "def get_win_ratio(profits):\n",
    "    count = sum(1 for num in profits if num > 1)\n",
    "    win_ratio = count / len(profits)\n",
    "    return round(win_ratio, 2)"
   ]
  },
  {
   "cell_type": "code",
   "execution_count": 33,
   "metadata": {},
   "outputs": [
    {
     "name": "stdout",
     "output_type": "stream",
     "text": [
      "[******                12%                       ]  25 of 208 completed"
     ]
    }
   ],
   "source": [
    "# def get_results():\n",
    "#     results = []\n",
    "#     combination_index = 0\n",
    "\n",
    "#     for start_date, end_date in dates_range:\n",
    "#         close_df, low_df = download_stock_data(start_date, end_date)\n",
    "#         years = get_number_of_years(start_date, end_date)\n",
    "\n",
    "#         for rank, pct_change_threshold, watch_days, hold_days, num_stocks_to_buy, loss_limit, fee in product(\n",
    "#             ranks, pct_change_thresholds, watch_days_range, hold_days_range, num_stocks_to_buy_range, loss_limit_range, fee_range\n",
    "#         ):\n",
    "#             num_iterations = int(len(close_df) / (watch_days + hold_days)) - 1\n",
    "#             total_profit = 1\n",
    "#             profits_list = []\n",
    "#             total_profits_list = []\n",
    "\n",
    "#             for i in range(num_iterations):\n",
    "#                 start_watch_day_number = i * (watch_days + hold_days)\n",
    "#                 buy_day_number = start_watch_day_number + watch_days\n",
    "#                 sell_day_number = buy_day_number + hold_days\n",
    "\n",
    "#                 price_increase = close_df[start_watch_day_number:buy_day_number].pct_change(watch_days - 1).tail(1)\n",
    "\n",
    "#                 if len(price_increase.columns) >= num_stocks_to_buy:\n",
    "#                     top_stocks = get_top_stocks(rank, pct_change_threshold, price_increase, num_stocks_to_buy)\n",
    "#                     profit = calculate_profit(close_df, low_df, buy_day_number, sell_day_number, top_stocks, loss_limit, fee) if top_stocks is not None else 1\n",
    "#                     total_profit *= profit if np.isfinite(profit) else 1\n",
    "#                     yearly_profit = pow(total_profit, 1 / years)\n",
    "\n",
    "#                     profits_list.append(profit)\n",
    "#                     total_profits_list.append(total_profit)\n",
    "\n",
    "#             win_ratio = get_win_ratio(profits_list)\n",
    "\n",
    "#             results.append({\n",
    "#                 'date_range': f'{start_date}/{end_date}',\n",
    "#                 'rank': rank,\n",
    "#                 'pct_change_threshold': pct_change_threshold,\n",
    "#                 'watch_days': watch_days,\n",
    "#                 'hold_days': hold_days,\n",
    "#                 'num_stocks_to_buy': num_stocks_to_buy,\n",
    "#                 'loss_limit': loss_limit,\n",
    "#                 'fee': fee,\n",
    "#                 'num_tickers': num_tickers,\n",
    "#                 'total_profit': round(total_profit, 4),\n",
    "#                 'yearly_profit': round(yearly_profit, 4),\n",
    "#                 'win_ratio': win_ratio\n",
    "#             })\n",
    "\n",
    "#             print(f\"Combination: {combination_index + 1} / {num_combinations}\")\n",
    "#             combination_index += 1\n",
    "    \n",
    "#     if num_combinations == 1:\n",
    "#         plot_profits(profits_list, total_profits_list)\n",
    "\n",
    "#     return results"
   ]
  },
  {
   "cell_type": "code",
   "execution_count": 34,
   "metadata": {},
   "outputs": [
    {
     "name": "stdout",
     "output_type": "stream",
     "text": [
      "[******                13%                       ]  27 of 208 completed"
     ]
    }
   ],
   "source": [
    "def add_year_column(df):\n",
    "    df['year'] = df['date_range'].str[:4]\n",
    "    column = df.pop(\"year\") # Remove the \"year\" column from its current position\n",
    "    df.insert(1, \"year\", column) # Insert the \"year\" column at the desired position (index 1)\n",
    "    \n",
    "    return df"
   ]
  },
  {
   "cell_type": "code",
   "execution_count": 35,
   "metadata": {},
   "outputs": [],
   "source": [
    "def get_cross_tab(df):\n",
    "    cross_tab = pd.crosstab(\n",
    "        index=[df['rank'], df['pct_change_threshold'], df['watch_days'], df['hold_days'], df['num_stocks_to_buy'], df['loss_limit'], df['fee'], df['num_tickers']],\n",
    "        columns=df['year'],\n",
    "        values=df['yearly_profit'],\n",
    "        aggfunc=['median', 'mean', 'min', 'max', 'count'],\n",
    "        margins=True)\n",
    "    cross_tab = cross_tab.sort_values(by=[('median', 'All')], ascending=False)\n",
    "    print(cross_tab.to_markdown())\n",
    "    \n",
    "    return cross_tab"
   ]
  },
  {
   "cell_type": "code",
   "execution_count": 36,
   "metadata": {},
   "outputs": [
    {
     "name": "stdout",
     "output_type": "stream",
     "text": [
      "[*                      2%                       ]  4 of 208 completed"
     ]
    },
    {
     "ename": "KeyboardInterrupt",
     "evalue": "",
     "output_type": "error",
     "traceback": [
      "\u001b[0;31m---------------------------------------------------------------------------\u001b[0m",
      "\u001b[0;31mKeyboardInterrupt\u001b[0m                         Traceback (most recent call last)",
      "\u001b[1;32m/Users/alexis/code/stock/top_stocks_hyperopt.ipynb Cell 12\u001b[0m in \u001b[0;36m<module>\u001b[0;34m\u001b[0m\n\u001b[1;32m     <a href='vscode-notebook-cell:/Users/alexis/code/stock/top_stocks_hyperopt.ipynb#X14sZmlsZQ%3D%3D?line=53'>54</a>\u001b[0m num_tickers \u001b[39m=\u001b[39m \u001b[39mlen\u001b[39m(tickers)\n\u001b[1;32m     <a href='vscode-notebook-cell:/Users/alexis/code/stock/top_stocks_hyperopt.ipynb#X14sZmlsZQ%3D%3D?line=55'>56</a>\u001b[0m \u001b[39m# Call the function to get the results using hyperopt optimization\u001b[39;00m\n\u001b[0;32m---> <a href='vscode-notebook-cell:/Users/alexis/code/stock/top_stocks_hyperopt.ipynb#X14sZmlsZQ%3D%3D?line=56'>57</a>\u001b[0m results_hyperopt_df \u001b[39m=\u001b[39m get_results_hyperopt(dates_range, tickers, num_tickers)\n\u001b[1;32m     <a href='vscode-notebook-cell:/Users/alexis/code/stock/top_stocks_hyperopt.ipynb#X14sZmlsZQ%3D%3D?line=58'>59</a>\u001b[0m \u001b[39m# Save the results to a CSV file\u001b[39;00m\n\u001b[1;32m     <a href='vscode-notebook-cell:/Users/alexis/code/stock/top_stocks_hyperopt.ipynb#X14sZmlsZQ%3D%3D?line=59'>60</a>\u001b[0m formatted_datetime \u001b[39m=\u001b[39m datetime\u001b[39m.\u001b[39mnow()\u001b[39m.\u001b[39mstrftime(\u001b[39m\"\u001b[39m\u001b[39m%\u001b[39m\u001b[39mY-\u001b[39m\u001b[39m%\u001b[39m\u001b[39mm-\u001b[39m\u001b[39m%d\u001b[39;00m\u001b[39m_\u001b[39m\u001b[39m%\u001b[39m\u001b[39mHh\u001b[39m\u001b[39m%\u001b[39m\u001b[39mMm\u001b[39m\u001b[39m%\u001b[39m\u001b[39mSs\u001b[39m\u001b[39m\"\u001b[39m)\n",
      "\u001b[1;32m/Users/alexis/code/stock/top_stocks_hyperopt.ipynb Cell 12\u001b[0m in \u001b[0;36mget_results_hyperopt\u001b[0;34m(dates_range, tickers, num_tickers)\u001b[0m\n\u001b[1;32m     <a href='vscode-notebook-cell:/Users/alexis/code/stock/top_stocks_hyperopt.ipynb#X14sZmlsZQ%3D%3D?line=11'>12</a>\u001b[0m results \u001b[39m=\u001b[39m []\n\u001b[1;32m     <a href='vscode-notebook-cell:/Users/alexis/code/stock/top_stocks_hyperopt.ipynb#X14sZmlsZQ%3D%3D?line=13'>14</a>\u001b[0m \u001b[39mfor\u001b[39;00m start_date, end_date \u001b[39min\u001b[39;00m dates_range:\n\u001b[0;32m---> <a href='vscode-notebook-cell:/Users/alexis/code/stock/top_stocks_hyperopt.ipynb#X14sZmlsZQ%3D%3D?line=14'>15</a>\u001b[0m     close_df, low_df \u001b[39m=\u001b[39m download_stock_data(start_date, end_date)\n\u001b[1;32m     <a href='vscode-notebook-cell:/Users/alexis/code/stock/top_stocks_hyperopt.ipynb#X14sZmlsZQ%3D%3D?line=15'>16</a>\u001b[0m     years \u001b[39m=\u001b[39m get_number_of_years(start_date, end_date)\n\u001b[1;32m     <a href='vscode-notebook-cell:/Users/alexis/code/stock/top_stocks_hyperopt.ipynb#X14sZmlsZQ%3D%3D?line=17'>18</a>\u001b[0m     objective \u001b[39m=\u001b[39m partial(calculate_profit_with_hyperparams, close_df\u001b[39m=\u001b[39mclose_df, low_df\u001b[39m=\u001b[39mlow_df, years\u001b[39m=\u001b[39myears)\n",
      "\u001b[1;32m/Users/alexis/code/stock/top_stocks_hyperopt.ipynb Cell 12\u001b[0m in \u001b[0;36mdownload_stock_data\u001b[0;34m(start_date, end_date)\u001b[0m\n\u001b[1;32m      <a href='vscode-notebook-cell:/Users/alexis/code/stock/top_stocks_hyperopt.ipynb#X14sZmlsZQ%3D%3D?line=0'>1</a>\u001b[0m \u001b[39mdef\u001b[39;00m \u001b[39mdownload_stock_data\u001b[39m(start_date, end_date):\n\u001b[0;32m----> <a href='vscode-notebook-cell:/Users/alexis/code/stock/top_stocks_hyperopt.ipynb#X14sZmlsZQ%3D%3D?line=1'>2</a>\u001b[0m     stock_data \u001b[39m=\u001b[39m yf\u001b[39m.\u001b[39;49mdownload(tickers, start\u001b[39m=\u001b[39;49mstart_date, end\u001b[39m=\u001b[39;49mend_date)\n\u001b[1;32m      <a href='vscode-notebook-cell:/Users/alexis/code/stock/top_stocks_hyperopt.ipynb#X14sZmlsZQ%3D%3D?line=3'>4</a>\u001b[0m     df \u001b[39m=\u001b[39m pd\u001b[39m.\u001b[39mDataFrame(stock_data)\n\u001b[1;32m      <a href='vscode-notebook-cell:/Users/alexis/code/stock/top_stocks_hyperopt.ipynb#X14sZmlsZQ%3D%3D?line=4'>5</a>\u001b[0m     df \u001b[39m=\u001b[39m df\u001b[39m.\u001b[39msort_values(\u001b[39m\"\u001b[39m\u001b[39mDate\u001b[39m\u001b[39m\"\u001b[39m) \u001b[39m# stock_data is not ordered by default\u001b[39;00m\n",
      "File \u001b[0;32m/usr/local/lib/python3.9/site-packages/yfinance/multi.py:105\u001b[0m, in \u001b[0;36mdownload\u001b[0;34m(tickers, start, end, actions, threads, group_by, auto_adjust, back_adjust, progress, period, show_errors, interval, prepost, proxy, rounding, timeout, **kwargs)\u001b[0m\n\u001b[1;32m    103\u001b[0m _multitasking\u001b[39m.\u001b[39mset_max_threads(threads)\n\u001b[1;32m    104\u001b[0m \u001b[39mfor\u001b[39;00m i, ticker \u001b[39min\u001b[39;00m \u001b[39menumerate\u001b[39m(tickers):\n\u001b[0;32m--> 105\u001b[0m     _download_one_threaded(ticker, period\u001b[39m=\u001b[39;49mperiod, interval\u001b[39m=\u001b[39;49minterval,\n\u001b[1;32m    106\u001b[0m                            start\u001b[39m=\u001b[39;49mstart, end\u001b[39m=\u001b[39;49mend, prepost\u001b[39m=\u001b[39;49mprepost,\n\u001b[1;32m    107\u001b[0m                            actions\u001b[39m=\u001b[39;49mactions, auto_adjust\u001b[39m=\u001b[39;49mauto_adjust,\n\u001b[1;32m    108\u001b[0m                            back_adjust\u001b[39m=\u001b[39;49mback_adjust,\n\u001b[1;32m    109\u001b[0m                            progress\u001b[39m=\u001b[39;49m(progress \u001b[39mand\u001b[39;49;00m i \u001b[39m>\u001b[39;49m \u001b[39m0\u001b[39;49m), proxy\u001b[39m=\u001b[39;49mproxy,\n\u001b[1;32m    110\u001b[0m                            rounding\u001b[39m=\u001b[39;49mrounding, timeout\u001b[39m=\u001b[39;49mtimeout)\n\u001b[1;32m    111\u001b[0m \u001b[39mwhile\u001b[39;00m \u001b[39mlen\u001b[39m(shared\u001b[39m.\u001b[39m_DFS) \u001b[39m<\u001b[39m \u001b[39mlen\u001b[39m(tickers):\n\u001b[1;32m    112\u001b[0m     _time\u001b[39m.\u001b[39msleep(\u001b[39m0.01\u001b[39m)\n",
      "File \u001b[0;32m/usr/local/lib/python3.9/site-packages/multitasking/__init__.py:121\u001b[0m, in \u001b[0;36mtask.<locals>.async_method\u001b[0;34m(*args, **kwargs)\u001b[0m\n\u001b[1;32m    118\u001b[0m     single \u001b[39m=\u001b[39m config[\u001b[39m\"\u001b[39m\u001b[39mPOOLS\u001b[39m\u001b[39m\"\u001b[39m][config[\u001b[39m\"\u001b[39m\u001b[39mPOOL_NAME\u001b[39m\u001b[39m\"\u001b[39m]][\u001b[39m'\u001b[39m\u001b[39mengine\u001b[39m\u001b[39m'\u001b[39m](\n\u001b[1;32m    119\u001b[0m         target\u001b[39m=\u001b[39m_run_via_pool, args\u001b[39m=\u001b[39margs, kwargs\u001b[39m=\u001b[39mkwargs)\n\u001b[1;32m    120\u001b[0m config[\u001b[39m\"\u001b[39m\u001b[39mTASKS\u001b[39m\u001b[39m\"\u001b[39m]\u001b[39m.\u001b[39mappend(single)\n\u001b[0;32m--> 121\u001b[0m single\u001b[39m.\u001b[39;49mstart()\n\u001b[1;32m    122\u001b[0m \u001b[39mreturn\u001b[39;00m single\n",
      "File \u001b[0;32m/usr/local/Cellar/python@3.9/3.9.10/Frameworks/Python.framework/Versions/3.9/lib/python3.9/threading.py:897\u001b[0m, in \u001b[0;36mThread.start\u001b[0;34m(self)\u001b[0m\n\u001b[1;32m    895\u001b[0m         \u001b[39mdel\u001b[39;00m _limbo[\u001b[39mself\u001b[39m]\n\u001b[1;32m    896\u001b[0m     \u001b[39mraise\u001b[39;00m\n\u001b[0;32m--> 897\u001b[0m \u001b[39mself\u001b[39;49m\u001b[39m.\u001b[39;49m_started\u001b[39m.\u001b[39;49mwait()\n",
      "File \u001b[0;32m/usr/local/Cellar/python@3.9/3.9.10/Frameworks/Python.framework/Versions/3.9/lib/python3.9/threading.py:574\u001b[0m, in \u001b[0;36mEvent.wait\u001b[0;34m(self, timeout)\u001b[0m\n\u001b[1;32m    572\u001b[0m signaled \u001b[39m=\u001b[39m \u001b[39mself\u001b[39m\u001b[39m.\u001b[39m_flag\n\u001b[1;32m    573\u001b[0m \u001b[39mif\u001b[39;00m \u001b[39mnot\u001b[39;00m signaled:\n\u001b[0;32m--> 574\u001b[0m     signaled \u001b[39m=\u001b[39m \u001b[39mself\u001b[39;49m\u001b[39m.\u001b[39;49m_cond\u001b[39m.\u001b[39;49mwait(timeout)\n\u001b[1;32m    575\u001b[0m \u001b[39mreturn\u001b[39;00m signaled\n",
      "File \u001b[0;32m/usr/local/Cellar/python@3.9/3.9.10/Frameworks/Python.framework/Versions/3.9/lib/python3.9/threading.py:312\u001b[0m, in \u001b[0;36mCondition.wait\u001b[0;34m(self, timeout)\u001b[0m\n\u001b[1;32m    310\u001b[0m \u001b[39mtry\u001b[39;00m:    \u001b[39m# restore state no matter what (e.g., KeyboardInterrupt)\u001b[39;00m\n\u001b[1;32m    311\u001b[0m     \u001b[39mif\u001b[39;00m timeout \u001b[39mis\u001b[39;00m \u001b[39mNone\u001b[39;00m:\n\u001b[0;32m--> 312\u001b[0m         waiter\u001b[39m.\u001b[39;49macquire()\n\u001b[1;32m    313\u001b[0m         gotit \u001b[39m=\u001b[39m \u001b[39mTrue\u001b[39;00m\n\u001b[1;32m    314\u001b[0m     \u001b[39melse\u001b[39;00m:\n",
      "\u001b[0;31mKeyboardInterrupt\u001b[0m: "
     ]
    },
    {
     "name": "stdout",
     "output_type": "stream",
     "text": [
      "[****                   9%                       ]  18 of 208 completed"
     ]
    },
    {
     "name": "stdout",
     "output_type": "stream",
     "text": [
      "[*******               14%                       ]  29 of 208 completed"
     ]
    },
    {
     "name": "stdout",
     "output_type": "stream",
     "text": [
      "[*********************100%***********************]  208 of 208 completeded\n",
      "\n",
      "7 Failed downloads:\n",
      "- HOLN.PA: No data found, symbol may be delisted\n",
      "- COX.PA: No data found, symbol may be delisted\n",
      "- EDF.PA: No data found, symbol may be delisted\n",
      "- NAVYA.PA: No data found, symbol may be delisted\n",
      "- PHA.PA: No data found, symbol may be delisted\n",
      "- URW.PA: Data doesn't exist for startDate = 965080800, endDate = 1672441200\n",
      "- EUCAR.PA: No data found, symbol may be delisted\n",
      "100%|██████████| 100/100 [12:28<00:00,  7.49s/trial, best loss: -1.247004717647041]\n"
     ]
    },
    {
     "name": "stderr",
     "output_type": "stream",
     "text": [
      "/var/folders/1x/b84w4ts97b728gp2r8cchfgw0000gn/T/ipykernel_7318/4237559700.py:30: RuntimeWarning: invalid value encountered in double_scalars\n",
      "  yearly_profit = pow(total_profit, 1 / years)\n"
     ]
    },
    {
     "name": "stdout",
     "output_type": "stream",
     "text": [
      "[*********************100%***********************]  208 of 208 completed\n",
      "\n",
      "7 Failed downloads:\n",
      "- HOLN.PA: No data found, symbol may be delisted\n",
      "- COX.PA: No data found, symbol may be delisted\n",
      "- EDF.PA: No data found, symbol may be delisted\n",
      "- NAVYA.PA: No data found, symbol may be delisted\n",
      "- PHA.PA: No data found, symbol may be delisted\n",
      "- URW.PA: Data doesn't exist for startDate = 965167200, endDate = 1672441200\n",
      "- EUCAR.PA: No data found, symbol may be delisted\n",
      " 68%|██████▊   | 68/100 [09:18<04:22,  8.21s/trial, best loss: -1.275219667319068] \n"
     ]
    },
    {
     "ename": "KeyboardInterrupt",
     "evalue": "",
     "output_type": "error",
     "traceback": [
      "\u001b[0;31m---------------------------------------------------------------------------\u001b[0m",
      "\u001b[0;31mKeyboardInterrupt\u001b[0m                         Traceback (most recent call last)",
      "\u001b[1;32m/Users/alexis/code/stock/top_stocks_hyperopt.ipynb Cell 12\u001b[0m in \u001b[0;36m<module>\u001b[0;34m\u001b[0m\n\u001b[1;32m     <a href='vscode-notebook-cell:/Users/alexis/code/stock/top_stocks_hyperopt.ipynb#X14sZmlsZQ%3D%3D?line=53'>54</a>\u001b[0m num_tickers \u001b[39m=\u001b[39m \u001b[39mlen\u001b[39m(tickers)\n\u001b[1;32m     <a href='vscode-notebook-cell:/Users/alexis/code/stock/top_stocks_hyperopt.ipynb#X14sZmlsZQ%3D%3D?line=55'>56</a>\u001b[0m \u001b[39m# Call the function to get the results using hyperopt optimization\u001b[39;00m\n\u001b[0;32m---> <a href='vscode-notebook-cell:/Users/alexis/code/stock/top_stocks_hyperopt.ipynb#X14sZmlsZQ%3D%3D?line=56'>57</a>\u001b[0m results_hyperopt_df \u001b[39m=\u001b[39m get_results_hyperopt(dates_range, tickers, num_tickers)\n\u001b[1;32m     <a href='vscode-notebook-cell:/Users/alexis/code/stock/top_stocks_hyperopt.ipynb#X14sZmlsZQ%3D%3D?line=58'>59</a>\u001b[0m \u001b[39m# Save the results to a CSV file\u001b[39;00m\n\u001b[1;32m     <a href='vscode-notebook-cell:/Users/alexis/code/stock/top_stocks_hyperopt.ipynb#X14sZmlsZQ%3D%3D?line=59'>60</a>\u001b[0m formatted_datetime \u001b[39m=\u001b[39m datetime\u001b[39m.\u001b[39mnow()\u001b[39m.\u001b[39mstrftime(\u001b[39m\"\u001b[39m\u001b[39m%\u001b[39m\u001b[39mY-\u001b[39m\u001b[39m%\u001b[39m\u001b[39mm-\u001b[39m\u001b[39m%d\u001b[39;00m\u001b[39m_\u001b[39m\u001b[39m%\u001b[39m\u001b[39mHh\u001b[39m\u001b[39m%\u001b[39m\u001b[39mMm\u001b[39m\u001b[39m%\u001b[39m\u001b[39mSs\u001b[39m\u001b[39m\"\u001b[39m)\n",
      "\u001b[1;32m/Users/alexis/code/stock/top_stocks_hyperopt.ipynb Cell 12\u001b[0m in \u001b[0;36mget_results_hyperopt\u001b[0;34m(dates_range, tickers, num_tickers)\u001b[0m\n\u001b[1;32m     <a href='vscode-notebook-cell:/Users/alexis/code/stock/top_stocks_hyperopt.ipynb#X14sZmlsZQ%3D%3D?line=15'>16</a>\u001b[0m years \u001b[39m=\u001b[39m get_number_of_years(start_date, end_date)\n\u001b[1;32m     <a href='vscode-notebook-cell:/Users/alexis/code/stock/top_stocks_hyperopt.ipynb#X14sZmlsZQ%3D%3D?line=17'>18</a>\u001b[0m objective \u001b[39m=\u001b[39m partial(calculate_profit_with_hyperparams, close_df\u001b[39m=\u001b[39mclose_df, low_df\u001b[39m=\u001b[39mlow_df, years\u001b[39m=\u001b[39myears)\n\u001b[0;32m---> <a href='vscode-notebook-cell:/Users/alexis/code/stock/top_stocks_hyperopt.ipynb#X14sZmlsZQ%3D%3D?line=18'>19</a>\u001b[0m best_hyperparams \u001b[39m=\u001b[39m fmin(fn\u001b[39m=\u001b[39;49mobjective, space\u001b[39m=\u001b[39;49mspace, algo\u001b[39m=\u001b[39;49mtpe\u001b[39m.\u001b[39;49msuggest, max_evals\u001b[39m=\u001b[39;49m\u001b[39m100\u001b[39;49m, verbose\u001b[39m=\u001b[39;49m\u001b[39m1\u001b[39;49m)\n\u001b[1;32m     <a href='vscode-notebook-cell:/Users/alexis/code/stock/top_stocks_hyperopt.ipynb#X14sZmlsZQ%3D%3D?line=20'>21</a>\u001b[0m rank \u001b[39m=\u001b[39m ranks[best_hyperparams[\u001b[39m'\u001b[39m\u001b[39mrank\u001b[39m\u001b[39m'\u001b[39m]]\n\u001b[1;32m     <a href='vscode-notebook-cell:/Users/alexis/code/stock/top_stocks_hyperopt.ipynb#X14sZmlsZQ%3D%3D?line=21'>22</a>\u001b[0m pct_change_threshold \u001b[39m=\u001b[39m pct_change_thresholds[best_hyperparams[\u001b[39m'\u001b[39m\u001b[39mpct_change_threshold\u001b[39m\u001b[39m'\u001b[39m]]\n",
      "File \u001b[0;32m/usr/local/lib/python3.9/site-packages/hyperopt/fmin.py:586\u001b[0m, in \u001b[0;36mfmin\u001b[0;34m(fn, space, algo, max_evals, timeout, loss_threshold, trials, rstate, allow_trials_fmin, pass_expr_memo_ctrl, catch_eval_exceptions, verbose, return_argmin, points_to_evaluate, max_queue_len, show_progressbar, early_stop_fn, trials_save_file)\u001b[0m\n\u001b[1;32m    583\u001b[0m rval\u001b[39m.\u001b[39mcatch_eval_exceptions \u001b[39m=\u001b[39m catch_eval_exceptions\n\u001b[1;32m    585\u001b[0m \u001b[39m# next line is where the fmin is actually executed\u001b[39;00m\n\u001b[0;32m--> 586\u001b[0m rval\u001b[39m.\u001b[39;49mexhaust()\n\u001b[1;32m    588\u001b[0m \u001b[39mif\u001b[39;00m return_argmin:\n\u001b[1;32m    589\u001b[0m     \u001b[39mif\u001b[39;00m \u001b[39mlen\u001b[39m(trials\u001b[39m.\u001b[39mtrials) \u001b[39m==\u001b[39m \u001b[39m0\u001b[39m:\n",
      "File \u001b[0;32m/usr/local/lib/python3.9/site-packages/hyperopt/fmin.py:364\u001b[0m, in \u001b[0;36mFMinIter.exhaust\u001b[0;34m(self)\u001b[0m\n\u001b[1;32m    362\u001b[0m \u001b[39mdef\u001b[39;00m \u001b[39mexhaust\u001b[39m(\u001b[39mself\u001b[39m):\n\u001b[1;32m    363\u001b[0m     n_done \u001b[39m=\u001b[39m \u001b[39mlen\u001b[39m(\u001b[39mself\u001b[39m\u001b[39m.\u001b[39mtrials)\n\u001b[0;32m--> 364\u001b[0m     \u001b[39mself\u001b[39;49m\u001b[39m.\u001b[39;49mrun(\u001b[39mself\u001b[39;49m\u001b[39m.\u001b[39;49mmax_evals \u001b[39m-\u001b[39;49m n_done, block_until_done\u001b[39m=\u001b[39;49m\u001b[39mself\u001b[39;49m\u001b[39m.\u001b[39;49masynchronous)\n\u001b[1;32m    365\u001b[0m     \u001b[39mself\u001b[39m\u001b[39m.\u001b[39mtrials\u001b[39m.\u001b[39mrefresh()\n\u001b[1;32m    366\u001b[0m     \u001b[39mreturn\u001b[39;00m \u001b[39mself\u001b[39m\n",
      "File \u001b[0;32m/usr/local/lib/python3.9/site-packages/hyperopt/fmin.py:300\u001b[0m, in \u001b[0;36mFMinIter.run\u001b[0;34m(self, N, block_until_done)\u001b[0m\n\u001b[1;32m    297\u001b[0m     time\u001b[39m.\u001b[39msleep(\u001b[39mself\u001b[39m\u001b[39m.\u001b[39mpoll_interval_secs)\n\u001b[1;32m    298\u001b[0m \u001b[39melse\u001b[39;00m:\n\u001b[1;32m    299\u001b[0m     \u001b[39m# -- loop over trials and do the jobs directly\u001b[39;00m\n\u001b[0;32m--> 300\u001b[0m     \u001b[39mself\u001b[39;49m\u001b[39m.\u001b[39;49mserial_evaluate()\n\u001b[1;32m    302\u001b[0m \u001b[39mself\u001b[39m\u001b[39m.\u001b[39mtrials\u001b[39m.\u001b[39mrefresh()\n\u001b[1;32m    303\u001b[0m \u001b[39mif\u001b[39;00m \u001b[39mself\u001b[39m\u001b[39m.\u001b[39mtrials_save_file \u001b[39m!=\u001b[39m \u001b[39m\"\u001b[39m\u001b[39m\"\u001b[39m:\n",
      "File \u001b[0;32m/usr/local/lib/python3.9/site-packages/hyperopt/fmin.py:178\u001b[0m, in \u001b[0;36mFMinIter.serial_evaluate\u001b[0;34m(self, N)\u001b[0m\n\u001b[1;32m    176\u001b[0m ctrl \u001b[39m=\u001b[39m base\u001b[39m.\u001b[39mCtrl(\u001b[39mself\u001b[39m\u001b[39m.\u001b[39mtrials, current_trial\u001b[39m=\u001b[39mtrial)\n\u001b[1;32m    177\u001b[0m \u001b[39mtry\u001b[39;00m:\n\u001b[0;32m--> 178\u001b[0m     result \u001b[39m=\u001b[39m \u001b[39mself\u001b[39;49m\u001b[39m.\u001b[39;49mdomain\u001b[39m.\u001b[39;49mevaluate(spec, ctrl)\n\u001b[1;32m    179\u001b[0m \u001b[39mexcept\u001b[39;00m \u001b[39mException\u001b[39;00m \u001b[39mas\u001b[39;00m e:\n\u001b[1;32m    180\u001b[0m     logger\u001b[39m.\u001b[39merror(\u001b[39m\"\u001b[39m\u001b[39mjob exception: \u001b[39m\u001b[39m%s\u001b[39;00m\u001b[39m\"\u001b[39m \u001b[39m%\u001b[39m \u001b[39mstr\u001b[39m(e))\n",
      "File \u001b[0;32m/usr/local/lib/python3.9/site-packages/hyperopt/base.py:892\u001b[0m, in \u001b[0;36mDomain.evaluate\u001b[0;34m(self, config, ctrl, attach_attachments)\u001b[0m\n\u001b[1;32m    883\u001b[0m \u001b[39melse\u001b[39;00m:\n\u001b[1;32m    884\u001b[0m     \u001b[39m# -- the \"work\" of evaluating `config` can be written\u001b[39;00m\n\u001b[1;32m    885\u001b[0m     \u001b[39m#    either into the pyll part (self.expr)\u001b[39;00m\n\u001b[1;32m    886\u001b[0m     \u001b[39m#    or the normal Python part (self.fn)\u001b[39;00m\n\u001b[1;32m    887\u001b[0m     pyll_rval \u001b[39m=\u001b[39m pyll\u001b[39m.\u001b[39mrec_eval(\n\u001b[1;32m    888\u001b[0m         \u001b[39mself\u001b[39m\u001b[39m.\u001b[39mexpr,\n\u001b[1;32m    889\u001b[0m         memo\u001b[39m=\u001b[39mmemo,\n\u001b[1;32m    890\u001b[0m         print_node_on_error\u001b[39m=\u001b[39m\u001b[39mself\u001b[39m\u001b[39m.\u001b[39mrec_eval_print_node_on_error,\n\u001b[1;32m    891\u001b[0m     )\n\u001b[0;32m--> 892\u001b[0m     rval \u001b[39m=\u001b[39m \u001b[39mself\u001b[39;49m\u001b[39m.\u001b[39;49mfn(pyll_rval)\n\u001b[1;32m    894\u001b[0m \u001b[39mif\u001b[39;00m \u001b[39misinstance\u001b[39m(rval, (\u001b[39mfloat\u001b[39m, \u001b[39mint\u001b[39m, np\u001b[39m.\u001b[39mnumber)):\n\u001b[1;32m    895\u001b[0m     dict_rval \u001b[39m=\u001b[39m {\u001b[39m\"\u001b[39m\u001b[39mloss\u001b[39m\u001b[39m\"\u001b[39m: \u001b[39mfloat\u001b[39m(rval), \u001b[39m\"\u001b[39m\u001b[39mstatus\u001b[39m\u001b[39m\"\u001b[39m: STATUS_OK}\n",
      "\u001b[1;32m/Users/alexis/code/stock/top_stocks_hyperopt.ipynb Cell 12\u001b[0m in \u001b[0;36mcalculate_profit_with_hyperparams\u001b[0;34m(params, close_df, low_df, years)\u001b[0m\n\u001b[1;32m     <a href='vscode-notebook-cell:/Users/alexis/code/stock/top_stocks_hyperopt.ipynb#X14sZmlsZQ%3D%3D?line=42'>43</a>\u001b[0m buy_day_number \u001b[39m=\u001b[39m start_watch_day_number \u001b[39m+\u001b[39m watch_days\n\u001b[1;32m     <a href='vscode-notebook-cell:/Users/alexis/code/stock/top_stocks_hyperopt.ipynb#X14sZmlsZQ%3D%3D?line=43'>44</a>\u001b[0m sell_day_number \u001b[39m=\u001b[39m buy_day_number \u001b[39m+\u001b[39m hold_days\n\u001b[0;32m---> <a href='vscode-notebook-cell:/Users/alexis/code/stock/top_stocks_hyperopt.ipynb#X14sZmlsZQ%3D%3D?line=45'>46</a>\u001b[0m price_increase \u001b[39m=\u001b[39m close_df[start_watch_day_number:buy_day_number]\u001b[39m.\u001b[39;49mpct_change(watch_days \u001b[39m-\u001b[39;49m \u001b[39m1\u001b[39;49m)\u001b[39m.\u001b[39mtail(\u001b[39m1\u001b[39m)\n\u001b[1;32m     <a href='vscode-notebook-cell:/Users/alexis/code/stock/top_stocks_hyperopt.ipynb#X14sZmlsZQ%3D%3D?line=47'>48</a>\u001b[0m \u001b[39mif\u001b[39;00m \u001b[39mlen\u001b[39m(price_increase\u001b[39m.\u001b[39mcolumns) \u001b[39m>\u001b[39m\u001b[39m=\u001b[39m num_stocks_to_buy:\n\u001b[1;32m     <a href='vscode-notebook-cell:/Users/alexis/code/stock/top_stocks_hyperopt.ipynb#X14sZmlsZQ%3D%3D?line=48'>49</a>\u001b[0m     top_stocks \u001b[39m=\u001b[39m get_top_stocks(rank, pct_change_threshold, price_increase, num_stocks_to_buy)\n",
      "File \u001b[0;32m/usr/local/lib/python3.9/site-packages/pandas/core/generic.py:10374\u001b[0m, in \u001b[0;36mNDFrame.pct_change\u001b[0;34m(self, periods, fill_method, limit, freq, **kwargs)\u001b[0m\n\u001b[1;32m  10371\u001b[0m     \u001b[39massert\u001b[39;00m _data \u001b[39mis\u001b[39;00m \u001b[39mnot\u001b[39;00m \u001b[39mNone\u001b[39;00m  \u001b[39m# needed for mypy\u001b[39;00m\n\u001b[1;32m  10372\u001b[0m     data \u001b[39m=\u001b[39m _data\n\u001b[0;32m> 10374\u001b[0m shifted \u001b[39m=\u001b[39m data\u001b[39m.\u001b[39;49mshift(periods\u001b[39m=\u001b[39;49mperiods, freq\u001b[39m=\u001b[39;49mfreq, axis\u001b[39m=\u001b[39;49maxis, \u001b[39m*\u001b[39;49m\u001b[39m*\u001b[39;49mkwargs)\n\u001b[1;32m  10375\u001b[0m \u001b[39m# Unsupported left operand type for / (\"NDFrameT\")\u001b[39;00m\n\u001b[1;32m  10376\u001b[0m rs \u001b[39m=\u001b[39m data \u001b[39m/\u001b[39m shifted \u001b[39m-\u001b[39m \u001b[39m1\u001b[39m  \u001b[39m# type: ignore[operator]\u001b[39;00m\n",
      "File \u001b[0;32m/usr/local/lib/python3.9/site-packages/pandas/core/frame.py:5355\u001b[0m, in \u001b[0;36mDataFrame.shift\u001b[0;34m(self, periods, freq, axis, fill_value)\u001b[0m\n\u001b[1;32m   5352\u001b[0m     result\u001b[39m.\u001b[39mcolumns \u001b[39m=\u001b[39m \u001b[39mself\u001b[39m\u001b[39m.\u001b[39mcolumns\u001b[39m.\u001b[39mcopy()\n\u001b[1;32m   5353\u001b[0m     \u001b[39mreturn\u001b[39;00m result\n\u001b[0;32m-> 5355\u001b[0m \u001b[39mreturn\u001b[39;00m \u001b[39msuper\u001b[39;49m()\u001b[39m.\u001b[39;49mshift(\n\u001b[1;32m   5356\u001b[0m     periods\u001b[39m=\u001b[39;49mperiods, freq\u001b[39m=\u001b[39;49mfreq, axis\u001b[39m=\u001b[39;49maxis, fill_value\u001b[39m=\u001b[39;49mfill_value\n\u001b[1;32m   5357\u001b[0m )\n",
      "File \u001b[0;32m/usr/local/lib/python3.9/site-packages/pandas/core/generic.py:9473\u001b[0m, in \u001b[0;36mNDFrame.shift\u001b[0;34m(self, periods, freq, axis, fill_value)\u001b[0m\n\u001b[1;32m   9470\u001b[0m \u001b[39mif\u001b[39;00m freq \u001b[39mis\u001b[39;00m \u001b[39mNone\u001b[39;00m:\n\u001b[1;32m   9471\u001b[0m     \u001b[39m# when freq is None, data is shifted, index is not\u001b[39;00m\n\u001b[1;32m   9472\u001b[0m     axis \u001b[39m=\u001b[39m \u001b[39mself\u001b[39m\u001b[39m.\u001b[39m_get_axis_number(axis)\n\u001b[0;32m-> 9473\u001b[0m     new_data \u001b[39m=\u001b[39m \u001b[39mself\u001b[39;49m\u001b[39m.\u001b[39;49m_mgr\u001b[39m.\u001b[39;49mshift(\n\u001b[1;32m   9474\u001b[0m         periods\u001b[39m=\u001b[39;49mperiods, axis\u001b[39m=\u001b[39;49maxis, fill_value\u001b[39m=\u001b[39;49mfill_value\n\u001b[1;32m   9475\u001b[0m     )\n\u001b[1;32m   9476\u001b[0m     \u001b[39mreturn\u001b[39;00m \u001b[39mself\u001b[39m\u001b[39m.\u001b[39m_constructor(new_data)\u001b[39m.\u001b[39m__finalize__(\u001b[39mself\u001b[39m, method\u001b[39m=\u001b[39m\u001b[39m\"\u001b[39m\u001b[39mshift\u001b[39m\u001b[39m\"\u001b[39m)\n\u001b[1;32m   9478\u001b[0m \u001b[39m# when freq is given, index is shifted, data is not\u001b[39;00m\n",
      "File \u001b[0;32m/usr/local/lib/python3.9/site-packages/pandas/core/internals/managers.py:411\u001b[0m, in \u001b[0;36mBaseBlockManager.shift\u001b[0;34m(self, periods, axis, fill_value)\u001b[0m\n\u001b[1;32m    401\u001b[0m     result \u001b[39m=\u001b[39m \u001b[39mself\u001b[39m\u001b[39m.\u001b[39mreindex_indexer(\n\u001b[1;32m    402\u001b[0m         \u001b[39mself\u001b[39m\u001b[39m.\u001b[39mitems,\n\u001b[1;32m    403\u001b[0m         indexer,\n\u001b[0;32m   (...)\u001b[0m\n\u001b[1;32m    407\u001b[0m         consolidate\u001b[39m=\u001b[39m\u001b[39mFalse\u001b[39;00m,\n\u001b[1;32m    408\u001b[0m     )\n\u001b[1;32m    409\u001b[0m     \u001b[39mreturn\u001b[39;00m result\n\u001b[0;32m--> 411\u001b[0m \u001b[39mreturn\u001b[39;00m \u001b[39mself\u001b[39;49m\u001b[39m.\u001b[39;49mapply(\u001b[39m\"\u001b[39;49m\u001b[39mshift\u001b[39;49m\u001b[39m\"\u001b[39;49m, periods\u001b[39m=\u001b[39;49mperiods, axis\u001b[39m=\u001b[39;49maxis, fill_value\u001b[39m=\u001b[39;49mfill_value)\n",
      "File \u001b[0;32m/usr/local/lib/python3.9/site-packages/pandas/core/internals/managers.py:304\u001b[0m, in \u001b[0;36mBaseBlockManager.apply\u001b[0;34m(self, f, align_keys, ignore_failures, **kwargs)\u001b[0m\n\u001b[1;32m    302\u001b[0m         applied \u001b[39m=\u001b[39m b\u001b[39m.\u001b[39mapply(f, \u001b[39m*\u001b[39m\u001b[39m*\u001b[39mkwargs)\n\u001b[1;32m    303\u001b[0m     \u001b[39melse\u001b[39;00m:\n\u001b[0;32m--> 304\u001b[0m         applied \u001b[39m=\u001b[39m \u001b[39mgetattr\u001b[39;49m(b, f)(\u001b[39m*\u001b[39;49m\u001b[39m*\u001b[39;49mkwargs)\n\u001b[1;32m    305\u001b[0m \u001b[39mexcept\u001b[39;00m (\u001b[39mTypeError\u001b[39;00m, \u001b[39mNotImplementedError\u001b[39;00m):\n\u001b[1;32m    306\u001b[0m     \u001b[39mif\u001b[39;00m \u001b[39mnot\u001b[39;00m ignore_failures:\n",
      "File \u001b[0;32m/usr/local/lib/python3.9/site-packages/pandas/core/internals/blocks.py:1150\u001b[0m, in \u001b[0;36mBlock.shift\u001b[0;34m(self, periods, axis, fill_value)\u001b[0m\n\u001b[1;32m   1146\u001b[0m values \u001b[39m=\u001b[39m cast(np\u001b[39m.\u001b[39mndarray, \u001b[39mself\u001b[39m\u001b[39m.\u001b[39mvalues)\n\u001b[1;32m   1148\u001b[0m new_values, fill_value \u001b[39m=\u001b[39m maybe_upcast(values, fill_value)\n\u001b[0;32m-> 1150\u001b[0m new_values \u001b[39m=\u001b[39m shift(new_values, periods, axis, fill_value)\n\u001b[1;32m   1152\u001b[0m \u001b[39mreturn\u001b[39;00m [\u001b[39mself\u001b[39m\u001b[39m.\u001b[39mmake_block(new_values)]\n",
      "File \u001b[0;32m/usr/local/lib/python3.9/site-packages/pandas/core/array_algos/transforms.py:21\u001b[0m, in \u001b[0;36mshift\u001b[0;34m(values, periods, axis, fill_value)\u001b[0m\n\u001b[1;32m     18\u001b[0m     axis \u001b[39m=\u001b[39m new_values\u001b[39m.\u001b[39mndim \u001b[39m-\u001b[39m axis \u001b[39m-\u001b[39m \u001b[39m1\u001b[39m\n\u001b[1;32m     20\u001b[0m \u001b[39mif\u001b[39;00m new_values\u001b[39m.\u001b[39msize:\n\u001b[0;32m---> 21\u001b[0m     new_values \u001b[39m=\u001b[39m np\u001b[39m.\u001b[39;49mroll(\n\u001b[1;32m     22\u001b[0m         new_values,\n\u001b[1;32m     23\u001b[0m         np\u001b[39m.\u001b[39;49mintp(periods),\n\u001b[1;32m     24\u001b[0m         axis\u001b[39m=\u001b[39;49maxis,\n\u001b[1;32m     25\u001b[0m     )\n\u001b[1;32m     27\u001b[0m axis_indexer \u001b[39m=\u001b[39m [\u001b[39mslice\u001b[39m(\u001b[39mNone\u001b[39;00m)] \u001b[39m*\u001b[39m values\u001b[39m.\u001b[39mndim\n\u001b[1;32m     28\u001b[0m \u001b[39mif\u001b[39;00m periods \u001b[39m>\u001b[39m \u001b[39m0\u001b[39m:\n",
      "File \u001b[0;32m<__array_function__ internals>:180\u001b[0m, in \u001b[0;36mroll\u001b[0;34m(*args, **kwargs)\u001b[0m\n",
      "File \u001b[0;32m~/Library/Python/3.9/lib/python/site-packages/numpy/core/numeric.py:1241\u001b[0m, in \u001b[0;36mroll\u001b[0;34m(a, shift, axis)\u001b[0m\n\u001b[1;32m   1239\u001b[0m result \u001b[39m=\u001b[39m empty_like(a)\n\u001b[1;32m   1240\u001b[0m \u001b[39mfor\u001b[39;00m indices \u001b[39min\u001b[39;00m itertools\u001b[39m.\u001b[39mproduct(\u001b[39m*\u001b[39mrolls):\n\u001b[0;32m-> 1241\u001b[0m     arr_index, res_index \u001b[39m=\u001b[39m \u001b[39mzip\u001b[39;49m(\u001b[39m*\u001b[39;49mindices)\n\u001b[1;32m   1242\u001b[0m     result[res_index] \u001b[39m=\u001b[39m a[arr_index]\n\u001b[1;32m   1244\u001b[0m \u001b[39mreturn\u001b[39;00m result\n",
      "\u001b[0;31mKeyboardInterrupt\u001b[0m: "
     ]
    }
   ],
   "source": [
    "def get_results_hyperopt(dates_range, tickers, num_tickers):\n",
    "    space = {\n",
    "        'rank': hp.choice('rank', ranks),\n",
    "        'pct_change_threshold': hp.choice('pct_change_threshold', pct_change_thresholds),\n",
    "        'watch_days': hp.choice('watch_days', watch_days_range),\n",
    "        'hold_days': hp.choice('hold_days', hold_days_range),\n",
    "        'num_stocks_to_buy': hp.choice('num_stocks_to_buy', num_stocks_to_buy_range),\n",
    "        'loss_limit': hp.choice('loss_limit', loss_limit_range),\n",
    "        'fee': hp.choice('fee', fee_range),\n",
    "    }\n",
    "\n",
    "    results = []\n",
    "\n",
    "    for start_date, end_date in dates_range:\n",
    "        close_df, low_df = download_stock_data(start_date, end_date)\n",
    "        years = get_number_of_years(start_date, end_date)\n",
    "\n",
    "        objective = partial(calculate_profit_with_hyperparams, close_df=close_df, low_df=low_df, years=years)\n",
    "        best_hyperparams = fmin(fn=objective, space=space, algo=tpe.suggest, max_evals=100, verbose=1)\n",
    "\n",
    "        rank = ranks[best_hyperparams['rank']]\n",
    "        pct_change_threshold = pct_change_thresholds[best_hyperparams['pct_change_threshold']]\n",
    "        watch_days = watch_days_range[best_hyperparams['watch_days']]\n",
    "        hold_days = hold_days_range[best_hyperparams['hold_days']]\n",
    "        num_stocks_to_buy = num_stocks_to_buy_range[best_hyperparams['num_stocks_to_buy']]\n",
    "        loss_limit = loss_limit_range[best_hyperparams['loss_limit']]\n",
    "        fee = fee_range[best_hyperparams['fee']]\n",
    "\n",
    "        total_profit = calculate_profit_with_hyperparams(best_hyperparams, close_df=close_df, low_df=low_df, years=years)\n",
    "        yearly_profit = pow(total_profit, 1 / years)\n",
    "\n",
    "        results.append({\n",
    "            'date_range': f'{start_date}/{end_date}',\n",
    "            'rank': rank,\n",
    "            'pct_change_threshold': pct_change_threshold,\n",
    "            'watch_days': watch_days,\n",
    "            'hold_days': hold_days,\n",
    "            'num_stocks_to_buy': num_stocks_to_buy,\n",
    "            'loss_limit': loss_limit,\n",
    "            'fee': fee,\n",
    "            'num_tickers': num_tickers,\n",
    "            'total_profit': round(total_profit, 4),\n",
    "            'yearly_profit': round(yearly_profit, 4),\n",
    "        })\n",
    "\n",
    "    results_df = pd.DataFrame(results)\n",
    "    results_df = add_year_column(results_df)\n",
    "    results_df.sort_values(\"yearly_profit\", ascending=False, inplace=True)\n",
    "\n",
    "    return results_df\n",
    "\n",
    "# Define the list of tickers\n",
    "tickers = cfg.tickers\n",
    "num_tickers = len(tickers)\n",
    "\n",
    "# Call the function to get the results using hyperopt optimization\n",
    "results_hyperopt_df = get_results_hyperopt(dates_range, tickers, num_tickers)\n",
    "\n",
    "# Save the results to a CSV file\n",
    "formatted_datetime = datetime.now().strftime(\"%Y-%m-%d_%Hh%Mm%Ss\")\n",
    "results_hyperopt_df.to_csv(f'./outputs/results_hyperopt_{formatted_datetime}.csv', index=False)\n",
    "\n",
    "cross_tab = get_cross_tab(results_hyperopt_df)\n",
    "cross_tab.to_csv(f'./outputs/pivot_table_hyperopt_{formatted_datetime}.csv')"
   ]
  }
 ],
 "metadata": {
  "kernelspec": {
   "display_name": "Python 3",
   "language": "python",
   "name": "python3"
  },
  "language_info": {
   "codemirror_mode": {
    "name": "ipython",
    "version": 3
   },
   "file_extension": ".py",
   "mimetype": "text/x-python",
   "name": "python",
   "nbconvert_exporter": "python",
   "pygments_lexer": "ipython3",
   "version": "3.9.10"
  },
  "orig_nbformat": 4
 },
 "nbformat": 4,
 "nbformat_minor": 2
}
