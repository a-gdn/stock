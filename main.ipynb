{
 "cells": [
  {
   "cell_type": "code",
   "execution_count": null,
   "metadata": {},
   "outputs": [],
   "source": [
    "import pandas as pd\n",
    "import numpy as np\n",
    "import os\n",
    "\n",
    "import config as cfg\n",
    "from utils.yahoo_downloader import YahooDownloader\n",
    "import utils.helper_functions as hf\n",
    "\n",
    "\"\"\" from stockstats import wrap\n",
    "\n",
    "import matplotlib.pyplot as plt\n",
    "import seaborn as sns\n",
    "\n",
    "from sklearn.feature_selection import mutual_info_classif \"\"\"\n",
    "\n",
    "pd.options.mode.chained_assignment = None"
   ]
  },
  {
   "cell_type": "code",
   "execution_count": null,
   "metadata": {},
   "outputs": [],
   "source": [
    "folder_path = './db/'\n",
    "file_name = 'ohlcv.pkl'\n",
    "file_path = folder_path + file_name\n",
    "\n",
    "if not os.path.exists(folder_path):\n",
    "    os.makedirs(folder_path)\n",
    "\n",
    "if os.path.isfile(file_path):\n",
    "    df = pd.read_pickle(file_path)\n",
    "\n",
    "else: # 2 minutes\n",
    "    df = YahooDownloader(cfg.start_date, cfg.end_date, cfg.tickers).fetch_data()        \n",
    "    df.to_pickle(file_path)\n",
    "    df.to_csv(folder_path + 'ohlcv.csv')\n",
    "\n",
    "df.head()"
   ]
  },
  {
   "cell_type": "code",
   "execution_count": null,
   "metadata": {},
   "outputs": [],
   "source": [
    "df['date'] = pd.to_datetime(df['date'])\n",
    "df['year'] = df['date'].dt.strftime('%Y')\n",
    "print(df)"
   ]
  },
  {
   "cell_type": "code",
   "execution_count": null,
   "metadata": {},
   "outputs": [],
   "source": [
    "print(df.dtypes)"
   ]
  },
  {
   "cell_type": "code",
   "execution_count": null,
   "metadata": {},
   "outputs": [],
   "source": [
    "def add_supports_resistances(df: pd.DataFrame) -> pd.DataFrame:\n",
    "    df['rolling_min'] = hf.get_rolling_min(df['low'], cfg.target_days)\n",
    "    df['rolling_max'] = hf.get_rolling_max(df['high'], cfg.target_days)\n",
    "    df['last_close'] = df['close'].shift(1)\n",
    "\n",
    "    df['pivot'] = hf.get_pivot(df['rolling_max'], df['rolling_min'], df['last_close'])\n",
    "\n",
    "    df = df.dropna()\n",
    "\n",
    "    df['support1'] = hf.get_support1(df['pivot'], df['rolling_max'])\n",
    "    df['support2'] = hf.get_support2(df['pivot'], df['rolling_max'], df['rolling_min'])\n",
    "    df['resistance1'] = hf.get_resistance1(df['pivot'], df['rolling_min'])\n",
    "    df['resistance2'] = hf.get_resistance2(df['pivot'], df['rolling_max'], df['rolling_min'])\n",
    "\n",
    "    return df"
   ]
  },
  {
   "cell_type": "code",
   "execution_count": null,
   "metadata": {},
   "outputs": [],
   "source": [
    "support_column = 'support2'\n",
    "resistance_column = 'resistance1'\n",
    "\n",
    "def init_support_resistance(df: pd.DataFrame) -> list:\n",
    "    support = df.iloc[0][support_column]\n",
    "    resistance = df.iloc[0][resistance_column]\n",
    "    return support, resistance\n",
    "\n",
    "def update_support_resistance(row_df: pd.DataFrame) -> list:\n",
    "    support = row_df.__getattribute__(support_column)\n",
    "    resistance = row_df.__getattribute__(resistance_column)\n",
    "    return support, resistance\n",
    "\n",
    "def get_profit(df: pd.DataFrame) -> list:\n",
    "    profit = 1\n",
    "    buy_price = 0\n",
    "    bought_days = 0\n",
    "    is_bought = False\n",
    "\n",
    "    support, resistance = init_support_resistance(df)\n",
    "\n",
    "    for row in df.itertuples():\n",
    "        last_close = row.last_close\n",
    "        open = row.open\n",
    "\n",
    "        if (is_bought and last_close > resistance):\n",
    "            is_bought = False\n",
    "            sell_price = open\n",
    "            profit *= (sell_price / buy_price) * cfg.fee_coef\n",
    "        elif (not is_bought and last_close < support):\n",
    "            is_bought = True\n",
    "            buy_price = open\n",
    "            profit *= cfg.fee_coef\n",
    "        \n",
    "        if (last_close > resistance or last_close < support):\n",
    "            support, resistance = update_support_resistance(row)\n",
    "\n",
    "        if is_bought:\n",
    "            bought_days += 1\n",
    "\n",
    "    return profit - 1, bought_days"
   ]
  },
  {
   "cell_type": "code",
   "execution_count": null,
   "metadata": {},
   "outputs": [],
   "source": [
    "profits = []\n",
    "available_tickers = df['tic'].unique()\n",
    "\n",
    "for ticker in available_tickers:\n",
    "    ticker_df = df.loc[df['tic'] == ticker]\n",
    "    ticker_df = add_supports_resistances(ticker_df)\n",
    "\n",
    "    years = ticker_df['year'].unique()\n",
    "\n",
    "    for year in years:\n",
    "        year_df = ticker_df.loc[ticker_df['year'] == year]\n",
    "\n",
    "        days = len(year_df)\n",
    "\n",
    "        if days > 0:\n",
    "            profit, bought_days = get_profit(year_df)\n",
    "\n",
    "            profits.append({\n",
    "                'ticker_year': f'{ticker}-{year}',\n",
    "                'profit': hf.pct(profit),\n",
    "                'daily_profit': hf.pct(profit / bought_days) if bought_days > 0 else 0,\n",
    "                'days': days,\n",
    "                'bought_days': bought_days,\n",
    "                'bought_days%': hf.pct(bought_days / days)\n",
    "            })\n",
    "\n",
    "profit_df = pd.DataFrame(profits)\n",
    "print(profit_df.head())\n",
    "print(f\"Average profit: {profit_df['profit'].mean(skipna=True)}%\")\n",
    "print(f\"Average daily profit %: {profit_df['daily_profit'].mean(skipna=True)}%\")\n",
    "print(f\"Average bought days %: {profit_df['bought_days%'].mean(skipna=True)} days\")"
   ]
  },
  {
   "cell_type": "code",
   "execution_count": null,
   "metadata": {},
   "outputs": [],
   "source": [
    "with pd.option_context('display.max_rows', None, 'display.max_columns', None):\n",
    "    print(profit_df)"
   ]
  },
  {
   "cell_type": "code",
   "execution_count": null,
   "metadata": {},
   "outputs": [],
   "source": [
    "cac_profit_df = profit_df[profit_df['ticker_year'].str.startswith('^FCHI')]\n",
    "print(cac_profit_df)\n",
    "print(f\"Average profit: {cac_profit_df['profit'].mean(skipna=True)}%\")\n",
    "print(f\"Average daily profit %: {cac_profit_df['daily_profit'].mean(skipna=True)}%\")\n",
    "print(f\"Average bought days %: {cac_profit_df['bought_days%'].mean(skipna=True)} days\")"
   ]
  }
 ],
 "metadata": {
  "kernelspec": {
   "display_name": "Python 3",
   "language": "python",
   "name": "python3"
  },
  "language_info": {
   "codemirror_mode": {
    "name": "ipython",
    "version": 3
   },
   "file_extension": ".py",
   "mimetype": "text/x-python",
   "name": "python",
   "nbconvert_exporter": "python",
   "pygments_lexer": "ipython3",
   "version": "3.9.10"
  },
  "orig_nbformat": 4
 },
 "nbformat": 4,
 "nbformat_minor": 2
}
