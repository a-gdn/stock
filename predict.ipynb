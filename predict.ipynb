{
 "cells": [
  {
   "cell_type": "markdown",
   "metadata": {},
   "source": [
    "Imports"
   ]
  },
  {
   "cell_type": "code",
   "execution_count": null,
   "metadata": {},
   "outputs": [],
   "source": [
    "import utils.scrape_no_js as bourso\n",
    "import utils.inputs as inputs\n",
    "import utils.helper_functions as hf\n",
    "\n",
    "from datetime import datetime, date, timedelta\n",
    "import pandas as pd\n",
    "import numpy as np\n",
    "import yfinance as yf\n",
    "import tensorflow as tf\n",
    "from sklearn.preprocessing import StandardScaler\n",
    "\n",
    "pd.set_option('display.max_rows', None)\n",
    "pd.set_option('display.max_columns', None)\n",
    "np.set_printoptions(threshold=np.inf)"
   ]
  },
  {
   "cell_type": "markdown",
   "metadata": {},
   "source": [
    "Config"
   ]
  },
  {
   "cell_type": "code",
   "execution_count": null,
   "metadata": {},
   "outputs": [],
   "source": [
    "buy_time = 'Open'\n",
    "loss_limit = 0.997\n",
    "\n",
    "cumulated_probs_target = 0.85\n",
    "\n",
    "fee = 0.002\n",
    "\n",
    "download_days = 500 #should be > 151 = 90 (input days) * 7/5 (days per week) * 1.2 (margin in case of vacations)\n",
    "\n",
    "model_path = './outputs/classifier_model.keras'\n",
    "scaler_path = './outputs/scaler.pkl'"
   ]
  },
  {
   "cell_type": "code",
   "execution_count": null,
   "metadata": {},
   "outputs": [],
   "source": [
    "tickers_file_path = './db/tickers_euronext_regulated_euro_500k€.xlsx'\n",
    "df_tickers = pd.read_excel(tickers_file_path)\n",
    "\n",
    "num_tickers = len(df_tickers)\n",
    "print(f'number of tickers: {num_tickers}')"
   ]
  },
  {
   "cell_type": "markdown",
   "metadata": {},
   "source": [
    "Download past data"
   ]
  },
  {
   "cell_type": "code",
   "execution_count": null,
   "metadata": {},
   "outputs": [],
   "source": [
    "def get_past_date(days_past):\n",
    "    today = date.today()\n",
    "    past_date = today - timedelta(days=days_past)\n",
    "    formatted_date = past_date.strftime('%Y-%m-%d')\n",
    "    return formatted_date\n",
    "\n",
    "def days_difference(date1, date2): # can handle date objects and 'YYYY-MM-DD' strings\n",
    "    date1 = pd.to_datetime(date1)\n",
    "    date2 = pd.to_datetime(date2)\n",
    "\n",
    "    difference = abs((date2 - date1).days)\n",
    "    return difference"
   ]
  },
  {
   "cell_type": "code",
   "execution_count": null,
   "metadata": {},
   "outputs": [],
   "source": [
    "start_date = get_past_date(download_days)\n",
    "today = get_past_date(0)\n",
    "\n",
    "print(f'start download date: {start_date}')\n",
    "print(f'today: {today}')"
   ]
  },
  {
   "cell_type": "code",
   "execution_count": null,
   "metadata": {},
   "outputs": [],
   "source": [
    "yahoo_tickers = df_tickers['yahoo'].iloc[1:num_tickers+1].values.tolist()\n",
    "\n",
    "download_past_data = yf.download(yahoo_tickers, start=start_date, end=today)\n",
    "df_download_past = pd.DataFrame(download_past_data)\n",
    "df_download_past_filled = hf.fillnavalues(df_download_past)\n",
    "# df_download = df_download.dropna(axis='columns', how='all') #remove columns with only nan values\n",
    "\n",
    "print(df_download_past_filled.tail(3).to_markdown())\n"
   ]
  },
  {
   "cell_type": "code",
   "execution_count": null,
   "metadata": {},
   "outputs": [],
   "source": [
    "last_index = df_download_past_filled.index[-1]\n",
    "last_download_past_date = last_index.date()\n",
    "print(f'last download date: {last_download_past_date}')\n",
    "\n",
    "download_missing_days = days_difference(today, last_download_past_date)\n",
    "print(f'download missing days: {download_missing_days}')\n",
    "\n",
    "# if download_missing_days > 1:\n",
    "#     raise ValueError(\"Too many download missing days\")\n"
   ]
  },
  {
   "cell_type": "markdown",
   "metadata": {},
   "source": [
    "Download today's data"
   ]
  },
  {
   "cell_type": "code",
   "execution_count": null,
   "metadata": {},
   "outputs": [],
   "source": [
    "bourso_tickers = df_tickers['bourso'].iloc[1:num_tickers+1].values.tolist()\n",
    "\n",
    "df_download_today = bourso.get_theoretical_opening_prices(bourso_tickers)\n",
    "\n",
    "print(df_download_today)"
   ]
  },
  {
   "cell_type": "markdown",
   "metadata": {},
   "source": [
    "Transform past data"
   ]
  },
  {
   "cell_type": "code",
   "execution_count": null,
   "metadata": {},
   "outputs": [],
   "source": [
    "def get_single_level_df(df, ohlcv):\n",
    "    new_df = df[[ohlcv]]\n",
    "    new_df = hf.remove_top_column_name(new_df)\n",
    "\n",
    "    return new_df\n",
    "\n",
    "def get_ohlcv_dfs(df):\n",
    "    df_open = get_single_level_df(df, 'Open')\n",
    "    df_high = get_single_level_df(df, 'High')\n",
    "    df_low = get_single_level_df(df, 'Low')\n",
    "    df_close = get_single_level_df(df, 'Close')\n",
    "    df_volume = get_single_level_df(df, 'Volume')\n",
    "    \n",
    "    return {'df_open': df_open, 'df_high': df_high, 'df_low': df_low,\n",
    "            'df_close': df_close, 'df_volume': df_volume}"
   ]
  },
  {
   "cell_type": "code",
   "execution_count": null,
   "metadata": {},
   "outputs": [],
   "source": [
    "list_dfs_ohlcv = get_ohlcv_dfs(df_download_past_filled)\n",
    "df_transformed_past = get_single_level_df(df_download_past_filled, buy_time)\n",
    "\n",
    "print(df_transformed_past.tail(3).to_markdown())\n",
    "print(df_transformed_past.shape)"
   ]
  },
  {
   "cell_type": "markdown",
   "metadata": {},
   "source": [
    "Transform today's data"
   ]
  },
  {
   "cell_type": "code",
   "execution_count": null,
   "metadata": {},
   "outputs": [],
   "source": [
    "mapping_dict = dict(zip(df_tickers['bourso'], df_tickers['yahoo']))\n",
    "\n",
    "df_download_today['ticker'] = df_download_today['ticker'].map(mapping_dict)\n",
    "\n",
    "print(df_download_today.tail(3))\n"
   ]
  },
  {
   "cell_type": "code",
   "execution_count": null,
   "metadata": {},
   "outputs": [],
   "source": [
    "df_transformed_today = df_download_today.set_index('ticker').T\n",
    "\n",
    "today_date = datetime.now().strftime(\"%Y-%m-%d 00:00:00\")\n",
    "df_transformed_today.index = [today_date]\n",
    "\n",
    "df_transformed_today = df_transformed_today.reindex(sorted(df_transformed_today.columns), axis='columns')\n",
    "df_transformed_today = df_transformed_today.rename_axis('Date')\n",
    "\n",
    "print(df_transformed_today.to_markdown())\n",
    "print(df_transformed_today.shape)"
   ]
  },
  {
   "cell_type": "markdown",
   "metadata": {},
   "source": [
    "Transform: Assemble past and today's data"
   ]
  },
  {
   "cell_type": "code",
   "execution_count": null,
   "metadata": {},
   "outputs": [],
   "source": [
    "df_transformed = pd.concat([df_transformed_past, df_transformed_today], axis=0)\n",
    "\n",
    "print(df_transformed.tail(3).to_markdown())"
   ]
  },
  {
   "cell_type": "markdown",
   "metadata": {},
   "source": [
    "Transform: Fill missing values"
   ]
  },
  {
   "cell_type": "code",
   "execution_count": null,
   "metadata": {},
   "outputs": [],
   "source": [
    "df_transformed_filled = hf.fillnavalues(df_transformed)\n",
    "\n",
    "print(df_transformed_filled.tail(3).to_markdown())\n",
    "print(df_transformed_filled.shape)"
   ]
  },
  {
   "cell_type": "markdown",
   "metadata": {},
   "source": [
    "Transform: Fill open, high, low, close, volume today's missing values (nan values)"
   ]
  },
  {
   "cell_type": "code",
   "execution_count": null,
   "metadata": {},
   "outputs": [],
   "source": [
    "for key in ['df_high', 'df_low', 'df_close', 'df_volume']:\n",
    "    list_dfs_ohlcv[key].loc[today_date] = np.nan\n",
    "\n",
    "print(list_dfs_ohlcv['df_high'].tail(3).to_markdown())\n",
    "print(list_dfs_ohlcv['df_high'].shape)"
   ]
  },
  {
   "cell_type": "markdown",
   "metadata": {},
   "source": [
    "Transform: Create inputs"
   ]
  },
  {
   "cell_type": "code",
   "execution_count": null,
   "metadata": {},
   "outputs": [],
   "source": [
    "df_inputs = inputs.get_inputs(df_transformed_filled, list_dfs_ohlcv)\n",
    "\n",
    "last_day_index = df_inputs.index.get_level_values(0)[-1] # Get the last value in the top-level index\n",
    "df_inputs_last_day = df_inputs.loc[last_day_index]\n",
    "\n",
    "X_inputs_last_day = df_inputs_last_day.values # Convert DataFrame to numpy array\n",
    "\n",
    "print(df_inputs_last_day.tail(3).to_markdown())"
   ]
  },
  {
   "cell_type": "code",
   "execution_count": null,
   "metadata": {},
   "outputs": [],
   "source": [
    "print(f'shape of X_inputs_last_day (rows -> tested data, columns -> inputs): {X_inputs_last_day.shape}')"
   ]
  },
  {
   "cell_type": "code",
   "execution_count": null,
   "metadata": {},
   "outputs": [],
   "source": [
    "scaler = hf.load_object(scaler_path)\n",
    "\n",
    "X_inputs_last_day_scaled = scaler.transform(X_inputs_last_day)"
   ]
  },
  {
   "cell_type": "markdown",
   "metadata": {},
   "source": [
    "Load model"
   ]
  },
  {
   "cell_type": "code",
   "execution_count": null,
   "metadata": {},
   "outputs": [],
   "source": [
    "model = tf.keras.models.load_model(model_path)"
   ]
  },
  {
   "cell_type": "markdown",
   "metadata": {},
   "source": [
    "Predict"
   ]
  },
  {
   "cell_type": "code",
   "execution_count": null,
   "metadata": {},
   "outputs": [],
   "source": [
    "prediction = model.predict(X_inputs_last_day_scaled)\n",
    "df_prediction = pd.DataFrame(prediction, columns=['buy', 'do_not_buy'], index=df_inputs_last_day.index)\n",
    "# df_prediction = df_prediction['buy']\n",
    "df_prediction = df_prediction.sort_values(by='do_not_buy')\n",
    "\n",
    "\n",
    "print(df_prediction.to_markdown())\n"
   ]
  },
  {
   "cell_type": "markdown",
   "metadata": {},
   "source": [
    "Evaluate"
   ]
  },
  {
   "cell_type": "code",
   "execution_count": null,
   "metadata": {},
   "outputs": [],
   "source": [
    "# df_open = list_dfs_ohlcv['df_open']\n",
    "# df_close = list_dfs_ohlcv['df_close']\n",
    "\n",
    "# df_open_last_day = df_open.iloc[-1]\n",
    "# df_close_last_day = df_close.iloc[-1]\n",
    "\n",
    "# df_real = pd.DataFrame()\n",
    "# df_real['variation'] = df_close_last_day / df_open_last_day"
   ]
  },
  {
   "cell_type": "code",
   "execution_count": null,
   "metadata": {},
   "outputs": [],
   "source": [
    "# df_low = list_dfs_ohlcv['df_low']\n",
    "# df_low_last_day = df_low.loc[last_day_index]\n",
    "# df_real['lowest_variation'] = df_low_last_day / df_open_last_day\n",
    "\n",
    "# df_real['profit'] = df_real['variation']\n",
    "# df_real.loc[df_real['lowest_variation'] < loss_limit, 'profit'] = loss_limit\n",
    "# df_real['profit'] *= hf.get_fee_coef(fee)"
   ]
  },
  {
   "cell_type": "code",
   "execution_count": null,
   "metadata": {},
   "outputs": [],
   "source": [
    "# df_evaluation = pd.concat([df_prediction, df_real], axis='columns')\n",
    "# print(df_evaluation)"
   ]
  },
  {
   "cell_type": "code",
   "execution_count": null,
   "metadata": {},
   "outputs": [],
   "source": [
    "# df_filtered_evaluation = df_evaluation[df_evaluation['buy'] > cumulated_probs_target]\n",
    "\n",
    "# count = df_filtered_evaluation['profit'].count()\n",
    "# average = df_filtered_evaluation['profit'].mean()\n",
    "# median = df_filtered_evaluation['profit'].median()\n",
    "\n",
    "# print(f'count: {count}')\n",
    "# print(f'average profit: {average}')\n",
    "# print(f'median profit: {median}')"
   ]
  },
  {
   "cell_type": "code",
   "execution_count": null,
   "metadata": {},
   "outputs": [],
   "source": [
    "# import matplotlib.pyplot as plt\n",
    "\n",
    "# plt.figure(figsize=(12, 7))\n",
    "# plt.scatter(x=df_filtered_evaluation['buy'], y=df_filtered_evaluation['variation'], color='blue', alpha=0.3, s=5)\n",
    "# plt.title('variation vs buy prediction')\n",
    "# plt.xlabel('buy prediction')\n",
    "# plt.ylabel('real variation')\n",
    "# plt.grid(True)\n",
    "# plt.show()"
   ]
  }
 ],
 "metadata": {
  "kernelspec": {
   "display_name": "Python 3",
   "language": "python",
   "name": "python3"
  },
  "language_info": {
   "codemirror_mode": {
    "name": "ipython",
    "version": 3
   },
   "file_extension": ".py",
   "mimetype": "text/x-python",
   "name": "python",
   "nbconvert_exporter": "python",
   "pygments_lexer": "ipython3",
   "version": "3.11.8"
  }
 },
 "nbformat": 4,
 "nbformat_minor": 2
}
